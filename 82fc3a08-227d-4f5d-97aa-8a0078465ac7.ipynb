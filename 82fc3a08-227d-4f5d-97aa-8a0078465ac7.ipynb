{
 "cells": [
  {
   "cell_type": "markdown",
   "metadata": {},
   "source": [
    "# Исследование продаж компьютерных игр .\n",
    "   "
   ]
  },
  {
   "cell_type": "markdown",
   "metadata": {},
   "source": [
    "   интернет магазин \"Стримчик\"                                                                           2016 год"
   ]
  },
  {
   "cell_type": "markdown",
   "metadata": {},
   "source": [
    "## Откроем файл с данными и изучим общую информацию."
   ]
  },
  {
   "cell_type": "code",
   "execution_count": 1,
   "metadata": {},
   "outputs": [
    {
     "data": {
      "text/html": [
       "<div>\n",
       "<style scoped>\n",
       "    .dataframe tbody tr th:only-of-type {\n",
       "        vertical-align: middle;\n",
       "    }\n",
       "\n",
       "    .dataframe tbody tr th {\n",
       "        vertical-align: top;\n",
       "    }\n",
       "\n",
       "    .dataframe thead th {\n",
       "        text-align: right;\n",
       "    }\n",
       "</style>\n",
       "<table border=\"1\" class=\"dataframe\">\n",
       "  <thead>\n",
       "    <tr style=\"text-align: right;\">\n",
       "      <th></th>\n",
       "      <th>Name</th>\n",
       "      <th>Platform</th>\n",
       "      <th>Year_of_Release</th>\n",
       "      <th>Genre</th>\n",
       "      <th>NA_sales</th>\n",
       "      <th>EU_sales</th>\n",
       "      <th>JP_sales</th>\n",
       "      <th>Other_sales</th>\n",
       "      <th>Critic_Score</th>\n",
       "      <th>User_Score</th>\n",
       "      <th>Rating</th>\n",
       "    </tr>\n",
       "  </thead>\n",
       "  <tbody>\n",
       "    <tr>\n",
       "      <th>0</th>\n",
       "      <td>Wii Sports</td>\n",
       "      <td>Wii</td>\n",
       "      <td>2006.0</td>\n",
       "      <td>Sports</td>\n",
       "      <td>41.36</td>\n",
       "      <td>28.96</td>\n",
       "      <td>3.77</td>\n",
       "      <td>8.45</td>\n",
       "      <td>76.0</td>\n",
       "      <td>8</td>\n",
       "      <td>E</td>\n",
       "    </tr>\n",
       "    <tr>\n",
       "      <th>1</th>\n",
       "      <td>Super Mario Bros.</td>\n",
       "      <td>NES</td>\n",
       "      <td>1985.0</td>\n",
       "      <td>Platform</td>\n",
       "      <td>29.08</td>\n",
       "      <td>3.58</td>\n",
       "      <td>6.81</td>\n",
       "      <td>0.77</td>\n",
       "      <td>NaN</td>\n",
       "      <td>NaN</td>\n",
       "      <td>NaN</td>\n",
       "    </tr>\n",
       "    <tr>\n",
       "      <th>2</th>\n",
       "      <td>Mario Kart Wii</td>\n",
       "      <td>Wii</td>\n",
       "      <td>2008.0</td>\n",
       "      <td>Racing</td>\n",
       "      <td>15.68</td>\n",
       "      <td>12.76</td>\n",
       "      <td>3.79</td>\n",
       "      <td>3.29</td>\n",
       "      <td>82.0</td>\n",
       "      <td>8.3</td>\n",
       "      <td>E</td>\n",
       "    </tr>\n",
       "    <tr>\n",
       "      <th>3</th>\n",
       "      <td>Wii Sports Resort</td>\n",
       "      <td>Wii</td>\n",
       "      <td>2009.0</td>\n",
       "      <td>Sports</td>\n",
       "      <td>15.61</td>\n",
       "      <td>10.93</td>\n",
       "      <td>3.28</td>\n",
       "      <td>2.95</td>\n",
       "      <td>80.0</td>\n",
       "      <td>8</td>\n",
       "      <td>E</td>\n",
       "    </tr>\n",
       "    <tr>\n",
       "      <th>4</th>\n",
       "      <td>Pokemon Red/Pokemon Blue</td>\n",
       "      <td>GB</td>\n",
       "      <td>1996.0</td>\n",
       "      <td>Role-Playing</td>\n",
       "      <td>11.27</td>\n",
       "      <td>8.89</td>\n",
       "      <td>10.22</td>\n",
       "      <td>1.00</td>\n",
       "      <td>NaN</td>\n",
       "      <td>NaN</td>\n",
       "      <td>NaN</td>\n",
       "    </tr>\n",
       "    <tr>\n",
       "      <th>5</th>\n",
       "      <td>Tetris</td>\n",
       "      <td>GB</td>\n",
       "      <td>1989.0</td>\n",
       "      <td>Puzzle</td>\n",
       "      <td>23.20</td>\n",
       "      <td>2.26</td>\n",
       "      <td>4.22</td>\n",
       "      <td>0.58</td>\n",
       "      <td>NaN</td>\n",
       "      <td>NaN</td>\n",
       "      <td>NaN</td>\n",
       "    </tr>\n",
       "    <tr>\n",
       "      <th>6</th>\n",
       "      <td>New Super Mario Bros.</td>\n",
       "      <td>DS</td>\n",
       "      <td>2006.0</td>\n",
       "      <td>Platform</td>\n",
       "      <td>11.28</td>\n",
       "      <td>9.14</td>\n",
       "      <td>6.50</td>\n",
       "      <td>2.88</td>\n",
       "      <td>89.0</td>\n",
       "      <td>8.5</td>\n",
       "      <td>E</td>\n",
       "    </tr>\n",
       "  </tbody>\n",
       "</table>\n",
       "</div>"
      ],
      "text/plain": [
       "                       Name Platform  Year_of_Release         Genre  NA_sales  \\\n",
       "0                Wii Sports      Wii           2006.0        Sports     41.36   \n",
       "1         Super Mario Bros.      NES           1985.0      Platform     29.08   \n",
       "2            Mario Kart Wii      Wii           2008.0        Racing     15.68   \n",
       "3         Wii Sports Resort      Wii           2009.0        Sports     15.61   \n",
       "4  Pokemon Red/Pokemon Blue       GB           1996.0  Role-Playing     11.27   \n",
       "5                    Tetris       GB           1989.0        Puzzle     23.20   \n",
       "6     New Super Mario Bros.       DS           2006.0      Platform     11.28   \n",
       "\n",
       "   EU_sales  JP_sales  Other_sales  Critic_Score User_Score Rating  \n",
       "0     28.96      3.77         8.45          76.0          8      E  \n",
       "1      3.58      6.81         0.77           NaN        NaN    NaN  \n",
       "2     12.76      3.79         3.29          82.0        8.3      E  \n",
       "3     10.93      3.28         2.95          80.0          8      E  \n",
       "4      8.89     10.22         1.00           NaN        NaN    NaN  \n",
       "5      2.26      4.22         0.58           NaN        NaN    NaN  \n",
       "6      9.14      6.50         2.88          89.0        8.5      E  "
      ]
     },
     "metadata": {},
     "output_type": "display_data"
    },
    {
     "data": {
      "text/plain": [
       "(16715, 11)"
      ]
     },
     "execution_count": 1,
     "metadata": {},
     "output_type": "execute_result"
    }
   ],
   "source": [
    "import pandas as pd\n",
    "data = pd.read_csv('/datasets/games.csv')\n",
    "\n",
    "display(data.head(7))\n",
    "data.shape"
   ]
  },
  {
   "cell_type": "code",
   "execution_count": 2,
   "metadata": {},
   "outputs": [
    {
     "name": "stdout",
     "output_type": "stream",
     "text": [
      "Общая информация о  таблице\n",
      "<class 'pandas.core.frame.DataFrame'>\n",
      "RangeIndex: 16715 entries, 0 to 16714\n",
      "Data columns (total 11 columns):\n",
      " #   Column           Non-Null Count  Dtype  \n",
      "---  ------           --------------  -----  \n",
      " 0   Name             16713 non-null  object \n",
      " 1   Platform         16715 non-null  object \n",
      " 2   Year_of_Release  16446 non-null  float64\n",
      " 3   Genre            16713 non-null  object \n",
      " 4   NA_sales         16715 non-null  float64\n",
      " 5   EU_sales         16715 non-null  float64\n",
      " 6   JP_sales         16715 non-null  float64\n",
      " 7   Other_sales      16715 non-null  float64\n",
      " 8   Critic_Score     8137 non-null   float64\n",
      " 9   User_Score       10014 non-null  object \n",
      " 10  Rating           9949 non-null   object \n",
      "dtypes: float64(6), object(5)\n",
      "memory usage: 1.4+ MB\n"
     ]
    }
   ],
   "source": [
    "print('Общая информация о  таблице')\n",
    "data.info()"
   ]
  },
  {
   "cell_type": "markdown",
   "metadata": {},
   "source": [
    "## Предобработка данных.\n"
   ]
  },
  {
   "cell_type": "markdown",
   "metadata": {},
   "source": [
    "### Приведем названия столбцов к нижнему регистру."
   ]
  },
  {
   "cell_type": "code",
   "execution_count": 3,
   "metadata": {},
   "outputs": [
    {
     "data": {
      "text/html": [
       "<div>\n",
       "<style scoped>\n",
       "    .dataframe tbody tr th:only-of-type {\n",
       "        vertical-align: middle;\n",
       "    }\n",
       "\n",
       "    .dataframe tbody tr th {\n",
       "        vertical-align: top;\n",
       "    }\n",
       "\n",
       "    .dataframe thead th {\n",
       "        text-align: right;\n",
       "    }\n",
       "</style>\n",
       "<table border=\"1\" class=\"dataframe\">\n",
       "  <thead>\n",
       "    <tr style=\"text-align: right;\">\n",
       "      <th></th>\n",
       "      <th>name</th>\n",
       "      <th>platform</th>\n",
       "      <th>year_of_release</th>\n",
       "      <th>genre</th>\n",
       "      <th>na_sales</th>\n",
       "      <th>eu_sales</th>\n",
       "      <th>jp_sales</th>\n",
       "      <th>other_sales</th>\n",
       "      <th>critic_score</th>\n",
       "      <th>user_score</th>\n",
       "      <th>rating</th>\n",
       "    </tr>\n",
       "  </thead>\n",
       "  <tbody>\n",
       "    <tr>\n",
       "      <th>0</th>\n",
       "      <td>Wii Sports</td>\n",
       "      <td>Wii</td>\n",
       "      <td>2006.0</td>\n",
       "      <td>Sports</td>\n",
       "      <td>41.36</td>\n",
       "      <td>28.96</td>\n",
       "      <td>3.77</td>\n",
       "      <td>8.45</td>\n",
       "      <td>76.0</td>\n",
       "      <td>8</td>\n",
       "      <td>E</td>\n",
       "    </tr>\n",
       "    <tr>\n",
       "      <th>1</th>\n",
       "      <td>Super Mario Bros.</td>\n",
       "      <td>NES</td>\n",
       "      <td>1985.0</td>\n",
       "      <td>Platform</td>\n",
       "      <td>29.08</td>\n",
       "      <td>3.58</td>\n",
       "      <td>6.81</td>\n",
       "      <td>0.77</td>\n",
       "      <td>NaN</td>\n",
       "      <td>NaN</td>\n",
       "      <td>NaN</td>\n",
       "    </tr>\n",
       "    <tr>\n",
       "      <th>2</th>\n",
       "      <td>Mario Kart Wii</td>\n",
       "      <td>Wii</td>\n",
       "      <td>2008.0</td>\n",
       "      <td>Racing</td>\n",
       "      <td>15.68</td>\n",
       "      <td>12.76</td>\n",
       "      <td>3.79</td>\n",
       "      <td>3.29</td>\n",
       "      <td>82.0</td>\n",
       "      <td>8.3</td>\n",
       "      <td>E</td>\n",
       "    </tr>\n",
       "  </tbody>\n",
       "</table>\n",
       "</div>"
      ],
      "text/plain": [
       "                name platform  year_of_release     genre  na_sales  eu_sales  \\\n",
       "0         Wii Sports      Wii           2006.0    Sports     41.36     28.96   \n",
       "1  Super Mario Bros.      NES           1985.0  Platform     29.08      3.58   \n",
       "2     Mario Kart Wii      Wii           2008.0    Racing     15.68     12.76   \n",
       "\n",
       "   jp_sales  other_sales  critic_score user_score rating  \n",
       "0      3.77         8.45          76.0          8      E  \n",
       "1      6.81         0.77           NaN        NaN    NaN  \n",
       "2      3.79         3.29          82.0        8.3      E  "
      ]
     },
     "metadata": {},
     "output_type": "display_data"
    }
   ],
   "source": [
    "data.columns = map(str.lower, data.columns)\n",
    "display(data.head(3))\n"
   ]
  },
  {
   "cell_type": "markdown",
   "metadata": {},
   "source": [
    "### Преобразуем типы данных."
   ]
  },
  {
   "cell_type": "code",
   "execution_count": 4,
   "metadata": {},
   "outputs": [],
   "source": [
    "#Приведем тип данных года выпуска к int, поскольку ни времени, ни даты не содержится в данных\n",
    "data['year_of_release'] = data['year_of_release'].astype('Int64')"
   ]
  },
  {
   "cell_type": "code",
   "execution_count": 5,
   "metadata": {},
   "outputs": [
    {
     "name": "stdout",
     "output_type": "stream",
     "text": [
      "<class 'pandas.core.frame.DataFrame'>\n",
      "RangeIndex: 16715 entries, 0 to 16714\n",
      "Data columns (total 11 columns):\n",
      " #   Column           Non-Null Count  Dtype  \n",
      "---  ------           --------------  -----  \n",
      " 0   name             16713 non-null  object \n",
      " 1   platform         16715 non-null  object \n",
      " 2   year_of_release  16446 non-null  Int64  \n",
      " 3   genre            16713 non-null  object \n",
      " 4   na_sales         16715 non-null  float64\n",
      " 5   eu_sales         16715 non-null  float64\n",
      " 6   jp_sales         16715 non-null  float64\n",
      " 7   other_sales      16715 non-null  float64\n",
      " 8   critic_score     8137 non-null   float64\n",
      " 9   user_score       10014 non-null  object \n",
      " 10  rating           9949 non-null   object \n",
      "dtypes: Int64(1), float64(5), object(5)\n",
      "memory usage: 1.4+ MB\n"
     ]
    }
   ],
   "source": [
    "data.info()"
   ]
  },
  {
   "cell_type": "markdown",
   "metadata": {},
   "source": [
    "### Выведем количество пропущенных значений для каждого столбца. :\n",
    "(всего строк 16715)"
   ]
  },
  {
   "cell_type": "code",
   "execution_count": 6,
   "metadata": {},
   "outputs": [
    {
     "data": {
      "text/plain": [
       "name                  2\n",
       "platform              0\n",
       "year_of_release     269\n",
       "genre                 2\n",
       "na_sales              0\n",
       "eu_sales              0\n",
       "jp_sales              0\n",
       "other_sales           0\n",
       "critic_score       8578\n",
       "user_score         6701\n",
       "rating             6766\n",
       "dtype: int64"
      ]
     },
     "metadata": {},
     "output_type": "display_data"
    }
   ],
   "source": [
    "display(data.isna().sum())"
   ]
  },
  {
   "cell_type": "markdown",
   "metadata": {},
   "source": [
    "Отсутствует большое количество данных рейтинга,оценок критиков и пользователей ,40-50%% данных. Не будем удалять столь большое количество строк из датафрейма. \n",
    "Отсутствующие года выпуска также оставим как есть."
   ]
  },
  {
   "cell_type": "markdown",
   "metadata": {},
   "source": [
    "### Посмотрим на наличие дупликатов\n"
   ]
  },
  {
   "cell_type": "code",
   "execution_count": 7,
   "metadata": {},
   "outputs": [
    {
     "data": {
      "text/plain": [
       "0"
      ]
     },
     "execution_count": 7,
     "metadata": {},
     "output_type": "execute_result"
    }
   ],
   "source": [
    "#посмотрим наличие явных дупликатов\n",
    "data.duplicated().sum() "
   ]
  },
  {
   "cell_type": "markdown",
   "metadata": {},
   "source": [
    "Явных дупликатов нет."
   ]
  },
  {
   "cell_type": "code",
   "execution_count": 8,
   "metadata": {},
   "outputs": [
    {
     "data": {
      "text/plain": [
       "array(['Animal Crossing: New Leaf', 'Animal Crossing: Wild World',\n",
       "       'Brain Age 2: More Training in Minutes a Day',\n",
       "       'Brain Age: Train Your Brain in Minutes a Day',\n",
       "       'Call of Duty 4: Modern Warfare', 'Call of Duty: Advanced Warfare',\n",
       "       'Call of Duty: Black Ops', 'Call of Duty: Black Ops 3',\n",
       "       'Call of Duty: Black Ops II', 'Call of Duty: Ghosts',\n",
       "       'Call of Duty: Modern Warfare 2', 'Call of Duty: Modern Warfare 3',\n",
       "       'Crash Bandicoot 2: Cortex Strikes Back', 'Donkey Kong Country',\n",
       "       'Duck Hunt', 'FIFA 16', 'FIFA 17', 'FIFA Soccer 13',\n",
       "       'Final Fantasy VII', 'Final Fantasy VIII', 'Final Fantasy X',\n",
       "       'GoldenEye 007', 'Gran Turismo', 'Gran Turismo 2',\n",
       "       'Gran Turismo 3: A-Spec', 'Gran Turismo 4', 'Gran Turismo 5',\n",
       "       'Grand Theft Auto III', 'Grand Theft Auto IV',\n",
       "       'Grand Theft Auto V', 'Grand Theft Auto: Liberty City Stories',\n",
       "       'Grand Theft Auto: San Andreas', 'Grand Theft Auto: Vice City',\n",
       "       'Halo 2', 'Halo 3', 'Halo 4', 'Halo: Reach', 'Just Dance 2',\n",
       "       'Just Dance 3', 'Kinect Adventures!',\n",
       "       'Mario & Sonic at the Olympic Games', 'Mario Kart 64',\n",
       "       'Mario Kart 7', 'Mario Kart DS', 'Mario Kart Wii', 'Mario Party 8',\n",
       "       'Mario Party DS', 'Minecraft', 'New Super Mario Bros.',\n",
       "       'New Super Mario Bros. 2', 'New Super Mario Bros. Wii',\n",
       "       'Nintendogs', 'Pac-Man', 'Pokemon Black 2/Pokemon White 2',\n",
       "       'Pokemon Black/Pokemon White', 'Pokemon Diamond/Pokemon Pearl',\n",
       "       'Pokemon FireRed/Pokemon LeafGreen', 'Pokemon Gold/Pokemon Silver',\n",
       "       'Pokemon HeartGold/Pokemon SoulSilver',\n",
       "       'Pokemon Omega Ruby/Pokemon Alpha Sapphire',\n",
       "       'Pokemon Red/Pokemon Blue', 'Pokemon Ruby/Pokemon Sapphire',\n",
       "       'Pokemon X/Pokemon Y', 'Pokémon Platinum Version',\n",
       "       'Pokémon Yellow: Special Pikachu Edition',\n",
       "       'Star Wars Battlefront (2015)', 'Super Mario 3D Land',\n",
       "       'Super Mario 64', 'Super Mario All-Stars', 'Super Mario Bros.',\n",
       "       'Super Mario Bros. 2', 'Super Mario Bros. 3', 'Super Mario Galaxy',\n",
       "       'Super Mario Galaxy 2', 'Super Mario Kart', 'Super Mario Land',\n",
       "       'Super Mario Land 2: 6 Golden Coins', 'Super Mario World',\n",
       "       'Super Smash Bros. Brawl', 'Super Smash Bros. for Wii U and 3DS',\n",
       "       'Tetris', 'The Elder Scrolls V: Skyrim',\n",
       "       'The Legend of Zelda: Ocarina of Time', 'The Sims 3', 'Wii Fit',\n",
       "       'Wii Fit Plus', 'Wii Party', 'Wii Play', 'Wii Sports',\n",
       "       'Wii Sports Resort'], dtype=object)"
      ]
     },
     "metadata": {},
     "output_type": "display_data"
    },
    {
     "data": {
      "text/plain": [
       "11560"
      ]
     },
     "execution_count": 8,
     "metadata": {},
     "output_type": "execute_result"
    }
   ],
   "source": [
    "display(data['name'].head(100).sort_values().unique())\n",
    "len(data['name'].unique())"
   ]
  },
  {
   "cell_type": "code",
   "execution_count": 9,
   "metadata": {},
   "outputs": [],
   "source": [
    "#приведем названия игр к нижнему регистру и посмотрим уникальные названия\n",
    "data['name'] = data['name'].str.lower()"
   ]
  },
  {
   "cell_type": "code",
   "execution_count": 10,
   "metadata": {},
   "outputs": [
    {
     "data": {
      "text/plain": [
       "array([' beyblade burst', ' fire emblem fates', \" frozen: olaf's quest\",\n",
       "       ..., 'zyuden sentai kyoryuger: game de gaburincho!!',\n",
       "       '¡shin chan flipa en colores!', nan], dtype=object)"
      ]
     },
     "metadata": {},
     "output_type": "display_data"
    },
    {
     "data": {
      "text/plain": [
       "11560"
      ]
     },
     "execution_count": 10,
     "metadata": {},
     "output_type": "execute_result"
    }
   ],
   "source": [
    "display(data['name'].sort_values().unique())\n",
    "len(data['name'].unique())"
   ]
  },
  {
   "cell_type": "markdown",
   "metadata": {},
   "source": [
    "Неявных дупликатов написанных в разных регистрах нет. \n"
   ]
  },
  {
   "cell_type": "code",
   "execution_count": 11,
   "metadata": {},
   "outputs": [
    {
     "data": {
      "text/plain": [
       "array(['Action', 'Adventure', 'Fighting', 'Misc', 'Platform', 'Puzzle',\n",
       "       'Racing', 'Role-Playing', 'Shooter', 'Simulation', 'Sports',\n",
       "       'Strategy', nan], dtype=object)"
      ]
     },
     "metadata": {},
     "output_type": "display_data"
    },
    {
     "data": {
      "text/plain": [
       "13"
      ]
     },
     "execution_count": 11,
     "metadata": {},
     "output_type": "execute_result"
    }
   ],
   "source": [
    "#выведем уникальные значения жанров\n",
    "display(data['genre'].sort_values().unique())\n",
    "len(data['genre'].unique())"
   ]
  },
  {
   "cell_type": "markdown",
   "metadata": {},
   "source": [
    "Дубликатов среди жанров нет\n"
   ]
  },
  {
   "cell_type": "code",
   "execution_count": 12,
   "metadata": {},
   "outputs": [
    {
     "data": {
      "text/plain": [
       "array(['0', '0.2', '0.3', '0.5', '0.6', '0.7', '0.9', '1', '1.1', '1.2',\n",
       "       '1.3', '1.4', '1.5', '1.6', '1.7', '1.8', '1.9', '2', '2.1', '2.2',\n",
       "       '2.3', '2.4', '2.5', '2.6', '2.7', '2.8', '2.9', '3', '3.1', '3.2',\n",
       "       '3.3', '3.4', '3.5', '3.6', '3.7', '3.8', '3.9', '4', '4.1', '4.2',\n",
       "       '4.3', '4.4', '4.5', '4.6', '4.7', '4.8', '4.9', '5', '5.1', '5.2',\n",
       "       '5.3', '5.4', '5.5', '5.6', '5.7', '5.8', '5.9', '6', '6.1', '6.2',\n",
       "       '6.3', '6.4', '6.5', '6.6', '6.7', '6.8', '6.9', '7', '7.1', '7.2',\n",
       "       '7.3', '7.4', '7.5', '7.6', '7.7', '7.8', '7.9', '8', '8.1', '8.2',\n",
       "       '8.3', '8.4', '8.5', '8.6', '8.7', '8.8', '8.9', '9', '9.1', '9.2',\n",
       "       '9.3', '9.4', '9.5', '9.6', '9.7', 'tbd', nan], dtype=object)"
      ]
     },
     "metadata": {},
     "output_type": "display_data"
    },
    {
     "data": {
      "text/plain": [
       "97"
      ]
     },
     "execution_count": 12,
     "metadata": {},
     "output_type": "execute_result"
    }
   ],
   "source": [
    "display(data['user_score'].sort_values().unique())\n",
    "len(data['user_score'].unique())"
   ]
  },
  {
   "cell_type": "markdown",
   "metadata": {},
   "source": [
    "Абревиатура tbd означает: to be determined, т.е. находится в состоянии определения. \n"
   ]
  },
  {
   "cell_type": "code",
   "execution_count": 13,
   "metadata": {},
   "outputs": [],
   "source": [
    "#заменим tbd на NaN\n",
    "data['user_score'] = data['user_score'].replace('tbd', 'NaN')\n",
    "#приведем тип данных user_score к float64\n",
    "data['user_score'] = data['user_score'].astype('float')"
   ]
  },
  {
   "cell_type": "code",
   "execution_count": 14,
   "metadata": {},
   "outputs": [
    {
     "data": {
      "text/plain": [
       "array(['2600', '3DO', '3DS', 'DC', 'DS', 'GB', 'GBA', 'GC', 'GEN', 'GG',\n",
       "       'N64', 'NES', 'NG', 'PC', 'PCFX', 'PS', 'PS2', 'PS3', 'PS4', 'PSP',\n",
       "       'PSV', 'SAT', 'SCD', 'SNES', 'TG16', 'WS', 'Wii', 'WiiU', 'X360',\n",
       "       'XB', 'XOne'], dtype=object)"
      ]
     },
     "metadata": {},
     "output_type": "display_data"
    },
    {
     "data": {
      "text/plain": [
       "31"
      ]
     },
     "execution_count": 14,
     "metadata": {},
     "output_type": "execute_result"
    }
   ],
   "source": [
    "#выведем уникальные названия платформ \n",
    "display(data['platform'].sort_values().unique())\n",
    "len(data['platform'].unique())"
   ]
  },
  {
   "cell_type": "markdown",
   "metadata": {},
   "source": [
    "Магазин продает игры на 31 платформе. Неявных дупликатов в названии платформ нет. "
   ]
  },
  {
   "cell_type": "markdown",
   "metadata": {},
   "source": [
    "### Посчитаем суммарные продажи по всем регионам."
   ]
  },
  {
   "cell_type": "code",
   "execution_count": 15,
   "metadata": {},
   "outputs": [
    {
     "data": {
      "text/html": [
       "<div>\n",
       "<style scoped>\n",
       "    .dataframe tbody tr th:only-of-type {\n",
       "        vertical-align: middle;\n",
       "    }\n",
       "\n",
       "    .dataframe tbody tr th {\n",
       "        vertical-align: top;\n",
       "    }\n",
       "\n",
       "    .dataframe thead th {\n",
       "        text-align: right;\n",
       "    }\n",
       "</style>\n",
       "<table border=\"1\" class=\"dataframe\">\n",
       "  <thead>\n",
       "    <tr style=\"text-align: right;\">\n",
       "      <th></th>\n",
       "      <th>name</th>\n",
       "      <th>platform</th>\n",
       "      <th>year_of_release</th>\n",
       "      <th>genre</th>\n",
       "      <th>na_sales</th>\n",
       "      <th>eu_sales</th>\n",
       "      <th>jp_sales</th>\n",
       "      <th>other_sales</th>\n",
       "      <th>critic_score</th>\n",
       "      <th>user_score</th>\n",
       "      <th>rating</th>\n",
       "      <th>total_sales</th>\n",
       "    </tr>\n",
       "  </thead>\n",
       "  <tbody>\n",
       "    <tr>\n",
       "      <th>0</th>\n",
       "      <td>wii sports</td>\n",
       "      <td>Wii</td>\n",
       "      <td>2006</td>\n",
       "      <td>Sports</td>\n",
       "      <td>41.36</td>\n",
       "      <td>28.96</td>\n",
       "      <td>3.77</td>\n",
       "      <td>8.45</td>\n",
       "      <td>76.0</td>\n",
       "      <td>8.0</td>\n",
       "      <td>E</td>\n",
       "      <td>82.54</td>\n",
       "    </tr>\n",
       "    <tr>\n",
       "      <th>1</th>\n",
       "      <td>super mario bros.</td>\n",
       "      <td>NES</td>\n",
       "      <td>1985</td>\n",
       "      <td>Platform</td>\n",
       "      <td>29.08</td>\n",
       "      <td>3.58</td>\n",
       "      <td>6.81</td>\n",
       "      <td>0.77</td>\n",
       "      <td>NaN</td>\n",
       "      <td>NaN</td>\n",
       "      <td>NaN</td>\n",
       "      <td>40.24</td>\n",
       "    </tr>\n",
       "    <tr>\n",
       "      <th>2</th>\n",
       "      <td>mario kart wii</td>\n",
       "      <td>Wii</td>\n",
       "      <td>2008</td>\n",
       "      <td>Racing</td>\n",
       "      <td>15.68</td>\n",
       "      <td>12.76</td>\n",
       "      <td>3.79</td>\n",
       "      <td>3.29</td>\n",
       "      <td>82.0</td>\n",
       "      <td>8.3</td>\n",
       "      <td>E</td>\n",
       "      <td>35.52</td>\n",
       "    </tr>\n",
       "    <tr>\n",
       "      <th>3</th>\n",
       "      <td>wii sports resort</td>\n",
       "      <td>Wii</td>\n",
       "      <td>2009</td>\n",
       "      <td>Sports</td>\n",
       "      <td>15.61</td>\n",
       "      <td>10.93</td>\n",
       "      <td>3.28</td>\n",
       "      <td>2.95</td>\n",
       "      <td>80.0</td>\n",
       "      <td>8.0</td>\n",
       "      <td>E</td>\n",
       "      <td>32.77</td>\n",
       "    </tr>\n",
       "    <tr>\n",
       "      <th>4</th>\n",
       "      <td>pokemon red/pokemon blue</td>\n",
       "      <td>GB</td>\n",
       "      <td>1996</td>\n",
       "      <td>Role-Playing</td>\n",
       "      <td>11.27</td>\n",
       "      <td>8.89</td>\n",
       "      <td>10.22</td>\n",
       "      <td>1.00</td>\n",
       "      <td>NaN</td>\n",
       "      <td>NaN</td>\n",
       "      <td>NaN</td>\n",
       "      <td>31.38</td>\n",
       "    </tr>\n",
       "  </tbody>\n",
       "</table>\n",
       "</div>"
      ],
      "text/plain": [
       "                       name platform  year_of_release         genre  na_sales  \\\n",
       "0                wii sports      Wii             2006        Sports     41.36   \n",
       "1         super mario bros.      NES             1985      Platform     29.08   \n",
       "2            mario kart wii      Wii             2008        Racing     15.68   \n",
       "3         wii sports resort      Wii             2009        Sports     15.61   \n",
       "4  pokemon red/pokemon blue       GB             1996  Role-Playing     11.27   \n",
       "\n",
       "   eu_sales  jp_sales  other_sales  critic_score  user_score rating  \\\n",
       "0     28.96      3.77         8.45          76.0         8.0      E   \n",
       "1      3.58      6.81         0.77           NaN         NaN    NaN   \n",
       "2     12.76      3.79         3.29          82.0         8.3      E   \n",
       "3     10.93      3.28         2.95          80.0         8.0      E   \n",
       "4      8.89     10.22         1.00           NaN         NaN    NaN   \n",
       "\n",
       "   total_sales  \n",
       "0        82.54  \n",
       "1        40.24  \n",
       "2        35.52  \n",
       "3        32.77  \n",
       "4        31.38  "
      ]
     },
     "metadata": {},
     "output_type": "display_data"
    }
   ],
   "source": [
    "#создадим столбец total_sales\n",
    "data['total_sales'] = data['na_sales'] + data['eu_sales'] + data['jp_sales'] + data['other_sales']\n",
    "display(data.head(5))"
   ]
  },
  {
   "cell_type": "markdown",
   "metadata": {},
   "source": [
    "Еще раз выведем информацию по датафрейму."
   ]
  },
  {
   "cell_type": "code",
   "execution_count": 16,
   "metadata": {},
   "outputs": [
    {
     "name": "stdout",
     "output_type": "stream",
     "text": [
      "<class 'pandas.core.frame.DataFrame'>\n",
      "RangeIndex: 16715 entries, 0 to 16714\n",
      "Data columns (total 12 columns):\n",
      " #   Column           Non-Null Count  Dtype  \n",
      "---  ------           --------------  -----  \n",
      " 0   name             16713 non-null  object \n",
      " 1   platform         16715 non-null  object \n",
      " 2   year_of_release  16446 non-null  Int64  \n",
      " 3   genre            16713 non-null  object \n",
      " 4   na_sales         16715 non-null  float64\n",
      " 5   eu_sales         16715 non-null  float64\n",
      " 6   jp_sales         16715 non-null  float64\n",
      " 7   other_sales      16715 non-null  float64\n",
      " 8   critic_score     8137 non-null   float64\n",
      " 9   user_score       7590 non-null   float64\n",
      " 10  rating           9949 non-null   object \n",
      " 11  total_sales      16715 non-null  float64\n",
      "dtypes: Int64(1), float64(7), object(4)\n",
      "memory usage: 1.5+ MB\n"
     ]
    }
   ],
   "source": [
    "data.info()"
   ]
  },
  {
   "cell_type": "markdown",
   "metadata": {},
   "source": [
    "## Исследовательский анализ."
   ]
  },
  {
   "cell_type": "markdown",
   "metadata": {},
   "source": [
    "### Выпуск игр по годам.\n"
   ]
  },
  {
   "cell_type": "code",
   "execution_count": 32,
   "metadata": {},
   "outputs": [
    {
     "data": {
      "text/plain": [
       "<AxesSubplot:>"
      ]
     },
     "execution_count": 32,
     "metadata": {},
     "output_type": "execute_result"
    },
    {
     "data": {
      "image/png": "[encoded data removed]",
      "text/plain": [
       "<Figure size 432x288 with 1 Axes>"
      ]
     },
     "metadata": {
      "needs_background": "light"
     },
     "output_type": "display_data"
    }
   ],
   "source": [
    "#построим гистограмму выпуска игр по годам\n",
    "data['year_of_release'].hist(bins=100)"
   ]
  },
  {
   "cell_type": "code",
   "execution_count": 41,
   "metadata": {},
   "outputs": [
    {
     "data": {
      "text/plain": [
       "<AxesSubplot:xlabel='year_of_release'>"
      ]
     },
     "execution_count": 41,
     "metadata": {},
     "output_type": "execute_result"
    },
    {
     "data": {
      "image/png": "[encoded data removed]",
      "text/plain": [
       "<Figure size 432x288 with 1 Axes>"
      ]
     },
     "metadata": {
      "needs_background": "light"
     },
     "output_type": "display_data"
    }
   ],
   "source": [
    "#построим график продажи копий игр\n",
    "data_years = data.pivot_table(index='year_of_release', values='total_sales', aggfunc='sum')\n",
    "data_years.plot(grid=True)"
   ]
  },
  {
   "cell_type": "markdown",
   "metadata": {},
   "source": [
    "Максимальное количество продаваемых игр в мире было в 2008 и 2009 годах чуть более 1400 игр в год, более 650 млн. копий.\n",
    "С 1980 по по 1994 игр продавалось немного, менее 200 в год. С 1992 по 2008 происходил рост количества продаваемых игр , с 2009 по 2015 происходит падение количества продаваемых игр, с 1400 до 500 штук , 250 млн. копий. \n"
   ]
  },
  {
   "cell_type": "markdown",
   "metadata": {},
   "source": [
    "### Продажи игр по платформам. "
   ]
  },
  {
   "cell_type": "code",
   "execution_count": 28,
   "metadata": {},
   "outputs": [
    {
     "data": {
      "text/html": [
       "<div>\n",
       "<style scoped>\n",
       "    .dataframe tbody tr th:only-of-type {\n",
       "        vertical-align: middle;\n",
       "    }\n",
       "\n",
       "    .dataframe tbody tr th {\n",
       "        vertical-align: top;\n",
       "    }\n",
       "\n",
       "    .dataframe thead tr th {\n",
       "        text-align: left;\n",
       "    }\n",
       "\n",
       "    .dataframe thead tr:last-of-type th {\n",
       "        text-align: right;\n",
       "    }\n",
       "</style>\n",
       "<table border=\"1\" class=\"dataframe\">\n",
       "  <thead>\n",
       "    <tr>\n",
       "      <th></th>\n",
       "      <th>sum</th>\n",
       "      <th>count</th>\n",
       "    </tr>\n",
       "    <tr>\n",
       "      <th></th>\n",
       "      <th>total_sales</th>\n",
       "      <th>total_sales</th>\n",
       "    </tr>\n",
       "    <tr>\n",
       "      <th>platform</th>\n",
       "      <th></th>\n",
       "      <th></th>\n",
       "    </tr>\n",
       "  </thead>\n",
       "  <tbody>\n",
       "    <tr>\n",
       "      <th>2600</th>\n",
       "      <td>96.98</td>\n",
       "      <td>133</td>\n",
       "    </tr>\n",
       "    <tr>\n",
       "      <th>3DO</th>\n",
       "      <td>0.10</td>\n",
       "      <td>3</td>\n",
       "    </tr>\n",
       "    <tr>\n",
       "      <th>3DS</th>\n",
       "      <td>259.00</td>\n",
       "      <td>520</td>\n",
       "    </tr>\n",
       "    <tr>\n",
       "      <th>DC</th>\n",
       "      <td>15.95</td>\n",
       "      <td>52</td>\n",
       "    </tr>\n",
       "    <tr>\n",
       "      <th>DS</th>\n",
       "      <td>806.12</td>\n",
       "      <td>2151</td>\n",
       "    </tr>\n",
       "    <tr>\n",
       "      <th>GB</th>\n",
       "      <td>255.46</td>\n",
       "      <td>98</td>\n",
       "    </tr>\n",
       "    <tr>\n",
       "      <th>GBA</th>\n",
       "      <td>317.85</td>\n",
       "      <td>822</td>\n",
       "    </tr>\n",
       "    <tr>\n",
       "      <th>GC</th>\n",
       "      <td>198.93</td>\n",
       "      <td>556</td>\n",
       "    </tr>\n",
       "    <tr>\n",
       "      <th>GEN</th>\n",
       "      <td>30.77</td>\n",
       "      <td>29</td>\n",
       "    </tr>\n",
       "    <tr>\n",
       "      <th>GG</th>\n",
       "      <td>0.04</td>\n",
       "      <td>1</td>\n",
       "    </tr>\n",
       "    <tr>\n",
       "      <th>N64</th>\n",
       "      <td>218.68</td>\n",
       "      <td>319</td>\n",
       "    </tr>\n",
       "    <tr>\n",
       "      <th>NES</th>\n",
       "      <td>251.05</td>\n",
       "      <td>98</td>\n",
       "    </tr>\n",
       "    <tr>\n",
       "      <th>NG</th>\n",
       "      <td>1.44</td>\n",
       "      <td>12</td>\n",
       "    </tr>\n",
       "    <tr>\n",
       "      <th>PC</th>\n",
       "      <td>259.52</td>\n",
       "      <td>974</td>\n",
       "    </tr>\n",
       "    <tr>\n",
       "      <th>PCFX</th>\n",
       "      <td>0.03</td>\n",
       "      <td>1</td>\n",
       "    </tr>\n",
       "    <tr>\n",
       "      <th>PS</th>\n",
       "      <td>730.86</td>\n",
       "      <td>1197</td>\n",
       "    </tr>\n",
       "    <tr>\n",
       "      <th>PS2</th>\n",
       "      <td>1255.77</td>\n",
       "      <td>2161</td>\n",
       "    </tr>\n",
       "    <tr>\n",
       "      <th>PS3</th>\n",
       "      <td>939.65</td>\n",
       "      <td>1331</td>\n",
       "    </tr>\n",
       "    <tr>\n",
       "      <th>PS4</th>\n",
       "      <td>314.14</td>\n",
       "      <td>392</td>\n",
       "    </tr>\n",
       "    <tr>\n",
       "      <th>PSP</th>\n",
       "      <td>294.05</td>\n",
       "      <td>1209</td>\n",
       "    </tr>\n",
       "    <tr>\n",
       "      <th>PSV</th>\n",
       "      <td>54.07</td>\n",
       "      <td>430</td>\n",
       "    </tr>\n",
       "    <tr>\n",
       "      <th>SAT</th>\n",
       "      <td>33.59</td>\n",
       "      <td>173</td>\n",
       "    </tr>\n",
       "    <tr>\n",
       "      <th>SCD</th>\n",
       "      <td>1.86</td>\n",
       "      <td>6</td>\n",
       "    </tr>\n",
       "    <tr>\n",
       "      <th>SNES</th>\n",
       "      <td>200.04</td>\n",
       "      <td>239</td>\n",
       "    </tr>\n",
       "    <tr>\n",
       "      <th>TG16</th>\n",
       "      <td>0.16</td>\n",
       "      <td>2</td>\n",
       "    </tr>\n",
       "    <tr>\n",
       "      <th>WS</th>\n",
       "      <td>1.42</td>\n",
       "      <td>6</td>\n",
       "    </tr>\n",
       "    <tr>\n",
       "      <th>Wii</th>\n",
       "      <td>907.51</td>\n",
       "      <td>1320</td>\n",
       "    </tr>\n",
       "    <tr>\n",
       "      <th>WiiU</th>\n",
       "      <td>82.19</td>\n",
       "      <td>147</td>\n",
       "    </tr>\n",
       "    <tr>\n",
       "      <th>X360</th>\n",
       "      <td>971.42</td>\n",
       "      <td>1262</td>\n",
       "    </tr>\n",
       "    <tr>\n",
       "      <th>XB</th>\n",
       "      <td>257.74</td>\n",
       "      <td>824</td>\n",
       "    </tr>\n",
       "    <tr>\n",
       "      <th>XOne</th>\n",
       "      <td>159.32</td>\n",
       "      <td>247</td>\n",
       "    </tr>\n",
       "  </tbody>\n",
       "</table>\n",
       "</div>"
      ],
      "text/plain": [
       "                 sum       count\n",
       "         total_sales total_sales\n",
       "platform                        \n",
       "2600           96.98         133\n",
       "3DO             0.10           3\n",
       "3DS           259.00         520\n",
       "DC             15.95          52\n",
       "DS            806.12        2151\n",
       "GB            255.46          98\n",
       "GBA           317.85         822\n",
       "GC            198.93         556\n",
       "GEN            30.77          29\n",
       "GG              0.04           1\n",
       "N64           218.68         319\n",
       "NES           251.05          98\n",
       "NG              1.44          12\n",
       "PC            259.52         974\n",
       "PCFX            0.03           1\n",
       "PS            730.86        1197\n",
       "PS2          1255.77        2161\n",
       "PS3           939.65        1331\n",
       "PS4           314.14         392\n",
       "PSP           294.05        1209\n",
       "PSV            54.07         430\n",
       "SAT            33.59         173\n",
       "SCD             1.86           6\n",
       "SNES          200.04         239\n",
       "TG16            0.16           2\n",
       "WS              1.42           6\n",
       "Wii           907.51        1320\n",
       "WiiU           82.19         147\n",
       "X360          971.42        1262\n",
       "XB            257.74         824\n",
       "XOne          159.32         247"
      ]
     },
     "execution_count": 28,
     "metadata": {},
     "output_type": "execute_result"
    }
   ],
   "source": [
    "#создадим таблицу, срупироанную по платформам, посчитаем продажи и количество реализуемых игр \n",
    "data_platform = data.pivot_table(index='platform', values='total_sales', aggfunc=['sum','count'])\n",
    "data_platform"
   ]
  },
  {
   "cell_type": "code",
   "execution_count": 29,
   "metadata": {},
   "outputs": [
    {
     "data": {
      "text/html": [
       "<div>\n",
       "<style scoped>\n",
       "    .dataframe tbody tr th:only-of-type {\n",
       "        vertical-align: middle;\n",
       "    }\n",
       "\n",
       "    .dataframe tbody tr th {\n",
       "        vertical-align: top;\n",
       "    }\n",
       "\n",
       "    .dataframe thead th {\n",
       "        text-align: right;\n",
       "    }\n",
       "</style>\n",
       "<table border=\"1\" class=\"dataframe\">\n",
       "  <thead>\n",
       "    <tr style=\"text-align: right;\">\n",
       "      <th></th>\n",
       "      <th>total_sales</th>\n",
       "      <th>count</th>\n",
       "    </tr>\n",
       "    <tr>\n",
       "      <th>platform</th>\n",
       "      <th></th>\n",
       "      <th></th>\n",
       "    </tr>\n",
       "  </thead>\n",
       "  <tbody>\n",
       "    <tr>\n",
       "      <th>PS2</th>\n",
       "      <td>1255.77</td>\n",
       "      <td>2161</td>\n",
       "    </tr>\n",
       "    <tr>\n",
       "      <th>X360</th>\n",
       "      <td>971.42</td>\n",
       "      <td>1262</td>\n",
       "    </tr>\n",
       "    <tr>\n",
       "      <th>PS3</th>\n",
       "      <td>939.65</td>\n",
       "      <td>1331</td>\n",
       "    </tr>\n",
       "    <tr>\n",
       "      <th>Wii</th>\n",
       "      <td>907.51</td>\n",
       "      <td>1320</td>\n",
       "    </tr>\n",
       "    <tr>\n",
       "      <th>DS</th>\n",
       "      <td>806.12</td>\n",
       "      <td>2151</td>\n",
       "    </tr>\n",
       "    <tr>\n",
       "      <th>PS</th>\n",
       "      <td>730.86</td>\n",
       "      <td>1197</td>\n",
       "    </tr>\n",
       "    <tr>\n",
       "      <th>GBA</th>\n",
       "      <td>317.85</td>\n",
       "      <td>822</td>\n",
       "    </tr>\n",
       "    <tr>\n",
       "      <th>PS4</th>\n",
       "      <td>314.14</td>\n",
       "      <td>392</td>\n",
       "    </tr>\n",
       "    <tr>\n",
       "      <th>PSP</th>\n",
       "      <td>294.05</td>\n",
       "      <td>1209</td>\n",
       "    </tr>\n",
       "    <tr>\n",
       "      <th>PC</th>\n",
       "      <td>259.52</td>\n",
       "      <td>974</td>\n",
       "    </tr>\n",
       "    <tr>\n",
       "      <th>3DS</th>\n",
       "      <td>259.00</td>\n",
       "      <td>520</td>\n",
       "    </tr>\n",
       "    <tr>\n",
       "      <th>XB</th>\n",
       "      <td>257.74</td>\n",
       "      <td>824</td>\n",
       "    </tr>\n",
       "    <tr>\n",
       "      <th>GB</th>\n",
       "      <td>255.46</td>\n",
       "      <td>98</td>\n",
       "    </tr>\n",
       "    <tr>\n",
       "      <th>NES</th>\n",
       "      <td>251.05</td>\n",
       "      <td>98</td>\n",
       "    </tr>\n",
       "    <tr>\n",
       "      <th>N64</th>\n",
       "      <td>218.68</td>\n",
       "      <td>319</td>\n",
       "    </tr>\n",
       "    <tr>\n",
       "      <th>SNES</th>\n",
       "      <td>200.04</td>\n",
       "      <td>239</td>\n",
       "    </tr>\n",
       "    <tr>\n",
       "      <th>GC</th>\n",
       "      <td>198.93</td>\n",
       "      <td>556</td>\n",
       "    </tr>\n",
       "    <tr>\n",
       "      <th>XOne</th>\n",
       "      <td>159.32</td>\n",
       "      <td>247</td>\n",
       "    </tr>\n",
       "    <tr>\n",
       "      <th>2600</th>\n",
       "      <td>96.98</td>\n",
       "      <td>133</td>\n",
       "    </tr>\n",
       "    <tr>\n",
       "      <th>WiiU</th>\n",
       "      <td>82.19</td>\n",
       "      <td>147</td>\n",
       "    </tr>\n",
       "    <tr>\n",
       "      <th>PSV</th>\n",
       "      <td>54.07</td>\n",
       "      <td>430</td>\n",
       "    </tr>\n",
       "    <tr>\n",
       "      <th>SAT</th>\n",
       "      <td>33.59</td>\n",
       "      <td>173</td>\n",
       "    </tr>\n",
       "    <tr>\n",
       "      <th>GEN</th>\n",
       "      <td>30.77</td>\n",
       "      <td>29</td>\n",
       "    </tr>\n",
       "    <tr>\n",
       "      <th>DC</th>\n",
       "      <td>15.95</td>\n",
       "      <td>52</td>\n",
       "    </tr>\n",
       "    <tr>\n",
       "      <th>SCD</th>\n",
       "      <td>1.86</td>\n",
       "      <td>6</td>\n",
       "    </tr>\n",
       "    <tr>\n",
       "      <th>NG</th>\n",
       "      <td>1.44</td>\n",
       "      <td>12</td>\n",
       "    </tr>\n",
       "    <tr>\n",
       "      <th>WS</th>\n",
       "      <td>1.42</td>\n",
       "      <td>6</td>\n",
       "    </tr>\n",
       "    <tr>\n",
       "      <th>TG16</th>\n",
       "      <td>0.16</td>\n",
       "      <td>2</td>\n",
       "    </tr>\n",
       "    <tr>\n",
       "      <th>3DO</th>\n",
       "      <td>0.10</td>\n",
       "      <td>3</td>\n",
       "    </tr>\n",
       "    <tr>\n",
       "      <th>GG</th>\n",
       "      <td>0.04</td>\n",
       "      <td>1</td>\n",
       "    </tr>\n",
       "  </tbody>\n",
       "</table>\n",
       "</div>"
      ],
      "text/plain": [
       "          total_sales  count\n",
       "platform                    \n",
       "PS2           1255.77   2161\n",
       "X360           971.42   1262\n",
       "PS3            939.65   1331\n",
       "Wii            907.51   1320\n",
       "DS             806.12   2151\n",
       "PS             730.86   1197\n",
       "GBA            317.85    822\n",
       "PS4            314.14    392\n",
       "PSP            294.05   1209\n",
       "PC             259.52    974\n",
       "3DS            259.00    520\n",
       "XB             257.74    824\n",
       "GB             255.46     98\n",
       "NES            251.05     98\n",
       "N64            218.68    319\n",
       "SNES           200.04    239\n",
       "GC             198.93    556\n",
       "XOne           159.32    247\n",
       "2600            96.98    133\n",
       "WiiU            82.19    147\n",
       "PSV             54.07    430\n",
       "SAT             33.59    173\n",
       "GEN             30.77     29\n",
       "DC              15.95     52\n",
       "SCD              1.86      6\n",
       "NG               1.44     12\n",
       "WS               1.42      6\n",
       "TG16             0.16      2\n",
       "3DO              0.10      3\n",
       "GG               0.04      1"
      ]
     },
     "execution_count": 29,
     "metadata": {},
     "output_type": "execute_result"
    }
   ],
   "source": [
    "#переименуем столбцы\n",
    "data_platform.columns = ['total_sales', 'count']\n",
    "#упорядочим по обьему продаж\n",
    "data_platform.sort_values(by='total_sales',ascending=False ).head(30)"
   ]
  },
  {
   "cell_type": "markdown",
   "metadata": {},
   "source": [
    "    На саммом верху списка платформа PS2, общие продажи 1256 млн. копий , 2161 игр. \n",
    "    Первые 6 платформ являются явными лидерами, их обьем продаж от 730 млн. копий. Все нижестоящие платформы продают вдвое, втрое и более раз меньше чем лидеры. Интересна платформа DS по выручке она на 5 месте 806 млн. копий, а по количеству игр на втором, не сильно отличаясь от лидера, 2151 игра.\n",
    "    Вторая группа платформ с 7 по по 18 места с обьемом продаж от 318 млн. копий ( PS4)  до 160 млн. копий (XOne). \n",
    "  "
   ]
  },
  {
   "cell_type": "markdown",
   "metadata": {},
   "source": [
    "### Изучим продажи платформ по годам. "
   ]
  },
  {
   "cell_type": "code",
   "execution_count": 43,
   "metadata": {},
   "outputs": [
    {
     "data": {
      "text/plain": [
       "<AxesSubplot:>"
      ]
     },
     "execution_count": 43,
     "metadata": {},
     "output_type": "execute_result"
    },
    {
     "data": {
      "image/png": "[encoded data removed]",
      "text/plain": [
       "<Figure size 432x288 with 1 Axes>"
      ]
     },
     "metadata": {
      "needs_background": "light"
     },
     "output_type": "display_data"
    }
   ],
   "source": [
    "#построим гистограмму для платформы PS2\n",
    "data.loc[data['platform'] == 'PS2', 'year_of_release'].hist(bins=100)"
   ]
  },
  {
   "cell_type": "code",
   "execution_count": 44,
   "metadata": {},
   "outputs": [
    {
     "data": {
      "text/plain": [
       "<AxesSubplot:>"
      ]
     },
     "execution_count": 44,
     "metadata": {},
     "output_type": "execute_result"
    },
    {
     "data": {
      "image/png": "[encoded data removed]",
      "text/plain": [
       "<Figure size 432x288 with 1 Axes>"
      ]
     },
     "metadata": {
      "needs_background": "light"
     },
     "output_type": "display_data"
    }
   ],
   "source": [
    "#построим гистограмму для платформы X360\n",
    "data.loc[data['platform'] == 'X360', 'year_of_release'].hist(bins=100)"
   ]
  },
  {
   "cell_type": "code",
   "execution_count": 45,
   "metadata": {},
   "outputs": [
    {
     "data": {
      "text/plain": [
       "<AxesSubplot:>"
      ]
     },
     "execution_count": 45,
     "metadata": {},
     "output_type": "execute_result"
    },
    {
     "data": {
      "image/png": "[encoded data removed]",
      "text/plain": [
       "<Figure size 432x288 with 1 Axes>"
      ]
     },
     "metadata": {
      "needs_background": "light"
     },
     "output_type": "display_data"
    }
   ],
   "source": [
    "#построим гистограмму для платформы PS3\n",
    "data.loc[data['platform'] == 'PS3', 'year_of_release'].hist(bins=100)"
   ]
  },
  {
   "cell_type": "code",
   "execution_count": 46,
   "metadata": {},
   "outputs": [
    {
     "data": {
      "text/plain": [
       "<AxesSubplot:>"
      ]
     },
     "execution_count": 46,
     "metadata": {},
     "output_type": "execute_result"
    },
    {
     "data": {
      "image/png": "[encoded data removed]",
      "text/plain": [
       "<Figure size 432x288 with 1 Axes>"
      ]
     },
     "metadata": {
      "needs_background": "light"
     },
     "output_type": "display_data"
    }
   ],
   "source": [
    "#построим гистограмму для платформы Wii\n",
    "data.loc[data['platform'] == 'Wii', 'year_of_release'].hist(bins=100)"
   ]
  },
  {
   "cell_type": "code",
   "execution_count": 47,
   "metadata": {},
   "outputs": [
    {
     "data": {
      "text/plain": [
       "<AxesSubplot:>"
      ]
     },
     "execution_count": 47,
     "metadata": {},
     "output_type": "execute_result"
    },
    {
     "data": {
      "image/png": "[encoded data removed]",
      "text/plain": [
       "<Figure size 432x288 with 1 Axes>"
      ]
     },
     "metadata": {
      "needs_background": "light"
     },
     "output_type": "display_data"
    }
   ],
   "source": [
    "#построим гистограмму для платформы DS\n",
    "data.loc[data['platform'] == 'DS', 'year_of_release'].hist(bins=100)"
   ]
  },
  {
   "cell_type": "code",
   "execution_count": 48,
   "metadata": {},
   "outputs": [
    {
     "data": {
      "text/plain": [
       "<AxesSubplot:>"
      ]
     },
     "execution_count": 48,
     "metadata": {},
     "output_type": "execute_result"
    },
    {
     "data": {
      "image/png": "[encoded data removed]",
      "text/plain": [
       "<Figure size 432x288 with 1 Axes>"
      ]
     },
     "metadata": {
      "needs_background": "light"
     },
     "output_type": "display_data"
    }
   ],
   "source": [
    "#построим гистограмму для платформы PS\n",
    "data.loc[data['platform'] == 'PS', 'year_of_release'].hist(bins=100)"
   ]
  },
  {
   "cell_type": "code",
   "execution_count": 49,
   "metadata": {},
   "outputs": [
    {
     "data": {
      "text/plain": [
       "<AxesSubplot:>"
      ]
     },
     "execution_count": 49,
     "metadata": {},
     "output_type": "execute_result"
    },
    {
     "data": {
      "image/png": "[encoded data removed]",
      "text/plain": [
       "<Figure size 432x288 with 1 Axes>"
      ]
     },
     "metadata": {
      "needs_background": "light"
     },
     "output_type": "display_data"
    }
   ],
   "source": [
    "#построим гистограмму для платформы GBA\n",
    "data.loc[data['platform'] == 'GBA', 'year_of_release'].hist(bins=100)"
   ]
  },
  {
   "cell_type": "markdown",
   "metadata": {},
   "source": [
    "    Средний срок жизни платформы около 11 лет +/- 2 года. Самые мощные платформы PS2 и X360 прожили 12 лет, PS3 -11 ; WII, DS, PS-9 лет. \n",
    "    Обычно пика производительности платформа достигает в середине срока своей жизни, т.е. через 5-6 лет после начала своей деятельности.\n",
    "    Актуальный период должен быть меньше 11 лет, поскольку изучать данные \"умерших\" платформ для задач планирования продаж на 2017 год не имеет смысла. Актуальный период установим в 4 года, чтобы изучать лидеров последних лет, и исключить пяти, шестилетние пики лидеров прошлых лет. Будем анализировать данные с 2012 года включительно. "
   ]
  },
  {
   "cell_type": "markdown",
   "metadata": {},
   "source": [
    "### Изучим продажи платформ за актуальный период."
   ]
  },
  {
   "cell_type": "code",
   "execution_count": 50,
   "metadata": {},
   "outputs": [
    {
     "data": {
      "text/html": [
       "<div>\n",
       "<style scoped>\n",
       "    .dataframe tbody tr th:only-of-type {\n",
       "        vertical-align: middle;\n",
       "    }\n",
       "\n",
       "    .dataframe tbody tr th {\n",
       "        vertical-align: top;\n",
       "    }\n",
       "\n",
       "    .dataframe thead th {\n",
       "        text-align: right;\n",
       "    }\n",
       "</style>\n",
       "<table border=\"1\" class=\"dataframe\">\n",
       "  <thead>\n",
       "    <tr style=\"text-align: right;\">\n",
       "      <th></th>\n",
       "      <th>name</th>\n",
       "      <th>platform</th>\n",
       "      <th>year_of_release</th>\n",
       "      <th>genre</th>\n",
       "      <th>na_sales</th>\n",
       "      <th>eu_sales</th>\n",
       "      <th>jp_sales</th>\n",
       "      <th>other_sales</th>\n",
       "      <th>critic_score</th>\n",
       "      <th>user_score</th>\n",
       "      <th>rating</th>\n",
       "      <th>total_sales</th>\n",
       "    </tr>\n",
       "  </thead>\n",
       "  <tbody>\n",
       "    <tr>\n",
       "      <th>16</th>\n",
       "      <td>grand theft auto v</td>\n",
       "      <td>PS3</td>\n",
       "      <td>2013</td>\n",
       "      <td>Action</td>\n",
       "      <td>7.02</td>\n",
       "      <td>9.09</td>\n",
       "      <td>0.98</td>\n",
       "      <td>3.96</td>\n",
       "      <td>97.0</td>\n",
       "      <td>8.2</td>\n",
       "      <td>M</td>\n",
       "      <td>21.05</td>\n",
       "    </tr>\n",
       "    <tr>\n",
       "      <th>23</th>\n",
       "      <td>grand theft auto v</td>\n",
       "      <td>X360</td>\n",
       "      <td>2013</td>\n",
       "      <td>Action</td>\n",
       "      <td>9.66</td>\n",
       "      <td>5.14</td>\n",
       "      <td>0.06</td>\n",
       "      <td>1.41</td>\n",
       "      <td>97.0</td>\n",
       "      <td>8.1</td>\n",
       "      <td>M</td>\n",
       "      <td>16.27</td>\n",
       "    </tr>\n",
       "    <tr>\n",
       "      <th>31</th>\n",
       "      <td>call of duty: black ops 3</td>\n",
       "      <td>PS4</td>\n",
       "      <td>2015</td>\n",
       "      <td>Shooter</td>\n",
       "      <td>6.03</td>\n",
       "      <td>5.86</td>\n",
       "      <td>0.36</td>\n",
       "      <td>2.38</td>\n",
       "      <td>NaN</td>\n",
       "      <td>NaN</td>\n",
       "      <td>NaN</td>\n",
       "      <td>14.63</td>\n",
       "    </tr>\n",
       "    <tr>\n",
       "      <th>33</th>\n",
       "      <td>pokemon x/pokemon y</td>\n",
       "      <td>3DS</td>\n",
       "      <td>2013</td>\n",
       "      <td>Role-Playing</td>\n",
       "      <td>5.28</td>\n",
       "      <td>4.19</td>\n",
       "      <td>4.35</td>\n",
       "      <td>0.78</td>\n",
       "      <td>NaN</td>\n",
       "      <td>NaN</td>\n",
       "      <td>NaN</td>\n",
       "      <td>14.60</td>\n",
       "    </tr>\n",
       "    <tr>\n",
       "      <th>34</th>\n",
       "      <td>call of duty: black ops ii</td>\n",
       "      <td>PS3</td>\n",
       "      <td>2012</td>\n",
       "      <td>Shooter</td>\n",
       "      <td>4.99</td>\n",
       "      <td>5.73</td>\n",
       "      <td>0.65</td>\n",
       "      <td>2.42</td>\n",
       "      <td>83.0</td>\n",
       "      <td>5.3</td>\n",
       "      <td>M</td>\n",
       "      <td>13.79</td>\n",
       "    </tr>\n",
       "    <tr>\n",
       "      <th>...</th>\n",
       "      <td>...</td>\n",
       "      <td>...</td>\n",
       "      <td>...</td>\n",
       "      <td>...</td>\n",
       "      <td>...</td>\n",
       "      <td>...</td>\n",
       "      <td>...</td>\n",
       "      <td>...</td>\n",
       "      <td>...</td>\n",
       "      <td>...</td>\n",
       "      <td>...</td>\n",
       "      <td>...</td>\n",
       "    </tr>\n",
       "    <tr>\n",
       "      <th>16703</th>\n",
       "      <td>strawberry nauts</td>\n",
       "      <td>PSV</td>\n",
       "      <td>2016</td>\n",
       "      <td>Adventure</td>\n",
       "      <td>0.00</td>\n",
       "      <td>0.00</td>\n",
       "      <td>0.01</td>\n",
       "      <td>0.00</td>\n",
       "      <td>NaN</td>\n",
       "      <td>NaN</td>\n",
       "      <td>NaN</td>\n",
       "      <td>0.01</td>\n",
       "    </tr>\n",
       "    <tr>\n",
       "      <th>16707</th>\n",
       "      <td>aiyoku no eustia</td>\n",
       "      <td>PSV</td>\n",
       "      <td>2014</td>\n",
       "      <td>Misc</td>\n",
       "      <td>0.00</td>\n",
       "      <td>0.00</td>\n",
       "      <td>0.01</td>\n",
       "      <td>0.00</td>\n",
       "      <td>NaN</td>\n",
       "      <td>NaN</td>\n",
       "      <td>NaN</td>\n",
       "      <td>0.01</td>\n",
       "    </tr>\n",
       "    <tr>\n",
       "      <th>16710</th>\n",
       "      <td>samurai warriors: sanada maru</td>\n",
       "      <td>PS3</td>\n",
       "      <td>2016</td>\n",
       "      <td>Action</td>\n",
       "      <td>0.00</td>\n",
       "      <td>0.00</td>\n",
       "      <td>0.01</td>\n",
       "      <td>0.00</td>\n",
       "      <td>NaN</td>\n",
       "      <td>NaN</td>\n",
       "      <td>NaN</td>\n",
       "      <td>0.01</td>\n",
       "    </tr>\n",
       "    <tr>\n",
       "      <th>16712</th>\n",
       "      <td>haitaka no psychedelica</td>\n",
       "      <td>PSV</td>\n",
       "      <td>2016</td>\n",
       "      <td>Adventure</td>\n",
       "      <td>0.00</td>\n",
       "      <td>0.00</td>\n",
       "      <td>0.01</td>\n",
       "      <td>0.00</td>\n",
       "      <td>NaN</td>\n",
       "      <td>NaN</td>\n",
       "      <td>NaN</td>\n",
       "      <td>0.01</td>\n",
       "    </tr>\n",
       "    <tr>\n",
       "      <th>16714</th>\n",
       "      <td>winning post 8 2016</td>\n",
       "      <td>PSV</td>\n",
       "      <td>2016</td>\n",
       "      <td>Simulation</td>\n",
       "      <td>0.00</td>\n",
       "      <td>0.00</td>\n",
       "      <td>0.01</td>\n",
       "      <td>0.00</td>\n",
       "      <td>NaN</td>\n",
       "      <td>NaN</td>\n",
       "      <td>NaN</td>\n",
       "      <td>0.01</td>\n",
       "    </tr>\n",
       "  </tbody>\n",
       "</table>\n",
       "<p>2886 rows × 12 columns</p>\n",
       "</div>"
      ],
      "text/plain": [
       "                                name platform  year_of_release         genre  \\\n",
       "16                grand theft auto v      PS3             2013        Action   \n",
       "23                grand theft auto v     X360             2013        Action   \n",
       "31         call of duty: black ops 3      PS4             2015       Shooter   \n",
       "33               pokemon x/pokemon y      3DS             2013  Role-Playing   \n",
       "34        call of duty: black ops ii      PS3             2012       Shooter   \n",
       "...                              ...      ...              ...           ...   \n",
       "16703               strawberry nauts      PSV             2016     Adventure   \n",
       "16707               aiyoku no eustia      PSV             2014          Misc   \n",
       "16710  samurai warriors: sanada maru      PS3             2016        Action   \n",
       "16712        haitaka no psychedelica      PSV             2016     Adventure   \n",
       "16714            winning post 8 2016      PSV             2016    Simulation   \n",
       "\n",
       "       na_sales  eu_sales  jp_sales  other_sales  critic_score  user_score  \\\n",
       "16         7.02      9.09      0.98         3.96          97.0         8.2   \n",
       "23         9.66      5.14      0.06         1.41          97.0         8.1   \n",
       "31         6.03      5.86      0.36         2.38           NaN         NaN   \n",
       "33         5.28      4.19      4.35         0.78           NaN         NaN   \n",
       "34         4.99      5.73      0.65         2.42          83.0         5.3   \n",
       "...         ...       ...       ...          ...           ...         ...   \n",
       "16703      0.00      0.00      0.01         0.00           NaN         NaN   \n",
       "16707      0.00      0.00      0.01         0.00           NaN         NaN   \n",
       "16710      0.00      0.00      0.01         0.00           NaN         NaN   \n",
       "16712      0.00      0.00      0.01         0.00           NaN         NaN   \n",
       "16714      0.00      0.00      0.01         0.00           NaN         NaN   \n",
       "\n",
       "      rating  total_sales  \n",
       "16         M        21.05  \n",
       "23         M        16.27  \n",
       "31       NaN        14.63  \n",
       "33       NaN        14.60  \n",
       "34         M        13.79  \n",
       "...      ...          ...  \n",
       "16703    NaN         0.01  \n",
       "16707    NaN         0.01  \n",
       "16710    NaN         0.01  \n",
       "16712    NaN         0.01  \n",
       "16714    NaN         0.01  \n",
       "\n",
       "[2886 rows x 12 columns]"
      ]
     },
     "execution_count": 50,
     "metadata": {},
     "output_type": "execute_result"
    }
   ],
   "source": [
    "#обрежем данные по актуальному периоду с 2012 года \n",
    "data_actual = data.loc[data['year_of_release'] >= 2012]\n",
    "data_actual"
   ]
  },
  {
   "cell_type": "markdown",
   "metadata": {},
   "source": [
    "В актуальный период попала примерно пятая часть данных , 2886 строки. "
   ]
  },
  {
   "cell_type": "markdown",
   "metadata": {},
   "source": [
    "#### Проанализируем продажи платформ за актуальный период."
   ]
  },
  {
   "cell_type": "code",
   "execution_count": 51,
   "metadata": {},
   "outputs": [
    {
     "data": {
      "text/html": [
       "<div>\n",
       "<style scoped>\n",
       "    .dataframe tbody tr th:only-of-type {\n",
       "        vertical-align: middle;\n",
       "    }\n",
       "\n",
       "    .dataframe tbody tr th {\n",
       "        vertical-align: top;\n",
       "    }\n",
       "\n",
       "    .dataframe thead th {\n",
       "        text-align: right;\n",
       "    }\n",
       "</style>\n",
       "<table border=\"1\" class=\"dataframe\">\n",
       "  <thead>\n",
       "    <tr style=\"text-align: right;\">\n",
       "      <th></th>\n",
       "      <th>total_sales</th>\n",
       "      <th>count</th>\n",
       "    </tr>\n",
       "    <tr>\n",
       "      <th>platform</th>\n",
       "      <th></th>\n",
       "      <th></th>\n",
       "    </tr>\n",
       "  </thead>\n",
       "  <tbody>\n",
       "    <tr>\n",
       "      <th>PS4</th>\n",
       "      <td>314.14</td>\n",
       "      <td>392</td>\n",
       "    </tr>\n",
       "    <tr>\n",
       "      <th>PS3</th>\n",
       "      <td>288.79</td>\n",
       "      <td>493</td>\n",
       "    </tr>\n",
       "    <tr>\n",
       "      <th>X360</th>\n",
       "      <td>236.54</td>\n",
       "      <td>292</td>\n",
       "    </tr>\n",
       "    <tr>\n",
       "      <th>3DS</th>\n",
       "      <td>194.61</td>\n",
       "      <td>396</td>\n",
       "    </tr>\n",
       "    <tr>\n",
       "      <th>XOne</th>\n",
       "      <td>159.32</td>\n",
       "      <td>247</td>\n",
       "    </tr>\n",
       "    <tr>\n",
       "      <th>WiiU</th>\n",
       "      <td>82.19</td>\n",
       "      <td>147</td>\n",
       "    </tr>\n",
       "    <tr>\n",
       "      <th>PC</th>\n",
       "      <td>62.65</td>\n",
       "      <td>250</td>\n",
       "    </tr>\n",
       "    <tr>\n",
       "      <th>PSV</th>\n",
       "      <td>49.18</td>\n",
       "      <td>411</td>\n",
       "    </tr>\n",
       "    <tr>\n",
       "      <th>Wii</th>\n",
       "      <td>35.37</td>\n",
       "      <td>54</td>\n",
       "    </tr>\n",
       "    <tr>\n",
       "      <th>DS</th>\n",
       "      <td>12.55</td>\n",
       "      <td>31</td>\n",
       "    </tr>\n",
       "    <tr>\n",
       "      <th>PSP</th>\n",
       "      <td>11.19</td>\n",
       "      <td>173</td>\n",
       "    </tr>\n",
       "  </tbody>\n",
       "</table>\n",
       "</div>"
      ],
      "text/plain": [
       "          total_sales  count\n",
       "platform                    \n",
       "PS4            314.14    392\n",
       "PS3            288.79    493\n",
       "X360           236.54    292\n",
       "3DS            194.61    396\n",
       "XOne           159.32    247\n",
       "WiiU            82.19    147\n",
       "PC              62.65    250\n",
       "PSV             49.18    411\n",
       "Wii             35.37     54\n",
       "DS              12.55     31\n",
       "PSP             11.19    173"
      ]
     },
     "execution_count": 51,
     "metadata": {},
     "output_type": "execute_result"
    }
   ],
   "source": [
    "#создадим таблицу, сгрупированную по платформам, посчитаем продажи и количество реализуемых игр \n",
    "data_actual_pl=data_actual.pivot_table(index='platform', values='total_sales', aggfunc=['sum','count'])\n",
    "#переименуем столбцы и упорядочим по продажам\n",
    "data_actual_pl.columns = ['total_sales', 'count']\n",
    "data_actual_pl.sort_values(by='total_sales',ascending=False ).head(30)"
   ]
  },
  {
   "cell_type": "markdown",
   "metadata": {},
   "source": [
    "Построим гистограммы по годам для лидеров продаж. \n"
   ]
  },
  {
   "cell_type": "code",
   "execution_count": 52,
   "metadata": {},
   "outputs": [
    {
     "data": {
      "text/plain": [
       "<AxesSubplot:>"
      ]
     },
     "execution_count": 52,
     "metadata": {},
     "output_type": "execute_result"
    },
    {
     "data": {
      "image/png": "[encoded data removed]",
      "text/plain": [
       "<Figure size 432x288 with 1 Axes>"
      ]
     },
     "metadata": {
      "needs_background": "light"
     },
     "output_type": "display_data"
    }
   ],
   "source": [
    "#построим гистограмму для платформы PS4\n",
    "data_actual.loc[data_actual['platform'] == 'PS4', 'year_of_release'].hist(bins=100)"
   ]
  },
  {
   "cell_type": "markdown",
   "metadata": {},
   "source": [
    "Продажи PS4  растут. Максимум в 2016 году. Перспективная платформа."
   ]
  },
  {
   "cell_type": "code",
   "execution_count": 53,
   "metadata": {},
   "outputs": [
    {
     "data": {
      "text/plain": [
       "<AxesSubplot:>"
      ]
     },
     "execution_count": 53,
     "metadata": {},
     "output_type": "execute_result"
    },
    {
     "data": {
      "image/png": "[encoded data removed]",
      "text/plain": [
       "<Figure size 432x288 with 1 Axes>"
      ]
     },
     "metadata": {
      "needs_background": "light"
     },
     "output_type": "display_data"
    }
   ],
   "source": [
    "#построим гистограмму для платформы PS3\n",
    "data_actual.loc[data_actual['platform'] == 'PS3', 'year_of_release'].hist(bins=100)"
   ]
  },
  {
   "cell_type": "markdown",
   "metadata": {},
   "source": [
    "Продажи падают, пик был в 2012 году. "
   ]
  },
  {
   "cell_type": "code",
   "execution_count": 54,
   "metadata": {},
   "outputs": [
    {
     "data": {
      "text/plain": [
       "<AxesSubplot:>"
      ]
     },
     "execution_count": 54,
     "metadata": {},
     "output_type": "execute_result"
    },
    {
     "data": {
      "image/png": "[encoded data removed]",
      "text/plain": [
       "<Figure size 432x288 with 1 Axes>"
      ]
     },
     "metadata": {
      "needs_background": "light"
     },
     "output_type": "display_data"
    }
   ],
   "source": [
    "#построим гистограмму для платформы X360\n",
    "data_actual.loc[data_actual['platform'] == 'X360', 'year_of_release'].hist(bins=100)"
   ]
  },
  {
   "cell_type": "markdown",
   "metadata": {},
   "source": [
    "Продажи X360 падают, пик был в 2011 году. "
   ]
  },
  {
   "cell_type": "code",
   "execution_count": 55,
   "metadata": {},
   "outputs": [
    {
     "data": {
      "text/plain": [
       "<AxesSubplot:>"
      ]
     },
     "execution_count": 55,
     "metadata": {},
     "output_type": "execute_result"
    },
    {
     "data": {
      "image/png": "[encoded data removed]",
      "text/plain": [
       "<Figure size 432x288 with 1 Axes>"
      ]
     },
     "metadata": {
      "needs_background": "light"
     },
     "output_type": "display_data"
    }
   ],
   "source": [
    "#построим гистограмму для платформы 3DS\n",
    "data_actual.loc[data_actual['platform'] == '3DS', 'year_of_release'].hist(bins=100)"
   ]
  },
  {
   "cell_type": "markdown",
   "metadata": {},
   "source": [
    "Продажи 3DS падают. "
   ]
  },
  {
   "cell_type": "code",
   "execution_count": 56,
   "metadata": {},
   "outputs": [
    {
     "data": {
      "text/plain": [
       "<AxesSubplot:>"
      ]
     },
     "execution_count": 56,
     "metadata": {},
     "output_type": "execute_result"
    },
    {
     "data": {
      "image/png": "[encoded data removed]",
      "text/plain": [
       "<Figure size 432x288 with 1 Axes>"
      ]
     },
     "metadata": {
      "needs_background": "light"
     },
     "output_type": "display_data"
    }
   ],
   "source": [
    "#построим гистограмму для платформы XOne\n",
    "data_actual.loc[data_actual['platform'] == 'XOne', 'year_of_release'].hist(bins=100)"
   ]
  },
  {
   "cell_type": "markdown",
   "metadata": {},
   "source": [
    "Продажи XOne растут , максимум в 2016 году. Перспективная платформа."
   ]
  },
  {
   "cell_type": "code",
   "execution_count": 57,
   "metadata": {},
   "outputs": [
    {
     "data": {
      "text/plain": [
       "<AxesSubplot:>"
      ]
     },
     "execution_count": 57,
     "metadata": {},
     "output_type": "execute_result"
    },
    {
     "data": {
      "image/png": "[encoded data removed]",
      "text/plain": [
       "<Figure size 432x288 with 1 Axes>"
      ]
     },
     "metadata": {
      "needs_background": "light"
     },
     "output_type": "display_data"
    }
   ],
   "source": [
    "#построим гистограмму для платформы WiiU\n",
    "data_actual.loc[data_actual['platform'] == 'WiiU', 'year_of_release'].hist(bins=100)"
   ]
  },
  {
   "cell_type": "markdown",
   "metadata": {},
   "source": [
    "Продажи WiiU падают, пик был в 2013 году."
   ]
  },
  {
   "cell_type": "code",
   "execution_count": 58,
   "metadata": {},
   "outputs": [
    {
     "data": {
      "text/plain": [
       "<AxesSubplot:>"
      ]
     },
     "execution_count": 58,
     "metadata": {},
     "output_type": "execute_result"
    },
    {
     "data": {
      "image/png": "[encoded data removed]",
      "text/plain": [
       "<Figure size 432x288 with 1 Axes>"
      ]
     },
     "metadata": {
      "needs_background": "light"
     },
     "output_type": "display_data"
    }
   ],
   "source": [
    "#построим гистограмму для платформы PC\n",
    "data_actual.loc[data_actual['platform'] == 'PC', 'year_of_release'].hist(bins=100)"
   ]
  },
  {
   "cell_type": "markdown",
   "metadata": {},
   "source": [
    "Продажи PC растут за последние 4 года, но в предыдущее период было падение. Расширим диапазон рассмотрения. "
   ]
  },
  {
   "cell_type": "code",
   "execution_count": 59,
   "metadata": {},
   "outputs": [
    {
     "data": {
      "text/plain": [
       "<AxesSubplot:>"
      ]
     },
     "execution_count": 59,
     "metadata": {},
     "output_type": "execute_result"
    },
    {
     "data": {
      "image/png": "[encoded data removed]",
      "text/plain": [
       "<Figure size 432x288 with 1 Axes>"
      ]
     },
     "metadata": {
      "needs_background": "light"
     },
     "output_type": "display_data"
    }
   ],
   "source": [
    "#построим гистограмму для платформы PC\n",
    "data.loc[data['platform'] == 'PC', 'year_of_release'].hist(bins=100)"
   ]
  },
  {
   "cell_type": "markdown",
   "metadata": {},
   "source": [
    "Интересная платформа , ее жизнь более 20 лет. Пик был в 2011 году, падение в 2013 , последнии три года рост. Возможно им известен закон второй молодости? Стоит рассмотреть сотрудничество с этой платформой. "
   ]
  },
  {
   "cell_type": "code",
   "execution_count": 60,
   "metadata": {},
   "outputs": [
    {
     "data": {
      "text/plain": [
       "<AxesSubplot:>"
      ]
     },
     "execution_count": 60,
     "metadata": {},
     "output_type": "execute_result"
    },
    {
     "data": {
      "image/png": "[encoded data removed]",
      "text/plain": [
       "<Figure size 432x288 with 1 Axes>"
      ]
     },
     "metadata": {
      "needs_background": "light"
     },
     "output_type": "display_data"
    }
   ],
   "source": [
    "#построим гистограмму для платформы PSV\n",
    "data_actual.loc[data_actual['platform'] == 'PSV', 'year_of_release'].hist(bins=100)"
   ]
  },
  {
   "cell_type": "markdown",
   "metadata": {},
   "source": [
    "Пик продаж PSV был в 2015 году. Продажи начали падать. Следует посмотреть на данные за 2017 год. Возможны неплохие продажи в ближайшие два года. "
   ]
  },
  {
   "cell_type": "markdown",
   "metadata": {},
   "source": [
    "Вывод. Самая перспективная платформа PS4, вторая по перспективности XOne. Стоит рассмотреть и возможности сотрудничества с уникальной платформой долгожителем PC. \n"
   ]
  },
  {
   "cell_type": "markdown",
   "metadata": {},
   "source": [
    "#### Изучим потенциально прибыльные платформы  PS4,  XOne, PC."
   ]
  },
  {
   "cell_type": "markdown",
   "metadata": {},
   "source": [
    "Построим  график «ящик с усами» по глобальным продажам игр в разбивке по платформам."
   ]
  },
  {
   "cell_type": "code",
   "execution_count": 61,
   "metadata": {},
   "outputs": [],
   "source": [
    "#импортируем библиотеки для графиков\n",
    "import seaborn as sns\n",
    "import matplotlib.pyplot as plt"
   ]
  },
  {
   "cell_type": "code",
   "execution_count": 62,
   "metadata": {},
   "outputs": [],
   "source": [
    "#оставим для анализа данные по трем платформам\n",
    "data_3plt=data_actual.query('platform==\"PS4\" or  platform==\"XOne\" or platform==\"PC\"')"
   ]
  },
  {
   "cell_type": "code",
   "execution_count": 63,
   "metadata": {},
   "outputs": [
    {
     "data": {
      "text/plain": [
       "Text(0, 0.5, 'Глобальные продажи')"
      ]
     },
     "execution_count": 63,
     "metadata": {},
     "output_type": "execute_result"
    },
    {
     "data": {
      "image/png": "[encoded data removed]",
      "text/plain": [
       "<Figure size 864x432 with 1 Axes>"
      ]
     },
     "metadata": {
      "needs_background": "light"
     },
     "output_type": "display_data"
    }
   ],
   "source": [
    "\n",
    "plt.figure(figsize=(12,6))\n",
    "sns.boxplot(data=data_3plt, x='platform', y='total_sales')\n",
    "plt.title('Ящик с усами', fontsize=15)\n",
    "plt.xlabel('Платформа', fontsize=12)\n",
    "plt.ylabel('Глобальные продажи',fontsize=12)"
   ]
  },
  {
   "cell_type": "markdown",
   "metadata": {},
   "source": [
    " Платформа PS4. "
   ]
  },
  {
   "cell_type": "code",
   "execution_count": 64,
   "metadata": {},
   "outputs": [
    {
     "data": {
      "text/html": [
       "<div>\n",
       "<style scoped>\n",
       "    .dataframe tbody tr th:only-of-type {\n",
       "        vertical-align: middle;\n",
       "    }\n",
       "\n",
       "    .dataframe tbody tr th {\n",
       "        vertical-align: top;\n",
       "    }\n",
       "\n",
       "    .dataframe thead th {\n",
       "        text-align: right;\n",
       "    }\n",
       "</style>\n",
       "<table border=\"1\" class=\"dataframe\">\n",
       "  <thead>\n",
       "    <tr style=\"text-align: right;\">\n",
       "      <th></th>\n",
       "      <th>name</th>\n",
       "      <th>platform</th>\n",
       "      <th>year_of_release</th>\n",
       "      <th>genre</th>\n",
       "      <th>na_sales</th>\n",
       "      <th>eu_sales</th>\n",
       "      <th>jp_sales</th>\n",
       "      <th>other_sales</th>\n",
       "      <th>critic_score</th>\n",
       "      <th>user_score</th>\n",
       "      <th>rating</th>\n",
       "      <th>total_sales</th>\n",
       "    </tr>\n",
       "  </thead>\n",
       "  <tbody>\n",
       "    <tr>\n",
       "      <th>31</th>\n",
       "      <td>call of duty: black ops 3</td>\n",
       "      <td>PS4</td>\n",
       "      <td>2015</td>\n",
       "      <td>Shooter</td>\n",
       "      <td>6.03</td>\n",
       "      <td>5.86</td>\n",
       "      <td>0.36</td>\n",
       "      <td>2.38</td>\n",
       "      <td>NaN</td>\n",
       "      <td>NaN</td>\n",
       "      <td>NaN</td>\n",
       "      <td>14.63</td>\n",
       "    </tr>\n",
       "    <tr>\n",
       "      <th>42</th>\n",
       "      <td>grand theft auto v</td>\n",
       "      <td>PS4</td>\n",
       "      <td>2014</td>\n",
       "      <td>Action</td>\n",
       "      <td>3.96</td>\n",
       "      <td>6.31</td>\n",
       "      <td>0.38</td>\n",
       "      <td>1.97</td>\n",
       "      <td>97.0</td>\n",
       "      <td>8.3</td>\n",
       "      <td>M</td>\n",
       "      <td>12.62</td>\n",
       "    </tr>\n",
       "    <tr>\n",
       "      <th>77</th>\n",
       "      <td>fifa 16</td>\n",
       "      <td>PS4</td>\n",
       "      <td>2015</td>\n",
       "      <td>Sports</td>\n",
       "      <td>1.12</td>\n",
       "      <td>6.12</td>\n",
       "      <td>0.06</td>\n",
       "      <td>1.28</td>\n",
       "      <td>82.0</td>\n",
       "      <td>4.3</td>\n",
       "      <td>E</td>\n",
       "      <td>8.58</td>\n",
       "    </tr>\n",
       "    <tr>\n",
       "      <th>87</th>\n",
       "      <td>star wars battlefront (2015)</td>\n",
       "      <td>PS4</td>\n",
       "      <td>2015</td>\n",
       "      <td>Shooter</td>\n",
       "      <td>2.99</td>\n",
       "      <td>3.49</td>\n",
       "      <td>0.22</td>\n",
       "      <td>1.28</td>\n",
       "      <td>NaN</td>\n",
       "      <td>NaN</td>\n",
       "      <td>NaN</td>\n",
       "      <td>7.98</td>\n",
       "    </tr>\n",
       "    <tr>\n",
       "      <th>92</th>\n",
       "      <td>call of duty: advanced warfare</td>\n",
       "      <td>PS4</td>\n",
       "      <td>2014</td>\n",
       "      <td>Shooter</td>\n",
       "      <td>2.81</td>\n",
       "      <td>3.48</td>\n",
       "      <td>0.14</td>\n",
       "      <td>1.23</td>\n",
       "      <td>83.0</td>\n",
       "      <td>5.7</td>\n",
       "      <td>M</td>\n",
       "      <td>7.66</td>\n",
       "    </tr>\n",
       "    <tr>\n",
       "      <th>...</th>\n",
       "      <td>...</td>\n",
       "      <td>...</td>\n",
       "      <td>...</td>\n",
       "      <td>...</td>\n",
       "      <td>...</td>\n",
       "      <td>...</td>\n",
       "      <td>...</td>\n",
       "      <td>...</td>\n",
       "      <td>...</td>\n",
       "      <td>...</td>\n",
       "      <td>...</td>\n",
       "      <td>...</td>\n",
       "    </tr>\n",
       "    <tr>\n",
       "      <th>16500</th>\n",
       "      <td>root letter</td>\n",
       "      <td>PS4</td>\n",
       "      <td>2016</td>\n",
       "      <td>Adventure</td>\n",
       "      <td>0.00</td>\n",
       "      <td>0.00</td>\n",
       "      <td>0.01</td>\n",
       "      <td>0.00</td>\n",
       "      <td>69.0</td>\n",
       "      <td>7.5</td>\n",
       "      <td>NaN</td>\n",
       "      <td>0.01</td>\n",
       "    </tr>\n",
       "    <tr>\n",
       "      <th>16503</th>\n",
       "      <td>shin hayarigami 2</td>\n",
       "      <td>PS4</td>\n",
       "      <td>2016</td>\n",
       "      <td>Adventure</td>\n",
       "      <td>0.00</td>\n",
       "      <td>0.00</td>\n",
       "      <td>0.01</td>\n",
       "      <td>0.00</td>\n",
       "      <td>NaN</td>\n",
       "      <td>NaN</td>\n",
       "      <td>NaN</td>\n",
       "      <td>0.01</td>\n",
       "    </tr>\n",
       "    <tr>\n",
       "      <th>16526</th>\n",
       "      <td>dungeons 2</td>\n",
       "      <td>PS4</td>\n",
       "      <td>2016</td>\n",
       "      <td>Role-Playing</td>\n",
       "      <td>0.01</td>\n",
       "      <td>0.00</td>\n",
       "      <td>0.00</td>\n",
       "      <td>0.00</td>\n",
       "      <td>61.0</td>\n",
       "      <td>7.9</td>\n",
       "      <td>T</td>\n",
       "      <td>0.01</td>\n",
       "    </tr>\n",
       "    <tr>\n",
       "      <th>16530</th>\n",
       "      <td>carmageddon: max damage</td>\n",
       "      <td>PS4</td>\n",
       "      <td>2016</td>\n",
       "      <td>Action</td>\n",
       "      <td>0.01</td>\n",
       "      <td>0.00</td>\n",
       "      <td>0.00</td>\n",
       "      <td>0.00</td>\n",
       "      <td>51.0</td>\n",
       "      <td>5.5</td>\n",
       "      <td>M</td>\n",
       "      <td>0.01</td>\n",
       "    </tr>\n",
       "    <tr>\n",
       "      <th>16585</th>\n",
       "      <td>farming 2017 - the simulation</td>\n",
       "      <td>PS4</td>\n",
       "      <td>2016</td>\n",
       "      <td>Simulation</td>\n",
       "      <td>0.00</td>\n",
       "      <td>0.01</td>\n",
       "      <td>0.00</td>\n",
       "      <td>0.00</td>\n",
       "      <td>NaN</td>\n",
       "      <td>NaN</td>\n",
       "      <td>NaN</td>\n",
       "      <td>0.01</td>\n",
       "    </tr>\n",
       "  </tbody>\n",
       "</table>\n",
       "<p>392 rows × 12 columns</p>\n",
       "</div>"
      ],
      "text/plain": [
       "                                 name platform  year_of_release         genre  \\\n",
       "31          call of duty: black ops 3      PS4             2015       Shooter   \n",
       "42                 grand theft auto v      PS4             2014        Action   \n",
       "77                            fifa 16      PS4             2015        Sports   \n",
       "87       star wars battlefront (2015)      PS4             2015       Shooter   \n",
       "92     call of duty: advanced warfare      PS4             2014       Shooter   \n",
       "...                               ...      ...              ...           ...   \n",
       "16500                     root letter      PS4             2016     Adventure   \n",
       "16503               shin hayarigami 2      PS4             2016     Adventure   \n",
       "16526                      dungeons 2      PS4             2016  Role-Playing   \n",
       "16530         carmageddon: max damage      PS4             2016        Action   \n",
       "16585   farming 2017 - the simulation      PS4             2016    Simulation   \n",
       "\n",
       "       na_sales  eu_sales  jp_sales  other_sales  critic_score  user_score  \\\n",
       "31         6.03      5.86      0.36         2.38           NaN         NaN   \n",
       "42         3.96      6.31      0.38         1.97          97.0         8.3   \n",
       "77         1.12      6.12      0.06         1.28          82.0         4.3   \n",
       "87         2.99      3.49      0.22         1.28           NaN         NaN   \n",
       "92         2.81      3.48      0.14         1.23          83.0         5.7   \n",
       "...         ...       ...       ...          ...           ...         ...   \n",
       "16500      0.00      0.00      0.01         0.00          69.0         7.5   \n",
       "16503      0.00      0.00      0.01         0.00           NaN         NaN   \n",
       "16526      0.01      0.00      0.00         0.00          61.0         7.9   \n",
       "16530      0.01      0.00      0.00         0.00          51.0         5.5   \n",
       "16585      0.00      0.01      0.00         0.00           NaN         NaN   \n",
       "\n",
       "      rating  total_sales  \n",
       "31       NaN        14.63  \n",
       "42         M        12.62  \n",
       "77         E         8.58  \n",
       "87       NaN         7.98  \n",
       "92         M         7.66  \n",
       "...      ...          ...  \n",
       "16500    NaN         0.01  \n",
       "16503    NaN         0.01  \n",
       "16526      T         0.01  \n",
       "16530      M         0.01  \n",
       "16585    NaN         0.01  \n",
       "\n",
       "[392 rows x 12 columns]"
      ]
     },
     "execution_count": 64,
     "metadata": {},
     "output_type": "execute_result"
    }
   ],
   "source": [
    "#выведем данные платформы PS4\n",
    "data_actual.loc[data_actual['platform'] == 'PS4']"
   ]
  },
  {
   "cell_type": "code",
   "execution_count": 65,
   "metadata": {},
   "outputs": [
    {
     "data": {
      "text/html": [
       "<div>\n",
       "<style scoped>\n",
       "    .dataframe tbody tr th:only-of-type {\n",
       "        vertical-align: middle;\n",
       "    }\n",
       "\n",
       "    .dataframe tbody tr th {\n",
       "        vertical-align: top;\n",
       "    }\n",
       "\n",
       "    .dataframe thead th {\n",
       "        text-align: right;\n",
       "    }\n",
       "</style>\n",
       "<table border=\"1\" class=\"dataframe\">\n",
       "  <thead>\n",
       "    <tr style=\"text-align: right;\">\n",
       "      <th></th>\n",
       "      <th>name</th>\n",
       "      <th>platform</th>\n",
       "      <th>year_of_release</th>\n",
       "      <th>genre</th>\n",
       "      <th>na_sales</th>\n",
       "      <th>eu_sales</th>\n",
       "      <th>jp_sales</th>\n",
       "      <th>other_sales</th>\n",
       "      <th>critic_score</th>\n",
       "      <th>user_score</th>\n",
       "      <th>rating</th>\n",
       "      <th>total_sales</th>\n",
       "    </tr>\n",
       "  </thead>\n",
       "  <tbody>\n",
       "    <tr>\n",
       "      <th>31</th>\n",
       "      <td>call of duty: black ops 3</td>\n",
       "      <td>PS4</td>\n",
       "      <td>2015</td>\n",
       "      <td>Shooter</td>\n",
       "      <td>6.03</td>\n",
       "      <td>5.86</td>\n",
       "      <td>0.36</td>\n",
       "      <td>2.38</td>\n",
       "      <td>NaN</td>\n",
       "      <td>NaN</td>\n",
       "      <td>NaN</td>\n",
       "      <td>14.63</td>\n",
       "    </tr>\n",
       "    <tr>\n",
       "      <th>42</th>\n",
       "      <td>grand theft auto v</td>\n",
       "      <td>PS4</td>\n",
       "      <td>2014</td>\n",
       "      <td>Action</td>\n",
       "      <td>3.96</td>\n",
       "      <td>6.31</td>\n",
       "      <td>0.38</td>\n",
       "      <td>1.97</td>\n",
       "      <td>97.0</td>\n",
       "      <td>8.3</td>\n",
       "      <td>M</td>\n",
       "      <td>12.62</td>\n",
       "    </tr>\n",
       "    <tr>\n",
       "      <th>77</th>\n",
       "      <td>fifa 16</td>\n",
       "      <td>PS4</td>\n",
       "      <td>2015</td>\n",
       "      <td>Sports</td>\n",
       "      <td>1.12</td>\n",
       "      <td>6.12</td>\n",
       "      <td>0.06</td>\n",
       "      <td>1.28</td>\n",
       "      <td>82.0</td>\n",
       "      <td>4.3</td>\n",
       "      <td>E</td>\n",
       "      <td>8.58</td>\n",
       "    </tr>\n",
       "    <tr>\n",
       "      <th>87</th>\n",
       "      <td>star wars battlefront (2015)</td>\n",
       "      <td>PS4</td>\n",
       "      <td>2015</td>\n",
       "      <td>Shooter</td>\n",
       "      <td>2.99</td>\n",
       "      <td>3.49</td>\n",
       "      <td>0.22</td>\n",
       "      <td>1.28</td>\n",
       "      <td>NaN</td>\n",
       "      <td>NaN</td>\n",
       "      <td>NaN</td>\n",
       "      <td>7.98</td>\n",
       "    </tr>\n",
       "    <tr>\n",
       "      <th>92</th>\n",
       "      <td>call of duty: advanced warfare</td>\n",
       "      <td>PS4</td>\n",
       "      <td>2014</td>\n",
       "      <td>Shooter</td>\n",
       "      <td>2.81</td>\n",
       "      <td>3.48</td>\n",
       "      <td>0.14</td>\n",
       "      <td>1.23</td>\n",
       "      <td>83.0</td>\n",
       "      <td>5.7</td>\n",
       "      <td>M</td>\n",
       "      <td>7.66</td>\n",
       "    </tr>\n",
       "    <tr>\n",
       "      <th>94</th>\n",
       "      <td>fifa 17</td>\n",
       "      <td>PS4</td>\n",
       "      <td>2016</td>\n",
       "      <td>Sports</td>\n",
       "      <td>0.66</td>\n",
       "      <td>5.75</td>\n",
       "      <td>0.08</td>\n",
       "      <td>1.11</td>\n",
       "      <td>85.0</td>\n",
       "      <td>5.0</td>\n",
       "      <td>E</td>\n",
       "      <td>7.60</td>\n",
       "    </tr>\n",
       "    <tr>\n",
       "      <th>105</th>\n",
       "      <td>fallout 4</td>\n",
       "      <td>PS4</td>\n",
       "      <td>2015</td>\n",
       "      <td>Role-Playing</td>\n",
       "      <td>2.53</td>\n",
       "      <td>3.27</td>\n",
       "      <td>0.24</td>\n",
       "      <td>1.13</td>\n",
       "      <td>87.0</td>\n",
       "      <td>6.5</td>\n",
       "      <td>M</td>\n",
       "      <td>7.17</td>\n",
       "    </tr>\n",
       "    <tr>\n",
       "      <th>143</th>\n",
       "      <td>fifa 15</td>\n",
       "      <td>PS4</td>\n",
       "      <td>2014</td>\n",
       "      <td>Sports</td>\n",
       "      <td>0.80</td>\n",
       "      <td>4.33</td>\n",
       "      <td>0.05</td>\n",
       "      <td>0.90</td>\n",
       "      <td>82.0</td>\n",
       "      <td>5.7</td>\n",
       "      <td>E</td>\n",
       "      <td>6.08</td>\n",
       "    </tr>\n",
       "    <tr>\n",
       "      <th>154</th>\n",
       "      <td>destiny</td>\n",
       "      <td>PS4</td>\n",
       "      <td>2014</td>\n",
       "      <td>Shooter</td>\n",
       "      <td>2.49</td>\n",
       "      <td>2.07</td>\n",
       "      <td>0.16</td>\n",
       "      <td>0.92</td>\n",
       "      <td>76.0</td>\n",
       "      <td>6.1</td>\n",
       "      <td>T</td>\n",
       "      <td>5.64</td>\n",
       "    </tr>\n",
       "    <tr>\n",
       "      <th>171</th>\n",
       "      <td>uncharted 4: a thief's end</td>\n",
       "      <td>PS4</td>\n",
       "      <td>2016</td>\n",
       "      <td>Shooter</td>\n",
       "      <td>1.85</td>\n",
       "      <td>2.50</td>\n",
       "      <td>0.19</td>\n",
       "      <td>0.85</td>\n",
       "      <td>93.0</td>\n",
       "      <td>7.9</td>\n",
       "      <td>T</td>\n",
       "      <td>5.39</td>\n",
       "    </tr>\n",
       "  </tbody>\n",
       "</table>\n",
       "</div>"
      ],
      "text/plain": [
       "                               name platform  year_of_release         genre  \\\n",
       "31        call of duty: black ops 3      PS4             2015       Shooter   \n",
       "42               grand theft auto v      PS4             2014        Action   \n",
       "77                          fifa 16      PS4             2015        Sports   \n",
       "87     star wars battlefront (2015)      PS4             2015       Shooter   \n",
       "92   call of duty: advanced warfare      PS4             2014       Shooter   \n",
       "94                          fifa 17      PS4             2016        Sports   \n",
       "105                       fallout 4      PS4             2015  Role-Playing   \n",
       "143                         fifa 15      PS4             2014        Sports   \n",
       "154                         destiny      PS4             2014       Shooter   \n",
       "171      uncharted 4: a thief's end      PS4             2016       Shooter   \n",
       "\n",
       "     na_sales  eu_sales  jp_sales  other_sales  critic_score  user_score  \\\n",
       "31       6.03      5.86      0.36         2.38           NaN         NaN   \n",
       "42       3.96      6.31      0.38         1.97          97.0         8.3   \n",
       "77       1.12      6.12      0.06         1.28          82.0         4.3   \n",
       "87       2.99      3.49      0.22         1.28           NaN         NaN   \n",
       "92       2.81      3.48      0.14         1.23          83.0         5.7   \n",
       "94       0.66      5.75      0.08         1.11          85.0         5.0   \n",
       "105      2.53      3.27      0.24         1.13          87.0         6.5   \n",
       "143      0.80      4.33      0.05         0.90          82.0         5.7   \n",
       "154      2.49      2.07      0.16         0.92          76.0         6.1   \n",
       "171      1.85      2.50      0.19         0.85          93.0         7.9   \n",
       "\n",
       "    rating  total_sales  \n",
       "31     NaN        14.63  \n",
       "42       M        12.62  \n",
       "77       E         8.58  \n",
       "87     NaN         7.98  \n",
       "92       M         7.66  \n",
       "94       E         7.60  \n",
       "105      M         7.17  \n",
       "143      E         6.08  \n",
       "154      T         5.64  \n",
       "171      T         5.39  "
      ]
     },
     "execution_count": 65,
     "metadata": {},
     "output_type": "execute_result"
    }
   ],
   "source": [
    "#выведем данные платформы PS4 с продажами более 5 млн.$\n",
    "data_actual[(data_actual['platform'] == 'PS4') & (data_actual['total_sales'] > 5)]\n"
   ]
  },
  {
   "cell_type": "code",
   "execution_count": 66,
   "metadata": {},
   "outputs": [
    {
     "data": {
      "text/plain": [
       "<AxesSubplot:>"
      ]
     },
     "execution_count": 66,
     "metadata": {},
     "output_type": "execute_result"
    },
    {
     "data": {
      "image/png": "[encoded data removed]",
      "text/plain": [
       "<Figure size 432x288 with 1 Axes>"
      ]
     },
     "metadata": {
      "needs_background": "light"
     },
     "output_type": "display_data"
    }
   ],
   "source": [
    "#построим гистограмму распределения всех игр платформы PS4\n",
    "data_actual.loc[data_actual['platform']== 'PS4', 'total_sales'].hist(bins=20)"
   ]
  },
  {
   "cell_type": "code",
   "execution_count": 67,
   "metadata": {},
   "outputs": [
    {
     "data": {
      "text/plain": [
       "<AxesSubplot:>"
      ]
     },
     "execution_count": 67,
     "metadata": {},
     "output_type": "execute_result"
    },
    {
     "data": {
      "image/png": "[encoded data removed]",
      "text/plain": [
       "<Figure size 432x288 with 1 Axes>"
      ]
     },
     "metadata": {
      "needs_background": "light"
     },
     "output_type": "display_data"
    }
   ],
   "source": [
    "#построим гистограмму распределения всех игр платформы PS4 с продажами более 1 млн. копий \n",
    "data_actual.loc[((data_actual['platform']== 'PS4') & (data_actual['total_sales'] > 1)), 'total_sales'].hist(bins=20)"
   ]
  },
  {
   "cell_type": "code",
   "execution_count": 68,
   "metadata": {},
   "outputs": [
    {
     "data": {
      "text/plain": [
       "(0.0, 0.8)"
      ]
     },
     "execution_count": 68,
     "metadata": {},
     "output_type": "execute_result"
    },
    {
     "data": {
      "image/png": "[encoded data removed]",
      "text/plain": [
       "<Figure size 432x288 with 1 Axes>"
      ]
     },
     "metadata": {
      "needs_background": "light"
     },
     "output_type": "display_data"
    }
   ],
   "source": [
    "#построим график с усами для платформы PS4 с масштабом по оси y=0.8\n",
    "import matplotlib.pyplot as plt\n",
    "data_actual.loc[data_actual['platform'] == 'PS4'].boxplot(column='total_sales')\n",
    "plt.ylim(0,0.8 )\n"
   ]
  },
  {
   "cell_type": "code",
   "execution_count": 69,
   "metadata": {},
   "outputs": [
    {
     "data": {
      "text/plain": [
       "(0.0, 14.0)"
      ]
     },
     "execution_count": 69,
     "metadata": {},
     "output_type": "execute_result"
    },
    {
     "data": {
      "image/png": "[encoded data removed]",
      "text/plain": [
       "<Figure size 432x288 with 1 Axes>"
      ]
     },
     "metadata": {
      "needs_background": "light"
     },
     "output_type": "display_data"
    }
   ],
   "source": [
    "#построим график с усами для платформы PS4 с масштабом по оси y=14\n",
    "data_actual.loc[data_actual['platform'] == 'PS4'].boxplot(column='total_sales')\n",
    "plt.ylim(0, 14)"
   ]
  },
  {
   "cell_type": "markdown",
   "metadata": {},
   "source": [
    "    Большая часть игр платформы PS4 дает невысокие продажи , медиана равна 0.2 млн копий, 25%- игр имеют продажи менее 0.05 млн. копий , и только 25% игр преодолели обьем продаж в 0.73 млн. копий. Отметку в 5 млн. копий преодолели только 10 игр, что составляет 2.5% произведенных игр. "
   ]
  },
  {
   "cell_type": "markdown",
   "metadata": {},
   "source": [
    "Платформа XOne."
   ]
  },
  {
   "cell_type": "code",
   "execution_count": 70,
   "metadata": {},
   "outputs": [
    {
     "data": {
      "text/html": [
       "<div>\n",
       "<style scoped>\n",
       "    .dataframe tbody tr th:only-of-type {\n",
       "        vertical-align: middle;\n",
       "    }\n",
       "\n",
       "    .dataframe tbody tr th {\n",
       "        vertical-align: top;\n",
       "    }\n",
       "\n",
       "    .dataframe thead th {\n",
       "        text-align: right;\n",
       "    }\n",
       "</style>\n",
       "<table border=\"1\" class=\"dataframe\">\n",
       "  <thead>\n",
       "    <tr style=\"text-align: right;\">\n",
       "      <th></th>\n",
       "      <th>name</th>\n",
       "      <th>platform</th>\n",
       "      <th>year_of_release</th>\n",
       "      <th>genre</th>\n",
       "      <th>na_sales</th>\n",
       "      <th>eu_sales</th>\n",
       "      <th>jp_sales</th>\n",
       "      <th>other_sales</th>\n",
       "      <th>critic_score</th>\n",
       "      <th>user_score</th>\n",
       "      <th>rating</th>\n",
       "      <th>total_sales</th>\n",
       "    </tr>\n",
       "  </thead>\n",
       "  <tbody>\n",
       "    <tr>\n",
       "      <th>99</th>\n",
       "      <td>call of duty: black ops 3</td>\n",
       "      <td>XOne</td>\n",
       "      <td>2015</td>\n",
       "      <td>Shooter</td>\n",
       "      <td>4.59</td>\n",
       "      <td>2.11</td>\n",
       "      <td>0.01</td>\n",
       "      <td>0.68</td>\n",
       "      <td>NaN</td>\n",
       "      <td>NaN</td>\n",
       "      <td>NaN</td>\n",
       "      <td>7.39</td>\n",
       "    </tr>\n",
       "    <tr>\n",
       "      <th>165</th>\n",
       "      <td>grand theft auto v</td>\n",
       "      <td>XOne</td>\n",
       "      <td>2014</td>\n",
       "      <td>Action</td>\n",
       "      <td>2.81</td>\n",
       "      <td>2.19</td>\n",
       "      <td>0.00</td>\n",
       "      <td>0.47</td>\n",
       "      <td>97.0</td>\n",
       "      <td>7.9</td>\n",
       "      <td>M</td>\n",
       "      <td>5.47</td>\n",
       "    </tr>\n",
       "    <tr>\n",
       "      <th>179</th>\n",
       "      <td>call of duty: advanced warfare</td>\n",
       "      <td>XOne</td>\n",
       "      <td>2014</td>\n",
       "      <td>Shooter</td>\n",
       "      <td>3.22</td>\n",
       "      <td>1.55</td>\n",
       "      <td>0.01</td>\n",
       "      <td>0.48</td>\n",
       "      <td>81.0</td>\n",
       "      <td>5.4</td>\n",
       "      <td>M</td>\n",
       "      <td>5.26</td>\n",
       "    </tr>\n",
       "    <tr>\n",
       "      <th>242</th>\n",
       "      <td>halo 5: guardians</td>\n",
       "      <td>XOne</td>\n",
       "      <td>2015</td>\n",
       "      <td>Shooter</td>\n",
       "      <td>2.78</td>\n",
       "      <td>1.27</td>\n",
       "      <td>0.03</td>\n",
       "      <td>0.41</td>\n",
       "      <td>84.0</td>\n",
       "      <td>6.4</td>\n",
       "      <td>T</td>\n",
       "      <td>4.49</td>\n",
       "    </tr>\n",
       "    <tr>\n",
       "      <th>270</th>\n",
       "      <td>fallout 4</td>\n",
       "      <td>XOne</td>\n",
       "      <td>2015</td>\n",
       "      <td>Role-Playing</td>\n",
       "      <td>2.51</td>\n",
       "      <td>1.32</td>\n",
       "      <td>0.01</td>\n",
       "      <td>0.38</td>\n",
       "      <td>88.0</td>\n",
       "      <td>6.2</td>\n",
       "      <td>M</td>\n",
       "      <td>4.22</td>\n",
       "    </tr>\n",
       "    <tr>\n",
       "      <th>...</th>\n",
       "      <td>...</td>\n",
       "      <td>...</td>\n",
       "      <td>...</td>\n",
       "      <td>...</td>\n",
       "      <td>...</td>\n",
       "      <td>...</td>\n",
       "      <td>...</td>\n",
       "      <td>...</td>\n",
       "      <td>...</td>\n",
       "      <td>...</td>\n",
       "      <td>...</td>\n",
       "      <td>...</td>\n",
       "    </tr>\n",
       "    <tr>\n",
       "      <th>16630</th>\n",
       "      <td>sébastien loeb rally evo</td>\n",
       "      <td>XOne</td>\n",
       "      <td>2016</td>\n",
       "      <td>Racing</td>\n",
       "      <td>0.00</td>\n",
       "      <td>0.01</td>\n",
       "      <td>0.00</td>\n",
       "      <td>0.00</td>\n",
       "      <td>63.0</td>\n",
       "      <td>8.2</td>\n",
       "      <td>E</td>\n",
       "      <td>0.01</td>\n",
       "    </tr>\n",
       "    <tr>\n",
       "      <th>16643</th>\n",
       "      <td>rugby challenge 3</td>\n",
       "      <td>XOne</td>\n",
       "      <td>2016</td>\n",
       "      <td>Sports</td>\n",
       "      <td>0.00</td>\n",
       "      <td>0.01</td>\n",
       "      <td>0.00</td>\n",
       "      <td>0.00</td>\n",
       "      <td>NaN</td>\n",
       "      <td>6.6</td>\n",
       "      <td>E</td>\n",
       "      <td>0.01</td>\n",
       "    </tr>\n",
       "    <tr>\n",
       "      <th>16645</th>\n",
       "      <td>zombiu</td>\n",
       "      <td>XOne</td>\n",
       "      <td>2016</td>\n",
       "      <td>Action</td>\n",
       "      <td>0.00</td>\n",
       "      <td>0.01</td>\n",
       "      <td>0.00</td>\n",
       "      <td>0.00</td>\n",
       "      <td>NaN</td>\n",
       "      <td>NaN</td>\n",
       "      <td>NaN</td>\n",
       "      <td>0.01</td>\n",
       "    </tr>\n",
       "    <tr>\n",
       "      <th>16660</th>\n",
       "      <td>prison architect</td>\n",
       "      <td>XOne</td>\n",
       "      <td>2016</td>\n",
       "      <td>Action</td>\n",
       "      <td>0.01</td>\n",
       "      <td>0.00</td>\n",
       "      <td>0.00</td>\n",
       "      <td>0.00</td>\n",
       "      <td>74.0</td>\n",
       "      <td>6.7</td>\n",
       "      <td>NaN</td>\n",
       "      <td>0.01</td>\n",
       "    </tr>\n",
       "    <tr>\n",
       "      <th>16672</th>\n",
       "      <td>metal gear solid v: the definitive experience</td>\n",
       "      <td>XOne</td>\n",
       "      <td>2016</td>\n",
       "      <td>Action</td>\n",
       "      <td>0.01</td>\n",
       "      <td>0.00</td>\n",
       "      <td>0.00</td>\n",
       "      <td>0.00</td>\n",
       "      <td>NaN</td>\n",
       "      <td>NaN</td>\n",
       "      <td>M</td>\n",
       "      <td>0.01</td>\n",
       "    </tr>\n",
       "  </tbody>\n",
       "</table>\n",
       "<p>247 rows × 12 columns</p>\n",
       "</div>"
      ],
      "text/plain": [
       "                                                name platform  \\\n",
       "99                         call of duty: black ops 3     XOne   \n",
       "165                               grand theft auto v     XOne   \n",
       "179                   call of duty: advanced warfare     XOne   \n",
       "242                                halo 5: guardians     XOne   \n",
       "270                                        fallout 4     XOne   \n",
       "...                                              ...      ...   \n",
       "16630                       sébastien loeb rally evo     XOne   \n",
       "16643                              rugby challenge 3     XOne   \n",
       "16645                                         zombiu     XOne   \n",
       "16660                               prison architect     XOne   \n",
       "16672  metal gear solid v: the definitive experience     XOne   \n",
       "\n",
       "       year_of_release         genre  na_sales  eu_sales  jp_sales  \\\n",
       "99                2015       Shooter      4.59      2.11      0.01   \n",
       "165               2014        Action      2.81      2.19      0.00   \n",
       "179               2014       Shooter      3.22      1.55      0.01   \n",
       "242               2015       Shooter      2.78      1.27      0.03   \n",
       "270               2015  Role-Playing      2.51      1.32      0.01   \n",
       "...                ...           ...       ...       ...       ...   \n",
       "16630             2016        Racing      0.00      0.01      0.00   \n",
       "16643             2016        Sports      0.00      0.01      0.00   \n",
       "16645             2016        Action      0.00      0.01      0.00   \n",
       "16660             2016        Action      0.01      0.00      0.00   \n",
       "16672             2016        Action      0.01      0.00      0.00   \n",
       "\n",
       "       other_sales  critic_score  user_score rating  total_sales  \n",
       "99            0.68           NaN         NaN    NaN         7.39  \n",
       "165           0.47          97.0         7.9      M         5.47  \n",
       "179           0.48          81.0         5.4      M         5.26  \n",
       "242           0.41          84.0         6.4      T         4.49  \n",
       "270           0.38          88.0         6.2      M         4.22  \n",
       "...            ...           ...         ...    ...          ...  \n",
       "16630         0.00          63.0         8.2      E         0.01  \n",
       "16643         0.00           NaN         6.6      E         0.01  \n",
       "16645         0.00           NaN         NaN    NaN         0.01  \n",
       "16660         0.00          74.0         6.7    NaN         0.01  \n",
       "16672         0.00           NaN         NaN      M         0.01  \n",
       "\n",
       "[247 rows x 12 columns]"
      ]
     },
     "execution_count": 70,
     "metadata": {},
     "output_type": "execute_result"
    }
   ],
   "source": [
    "#выведем данные платформы XOne\n",
    "data_actual.loc[data_actual['platform'] == 'XOne']"
   ]
  },
  {
   "cell_type": "code",
   "execution_count": 71,
   "metadata": {},
   "outputs": [
    {
     "data": {
      "text/html": [
       "<div>\n",
       "<style scoped>\n",
       "    .dataframe tbody tr th:only-of-type {\n",
       "        vertical-align: middle;\n",
       "    }\n",
       "\n",
       "    .dataframe tbody tr th {\n",
       "        vertical-align: top;\n",
       "    }\n",
       "\n",
       "    .dataframe thead th {\n",
       "        text-align: right;\n",
       "    }\n",
       "</style>\n",
       "<table border=\"1\" class=\"dataframe\">\n",
       "  <thead>\n",
       "    <tr style=\"text-align: right;\">\n",
       "      <th></th>\n",
       "      <th>name</th>\n",
       "      <th>platform</th>\n",
       "      <th>year_of_release</th>\n",
       "      <th>genre</th>\n",
       "      <th>na_sales</th>\n",
       "      <th>eu_sales</th>\n",
       "      <th>jp_sales</th>\n",
       "      <th>other_sales</th>\n",
       "      <th>critic_score</th>\n",
       "      <th>user_score</th>\n",
       "      <th>rating</th>\n",
       "      <th>total_sales</th>\n",
       "    </tr>\n",
       "  </thead>\n",
       "  <tbody>\n",
       "    <tr>\n",
       "      <th>99</th>\n",
       "      <td>call of duty: black ops 3</td>\n",
       "      <td>XOne</td>\n",
       "      <td>2015</td>\n",
       "      <td>Shooter</td>\n",
       "      <td>4.59</td>\n",
       "      <td>2.11</td>\n",
       "      <td>0.01</td>\n",
       "      <td>0.68</td>\n",
       "      <td>NaN</td>\n",
       "      <td>NaN</td>\n",
       "      <td>NaN</td>\n",
       "      <td>7.39</td>\n",
       "    </tr>\n",
       "    <tr>\n",
       "      <th>165</th>\n",
       "      <td>grand theft auto v</td>\n",
       "      <td>XOne</td>\n",
       "      <td>2014</td>\n",
       "      <td>Action</td>\n",
       "      <td>2.81</td>\n",
       "      <td>2.19</td>\n",
       "      <td>0.00</td>\n",
       "      <td>0.47</td>\n",
       "      <td>97.0</td>\n",
       "      <td>7.9</td>\n",
       "      <td>M</td>\n",
       "      <td>5.47</td>\n",
       "    </tr>\n",
       "    <tr>\n",
       "      <th>179</th>\n",
       "      <td>call of duty: advanced warfare</td>\n",
       "      <td>XOne</td>\n",
       "      <td>2014</td>\n",
       "      <td>Shooter</td>\n",
       "      <td>3.22</td>\n",
       "      <td>1.55</td>\n",
       "      <td>0.01</td>\n",
       "      <td>0.48</td>\n",
       "      <td>81.0</td>\n",
       "      <td>5.4</td>\n",
       "      <td>M</td>\n",
       "      <td>5.26</td>\n",
       "    </tr>\n",
       "    <tr>\n",
       "      <th>242</th>\n",
       "      <td>halo 5: guardians</td>\n",
       "      <td>XOne</td>\n",
       "      <td>2015</td>\n",
       "      <td>Shooter</td>\n",
       "      <td>2.78</td>\n",
       "      <td>1.27</td>\n",
       "      <td>0.03</td>\n",
       "      <td>0.41</td>\n",
       "      <td>84.0</td>\n",
       "      <td>6.4</td>\n",
       "      <td>T</td>\n",
       "      <td>4.49</td>\n",
       "    </tr>\n",
       "    <tr>\n",
       "      <th>270</th>\n",
       "      <td>fallout 4</td>\n",
       "      <td>XOne</td>\n",
       "      <td>2015</td>\n",
       "      <td>Role-Playing</td>\n",
       "      <td>2.51</td>\n",
       "      <td>1.32</td>\n",
       "      <td>0.01</td>\n",
       "      <td>0.38</td>\n",
       "      <td>88.0</td>\n",
       "      <td>6.2</td>\n",
       "      <td>M</td>\n",
       "      <td>4.22</td>\n",
       "    </tr>\n",
       "    <tr>\n",
       "      <th>342</th>\n",
       "      <td>star wars battlefront (2015)</td>\n",
       "      <td>XOne</td>\n",
       "      <td>2015</td>\n",
       "      <td>Shooter</td>\n",
       "      <td>2.04</td>\n",
       "      <td>1.28</td>\n",
       "      <td>0.02</td>\n",
       "      <td>0.32</td>\n",
       "      <td>NaN</td>\n",
       "      <td>NaN</td>\n",
       "      <td>NaN</td>\n",
       "      <td>3.66</td>\n",
       "    </tr>\n",
       "    <tr>\n",
       "      <th>373</th>\n",
       "      <td>assassin's creed: unity</td>\n",
       "      <td>XOne</td>\n",
       "      <td>2014</td>\n",
       "      <td>Action</td>\n",
       "      <td>2.27</td>\n",
       "      <td>0.90</td>\n",
       "      <td>0.00</td>\n",
       "      <td>0.33</td>\n",
       "      <td>72.0</td>\n",
       "      <td>4.1</td>\n",
       "      <td>M</td>\n",
       "      <td>3.50</td>\n",
       "    </tr>\n",
       "    <tr>\n",
       "      <th>398</th>\n",
       "      <td>destiny</td>\n",
       "      <td>XOne</td>\n",
       "      <td>2014</td>\n",
       "      <td>Shooter</td>\n",
       "      <td>2.14</td>\n",
       "      <td>0.92</td>\n",
       "      <td>0.00</td>\n",
       "      <td>0.31</td>\n",
       "      <td>75.0</td>\n",
       "      <td>5.5</td>\n",
       "      <td>T</td>\n",
       "      <td>3.37</td>\n",
       "    </tr>\n",
       "    <tr>\n",
       "      <th>413</th>\n",
       "      <td>gears of war: ultimate edition</td>\n",
       "      <td>XOne</td>\n",
       "      <td>2015</td>\n",
       "      <td>Shooter</td>\n",
       "      <td>2.61</td>\n",
       "      <td>0.33</td>\n",
       "      <td>0.00</td>\n",
       "      <td>0.34</td>\n",
       "      <td>82.0</td>\n",
       "      <td>7.5</td>\n",
       "      <td>M</td>\n",
       "      <td>3.28</td>\n",
       "    </tr>\n",
       "    <tr>\n",
       "      <th>417</th>\n",
       "      <td>fifa 16</td>\n",
       "      <td>XOne</td>\n",
       "      <td>2015</td>\n",
       "      <td>Sports</td>\n",
       "      <td>0.89</td>\n",
       "      <td>2.12</td>\n",
       "      <td>0.00</td>\n",
       "      <td>0.24</td>\n",
       "      <td>84.0</td>\n",
       "      <td>4.4</td>\n",
       "      <td>E</td>\n",
       "      <td>3.25</td>\n",
       "    </tr>\n",
       "    <tr>\n",
       "      <th>422</th>\n",
       "      <td>halo: the master chief collection</td>\n",
       "      <td>XOne</td>\n",
       "      <td>2014</td>\n",
       "      <td>Shooter</td>\n",
       "      <td>1.91</td>\n",
       "      <td>1.00</td>\n",
       "      <td>0.03</td>\n",
       "      <td>0.29</td>\n",
       "      <td>85.0</td>\n",
       "      <td>7.2</td>\n",
       "      <td>M</td>\n",
       "      <td>3.23</td>\n",
       "    </tr>\n",
       "  </tbody>\n",
       "</table>\n",
       "</div>"
      ],
      "text/plain": [
       "                                  name platform  year_of_release  \\\n",
       "99           call of duty: black ops 3     XOne             2015   \n",
       "165                 grand theft auto v     XOne             2014   \n",
       "179     call of duty: advanced warfare     XOne             2014   \n",
       "242                  halo 5: guardians     XOne             2015   \n",
       "270                          fallout 4     XOne             2015   \n",
       "342       star wars battlefront (2015)     XOne             2015   \n",
       "373            assassin's creed: unity     XOne             2014   \n",
       "398                            destiny     XOne             2014   \n",
       "413     gears of war: ultimate edition     XOne             2015   \n",
       "417                            fifa 16     XOne             2015   \n",
       "422  halo: the master chief collection     XOne             2014   \n",
       "\n",
       "            genre  na_sales  eu_sales  jp_sales  other_sales  critic_score  \\\n",
       "99        Shooter      4.59      2.11      0.01         0.68           NaN   \n",
       "165        Action      2.81      2.19      0.00         0.47          97.0   \n",
       "179       Shooter      3.22      1.55      0.01         0.48          81.0   \n",
       "242       Shooter      2.78      1.27      0.03         0.41          84.0   \n",
       "270  Role-Playing      2.51      1.32      0.01         0.38          88.0   \n",
       "342       Shooter      2.04      1.28      0.02         0.32           NaN   \n",
       "373        Action      2.27      0.90      0.00         0.33          72.0   \n",
       "398       Shooter      2.14      0.92      0.00         0.31          75.0   \n",
       "413       Shooter      2.61      0.33      0.00         0.34          82.0   \n",
       "417        Sports      0.89      2.12      0.00         0.24          84.0   \n",
       "422       Shooter      1.91      1.00      0.03         0.29          85.0   \n",
       "\n",
       "     user_score rating  total_sales  \n",
       "99          NaN    NaN         7.39  \n",
       "165         7.9      M         5.47  \n",
       "179         5.4      M         5.26  \n",
       "242         6.4      T         4.49  \n",
       "270         6.2      M         4.22  \n",
       "342         NaN    NaN         3.66  \n",
       "373         4.1      M         3.50  \n",
       "398         5.5      T         3.37  \n",
       "413         7.5      M         3.28  \n",
       "417         4.4      E         3.25  \n",
       "422         7.2      M         3.23  "
      ]
     },
     "execution_count": 71,
     "metadata": {},
     "output_type": "execute_result"
    }
   ],
   "source": [
    "#выведем данные платформы XOne с продажами более 3 млн.копий\n",
    "data_actual[(data_actual['platform'] == 'XOne') & (data_actual['total_sales'] > 3)]\n"
   ]
  },
  {
   "cell_type": "code",
   "execution_count": 72,
   "metadata": {},
   "outputs": [
    {
     "data": {
      "text/plain": [
       "(0.0, 0.8)"
      ]
     },
     "execution_count": 72,
     "metadata": {},
     "output_type": "execute_result"
    },
    {
     "data": {
      "image/png": "[encoded data removed]",
      "text/plain": [
       "<Figure size 432x288 with 1 Axes>"
      ]
     },
     "metadata": {
      "needs_background": "light"
     },
     "output_type": "display_data"
    }
   ],
   "source": [
    "#построим график с усами для платформы XOne с масштабом по оси y=0.8\n",
    "data_actual.loc[data_actual['platform'] == 'XOne'].boxplot(column='total_sales')\n",
    "plt.ylim(0, 0.8)"
   ]
  },
  {
   "cell_type": "markdown",
   "metadata": {},
   "source": [
    "Большая часть игр платформы XOne дает невысокую выручку, медиана равна 0.22 млн. копий , 25%  - игр имеют продажи менее 0.05 млн. копий , и только 25% игр преодолели обьем продаж в 0.68 млн. копий. Отметку в 3 млн. копий преодолели  11 игр, что составляет 4.5% произведенных игр. "
   ]
  },
  {
   "cell_type": "markdown",
   "metadata": {},
   "source": [
    "Платформа PC. "
   ]
  },
  {
   "cell_type": "code",
   "execution_count": 73,
   "metadata": {},
   "outputs": [
    {
     "data": {
      "text/html": [
       "<div>\n",
       "<style scoped>\n",
       "    .dataframe tbody tr th:only-of-type {\n",
       "        vertical-align: middle;\n",
       "    }\n",
       "\n",
       "    .dataframe tbody tr th {\n",
       "        vertical-align: top;\n",
       "    }\n",
       "\n",
       "    .dataframe thead th {\n",
       "        text-align: right;\n",
       "    }\n",
       "</style>\n",
       "<table border=\"1\" class=\"dataframe\">\n",
       "  <thead>\n",
       "    <tr style=\"text-align: right;\">\n",
       "      <th></th>\n",
       "      <th>name</th>\n",
       "      <th>platform</th>\n",
       "      <th>year_of_release</th>\n",
       "      <th>genre</th>\n",
       "      <th>na_sales</th>\n",
       "      <th>eu_sales</th>\n",
       "      <th>jp_sales</th>\n",
       "      <th>other_sales</th>\n",
       "      <th>critic_score</th>\n",
       "      <th>user_score</th>\n",
       "      <th>rating</th>\n",
       "      <th>total_sales</th>\n",
       "    </tr>\n",
       "  </thead>\n",
       "  <tbody>\n",
       "    <tr>\n",
       "      <th>192</th>\n",
       "      <td>diablo iii</td>\n",
       "      <td>PC</td>\n",
       "      <td>2012</td>\n",
       "      <td>Role-Playing</td>\n",
       "      <td>2.44</td>\n",
       "      <td>2.16</td>\n",
       "      <td>0.0</td>\n",
       "      <td>0.54</td>\n",
       "      <td>88.0</td>\n",
       "      <td>4.0</td>\n",
       "      <td>M</td>\n",
       "      <td>5.14</td>\n",
       "    </tr>\n",
       "    <tr>\n",
       "      <th>458</th>\n",
       "      <td>the sims 4</td>\n",
       "      <td>PC</td>\n",
       "      <td>2014</td>\n",
       "      <td>Simulation</td>\n",
       "      <td>1.00</td>\n",
       "      <td>1.82</td>\n",
       "      <td>0.0</td>\n",
       "      <td>0.23</td>\n",
       "      <td>70.0</td>\n",
       "      <td>3.9</td>\n",
       "      <td>T</td>\n",
       "      <td>3.05</td>\n",
       "    </tr>\n",
       "    <tr>\n",
       "      <th>688</th>\n",
       "      <td>guild wars 2</td>\n",
       "      <td>PC</td>\n",
       "      <td>2012</td>\n",
       "      <td>Action</td>\n",
       "      <td>0.96</td>\n",
       "      <td>1.07</td>\n",
       "      <td>0.0</td>\n",
       "      <td>0.27</td>\n",
       "      <td>90.0</td>\n",
       "      <td>7.9</td>\n",
       "      <td>T</td>\n",
       "      <td>2.30</td>\n",
       "    </tr>\n",
       "    <tr>\n",
       "      <th>959</th>\n",
       "      <td>world of warcraft: mists of pandaria</td>\n",
       "      <td>PC</td>\n",
       "      <td>2012</td>\n",
       "      <td>Role-Playing</td>\n",
       "      <td>0.84</td>\n",
       "      <td>0.76</td>\n",
       "      <td>0.0</td>\n",
       "      <td>0.22</td>\n",
       "      <td>82.0</td>\n",
       "      <td>4.8</td>\n",
       "      <td>T</td>\n",
       "      <td>1.82</td>\n",
       "    </tr>\n",
       "    <tr>\n",
       "      <th>1095</th>\n",
       "      <td>starcraft ii: heart of the swarm</td>\n",
       "      <td>PC</td>\n",
       "      <td>2013</td>\n",
       "      <td>Strategy</td>\n",
       "      <td>0.83</td>\n",
       "      <td>0.66</td>\n",
       "      <td>0.0</td>\n",
       "      <td>0.18</td>\n",
       "      <td>86.0</td>\n",
       "      <td>7.9</td>\n",
       "      <td>T</td>\n",
       "      <td>1.67</td>\n",
       "    </tr>\n",
       "    <tr>\n",
       "      <th>...</th>\n",
       "      <td>...</td>\n",
       "      <td>...</td>\n",
       "      <td>...</td>\n",
       "      <td>...</td>\n",
       "      <td>...</td>\n",
       "      <td>...</td>\n",
       "      <td>...</td>\n",
       "      <td>...</td>\n",
       "      <td>...</td>\n",
       "      <td>...</td>\n",
       "      <td>...</td>\n",
       "      <td>...</td>\n",
       "    </tr>\n",
       "    <tr>\n",
       "      <th>16584</th>\n",
       "      <td>transformers: fall of cybertron</td>\n",
       "      <td>PC</td>\n",
       "      <td>2012</td>\n",
       "      <td>Action</td>\n",
       "      <td>0.01</td>\n",
       "      <td>0.00</td>\n",
       "      <td>0.0</td>\n",
       "      <td>0.00</td>\n",
       "      <td>78.0</td>\n",
       "      <td>7.9</td>\n",
       "      <td>T</td>\n",
       "      <td>0.01</td>\n",
       "    </tr>\n",
       "    <tr>\n",
       "      <th>16617</th>\n",
       "      <td>codename: panzers complete collection</td>\n",
       "      <td>PC</td>\n",
       "      <td>2016</td>\n",
       "      <td>Strategy</td>\n",
       "      <td>0.00</td>\n",
       "      <td>0.01</td>\n",
       "      <td>0.0</td>\n",
       "      <td>0.00</td>\n",
       "      <td>NaN</td>\n",
       "      <td>NaN</td>\n",
       "      <td>NaN</td>\n",
       "      <td>0.01</td>\n",
       "    </tr>\n",
       "    <tr>\n",
       "      <th>16631</th>\n",
       "      <td>the amazing spider-man 2 (2014)</td>\n",
       "      <td>PC</td>\n",
       "      <td>2014</td>\n",
       "      <td>Action</td>\n",
       "      <td>0.00</td>\n",
       "      <td>0.01</td>\n",
       "      <td>0.0</td>\n",
       "      <td>0.00</td>\n",
       "      <td>NaN</td>\n",
       "      <td>NaN</td>\n",
       "      <td>NaN</td>\n",
       "      <td>0.01</td>\n",
       "    </tr>\n",
       "    <tr>\n",
       "      <th>16678</th>\n",
       "      <td>end of nations</td>\n",
       "      <td>PC</td>\n",
       "      <td>2012</td>\n",
       "      <td>Strategy</td>\n",
       "      <td>0.01</td>\n",
       "      <td>0.00</td>\n",
       "      <td>0.0</td>\n",
       "      <td>0.00</td>\n",
       "      <td>NaN</td>\n",
       "      <td>NaN</td>\n",
       "      <td>T</td>\n",
       "      <td>0.01</td>\n",
       "    </tr>\n",
       "    <tr>\n",
       "      <th>16692</th>\n",
       "      <td>metal gear solid v: ground zeroes</td>\n",
       "      <td>PC</td>\n",
       "      <td>2014</td>\n",
       "      <td>Action</td>\n",
       "      <td>0.00</td>\n",
       "      <td>0.01</td>\n",
       "      <td>0.0</td>\n",
       "      <td>0.00</td>\n",
       "      <td>80.0</td>\n",
       "      <td>7.6</td>\n",
       "      <td>M</td>\n",
       "      <td>0.01</td>\n",
       "    </tr>\n",
       "  </tbody>\n",
       "</table>\n",
       "<p>250 rows × 12 columns</p>\n",
       "</div>"
      ],
      "text/plain": [
       "                                        name platform  year_of_release  \\\n",
       "192                               diablo iii       PC             2012   \n",
       "458                               the sims 4       PC             2014   \n",
       "688                             guild wars 2       PC             2012   \n",
       "959     world of warcraft: mists of pandaria       PC             2012   \n",
       "1095        starcraft ii: heart of the swarm       PC             2013   \n",
       "...                                      ...      ...              ...   \n",
       "16584        transformers: fall of cybertron       PC             2012   \n",
       "16617  codename: panzers complete collection       PC             2016   \n",
       "16631        the amazing spider-man 2 (2014)       PC             2014   \n",
       "16678                         end of nations       PC             2012   \n",
       "16692      metal gear solid v: ground zeroes       PC             2014   \n",
       "\n",
       "              genre  na_sales  eu_sales  jp_sales  other_sales  critic_score  \\\n",
       "192    Role-Playing      2.44      2.16       0.0         0.54          88.0   \n",
       "458      Simulation      1.00      1.82       0.0         0.23          70.0   \n",
       "688          Action      0.96      1.07       0.0         0.27          90.0   \n",
       "959    Role-Playing      0.84      0.76       0.0         0.22          82.0   \n",
       "1095       Strategy      0.83      0.66       0.0         0.18          86.0   \n",
       "...             ...       ...       ...       ...          ...           ...   \n",
       "16584        Action      0.01      0.00       0.0         0.00          78.0   \n",
       "16617      Strategy      0.00      0.01       0.0         0.00           NaN   \n",
       "16631        Action      0.00      0.01       0.0         0.00           NaN   \n",
       "16678      Strategy      0.01      0.00       0.0         0.00           NaN   \n",
       "16692        Action      0.00      0.01       0.0         0.00          80.0   \n",
       "\n",
       "       user_score rating  total_sales  \n",
       "192           4.0      M         5.14  \n",
       "458           3.9      T         3.05  \n",
       "688           7.9      T         2.30  \n",
       "959           4.8      T         1.82  \n",
       "1095          7.9      T         1.67  \n",
       "...           ...    ...          ...  \n",
       "16584         7.9      T         0.01  \n",
       "16617         NaN    NaN         0.01  \n",
       "16631         NaN    NaN         0.01  \n",
       "16678         NaN      T         0.01  \n",
       "16692         7.6      M         0.01  \n",
       "\n",
       "[250 rows x 12 columns]"
      ]
     },
     "execution_count": 73,
     "metadata": {},
     "output_type": "execute_result"
    }
   ],
   "source": [
    "#выведем данные платформы PC\n",
    "data_actual.loc[data_actual['platform'] == 'PC']"
   ]
  },
  {
   "cell_type": "code",
   "execution_count": 74,
   "metadata": {},
   "outputs": [
    {
     "data": {
      "text/html": [
       "<div>\n",
       "<style scoped>\n",
       "    .dataframe tbody tr th:only-of-type {\n",
       "        vertical-align: middle;\n",
       "    }\n",
       "\n",
       "    .dataframe tbody tr th {\n",
       "        vertical-align: top;\n",
       "    }\n",
       "\n",
       "    .dataframe thead th {\n",
       "        text-align: right;\n",
       "    }\n",
       "</style>\n",
       "<table border=\"1\" class=\"dataframe\">\n",
       "  <thead>\n",
       "    <tr style=\"text-align: right;\">\n",
       "      <th></th>\n",
       "      <th>name</th>\n",
       "      <th>platform</th>\n",
       "      <th>year_of_release</th>\n",
       "      <th>genre</th>\n",
       "      <th>na_sales</th>\n",
       "      <th>eu_sales</th>\n",
       "      <th>jp_sales</th>\n",
       "      <th>other_sales</th>\n",
       "      <th>critic_score</th>\n",
       "      <th>user_score</th>\n",
       "      <th>rating</th>\n",
       "      <th>total_sales</th>\n",
       "    </tr>\n",
       "  </thead>\n",
       "  <tbody>\n",
       "    <tr>\n",
       "      <th>192</th>\n",
       "      <td>diablo iii</td>\n",
       "      <td>PC</td>\n",
       "      <td>2012</td>\n",
       "      <td>Role-Playing</td>\n",
       "      <td>2.44</td>\n",
       "      <td>2.16</td>\n",
       "      <td>0.0</td>\n",
       "      <td>0.54</td>\n",
       "      <td>88.0</td>\n",
       "      <td>4.0</td>\n",
       "      <td>M</td>\n",
       "      <td>5.14</td>\n",
       "    </tr>\n",
       "    <tr>\n",
       "      <th>458</th>\n",
       "      <td>the sims 4</td>\n",
       "      <td>PC</td>\n",
       "      <td>2014</td>\n",
       "      <td>Simulation</td>\n",
       "      <td>1.00</td>\n",
       "      <td>1.82</td>\n",
       "      <td>0.0</td>\n",
       "      <td>0.23</td>\n",
       "      <td>70.0</td>\n",
       "      <td>3.9</td>\n",
       "      <td>T</td>\n",
       "      <td>3.05</td>\n",
       "    </tr>\n",
       "  </tbody>\n",
       "</table>\n",
       "</div>"
      ],
      "text/plain": [
       "           name platform  year_of_release         genre  na_sales  eu_sales  \\\n",
       "192  diablo iii       PC             2012  Role-Playing      2.44      2.16   \n",
       "458  the sims 4       PC             2014    Simulation      1.00      1.82   \n",
       "\n",
       "     jp_sales  other_sales  critic_score  user_score rating  total_sales  \n",
       "192       0.0         0.54          88.0         4.0      M         5.14  \n",
       "458       0.0         0.23          70.0         3.9      T         3.05  "
      ]
     },
     "execution_count": 74,
     "metadata": {},
     "output_type": "execute_result"
    }
   ],
   "source": [
    "#выведем данные платформы PC с продажами более 3 млн.копий\n",
    "data_actual[(data_actual['platform'] == 'PC') & (data_actual['total_sales'] > 3)]"
   ]
  },
  {
   "cell_type": "code",
   "execution_count": 75,
   "metadata": {},
   "outputs": [
    {
     "data": {
      "text/plain": [
       "(0.0, 0.5)"
      ]
     },
     "execution_count": 75,
     "metadata": {},
     "output_type": "execute_result"
    },
    {
     "data": {
      "image/png": "[encoded data removed]",
      "text/plain": [
       "<Figure size 432x288 with 1 Axes>"
      ]
     },
     "metadata": {
      "needs_background": "light"
     },
     "output_type": "display_data"
    }
   ],
   "source": [
    "#построим график с усами для платформы PC с масштабом по оси y=0.8\n",
    "data_actual.loc[data_actual['platform'] == 'PC'].boxplot(column='total_sales')\n",
    "plt.ylim(0, 0.5)"
   ]
  },
  {
   "cell_type": "markdown",
   "metadata": {},
   "source": [
    "Большая часть игр платформы PC дает невысокие продажи, медиана равна 0.8 млн копий  ,25% игр не преодолели продажи в 0.2 млн. копий  , и только 25% игр преодолели обьем продаж в 0.25 млн копий . .Отметку в 3млн. копий преодолели 2 игры, что составляет 0.8% произведенных игр."
   ]
  },
  {
   "cell_type": "markdown",
   "metadata": {},
   "source": [
    "Вывод. Перспективные платформы для сотрудничества это PS4 и XOne. С сотрудничеством с платформой PC можно не спешить, стоит посмотреть на ее динамику в 2017 году. "
   ]
  },
  {
   "cell_type": "markdown",
   "metadata": {},
   "source": [
    "####  Влияние  на продажи игр  отзывов пользователей и критиков. \n"
   ]
  },
  {
   "cell_type": "markdown",
   "metadata": {},
   "source": [
    "Изучим как влияют на продажи внутри одной  платформы отзывы пользователей и критиков. Построим диаграмму рассеяния и посчитаем корреляцию между отзывами и продажами."
   ]
  },
  {
   "cell_type": "code",
   "execution_count": 76,
   "metadata": {},
   "outputs": [
    {
     "data": {
      "text/html": [
       "<div>\n",
       "<style scoped>\n",
       "    .dataframe tbody tr th:only-of-type {\n",
       "        vertical-align: middle;\n",
       "    }\n",
       "\n",
       "    .dataframe tbody tr th {\n",
       "        vertical-align: top;\n",
       "    }\n",
       "\n",
       "    .dataframe thead th {\n",
       "        text-align: right;\n",
       "    }\n",
       "</style>\n",
       "<table border=\"1\" class=\"dataframe\">\n",
       "  <thead>\n",
       "    <tr style=\"text-align: right;\">\n",
       "      <th></th>\n",
       "      <th>total_sales</th>\n",
       "      <th>critic_score</th>\n",
       "      <th>user_score</th>\n",
       "    </tr>\n",
       "  </thead>\n",
       "  <tbody>\n",
       "    <tr>\n",
       "      <th>31</th>\n",
       "      <td>14.63</td>\n",
       "      <td>NaN</td>\n",
       "      <td>NaN</td>\n",
       "    </tr>\n",
       "    <tr>\n",
       "      <th>42</th>\n",
       "      <td>12.62</td>\n",
       "      <td>97.0</td>\n",
       "      <td>8.3</td>\n",
       "    </tr>\n",
       "    <tr>\n",
       "      <th>77</th>\n",
       "      <td>8.58</td>\n",
       "      <td>82.0</td>\n",
       "      <td>4.3</td>\n",
       "    </tr>\n",
       "    <tr>\n",
       "      <th>87</th>\n",
       "      <td>7.98</td>\n",
       "      <td>NaN</td>\n",
       "      <td>NaN</td>\n",
       "    </tr>\n",
       "    <tr>\n",
       "      <th>92</th>\n",
       "      <td>7.66</td>\n",
       "      <td>83.0</td>\n",
       "      <td>5.7</td>\n",
       "    </tr>\n",
       "    <tr>\n",
       "      <th>94</th>\n",
       "      <td>7.60</td>\n",
       "      <td>85.0</td>\n",
       "      <td>5.0</td>\n",
       "    </tr>\n",
       "    <tr>\n",
       "      <th>105</th>\n",
       "      <td>7.17</td>\n",
       "      <td>87.0</td>\n",
       "      <td>6.5</td>\n",
       "    </tr>\n",
       "    <tr>\n",
       "      <th>143</th>\n",
       "      <td>6.08</td>\n",
       "      <td>82.0</td>\n",
       "      <td>5.7</td>\n",
       "    </tr>\n",
       "    <tr>\n",
       "      <th>154</th>\n",
       "      <td>5.64</td>\n",
       "      <td>76.0</td>\n",
       "      <td>6.1</td>\n",
       "    </tr>\n",
       "    <tr>\n",
       "      <th>171</th>\n",
       "      <td>5.39</td>\n",
       "      <td>93.0</td>\n",
       "      <td>7.9</td>\n",
       "    </tr>\n",
       "  </tbody>\n",
       "</table>\n",
       "</div>"
      ],
      "text/plain": [
       "     total_sales  critic_score  user_score\n",
       "31         14.63           NaN         NaN\n",
       "42         12.62          97.0         8.3\n",
       "77          8.58          82.0         4.3\n",
       "87          7.98           NaN         NaN\n",
       "92          7.66          83.0         5.7\n",
       "94          7.60          85.0         5.0\n",
       "105         7.17          87.0         6.5\n",
       "143         6.08          82.0         5.7\n",
       "154         5.64          76.0         6.1\n",
       "171         5.39          93.0         7.9"
      ]
     },
     "execution_count": 76,
     "metadata": {},
     "output_type": "execute_result"
    }
   ],
   "source": [
    "#создадим таблицу из четырех столбцов: total_sales, critic_score,user_score для платформы PS4. \n",
    "data_actual_ps4=data_actual.loc[data_actual['platform'] == 'PS4']\n",
    "data_ps4=data_actual_ps4.loc[:,['total_sales', 'critic_score','user_score']]\n",
    "data_ps4.head(10)"
   ]
  },
  {
   "cell_type": "code",
   "execution_count": 77,
   "metadata": {},
   "outputs": [
    {
     "data": {
      "text/html": [
       "<div>\n",
       "<style scoped>\n",
       "    .dataframe tbody tr th:only-of-type {\n",
       "        vertical-align: middle;\n",
       "    }\n",
       "\n",
       "    .dataframe tbody tr th {\n",
       "        vertical-align: top;\n",
       "    }\n",
       "\n",
       "    .dataframe thead th {\n",
       "        text-align: right;\n",
       "    }\n",
       "</style>\n",
       "<table border=\"1\" class=\"dataframe\">\n",
       "  <thead>\n",
       "    <tr style=\"text-align: right;\">\n",
       "      <th></th>\n",
       "      <th>total_sales</th>\n",
       "      <th>critic_score</th>\n",
       "      <th>user_score</th>\n",
       "    </tr>\n",
       "  </thead>\n",
       "  <tbody>\n",
       "    <tr>\n",
       "      <th>total_sales</th>\n",
       "      <td>1.000000</td>\n",
       "      <td>0.406568</td>\n",
       "      <td>-0.031957</td>\n",
       "    </tr>\n",
       "    <tr>\n",
       "      <th>critic_score</th>\n",
       "      <td>0.406568</td>\n",
       "      <td>1.000000</td>\n",
       "      <td>0.557654</td>\n",
       "    </tr>\n",
       "    <tr>\n",
       "      <th>user_score</th>\n",
       "      <td>-0.031957</td>\n",
       "      <td>0.557654</td>\n",
       "      <td>1.000000</td>\n",
       "    </tr>\n",
       "  </tbody>\n",
       "</table>\n",
       "</div>"
      ],
      "text/plain": [
       "              total_sales  critic_score  user_score\n",
       "total_sales      1.000000      0.406568   -0.031957\n",
       "critic_score     0.406568      1.000000    0.557654\n",
       "user_score      -0.031957      0.557654    1.000000"
      ]
     },
     "execution_count": 77,
     "metadata": {},
     "output_type": "execute_result"
    }
   ],
   "source": [
    "#построим матрицу корреляции\n",
    "data_ps4.corr()"
   ]
  },
  {
   "cell_type": "code",
   "execution_count": 78,
   "metadata": {},
   "outputs": [
    {
     "data": {
      "text/plain": [
       "array([[<AxesSubplot:xlabel='total_sales', ylabel='total_sales'>,\n",
       "        <AxesSubplot:xlabel='critic_score', ylabel='total_sales'>,\n",
       "        <AxesSubplot:xlabel='user_score', ylabel='total_sales'>],\n",
       "       [<AxesSubplot:xlabel='total_sales', ylabel='critic_score'>,\n",
       "        <AxesSubplot:xlabel='critic_score', ylabel='critic_score'>,\n",
       "        <AxesSubplot:xlabel='user_score', ylabel='critic_score'>],\n",
       "       [<AxesSubplot:xlabel='total_sales', ylabel='user_score'>,\n",
       "        <AxesSubplot:xlabel='critic_score', ylabel='user_score'>,\n",
       "        <AxesSubplot:xlabel='user_score', ylabel='user_score'>]],\n",
       "      dtype=object)"
      ]
     },
     "execution_count": 78,
     "metadata": {},
     "output_type": "execute_result"
    },
    {
     "data": {
      "image/png": "[encoded data removed]",
      "text/plain": [
       "<Figure size 720x720 with 9 Axes>"
      ]
     },
     "metadata": {
      "needs_background": "light"
     },
     "output_type": "display_data"
    }
   ],
   "source": [
    "#построим матрицу рассеяния\n",
    "pd.plotting.scatter_matrix(data_ps4, figsize=(10, 10))"
   ]
  },
  {
   "cell_type": "markdown",
   "metadata": {},
   "source": [
    "Существует корреляция между продажами и рейтингом критиков, она равна 0,41. Корреляция между обьемом продаж игры и рейтингом пользователей отсутствует. Скорее всего такие связи действуют и для игр на других платформах. "
   ]
  },
  {
   "cell_type": "markdown",
   "metadata": {},
   "source": [
    "#### Распределение игр по жанрам."
   ]
  },
  {
   "cell_type": "code",
   "execution_count": 79,
   "metadata": {},
   "outputs": [
    {
     "data": {
      "text/html": [
       "<div>\n",
       "<style scoped>\n",
       "    .dataframe tbody tr th:only-of-type {\n",
       "        vertical-align: middle;\n",
       "    }\n",
       "\n",
       "    .dataframe tbody tr th {\n",
       "        vertical-align: top;\n",
       "    }\n",
       "\n",
       "    .dataframe thead th {\n",
       "        text-align: right;\n",
       "    }\n",
       "</style>\n",
       "<table border=\"1\" class=\"dataframe\">\n",
       "  <thead>\n",
       "    <tr style=\"text-align: right;\">\n",
       "      <th></th>\n",
       "      <th>total_sales</th>\n",
       "      <th>count</th>\n",
       "    </tr>\n",
       "    <tr>\n",
       "      <th>genre</th>\n",
       "      <th></th>\n",
       "      <th></th>\n",
       "    </tr>\n",
       "  </thead>\n",
       "  <tbody>\n",
       "    <tr>\n",
       "      <th>Action</th>\n",
       "      <td>441.12</td>\n",
       "      <td>1031</td>\n",
       "    </tr>\n",
       "    <tr>\n",
       "      <th>Shooter</th>\n",
       "      <td>304.73</td>\n",
       "      <td>235</td>\n",
       "    </tr>\n",
       "    <tr>\n",
       "      <th>Role-Playing</th>\n",
       "      <td>192.80</td>\n",
       "      <td>370</td>\n",
       "    </tr>\n",
       "    <tr>\n",
       "      <th>Sports</th>\n",
       "      <td>181.07</td>\n",
       "      <td>268</td>\n",
       "    </tr>\n",
       "    <tr>\n",
       "      <th>Misc</th>\n",
       "      <td>85.04</td>\n",
       "      <td>192</td>\n",
       "    </tr>\n",
       "    <tr>\n",
       "      <th>Platform</th>\n",
       "      <td>61.00</td>\n",
       "      <td>85</td>\n",
       "    </tr>\n",
       "    <tr>\n",
       "      <th>Racing</th>\n",
       "      <td>53.50</td>\n",
       "      <td>115</td>\n",
       "    </tr>\n",
       "    <tr>\n",
       "      <th>Fighting</th>\n",
       "      <td>44.49</td>\n",
       "      <td>109</td>\n",
       "    </tr>\n",
       "    <tr>\n",
       "      <th>Simulation</th>\n",
       "      <td>35.12</td>\n",
       "      <td>80</td>\n",
       "    </tr>\n",
       "    <tr>\n",
       "      <th>Adventure</th>\n",
       "      <td>29.43</td>\n",
       "      <td>302</td>\n",
       "    </tr>\n",
       "    <tr>\n",
       "      <th>Strategy</th>\n",
       "      <td>13.34</td>\n",
       "      <td>71</td>\n",
       "    </tr>\n",
       "    <tr>\n",
       "      <th>Puzzle</th>\n",
       "      <td>4.89</td>\n",
       "      <td>28</td>\n",
       "    </tr>\n",
       "  </tbody>\n",
       "</table>\n",
       "</div>"
      ],
      "text/plain": [
       "              total_sales  count\n",
       "genre                           \n",
       "Action             441.12   1031\n",
       "Shooter            304.73    235\n",
       "Role-Playing       192.80    370\n",
       "Sports             181.07    268\n",
       "Misc                85.04    192\n",
       "Platform            61.00     85\n",
       "Racing              53.50    115\n",
       "Fighting            44.49    109\n",
       "Simulation          35.12     80\n",
       "Adventure           29.43    302\n",
       "Strategy            13.34     71\n",
       "Puzzle               4.89     28"
      ]
     },
     "execution_count": 79,
     "metadata": {},
     "output_type": "execute_result"
    }
   ],
   "source": [
    "#создадим таблицу, сгрупированную по жанрам, посчитаем продажи и количество реализуемых игр \n",
    "data_actual_gnr=data_actual.pivot_table(index='genre', values='total_sales', aggfunc=['sum','count'])\n",
    "#переименуем столбцы и упорядочиv по продажам\n",
    "data_actual_gnr.columns = ['total_sales', 'count']\n",
    "data_actual_gnr.sort_values(by='total_sales',ascending=False )"
   ]
  },
  {
   "cell_type": "markdown",
   "metadata": {},
   "source": [
    "Первое место по прибыльности занимает жанр -Action, выручка-441.\n",
    "На втором месте Shooter\t, выручка-305.\n",
    "На третьем месте Role-Playing, выручка-193. \n",
    "Последнее место занимает Puzzle, с выручкой - 4.9 ."
   ]
  },
  {
   "cell_type": "markdown",
   "metadata": {},
   "source": [
    "##  Портрет пользователя каждого региона."
   ]
  },
  {
   "cell_type": "markdown",
   "metadata": {},
   "source": [
    "### Распределение платформ по регионам."
   ]
  },
  {
   "cell_type": "code",
   "execution_count": 80,
   "metadata": {},
   "outputs": [
    {
     "data": {
      "text/html": [
       "<div>\n",
       "<style scoped>\n",
       "    .dataframe tbody tr th:only-of-type {\n",
       "        vertical-align: middle;\n",
       "    }\n",
       "\n",
       "    .dataframe tbody tr th {\n",
       "        vertical-align: top;\n",
       "    }\n",
       "\n",
       "    .dataframe thead th {\n",
       "        text-align: right;\n",
       "    }\n",
       "</style>\n",
       "<table border=\"1\" class=\"dataframe\">\n",
       "  <thead>\n",
       "    <tr style=\"text-align: right;\">\n",
       "      <th></th>\n",
       "      <th>eu_sales</th>\n",
       "      <th>jp_sales</th>\n",
       "      <th>na_sales</th>\n",
       "    </tr>\n",
       "    <tr>\n",
       "      <th>platform</th>\n",
       "      <th></th>\n",
       "      <th></th>\n",
       "      <th></th>\n",
       "    </tr>\n",
       "  </thead>\n",
       "  <tbody>\n",
       "    <tr>\n",
       "      <th>PS4</th>\n",
       "      <td>141.09</td>\n",
       "      <td>15.96</td>\n",
       "      <td>108.74</td>\n",
       "    </tr>\n",
       "    <tr>\n",
       "      <th>PS3</th>\n",
       "      <td>106.86</td>\n",
       "      <td>35.29</td>\n",
       "      <td>103.38</td>\n",
       "    </tr>\n",
       "    <tr>\n",
       "      <th>X360</th>\n",
       "      <td>74.52</td>\n",
       "      <td>1.57</td>\n",
       "      <td>140.05</td>\n",
       "    </tr>\n",
       "    <tr>\n",
       "      <th>XOne</th>\n",
       "      <td>51.59</td>\n",
       "      <td>0.34</td>\n",
       "      <td>93.12</td>\n",
       "    </tr>\n",
       "    <tr>\n",
       "      <th>3DS</th>\n",
       "      <td>42.64</td>\n",
       "      <td>87.79</td>\n",
       "      <td>55.31</td>\n",
       "    </tr>\n",
       "    <tr>\n",
       "      <th>PC</th>\n",
       "      <td>37.76</td>\n",
       "      <td>0.00</td>\n",
       "      <td>19.12</td>\n",
       "    </tr>\n",
       "    <tr>\n",
       "      <th>WiiU</th>\n",
       "      <td>25.13</td>\n",
       "      <td>13.01</td>\n",
       "      <td>38.10</td>\n",
       "    </tr>\n",
       "    <tr>\n",
       "      <th>Wii</th>\n",
       "      <td>11.92</td>\n",
       "      <td>3.39</td>\n",
       "      <td>17.45</td>\n",
       "    </tr>\n",
       "    <tr>\n",
       "      <th>PSV</th>\n",
       "      <td>11.36</td>\n",
       "      <td>21.04</td>\n",
       "      <td>10.98</td>\n",
       "    </tr>\n",
       "    <tr>\n",
       "      <th>DS</th>\n",
       "      <td>3.53</td>\n",
       "      <td>3.72</td>\n",
       "      <td>4.59</td>\n",
       "    </tr>\n",
       "    <tr>\n",
       "      <th>PSP</th>\n",
       "      <td>0.42</td>\n",
       "      <td>10.47</td>\n",
       "      <td>0.13</td>\n",
       "    </tr>\n",
       "  </tbody>\n",
       "</table>\n",
       "</div>"
      ],
      "text/plain": [
       "          eu_sales  jp_sales  na_sales\n",
       "platform                              \n",
       "PS4         141.09     15.96    108.74\n",
       "PS3         106.86     35.29    103.38\n",
       "X360         74.52      1.57    140.05\n",
       "XOne         51.59      0.34     93.12\n",
       "3DS          42.64     87.79     55.31\n",
       "PC           37.76      0.00     19.12\n",
       "WiiU         25.13     13.01     38.10\n",
       "Wii          11.92      3.39     17.45\n",
       "PSV          11.36     21.04     10.98\n",
       "DS            3.53      3.72      4.59\n",
       "PSP           0.42     10.47      0.13"
      ]
     },
     "execution_count": 80,
     "metadata": {},
     "output_type": "execute_result"
    }
   ],
   "source": [
    "#создадим таблицу, сгрупированную по платформам, посчитаем продажи для трех регионов \n",
    "data_actual_rgn=data_actual.pivot_table(index='platform', values=['na_sales','eu_sales','jp_sales'], aggfunc='sum',)\n",
    "#распечатаем таблицу упорядоченную по продажам в Европе\n",
    "data_actual_rgn.sort_values(by='eu_sales',ascending=False ) "
   ]
  },
  {
   "cell_type": "code",
   "execution_count": 81,
   "metadata": {},
   "outputs": [
    {
     "data": {
      "text/html": [
       "<div>\n",
       "<style scoped>\n",
       "    .dataframe tbody tr th:only-of-type {\n",
       "        vertical-align: middle;\n",
       "    }\n",
       "\n",
       "    .dataframe tbody tr th {\n",
       "        vertical-align: top;\n",
       "    }\n",
       "\n",
       "    .dataframe thead th {\n",
       "        text-align: right;\n",
       "    }\n",
       "</style>\n",
       "<table border=\"1\" class=\"dataframe\">\n",
       "  <thead>\n",
       "    <tr style=\"text-align: right;\">\n",
       "      <th></th>\n",
       "      <th>eu_sales</th>\n",
       "      <th>jp_sales</th>\n",
       "      <th>na_sales</th>\n",
       "    </tr>\n",
       "    <tr>\n",
       "      <th>platform</th>\n",
       "      <th></th>\n",
       "      <th></th>\n",
       "      <th></th>\n",
       "    </tr>\n",
       "  </thead>\n",
       "  <tbody>\n",
       "    <tr>\n",
       "      <th>X360</th>\n",
       "      <td>74.52</td>\n",
       "      <td>1.57</td>\n",
       "      <td>140.05</td>\n",
       "    </tr>\n",
       "    <tr>\n",
       "      <th>PS4</th>\n",
       "      <td>141.09</td>\n",
       "      <td>15.96</td>\n",
       "      <td>108.74</td>\n",
       "    </tr>\n",
       "    <tr>\n",
       "      <th>PS3</th>\n",
       "      <td>106.86</td>\n",
       "      <td>35.29</td>\n",
       "      <td>103.38</td>\n",
       "    </tr>\n",
       "    <tr>\n",
       "      <th>XOne</th>\n",
       "      <td>51.59</td>\n",
       "      <td>0.34</td>\n",
       "      <td>93.12</td>\n",
       "    </tr>\n",
       "    <tr>\n",
       "      <th>3DS</th>\n",
       "      <td>42.64</td>\n",
       "      <td>87.79</td>\n",
       "      <td>55.31</td>\n",
       "    </tr>\n",
       "    <tr>\n",
       "      <th>WiiU</th>\n",
       "      <td>25.13</td>\n",
       "      <td>13.01</td>\n",
       "      <td>38.10</td>\n",
       "    </tr>\n",
       "    <tr>\n",
       "      <th>PC</th>\n",
       "      <td>37.76</td>\n",
       "      <td>0.00</td>\n",
       "      <td>19.12</td>\n",
       "    </tr>\n",
       "    <tr>\n",
       "      <th>Wii</th>\n",
       "      <td>11.92</td>\n",
       "      <td>3.39</td>\n",
       "      <td>17.45</td>\n",
       "    </tr>\n",
       "    <tr>\n",
       "      <th>PSV</th>\n",
       "      <td>11.36</td>\n",
       "      <td>21.04</td>\n",
       "      <td>10.98</td>\n",
       "    </tr>\n",
       "    <tr>\n",
       "      <th>DS</th>\n",
       "      <td>3.53</td>\n",
       "      <td>3.72</td>\n",
       "      <td>4.59</td>\n",
       "    </tr>\n",
       "    <tr>\n",
       "      <th>PSP</th>\n",
       "      <td>0.42</td>\n",
       "      <td>10.47</td>\n",
       "      <td>0.13</td>\n",
       "    </tr>\n",
       "  </tbody>\n",
       "</table>\n",
       "</div>"
      ],
      "text/plain": [
       "          eu_sales  jp_sales  na_sales\n",
       "platform                              \n",
       "X360         74.52      1.57    140.05\n",
       "PS4         141.09     15.96    108.74\n",
       "PS3         106.86     35.29    103.38\n",
       "XOne         51.59      0.34     93.12\n",
       "3DS          42.64     87.79     55.31\n",
       "WiiU         25.13     13.01     38.10\n",
       "PC           37.76      0.00     19.12\n",
       "Wii          11.92      3.39     17.45\n",
       "PSV          11.36     21.04     10.98\n",
       "DS            3.53      3.72      4.59\n",
       "PSP           0.42     10.47      0.13"
      ]
     },
     "execution_count": 81,
     "metadata": {},
     "output_type": "execute_result"
    }
   ],
   "source": [
    "#распечатаем таблицу упорядоченную по продажам в Сев.Америке\n",
    "data_actual_rgn.sort_values(by='na_sales',ascending=False )"
   ]
  },
  {
   "cell_type": "markdown",
   "metadata": {},
   "source": [
    "Топ 5 платформ для Европы в порядке убывания  PS4, PS3, X360, XOne, 3DS.\n",
    "Топ 5 платформ для Сев.Америки в пор.убыв.   X360, PS4, PS3, XOne, 3DS.\n",
    "Топ 5 платформ для Японии в пор. убывания  3DS, PS3, PSV, PS4, WiiU, PSP. \n",
    "Распределение вкусов пользователей по платформам в Европе и Сев. Америке схожее, тольк платформа X360 занимает в Сев.Америке первое место , а в Еропе -третье. Предпочтения пользоателей Японии кардинально отличается от Европы и Сев.Америки.\n"
   ]
  },
  {
   "cell_type": "markdown",
   "metadata": {},
   "source": [
    "### Распределение жанров по регионам."
   ]
  },
  {
   "cell_type": "code",
   "execution_count": 82,
   "metadata": {},
   "outputs": [
    {
     "data": {
      "text/html": [
       "<div>\n",
       "<style scoped>\n",
       "    .dataframe tbody tr th:only-of-type {\n",
       "        vertical-align: middle;\n",
       "    }\n",
       "\n",
       "    .dataframe tbody tr th {\n",
       "        vertical-align: top;\n",
       "    }\n",
       "\n",
       "    .dataframe thead th {\n",
       "        text-align: right;\n",
       "    }\n",
       "</style>\n",
       "<table border=\"1\" class=\"dataframe\">\n",
       "  <thead>\n",
       "    <tr style=\"text-align: right;\">\n",
       "      <th></th>\n",
       "      <th>eu_sales</th>\n",
       "      <th>jp_sales</th>\n",
       "      <th>na_sales</th>\n",
       "    </tr>\n",
       "    <tr>\n",
       "      <th>genre</th>\n",
       "      <th></th>\n",
       "      <th></th>\n",
       "      <th></th>\n",
       "    </tr>\n",
       "  </thead>\n",
       "  <tbody>\n",
       "    <tr>\n",
       "      <th>Action</th>\n",
       "      <td>159.34</td>\n",
       "      <td>52.80</td>\n",
       "      <td>177.84</td>\n",
       "    </tr>\n",
       "    <tr>\n",
       "      <th>Shooter</th>\n",
       "      <td>113.47</td>\n",
       "      <td>9.23</td>\n",
       "      <td>144.77</td>\n",
       "    </tr>\n",
       "    <tr>\n",
       "      <th>Sports</th>\n",
       "      <td>69.09</td>\n",
       "      <td>8.01</td>\n",
       "      <td>81.53</td>\n",
       "    </tr>\n",
       "    <tr>\n",
       "      <th>Role-Playing</th>\n",
       "      <td>48.53</td>\n",
       "      <td>65.44</td>\n",
       "      <td>64.00</td>\n",
       "    </tr>\n",
       "    <tr>\n",
       "      <th>Racing</th>\n",
       "      <td>27.29</td>\n",
       "      <td>2.50</td>\n",
       "      <td>17.22</td>\n",
       "    </tr>\n",
       "    <tr>\n",
       "      <th>Misc</th>\n",
       "      <td>26.32</td>\n",
       "      <td>12.86</td>\n",
       "      <td>38.19</td>\n",
       "    </tr>\n",
       "    <tr>\n",
       "      <th>Platform</th>\n",
       "      <td>21.41</td>\n",
       "      <td>8.63</td>\n",
       "      <td>25.38</td>\n",
       "    </tr>\n",
       "    <tr>\n",
       "      <th>Simulation</th>\n",
       "      <td>14.55</td>\n",
       "      <td>10.41</td>\n",
       "      <td>7.97</td>\n",
       "    </tr>\n",
       "    <tr>\n",
       "      <th>Fighting</th>\n",
       "      <td>10.79</td>\n",
       "      <td>9.44</td>\n",
       "      <td>19.79</td>\n",
       "    </tr>\n",
       "    <tr>\n",
       "      <th>Adventure</th>\n",
       "      <td>9.46</td>\n",
       "      <td>8.24</td>\n",
       "      <td>8.92</td>\n",
       "    </tr>\n",
       "    <tr>\n",
       "      <th>Strategy</th>\n",
       "      <td>5.17</td>\n",
       "      <td>2.88</td>\n",
       "      <td>4.23</td>\n",
       "    </tr>\n",
       "    <tr>\n",
       "      <th>Puzzle</th>\n",
       "      <td>1.40</td>\n",
       "      <td>2.14</td>\n",
       "      <td>1.13</td>\n",
       "    </tr>\n",
       "  </tbody>\n",
       "</table>\n",
       "</div>"
      ],
      "text/plain": [
       "              eu_sales  jp_sales  na_sales\n",
       "genre                                     \n",
       "Action          159.34     52.80    177.84\n",
       "Shooter         113.47      9.23    144.77\n",
       "Sports           69.09      8.01     81.53\n",
       "Role-Playing     48.53     65.44     64.00\n",
       "Racing           27.29      2.50     17.22\n",
       "Misc             26.32     12.86     38.19\n",
       "Platform         21.41      8.63     25.38\n",
       "Simulation       14.55     10.41      7.97\n",
       "Fighting         10.79      9.44     19.79\n",
       "Adventure         9.46      8.24      8.92\n",
       "Strategy          5.17      2.88      4.23\n",
       "Puzzle            1.40      2.14      1.13"
      ]
     },
     "execution_count": 82,
     "metadata": {},
     "output_type": "execute_result"
    }
   ],
   "source": [
    "#создадим таблицу, сгрупированную по жанрам и регионам, посчитаем продажи игр \n",
    "data_actual_gnr_rgn=data_actual.pivot_table(index='genre', values=['eu_sales','na_sales','jp_sales'], aggfunc='sum')\n",
    "# упорядочиv по продажам в Европе\n",
    "data_actual_gnr_rgn.sort_values(by='eu_sales',ascending=False )"
   ]
  },
  {
   "cell_type": "code",
   "execution_count": 83,
   "metadata": {},
   "outputs": [
    {
     "data": {
      "text/html": [
       "<div>\n",
       "<style scoped>\n",
       "    .dataframe tbody tr th:only-of-type {\n",
       "        vertical-align: middle;\n",
       "    }\n",
       "\n",
       "    .dataframe tbody tr th {\n",
       "        vertical-align: top;\n",
       "    }\n",
       "\n",
       "    .dataframe thead th {\n",
       "        text-align: right;\n",
       "    }\n",
       "</style>\n",
       "<table border=\"1\" class=\"dataframe\">\n",
       "  <thead>\n",
       "    <tr style=\"text-align: right;\">\n",
       "      <th></th>\n",
       "      <th>eu_sales</th>\n",
       "      <th>jp_sales</th>\n",
       "      <th>na_sales</th>\n",
       "    </tr>\n",
       "    <tr>\n",
       "      <th>genre</th>\n",
       "      <th></th>\n",
       "      <th></th>\n",
       "      <th></th>\n",
       "    </tr>\n",
       "  </thead>\n",
       "  <tbody>\n",
       "    <tr>\n",
       "      <th>Action</th>\n",
       "      <td>159.34</td>\n",
       "      <td>52.80</td>\n",
       "      <td>177.84</td>\n",
       "    </tr>\n",
       "    <tr>\n",
       "      <th>Shooter</th>\n",
       "      <td>113.47</td>\n",
       "      <td>9.23</td>\n",
       "      <td>144.77</td>\n",
       "    </tr>\n",
       "    <tr>\n",
       "      <th>Sports</th>\n",
       "      <td>69.09</td>\n",
       "      <td>8.01</td>\n",
       "      <td>81.53</td>\n",
       "    </tr>\n",
       "    <tr>\n",
       "      <th>Role-Playing</th>\n",
       "      <td>48.53</td>\n",
       "      <td>65.44</td>\n",
       "      <td>64.00</td>\n",
       "    </tr>\n",
       "    <tr>\n",
       "      <th>Misc</th>\n",
       "      <td>26.32</td>\n",
       "      <td>12.86</td>\n",
       "      <td>38.19</td>\n",
       "    </tr>\n",
       "    <tr>\n",
       "      <th>Platform</th>\n",
       "      <td>21.41</td>\n",
       "      <td>8.63</td>\n",
       "      <td>25.38</td>\n",
       "    </tr>\n",
       "    <tr>\n",
       "      <th>Fighting</th>\n",
       "      <td>10.79</td>\n",
       "      <td>9.44</td>\n",
       "      <td>19.79</td>\n",
       "    </tr>\n",
       "    <tr>\n",
       "      <th>Racing</th>\n",
       "      <td>27.29</td>\n",
       "      <td>2.50</td>\n",
       "      <td>17.22</td>\n",
       "    </tr>\n",
       "    <tr>\n",
       "      <th>Adventure</th>\n",
       "      <td>9.46</td>\n",
       "      <td>8.24</td>\n",
       "      <td>8.92</td>\n",
       "    </tr>\n",
       "    <tr>\n",
       "      <th>Simulation</th>\n",
       "      <td>14.55</td>\n",
       "      <td>10.41</td>\n",
       "      <td>7.97</td>\n",
       "    </tr>\n",
       "    <tr>\n",
       "      <th>Strategy</th>\n",
       "      <td>5.17</td>\n",
       "      <td>2.88</td>\n",
       "      <td>4.23</td>\n",
       "    </tr>\n",
       "    <tr>\n",
       "      <th>Puzzle</th>\n",
       "      <td>1.40</td>\n",
       "      <td>2.14</td>\n",
       "      <td>1.13</td>\n",
       "    </tr>\n",
       "  </tbody>\n",
       "</table>\n",
       "</div>"
      ],
      "text/plain": [
       "              eu_sales  jp_sales  na_sales\n",
       "genre                                     \n",
       "Action          159.34     52.80    177.84\n",
       "Shooter         113.47      9.23    144.77\n",
       "Sports           69.09      8.01     81.53\n",
       "Role-Playing     48.53     65.44     64.00\n",
       "Misc             26.32     12.86     38.19\n",
       "Platform         21.41      8.63     25.38\n",
       "Fighting         10.79      9.44     19.79\n",
       "Racing           27.29      2.50     17.22\n",
       "Adventure         9.46      8.24      8.92\n",
       "Simulation       14.55     10.41      7.97\n",
       "Strategy          5.17      2.88      4.23\n",
       "Puzzle            1.40      2.14      1.13"
      ]
     },
     "execution_count": 83,
     "metadata": {},
     "output_type": "execute_result"
    }
   ],
   "source": [
    "#упорядочим по продажам в Сев.Америке\n",
    "data_actual_gnr_rgn.sort_values(by='na_sales',ascending=False )"
   ]
  },
  {
   "cell_type": "code",
   "execution_count": 84,
   "metadata": {},
   "outputs": [
    {
     "data": {
      "text/html": [
       "<div>\n",
       "<style scoped>\n",
       "    .dataframe tbody tr th:only-of-type {\n",
       "        vertical-align: middle;\n",
       "    }\n",
       "\n",
       "    .dataframe tbody tr th {\n",
       "        vertical-align: top;\n",
       "    }\n",
       "\n",
       "    .dataframe thead th {\n",
       "        text-align: right;\n",
       "    }\n",
       "</style>\n",
       "<table border=\"1\" class=\"dataframe\">\n",
       "  <thead>\n",
       "    <tr style=\"text-align: right;\">\n",
       "      <th></th>\n",
       "      <th>eu_sales</th>\n",
       "      <th>jp_sales</th>\n",
       "      <th>na_sales</th>\n",
       "    </tr>\n",
       "    <tr>\n",
       "      <th>genre</th>\n",
       "      <th></th>\n",
       "      <th></th>\n",
       "      <th></th>\n",
       "    </tr>\n",
       "  </thead>\n",
       "  <tbody>\n",
       "    <tr>\n",
       "      <th>Role-Playing</th>\n",
       "      <td>48.53</td>\n",
       "      <td>65.44</td>\n",
       "      <td>64.00</td>\n",
       "    </tr>\n",
       "    <tr>\n",
       "      <th>Action</th>\n",
       "      <td>159.34</td>\n",
       "      <td>52.80</td>\n",
       "      <td>177.84</td>\n",
       "    </tr>\n",
       "    <tr>\n",
       "      <th>Misc</th>\n",
       "      <td>26.32</td>\n",
       "      <td>12.86</td>\n",
       "      <td>38.19</td>\n",
       "    </tr>\n",
       "    <tr>\n",
       "      <th>Simulation</th>\n",
       "      <td>14.55</td>\n",
       "      <td>10.41</td>\n",
       "      <td>7.97</td>\n",
       "    </tr>\n",
       "    <tr>\n",
       "      <th>Fighting</th>\n",
       "      <td>10.79</td>\n",
       "      <td>9.44</td>\n",
       "      <td>19.79</td>\n",
       "    </tr>\n",
       "    <tr>\n",
       "      <th>Shooter</th>\n",
       "      <td>113.47</td>\n",
       "      <td>9.23</td>\n",
       "      <td>144.77</td>\n",
       "    </tr>\n",
       "    <tr>\n",
       "      <th>Platform</th>\n",
       "      <td>21.41</td>\n",
       "      <td>8.63</td>\n",
       "      <td>25.38</td>\n",
       "    </tr>\n",
       "    <tr>\n",
       "      <th>Adventure</th>\n",
       "      <td>9.46</td>\n",
       "      <td>8.24</td>\n",
       "      <td>8.92</td>\n",
       "    </tr>\n",
       "    <tr>\n",
       "      <th>Sports</th>\n",
       "      <td>69.09</td>\n",
       "      <td>8.01</td>\n",
       "      <td>81.53</td>\n",
       "    </tr>\n",
       "    <tr>\n",
       "      <th>Strategy</th>\n",
       "      <td>5.17</td>\n",
       "      <td>2.88</td>\n",
       "      <td>4.23</td>\n",
       "    </tr>\n",
       "    <tr>\n",
       "      <th>Racing</th>\n",
       "      <td>27.29</td>\n",
       "      <td>2.50</td>\n",
       "      <td>17.22</td>\n",
       "    </tr>\n",
       "    <tr>\n",
       "      <th>Puzzle</th>\n",
       "      <td>1.40</td>\n",
       "      <td>2.14</td>\n",
       "      <td>1.13</td>\n",
       "    </tr>\n",
       "  </tbody>\n",
       "</table>\n",
       "</div>"
      ],
      "text/plain": [
       "              eu_sales  jp_sales  na_sales\n",
       "genre                                     \n",
       "Role-Playing     48.53     65.44     64.00\n",
       "Action          159.34     52.80    177.84\n",
       "Misc             26.32     12.86     38.19\n",
       "Simulation       14.55     10.41      7.97\n",
       "Fighting         10.79      9.44     19.79\n",
       "Shooter         113.47      9.23    144.77\n",
       "Platform         21.41      8.63     25.38\n",
       "Adventure         9.46      8.24      8.92\n",
       "Sports           69.09      8.01     81.53\n",
       "Strategy          5.17      2.88      4.23\n",
       "Racing           27.29      2.50     17.22\n",
       "Puzzle            1.40      2.14      1.13"
      ]
     },
     "execution_count": 84,
     "metadata": {},
     "output_type": "execute_result"
    }
   ],
   "source": [
    "#упорядочим по продажам в Японии \n",
    "data_actual_gnr_rgn.sort_values(by='jp_sales',ascending=False )"
   ]
  },
  {
   "cell_type": "markdown",
   "metadata": {},
   "source": [
    "Предпочтения пользователей Европы и Сев.Америки схожи, первые 4 места занимают следующие жанры в порядке убывания:\n",
    "Action,\tShooter, Sports, Role-Playing. В европе на 5 месте Racing, в Сев. Америке Misc. \n",
    "Предпочтения японцев существенно отличаются их 5 жанров в порядке убывания: \n",
    "Role-Playing, Action, Misc, Simulation, Fighting.\t"
   ]
  },
  {
   "cell_type": "markdown",
   "metadata": {},
   "source": [
    "### Влияние  рейтинга ESRB на продажи в отдельном регионе."
   ]
  },
  {
   "cell_type": "code",
   "execution_count": 85,
   "metadata": {},
   "outputs": [
    {
     "data": {
      "text/plain": [
       "array(['AO', 'E', 'E10+', 'EC', 'K-A', 'M', 'RP', 'T', nan], dtype=object)"
      ]
     },
     "metadata": {},
     "output_type": "display_data"
    },
    {
     "data": {
      "text/plain": [
       "9"
      ]
     },
     "execution_count": 85,
     "metadata": {},
     "output_type": "execute_result"
    }
   ],
   "source": [
    "#выведем уникальные значения рейтинга \n",
    "display(data['rating'].sort_values().unique())\n",
    "len(data['rating'].unique())"
   ]
  },
  {
   "cell_type": "code",
   "execution_count": 86,
   "metadata": {},
   "outputs": [
    {
     "data": {
      "text/html": [
       "<div>\n",
       "<style scoped>\n",
       "    .dataframe tbody tr th:only-of-type {\n",
       "        vertical-align: middle;\n",
       "    }\n",
       "\n",
       "    .dataframe tbody tr th {\n",
       "        vertical-align: top;\n",
       "    }\n",
       "\n",
       "    .dataframe thead th {\n",
       "        text-align: right;\n",
       "    }\n",
       "</style>\n",
       "<table border=\"1\" class=\"dataframe\">\n",
       "  <thead>\n",
       "    <tr style=\"text-align: right;\">\n",
       "      <th></th>\n",
       "      <th>eu_sales</th>\n",
       "      <th>jp_sales</th>\n",
       "      <th>na_sales</th>\n",
       "    </tr>\n",
       "    <tr>\n",
       "      <th>rating</th>\n",
       "      <th></th>\n",
       "      <th></th>\n",
       "      <th></th>\n",
       "    </tr>\n",
       "  </thead>\n",
       "  <tbody>\n",
       "    <tr>\n",
       "      <th>M</th>\n",
       "      <td>193.96</td>\n",
       "      <td>21.20</td>\n",
       "      <td>231.57</td>\n",
       "    </tr>\n",
       "    <tr>\n",
       "      <th>E</th>\n",
       "      <td>113.03</td>\n",
       "      <td>28.33</td>\n",
       "      <td>114.37</td>\n",
       "    </tr>\n",
       "    <tr>\n",
       "      <th>E10+</th>\n",
       "      <td>55.37</td>\n",
       "      <td>8.19</td>\n",
       "      <td>75.70</td>\n",
       "    </tr>\n",
       "    <tr>\n",
       "      <th>T</th>\n",
       "      <td>52.96</td>\n",
       "      <td>26.02</td>\n",
       "      <td>66.02</td>\n",
       "    </tr>\n",
       "  </tbody>\n",
       "</table>\n",
       "</div>"
      ],
      "text/plain": [
       "        eu_sales  jp_sales  na_sales\n",
       "rating                              \n",
       "M         193.96     21.20    231.57\n",
       "E         113.03     28.33    114.37\n",
       "E10+       55.37      8.19     75.70\n",
       "T          52.96     26.02     66.02"
      ]
     },
     "execution_count": 86,
     "metadata": {},
     "output_type": "execute_result"
    }
   ],
   "source": [
    "#создадим таблицу, сгрупированную по рейтингам и регионам, посчитаем продажи игр \n",
    "data_actual_rtng = data_actual.pivot_table(index='rating', values=['eu_sales','na_sales','jp_sales'], aggfunc='sum')\n",
    "# упорядочиv по продажам в Европе\n",
    "data_actual_rtng.sort_values(by='eu_sales',ascending=False )"
   ]
  },
  {
   "cell_type": "markdown",
   "metadata": {},
   "source": [
    "В Европе и Сев. Америке предпочтения пользователей по рейтингам схожи , по убыванию они распределены так:\n",
    "M, E, E10+, T. \n",
    "В Японии порядок другой :\n",
    "M, E, Т, E10+."
   ]
  },
  {
   "cell_type": "markdown",
   "metadata": {},
   "source": [
    "## Проверка гипотез."
   ]
  },
  {
   "cell_type": "markdown",
   "metadata": {},
   "source": [
    "### Средние пользовательские рейтинги платформ XOne и PC одинаковые.\n"
   ]
  },
  {
   "cell_type": "markdown",
   "metadata": {},
   "source": [
    "H_0: Средний пользовательские рейтинги  (user_score) платформы XOne  =  ср. рейтингу пользователей платформы PC.`\n",
    "\n",
    "H_a: Средний пользовательские рейтинги  (user_score) платформы XOne  ≠  ср. рейтингу пользователей платформы PC.\n",
    "\n",
    "alpha = 0.05"
   ]
  },
  {
   "cell_type": "code",
   "execution_count": 87,
   "metadata": {},
   "outputs": [],
   "source": [
    "from scipy import stats as st"
   ]
  },
  {
   "cell_type": "code",
   "execution_count": 88,
   "metadata": {},
   "outputs": [
    {
     "name": "stdout",
     "output_type": "stream",
     "text": [
      "0.5489537965134987\n",
      "Не получилось отвергнуть нулевую гипотезу \n"
     ]
    }
   ],
   "source": [
    "user_score_xone  = data_actual[data_actual['platform'] == 'XOne']['user_score']\n",
    "user_score_pc  = data_actual[data_actual['platform'] == 'PC']['user_score']\n",
    "#display(user_score_pc)\n",
    "\n",
    "# results = вызов метода для проверки гипотезы\n",
    "results = st.ttest_ind(user_score_xone, user_score_pc,equal_var = False,nan_policy='omit')\n",
    "\n",
    "# alpha = задайте значение уровня значимости\n",
    "alpha = 0.05\n",
    "\n",
    "# вывод значения p-value на экран \n",
    "print(results.pvalue)\n",
    "# условный оператор с выводом строки с ответом\n",
    "if results.pvalue < alpha:\n",
    "    print('Отвергаем нулевую гипотезу')\n",
    "else:\n",
    "    print('Не получилось отвергнуть нулевую гипотезу ')"
   ]
  },
  {
   "cell_type": "markdown",
   "metadata": {},
   "source": [
    "### Средние пользовательские рейтинги жанров Action  и Sports  разные."
   ]
  },
  {
   "cell_type": "markdown",
   "metadata": {},
   "source": [
    "H_0: Средний пользовательские рейтинги (user_score) жанра Action ≠ ср. рейтингу жанра Sports.\n",
    "\n",
    "H_a: Средний пользовательские рейтинги (user_score) платформы XOne = ср. рейтингу пользователей платформы PC.\n",
    "\n",
    "alpha = 0.05"
   ]
  },
  {
   "cell_type": "code",
   "execution_count": 90,
   "metadata": {},
   "outputs": [
    {
     "name": "stdout",
     "output_type": "stream",
     "text": [
      "4.24307776572644e-20\n",
      "Не получилось отвергнуть нулевую гипотезу \n"
     ]
    }
   ],
   "source": [
    "user_score_action  = data_actual[data_actual['genre'] == 'Action']['user_score']\n",
    "user_score_sports  = data_actual[data_actual['genre'] == 'Sports']['user_score']\n",
    "#display(user_score_pc)\n",
    "\n",
    "# results = вызов метода для проверки гипотезы\n",
    "results = st.ttest_ind(user_score_action, user_score_sports, equal_var = False,nan_policy='omit')\n",
    "\n",
    "# alpha = задайте значение уровня значимости\n",
    "alpha = 0.05\n",
    "\n",
    "# вывод значения p-value на экран \n",
    "print(results.pvalue)\n",
    "# условный оператор с выводом строки с ответом\n",
    "if results.pvalue > alpha:\n",
    "    print('Отвергаем нулевую гипотезу')\n",
    "else:\n",
    "    print('Не получилось отвергнуть нулевую гипотезу ')"
   ]
  },
  {
   "cell_type": "markdown",
   "metadata": {},
   "source": [
    "## Выводы."
   ]
  },
  {
   "cell_type": "markdown",
   "metadata": {},
   "source": [
    "    В нашей работе мы проанализировали данные о продажах компьютерных игр по всему миру,для определения перспективных     игровых платформ. \n",
    "    Датафрейм содержит строк-16715, столбцов- 11. \n",
    "    Данные содержатся с 1981 по 1916 год. \n",
    "    \n",
    "    Описание данных:\n",
    "    Name — название игры\n",
    "    Platform — платформа\n",
    "    Year_of_Release — год выпуска\n",
    "    Genre — жанр игры\n",
    "    NA_sales — продажи в Северной Америке (миллионы проданных копий)\n",
    "    EU_sales — продажи в Европе (миллионы проданных копий)\n",
    "    JP_sales — продажи в Японии (миллионы проданных копий)\n",
    "    Other_sales — продажи в других странах (миллионы проданных копий)\n",
    "    Critic_Score — оценка критиков (максимум 100)\n",
    "    User_Score — оценка пользователей (максимум 10)\n",
    "    Rating — рейтинг от организации ESRB (англ. Entertainment Software Rating Board). Эта ассоциация определяет рейтинг компьютерных игр и присваивает им подходящую возрастную категорию.\n",
    "\n",
    "    В предобработке данных дупликатов не было бнаружено. Строки мы решили не удалять. \n",
    "\n",
    "    Мы  поменяли тип данных года выпуска с float на int, и привели данные оценки пользователя к типу float.\n",
    "\n",
    "    В датафрейм мы добавили столбец суммарных продаж по всем регионам. "
   ]
  },
  {
   "cell_type": "markdown",
   "metadata": {},
   "source": [
    "    Исследуя данные мы пришли с следующим выводам:\n",
    "    Максимальное количество продаваемых игр в мире было в 2008 и 2009 годах чуть более 1400 игр в год, более 650 млн. копий. С 1980 по по 1994 игр продавалось немного, менее 200 в год. С 1992 по 2008 происходил рост количества продаваемых игр , с 2009 по 2015 происходит падение количества продаваемых игр, с 1400 до 500 штук , 250 млн. копий.\n",
    "    Самые большие продажи у платформы PS2, общие продажи 1256 млн. копий , 2161 игр. \n",
    "    Первые 6 платформ являются явными лидерами, их обьем продаж от 730 до 1256 млн. копий.\n",
    "    Все нижестоящие платформы продают вдвое, втрое и более раз меньше чем лидеры. \n",
    "    Можно отметить платформу DS по выручке она на 5 месте 806 млн. копий, а по количеству произведенных игр на втором, не сильно отличаясь от лидера, 2151 игра.\n",
    "    Вторая группа платформ с 7 по по 18 места с обьемом продаж от 318 млн. копий ( PS4)  до 160 млн. копий (XOne). \n",
    "    Изучая продажи платформ по годам, мы пришли к выводу:\n",
    "    Средний срок жизни платформы около 11 лет +/- 2 года. Самые мощные платформы PS2 и X360 прожили 12 лет, PS3 -11 ; WII, DS, PS-9 лет. \n",
    "    Обычно пика производительности платформа достигает в середине срока своей жизни, т.е. через 5-6 лет после начала своей деятельности.\n",
    "    Актуальный период должен быть меньше 11 лет, поскольку изучать данные \"умерших\" платформ для задач планирования продаж на 2017 год не имеет смысла. Актуальный период установим в 4 года, чтобы изучать лидеров последних лет, и исключить пяти, шестилетние пики лидеров прошлых лет. И в Будем анализировать данные с 2012 года включительно. \n",
    "    Анализируя данные за актуальный период мы выяснили, что : \n",
    "    Самая перспективная для продаж и рекламы платформа PS4, вторая по перспективности XOne. . С активной рекламы  платформы PC можно не спешить, стоит посмотреть на ее динамику в 2017 году.\n",
    "    Существует корреляция между продажами и рейтингом критиков, она равна 0,41. Корреляция между обьемом продаж игры и рейтингом пользователей отсутствует. "
   ]
  },
  {
   "cell_type": "markdown",
   "metadata": {},
   "source": [
    "    Изучая продажи игр по регионам , мы выяснили, что:\n",
    "    Топ 5 платформ для пользователей Европы в порядке убывания PS4, PS3, X360, XOne, 3DS. Топ 5 платформ для пользователей Сев.Америки в пор.убыв. X360, PS4, PS3, XOne, 3DS. Топ 5 платформ для Японии в пор. убывания 3DS, PS3, PSV, PS4, WiiU, PSP. Распределение вкусов пользователей по платформам в Европе и Сев. Америке схожее, только платформа X360 занимает в Сев.Америке первое место , а в Еропе -третье. Предпочтения пользоателей Японии кардинально отличается от Европы и Сев.Америки.\n",
    "    Предпочтения пользователей Европы и Сев.Америки схожи, первые 4 места занимают следующие жанры в порядке убывания: Action, Shooter, Sports, Role-Playing. В европе на 5 месте Racing, в Сев. Америке Misc. Предпочтения японцев существенно отличаются их 5 жанров в порядке убывания: Role-Playing, Action, Misc, Simulation, Fighting.\n",
    "    В Европе и Сев. Америке предпочтения пользователей по рейтингам ESRB схожи , по убыванию они распределены так: M, E, E10+, T. В Японии порядок другой : M, E, Т, E10+."
   ]
  },
  {
   "cell_type": "markdown",
   "metadata": {},
   "source": [
    "    Мы проверили две гипотезы:\n",
    "    1.Средние пользовательские рейтинги платформ XOne и PC одинаковые. Гипотеза оказалась верной.\n",
    "    2.Средние пользовательские рейтинги жанров Action и Sports разные. Гипотеза оказалась верной."
   ]
  },
  {
   "cell_type": "code",
   "execution_count": null,
   "metadata": {},
   "outputs": [],
   "source": []
  }
 ],
 "metadata": {
  "ExecuteTimeLog": [
   {
    "duration": 478,
    "start_time": "2022-11-14T09:16:35.465Z"
   },
   {
    "duration": 100,
    "start_time": "2022-11-14T09:16:52.660Z"
   },
   {
    "duration": 61,
    "start_time": "2022-11-14T09:17:03.386Z"
   },
   {
    "duration": 54,
    "start_time": "2022-11-14T09:18:29.289Z"
   },
   {
    "duration": 54,
    "start_time": "2022-11-14T09:18:57.820Z"
   },
   {
    "duration": 14,
    "start_time": "2022-11-14T09:19:36.800Z"
   },
   {
    "duration": 8,
    "start_time": "2022-11-14T09:24:18.001Z"
   },
   {
    "duration": 3,
    "start_time": "2022-11-14T09:31:13.580Z"
   },
   {
    "duration": 14,
    "start_time": "2022-11-14T09:31:47.323Z"
   },
   {
    "duration": 14,
    "start_time": "2022-11-14T09:33:01.178Z"
   },
   {
    "duration": 13,
    "start_time": "2022-11-14T10:22:46.159Z"
   },
   {
    "duration": 11,
    "start_time": "2022-11-14T10:27:54.501Z"
   },
   {
    "duration": 5,
    "start_time": "2022-11-14T10:36:37.918Z"
   },
   {
    "duration": 13,
    "start_time": "2022-11-14T10:37:08.326Z"
   },
   {
    "duration": 17,
    "start_time": "2022-11-14T10:44:25.187Z"
   },
   {
    "duration": 19,
    "start_time": "2022-11-14T10:45:36.047Z"
   },
   {
    "duration": 6,
    "start_time": "2022-11-14T10:46:58.379Z"
   },
   {
    "duration": 8,
    "start_time": "2022-11-14T10:48:03.538Z"
   },
   {
    "duration": 9,
    "start_time": "2022-11-14T10:48:56.481Z"
   },
   {
    "duration": 33,
    "start_time": "2022-11-14T10:49:12.264Z"
   },
   {
    "duration": 8,
    "start_time": "2022-11-14T10:59:46.827Z"
   },
   {
    "duration": 21,
    "start_time": "2022-11-14T11:00:11.831Z"
   },
   {
    "duration": 19,
    "start_time": "2022-11-14T11:04:21.261Z"
   },
   {
    "duration": 26,
    "start_time": "2022-11-14T11:05:13.932Z"
   },
   {
    "duration": 8,
    "start_time": "2022-11-14T11:06:11.564Z"
   },
   {
    "duration": 8,
    "start_time": "2022-11-14T11:06:31.431Z"
   },
   {
    "duration": 14,
    "start_time": "2022-11-14T11:12:21.177Z"
   },
   {
    "duration": 3,
    "start_time": "2022-11-14T11:12:22.966Z"
   },
   {
    "duration": 14,
    "start_time": "2022-11-14T11:12:35.276Z"
   },
   {
    "duration": 8,
    "start_time": "2022-11-14T11:12:43.021Z"
   },
   {
    "duration": 13,
    "start_time": "2022-11-14T11:13:14.559Z"
   },
   {
    "duration": 16,
    "start_time": "2022-11-14T11:22:41.472Z"
   },
   {
    "duration": 12,
    "start_time": "2022-11-14T11:24:06.627Z"
   },
   {
    "duration": 5,
    "start_time": "2022-11-14T11:28:55.512Z"
   },
   {
    "duration": 5,
    "start_time": "2022-11-14T11:29:51.628Z"
   },
   {
    "duration": 16,
    "start_time": "2022-11-14T11:30:19.188Z"
   },
   {
    "duration": 610,
    "start_time": "2022-11-14T11:43:20.518Z"
   },
   {
    "duration": 3,
    "start_time": "2022-11-14T11:43:34.783Z"
   },
   {
    "duration": 130,
    "start_time": "2022-11-14T11:43:45.472Z"
   },
   {
    "duration": 292,
    "start_time": "2022-11-14T11:45:24.630Z"
   },
   {
    "duration": 195,
    "start_time": "2022-11-14T11:45:50.884Z"
   },
   {
    "duration": 233,
    "start_time": "2022-11-14T11:46:02.524Z"
   },
   {
    "duration": 14,
    "start_time": "2022-11-14T11:58:36.219Z"
   },
   {
    "duration": 250,
    "start_time": "2022-11-14T12:04:39.450Z"
   },
   {
    "duration": 2,
    "start_time": "2022-11-14T12:07:51.387Z"
   },
   {
    "duration": 17,
    "start_time": "2022-11-14T12:10:58.458Z"
   },
   {
    "duration": 25,
    "start_time": "2022-11-14T12:11:26.126Z"
   },
   {
    "duration": 16,
    "start_time": "2022-11-14T12:14:29.101Z"
   },
   {
    "duration": 23,
    "start_time": "2022-11-14T12:14:49.298Z"
   },
   {
    "duration": 8,
    "start_time": "2022-11-14T12:14:57.147Z"
   },
   {
    "duration": 3,
    "start_time": "2022-11-14T12:15:54.314Z"
   },
   {
    "duration": 9,
    "start_time": "2022-11-14T12:16:17.514Z"
   },
   {
    "duration": 10,
    "start_time": "2022-11-14T12:16:42.272Z"
   },
   {
    "duration": 10,
    "start_time": "2022-11-14T12:18:45.183Z"
   },
   {
    "duration": 49,
    "start_time": "2022-11-16T03:15:23.187Z"
   },
   {
    "duration": 6,
    "start_time": "2022-11-16T03:17:09.748Z"
   },
   {
    "duration": 577,
    "start_time": "2022-11-16T03:17:18.166Z"
   },
   {
    "duration": 16,
    "start_time": "2022-11-16T03:17:18.745Z"
   },
   {
    "duration": 13,
    "start_time": "2022-11-16T03:17:18.762Z"
   },
   {
    "duration": 5,
    "start_time": "2022-11-16T03:17:18.777Z"
   },
   {
    "duration": 15,
    "start_time": "2022-11-16T03:17:18.784Z"
   },
   {
    "duration": 22,
    "start_time": "2022-11-16T03:17:18.800Z"
   },
   {
    "duration": 15,
    "start_time": "2022-11-16T03:17:18.824Z"
   },
   {
    "duration": 9,
    "start_time": "2022-11-16T03:17:18.841Z"
   },
   {
    "duration": 10,
    "start_time": "2022-11-16T03:17:18.852Z"
   },
   {
    "duration": 58,
    "start_time": "2022-11-16T03:17:18.863Z"
   },
   {
    "duration": 15,
    "start_time": "2022-11-16T03:17:18.923Z"
   },
   {
    "duration": 12,
    "start_time": "2022-11-16T03:17:18.940Z"
   },
   {
    "duration": 14,
    "start_time": "2022-11-16T03:17:18.954Z"
   },
   {
    "duration": 50,
    "start_time": "2022-11-16T03:17:18.970Z"
   },
   {
    "duration": 599,
    "start_time": "2022-11-16T03:17:19.022Z"
   },
   {
    "duration": 3,
    "start_time": "2022-11-16T03:17:19.623Z"
   },
   {
    "duration": 98,
    "start_time": "2022-11-16T03:17:19.627Z"
   },
   {
    "duration": 0,
    "start_time": "2022-11-16T03:17:19.727Z"
   },
   {
    "duration": 242,
    "start_time": "2022-11-16T03:17:28.913Z"
   },
   {
    "duration": 3,
    "start_time": "2022-11-16T03:17:31.256Z"
   },
   {
    "duration": 21,
    "start_time": "2022-11-16T03:17:33.504Z"
   },
   {
    "duration": 17,
    "start_time": "2022-11-16T03:18:04.781Z"
   },
   {
    "duration": 282,
    "start_time": "2022-11-16T03:18:10.909Z"
   },
   {
    "duration": 3,
    "start_time": "2022-11-16T03:18:13.208Z"
   },
   {
    "duration": 22,
    "start_time": "2022-11-16T03:18:17.578Z"
   },
   {
    "duration": 16,
    "start_time": "2022-11-16T03:18:54.426Z"
   },
   {
    "duration": 23,
    "start_time": "2022-11-16T03:19:21.606Z"
   },
   {
    "duration": 9,
    "start_time": "2022-11-16T03:19:42.945Z"
   },
   {
    "duration": 11,
    "start_time": "2022-11-16T03:21:43.103Z"
   },
   {
    "duration": 6,
    "start_time": "2022-11-16T03:33:21.461Z"
   },
   {
    "duration": 219,
    "start_time": "2022-11-16T03:37:38.130Z"
   },
   {
    "duration": 129,
    "start_time": "2022-11-16T03:42:16.716Z"
   },
   {
    "duration": 141,
    "start_time": "2022-11-16T03:43:51.974Z"
   },
   {
    "duration": 24,
    "start_time": "2022-11-16T03:44:38.876Z"
   },
   {
    "duration": 125,
    "start_time": "2022-11-16T03:45:05.622Z"
   },
   {
    "duration": 168,
    "start_time": "2022-11-16T03:51:00.319Z"
   },
   {
    "duration": 156,
    "start_time": "2022-11-16T03:51:18.672Z"
   },
   {
    "duration": 172,
    "start_time": "2022-11-16T03:56:54.768Z"
   },
   {
    "duration": 283,
    "start_time": "2022-11-16T04:02:24.197Z"
   },
   {
    "duration": 6,
    "start_time": "2022-11-16T04:03:10.309Z"
   },
   {
    "duration": 232,
    "start_time": "2022-11-16T04:06:16.792Z"
   },
   {
    "duration": 216,
    "start_time": "2022-11-16T04:07:02.579Z"
   },
   {
    "duration": 215,
    "start_time": "2022-11-16T04:07:36.974Z"
   },
   {
    "duration": 227,
    "start_time": "2022-11-16T04:08:17.498Z"
   },
   {
    "duration": 225,
    "start_time": "2022-11-16T04:09:19.959Z"
   },
   {
    "duration": 312,
    "start_time": "2022-11-16T04:11:28.055Z"
   },
   {
    "duration": 222,
    "start_time": "2022-11-16T04:13:30.668Z"
   },
   {
    "duration": 230,
    "start_time": "2022-11-16T04:21:24.263Z"
   },
   {
    "duration": 22,
    "start_time": "2022-11-16T05:12:23.566Z"
   },
   {
    "duration": 17,
    "start_time": "2022-11-16T05:15:00.961Z"
   },
   {
    "duration": 20,
    "start_time": "2022-11-16T05:22:19.278Z"
   },
   {
    "duration": 14,
    "start_time": "2022-11-16T05:23:52.017Z"
   },
   {
    "duration": 19,
    "start_time": "2022-11-16T05:24:04.061Z"
   },
   {
    "duration": 20,
    "start_time": "2022-11-16T05:24:50.795Z"
   },
   {
    "duration": 22,
    "start_time": "2022-11-16T05:26:12.885Z"
   },
   {
    "duration": 740,
    "start_time": "2022-11-16T05:28:38.970Z"
   },
   {
    "duration": 688,
    "start_time": "2022-11-16T05:29:26.301Z"
   },
   {
    "duration": 730,
    "start_time": "2022-11-16T05:29:55.749Z"
   },
   {
    "duration": 219,
    "start_time": "2022-11-16T05:30:24.420Z"
   },
   {
    "duration": 238,
    "start_time": "2022-11-16T05:31:22.283Z"
   },
   {
    "duration": 346,
    "start_time": "2022-11-16T05:33:02.594Z"
   },
   {
    "duration": 16,
    "start_time": "2022-11-16T05:34:32.000Z"
   },
   {
    "duration": 21,
    "start_time": "2022-11-16T05:35:13.176Z"
   },
   {
    "duration": 19,
    "start_time": "2022-11-16T05:35:27.330Z"
   },
   {
    "duration": 20,
    "start_time": "2022-11-16T05:36:05.976Z"
   },
   {
    "duration": 221,
    "start_time": "2022-11-16T05:36:20.290Z"
   },
   {
    "duration": 22,
    "start_time": "2022-11-16T05:36:39.179Z"
   },
   {
    "duration": 216,
    "start_time": "2022-11-16T05:37:58.003Z"
   },
   {
    "duration": 222,
    "start_time": "2022-11-16T05:38:03.126Z"
   },
   {
    "duration": 241,
    "start_time": "2022-11-16T05:38:40.385Z"
   },
   {
    "duration": 217,
    "start_time": "2022-11-16T05:42:56.701Z"
   },
   {
    "duration": 360,
    "start_time": "2022-11-16T05:44:16.857Z"
   },
   {
    "duration": 221,
    "start_time": "2022-11-16T05:45:38.512Z"
   },
   {
    "duration": 245,
    "start_time": "2022-11-16T05:47:24.177Z"
   },
   {
    "duration": 190,
    "start_time": "2022-11-16T05:48:03.403Z"
   },
   {
    "duration": 254,
    "start_time": "2022-11-16T05:48:23.117Z"
   },
   {
    "duration": 23,
    "start_time": "2022-11-16T05:53:03.228Z"
   },
   {
    "duration": 19,
    "start_time": "2022-11-16T05:54:08.530Z"
   },
   {
    "duration": 267,
    "start_time": "2022-11-16T05:54:23.287Z"
   },
   {
    "duration": 233,
    "start_time": "2022-11-16T05:54:50.690Z"
   },
   {
    "duration": 241,
    "start_time": "2022-11-16T06:00:09.282Z"
   },
   {
    "duration": 412,
    "start_time": "2022-11-16T06:01:30.134Z"
   },
   {
    "duration": 240,
    "start_time": "2022-11-16T06:03:12.799Z"
   },
   {
    "duration": 51,
    "start_time": "2022-11-16T06:07:12.008Z"
   },
   {
    "duration": 262,
    "start_time": "2022-11-16T06:12:26.916Z"
   },
   {
    "duration": 244,
    "start_time": "2022-11-16T06:21:27.378Z"
   },
   {
    "duration": 110,
    "start_time": "2022-11-16T06:53:48.386Z"
   },
   {
    "duration": 105,
    "start_time": "2022-11-16T06:54:55.186Z"
   },
   {
    "duration": 119,
    "start_time": "2022-11-16T07:06:21.979Z"
   },
   {
    "duration": 96,
    "start_time": "2022-11-16T07:07:20.221Z"
   },
   {
    "duration": 111,
    "start_time": "2022-11-16T07:07:39.505Z"
   },
   {
    "duration": 101,
    "start_time": "2022-11-16T07:07:55.896Z"
   },
   {
    "duration": 103,
    "start_time": "2022-11-16T07:08:07.070Z"
   },
   {
    "duration": 120,
    "start_time": "2022-11-16T07:08:14.356Z"
   },
   {
    "duration": 116,
    "start_time": "2022-11-16T07:09:44.044Z"
   },
   {
    "duration": 102,
    "start_time": "2022-11-16T07:09:45.137Z"
   },
   {
    "duration": 120,
    "start_time": "2022-11-16T07:10:10.528Z"
   },
   {
    "duration": 101,
    "start_time": "2022-11-16T07:10:24.783Z"
   },
   {
    "duration": 143,
    "start_time": "2022-11-16T07:13:52.216Z"
   },
   {
    "duration": 305,
    "start_time": "2022-11-16T07:14:11.854Z"
   },
   {
    "duration": 561,
    "start_time": "2022-11-16T07:14:33.973Z"
   },
   {
    "duration": 171,
    "start_time": "2022-11-16T07:14:41.382Z"
   },
   {
    "duration": 245,
    "start_time": "2022-11-16T07:15:02.344Z"
   },
   {
    "duration": 246,
    "start_time": "2022-11-16T07:15:43.521Z"
   },
   {
    "duration": 27,
    "start_time": "2022-11-16T07:18:26.794Z"
   },
   {
    "duration": 18,
    "start_time": "2022-11-16T07:19:14.752Z"
   },
   {
    "duration": 27,
    "start_time": "2022-11-16T07:19:35.773Z"
   },
   {
    "duration": 16,
    "start_time": "2022-11-16T07:20:15.431Z"
   },
   {
    "duration": 19,
    "start_time": "2022-11-16T07:20:24.087Z"
   },
   {
    "duration": 23,
    "start_time": "2022-11-16T07:20:28.981Z"
   },
   {
    "duration": 472,
    "start_time": "2022-11-16T07:20:40.953Z"
   },
   {
    "duration": 15,
    "start_time": "2022-11-16T07:20:41.427Z"
   },
   {
    "duration": 14,
    "start_time": "2022-11-16T07:20:41.444Z"
   },
   {
    "duration": 8,
    "start_time": "2022-11-16T07:20:41.460Z"
   },
   {
    "duration": 20,
    "start_time": "2022-11-16T07:20:41.469Z"
   },
   {
    "duration": 25,
    "start_time": "2022-11-16T07:20:41.491Z"
   },
   {
    "duration": 16,
    "start_time": "2022-11-16T07:20:41.518Z"
   },
   {
    "duration": 10,
    "start_time": "2022-11-16T07:20:41.535Z"
   },
   {
    "duration": 12,
    "start_time": "2022-11-16T07:20:41.547Z"
   },
   {
    "duration": 29,
    "start_time": "2022-11-16T07:20:41.562Z"
   },
   {
    "duration": 18,
    "start_time": "2022-11-16T07:20:41.615Z"
   },
   {
    "duration": 14,
    "start_time": "2022-11-16T07:20:41.634Z"
   },
   {
    "duration": 18,
    "start_time": "2022-11-16T07:20:41.650Z"
   },
   {
    "duration": 53,
    "start_time": "2022-11-16T07:20:41.669Z"
   },
   {
    "duration": 518,
    "start_time": "2022-11-16T07:20:41.723Z"
   },
   {
    "duration": 3,
    "start_time": "2022-11-16T07:20:42.243Z"
   },
   {
    "duration": 42,
    "start_time": "2022-11-16T07:20:42.248Z"
   },
   {
    "duration": 9,
    "start_time": "2022-11-16T07:20:42.292Z"
   },
   {
    "duration": 284,
    "start_time": "2022-11-16T07:20:42.303Z"
   },
   {
    "duration": 299,
    "start_time": "2022-11-16T07:20:42.589Z"
   },
   {
    "duration": 241,
    "start_time": "2022-11-16T07:20:42.890Z"
   },
   {
    "duration": 244,
    "start_time": "2022-11-16T07:20:43.132Z"
   },
   {
    "duration": 235,
    "start_time": "2022-11-16T07:20:43.378Z"
   },
   {
    "duration": 249,
    "start_time": "2022-11-16T07:20:43.616Z"
   },
   {
    "duration": 277,
    "start_time": "2022-11-16T07:20:43.866Z"
   },
   {
    "duration": 23,
    "start_time": "2022-11-16T07:20:44.144Z"
   },
   {
    "duration": 18,
    "start_time": "2022-11-16T07:20:44.168Z"
   },
   {
    "duration": 352,
    "start_time": "2022-11-16T07:20:44.189Z"
   },
   {
    "duration": 270,
    "start_time": "2022-11-16T07:20:44.543Z"
   },
   {
    "duration": 262,
    "start_time": "2022-11-16T07:20:44.815Z"
   },
   {
    "duration": 254,
    "start_time": "2022-11-16T07:20:45.079Z"
   },
   {
    "duration": 240,
    "start_time": "2022-11-16T07:20:45.335Z"
   },
   {
    "duration": 367,
    "start_time": "2022-11-16T07:20:45.577Z"
   },
   {
    "duration": 263,
    "start_time": "2022-11-16T07:20:45.946Z"
   },
   {
    "duration": 343,
    "start_time": "2022-11-16T07:20:46.210Z"
   },
   {
    "duration": 257,
    "start_time": "2022-11-16T07:20:46.555Z"
   },
   {
    "duration": 17,
    "start_time": "2022-11-16T07:20:46.815Z"
   },
   {
    "duration": 122,
    "start_time": "2022-11-16T07:20:46.834Z"
   },
   {
    "duration": 110,
    "start_time": "2022-11-16T07:20:46.958Z"
   },
   {
    "duration": 17,
    "start_time": "2022-11-16T07:21:04.104Z"
   },
   {
    "duration": 24,
    "start_time": "2022-11-16T07:21:11.591Z"
   },
   {
    "duration": 80,
    "start_time": "2022-11-16T07:23:46.381Z"
   },
   {
    "duration": 211,
    "start_time": "2022-11-16T07:23:59.406Z"
   },
   {
    "duration": 14,
    "start_time": "2022-11-16T07:25:24.812Z"
   },
   {
    "duration": 14,
    "start_time": "2022-11-16T07:28:05.872Z"
   },
   {
    "duration": 33,
    "start_time": "2022-11-16T07:28:33.259Z"
   },
   {
    "duration": 26,
    "start_time": "2022-11-16T07:28:39.971Z"
   },
   {
    "duration": 37,
    "start_time": "2022-11-16T07:30:58.888Z"
   },
   {
    "duration": 681,
    "start_time": "2022-11-16T07:33:31.215Z"
   },
   {
    "duration": 940,
    "start_time": "2022-11-16T07:37:55.185Z"
   },
   {
    "duration": 178,
    "start_time": "2022-11-16T07:40:22.297Z"
   },
   {
    "duration": 268,
    "start_time": "2022-11-16T07:40:48.879Z"
   },
   {
    "duration": 250,
    "start_time": "2022-11-16T07:45:27.909Z"
   },
   {
    "duration": 253,
    "start_time": "2022-11-16T07:46:58.264Z"
   },
   {
    "duration": 141,
    "start_time": "2022-11-16T07:57:14.340Z"
   },
   {
    "duration": 141,
    "start_time": "2022-11-16T07:57:24.773Z"
   },
   {
    "duration": 163,
    "start_time": "2022-11-16T07:57:40.468Z"
   },
   {
    "duration": 111,
    "start_time": "2022-11-16T08:01:28.554Z"
   },
   {
    "duration": 122,
    "start_time": "2022-11-16T08:01:42.418Z"
   },
   {
    "duration": 99,
    "start_time": "2022-11-16T08:02:03.493Z"
   },
   {
    "duration": 94,
    "start_time": "2022-11-16T08:02:39.404Z"
   },
   {
    "duration": 251,
    "start_time": "2022-11-16T08:03:13.417Z"
   },
   {
    "duration": 103,
    "start_time": "2022-11-16T08:03:56.982Z"
   },
   {
    "duration": 162,
    "start_time": "2022-11-16T08:04:59.979Z"
   },
   {
    "duration": 149,
    "start_time": "2022-11-16T08:05:13.374Z"
   },
   {
    "duration": 103,
    "start_time": "2022-11-16T08:06:32.255Z"
   },
   {
    "duration": 18,
    "start_time": "2022-11-16T08:11:59.563Z"
   },
   {
    "duration": 113,
    "start_time": "2022-11-16T08:19:13.129Z"
   },
   {
    "duration": 123,
    "start_time": "2022-11-16T08:19:24.238Z"
   },
   {
    "duration": 99,
    "start_time": "2022-11-16T08:20:41.570Z"
   },
   {
    "duration": 103,
    "start_time": "2022-11-16T08:22:13.857Z"
   },
   {
    "duration": 99,
    "start_time": "2022-11-16T08:24:19.368Z"
   },
   {
    "duration": 119,
    "start_time": "2022-11-16T08:28:42.069Z"
   },
   {
    "duration": 106,
    "start_time": "2022-11-16T08:30:05.864Z"
   },
   {
    "duration": 127,
    "start_time": "2022-11-16T08:31:40.551Z"
   },
   {
    "duration": 118,
    "start_time": "2022-11-16T08:31:52.068Z"
   },
   {
    "duration": 23,
    "start_time": "2022-11-16T08:34:36.671Z"
   },
   {
    "duration": 20,
    "start_time": "2022-11-16T08:35:41.490Z"
   },
   {
    "duration": 25,
    "start_time": "2022-11-16T08:35:54.903Z"
   },
   {
    "duration": 22,
    "start_time": "2022-11-16T08:39:46.994Z"
   },
   {
    "duration": 17,
    "start_time": "2022-11-16T08:40:40.083Z"
   },
   {
    "duration": 18,
    "start_time": "2022-11-16T08:40:48.507Z"
   },
   {
    "duration": 14,
    "start_time": "2022-11-16T08:40:59.641Z"
   },
   {
    "duration": 4,
    "start_time": "2022-11-16T09:19:43.332Z"
   },
   {
    "duration": 6,
    "start_time": "2022-11-16T09:21:30.793Z"
   },
   {
    "duration": 15,
    "start_time": "2022-11-16T09:21:42.030Z"
   },
   {
    "duration": 12,
    "start_time": "2022-11-16T09:22:02.423Z"
   },
   {
    "duration": 11,
    "start_time": "2022-11-16T09:22:13.339Z"
   },
   {
    "duration": 370,
    "start_time": "2022-11-16T09:22:48.313Z"
   },
   {
    "duration": 7,
    "start_time": "2022-11-16T09:24:37.667Z"
   },
   {
    "duration": 11,
    "start_time": "2022-11-16T09:24:50.283Z"
   },
   {
    "duration": 391,
    "start_time": "2022-11-16T09:25:35.380Z"
   },
   {
    "duration": 55,
    "start_time": "2022-11-16T10:45:21.232Z"
   },
   {
    "duration": 10,
    "start_time": "2022-11-16T10:45:28.599Z"
   },
   {
    "duration": 18,
    "start_time": "2022-11-16T10:45:53.521Z"
   },
   {
    "duration": 10,
    "start_time": "2022-11-16T10:46:02.190Z"
   },
   {
    "duration": 427,
    "start_time": "2022-11-16T10:46:03.165Z"
   },
   {
    "duration": 14,
    "start_time": "2022-11-16T10:47:19.230Z"
   },
   {
    "duration": 8,
    "start_time": "2022-11-16T10:47:19.818Z"
   },
   {
    "duration": 11,
    "start_time": "2022-11-16T10:48:06.994Z"
   },
   {
    "duration": 13,
    "start_time": "2022-11-16T10:52:24.411Z"
   },
   {
    "duration": 12,
    "start_time": "2022-11-16T10:58:58.063Z"
   },
   {
    "duration": 16,
    "start_time": "2022-11-16T10:59:16.433Z"
   },
   {
    "duration": 4,
    "start_time": "2022-11-16T11:00:31.320Z"
   },
   {
    "duration": 5,
    "start_time": "2022-11-16T11:00:38.402Z"
   },
   {
    "duration": 4,
    "start_time": "2022-11-16T11:01:20.371Z"
   },
   {
    "duration": 4,
    "start_time": "2022-11-16T11:01:24.163Z"
   },
   {
    "duration": 13,
    "start_time": "2022-11-16T11:01:28.450Z"
   },
   {
    "duration": 9,
    "start_time": "2022-11-16T11:01:39.147Z"
   },
   {
    "duration": 15,
    "start_time": "2022-11-16T11:01:40.110Z"
   },
   {
    "duration": 8,
    "start_time": "2022-11-16T11:01:40.711Z"
   },
   {
    "duration": 8,
    "start_time": "2022-11-16T11:01:41.112Z"
   },
   {
    "duration": 25,
    "start_time": "2022-11-16T11:01:42.440Z"
   },
   {
    "duration": 18,
    "start_time": "2022-11-16T11:01:43.603Z"
   },
   {
    "duration": 8,
    "start_time": "2022-11-16T11:01:56.124Z"
   },
   {
    "duration": 16,
    "start_time": "2022-11-16T11:01:57.240Z"
   },
   {
    "duration": 17,
    "start_time": "2022-11-16T11:01:59.406Z"
   },
   {
    "duration": 421,
    "start_time": "2022-11-16T11:02:01.264Z"
   },
   {
    "duration": 3,
    "start_time": "2022-11-16T11:02:02.546Z"
   },
   {
    "duration": 23,
    "start_time": "2022-11-16T11:02:03.199Z"
   },
   {
    "duration": 11,
    "start_time": "2022-11-16T11:02:03.336Z"
   },
   {
    "duration": 229,
    "start_time": "2022-11-16T11:02:04.236Z"
   },
   {
    "duration": 241,
    "start_time": "2022-11-16T11:02:04.467Z"
   },
   {
    "duration": 230,
    "start_time": "2022-11-16T11:02:04.715Z"
   },
   {
    "duration": 238,
    "start_time": "2022-11-16T11:02:04.947Z"
   },
   {
    "duration": 219,
    "start_time": "2022-11-16T11:02:05.209Z"
   },
   {
    "duration": 224,
    "start_time": "2022-11-16T11:02:05.613Z"
   },
   {
    "duration": 273,
    "start_time": "2022-11-16T11:02:05.840Z"
   },
   {
    "duration": 24,
    "start_time": "2022-11-16T11:02:06.718Z"
   },
   {
    "duration": 20,
    "start_time": "2022-11-16T11:02:07.548Z"
   },
   {
    "duration": 253,
    "start_time": "2022-11-16T11:02:08.112Z"
   },
   {
    "duration": 437,
    "start_time": "2022-11-16T11:02:08.511Z"
   },
   {
    "duration": 243,
    "start_time": "2022-11-16T11:02:10.658Z"
   },
   {
    "duration": 247,
    "start_time": "2022-11-16T11:02:11.221Z"
   },
   {
    "duration": 232,
    "start_time": "2022-11-16T11:02:12.160Z"
   },
   {
    "duration": 244,
    "start_time": "2022-11-16T11:02:12.966Z"
   },
   {
    "duration": 281,
    "start_time": "2022-11-16T11:02:13.815Z"
   },
   {
    "duration": 250,
    "start_time": "2022-11-16T11:02:14.863Z"
   },
   {
    "duration": 230,
    "start_time": "2022-11-16T11:02:15.675Z"
   },
   {
    "duration": 23,
    "start_time": "2022-11-16T11:02:19.241Z"
   },
   {
    "duration": 18,
    "start_time": "2022-11-16T11:02:19.815Z"
   },
   {
    "duration": 154,
    "start_time": "2022-11-16T11:02:20.499Z"
   },
   {
    "duration": 147,
    "start_time": "2022-11-16T11:02:21.105Z"
   },
   {
    "duration": 110,
    "start_time": "2022-11-16T11:02:21.551Z"
   },
   {
    "duration": 107,
    "start_time": "2022-11-16T11:02:22.993Z"
   },
   {
    "duration": 24,
    "start_time": "2022-11-16T11:02:25.370Z"
   },
   {
    "duration": 18,
    "start_time": "2022-11-16T11:02:25.992Z"
   },
   {
    "duration": 123,
    "start_time": "2022-11-16T11:02:26.681Z"
   },
   {
    "duration": 23,
    "start_time": "2022-11-16T11:02:27.705Z"
   },
   {
    "duration": 14,
    "start_time": "2022-11-16T11:02:27.966Z"
   },
   {
    "duration": 93,
    "start_time": "2022-11-16T11:02:28.248Z"
   },
   {
    "duration": 12,
    "start_time": "2022-11-16T11:02:31.314Z"
   },
   {
    "duration": 11,
    "start_time": "2022-11-16T11:02:31.917Z"
   },
   {
    "duration": 820,
    "start_time": "2022-11-16T11:02:33.092Z"
   },
   {
    "duration": 20,
    "start_time": "2022-11-16T11:12:07.398Z"
   },
   {
    "duration": 21,
    "start_time": "2022-11-16T11:12:20.252Z"
   },
   {
    "duration": 20,
    "start_time": "2022-11-16T11:12:33.566Z"
   },
   {
    "duration": 10,
    "start_time": "2022-11-16T11:25:45.551Z"
   },
   {
    "duration": 15,
    "start_time": "2022-11-16T11:26:02.788Z"
   },
   {
    "duration": 16,
    "start_time": "2022-11-16T11:26:37.890Z"
   },
   {
    "duration": 17,
    "start_time": "2022-11-16T11:27:49.291Z"
   },
   {
    "duration": 26,
    "start_time": "2022-11-16T11:29:50.521Z"
   },
   {
    "duration": 10,
    "start_time": "2022-11-16T11:30:17.051Z"
   },
   {
    "duration": 16,
    "start_time": "2022-11-16T11:30:26.910Z"
   },
   {
    "duration": 18,
    "start_time": "2022-11-16T11:41:33.806Z"
   },
   {
    "duration": 10,
    "start_time": "2022-11-16T11:41:34.354Z"
   },
   {
    "duration": 27,
    "start_time": "2022-11-16T12:07:23.750Z"
   },
   {
    "duration": 16,
    "start_time": "2022-11-16T12:08:13.963Z"
   },
   {
    "duration": 12,
    "start_time": "2022-11-16T12:08:53.425Z"
   },
   {
    "duration": 12,
    "start_time": "2022-11-16T12:09:02.133Z"
   },
   {
    "duration": 14,
    "start_time": "2022-11-16T12:09:51.181Z"
   },
   {
    "duration": 15,
    "start_time": "2022-11-16T12:20:56.975Z"
   },
   {
    "duration": 17,
    "start_time": "2022-11-16T12:23:23.678Z"
   },
   {
    "duration": 15,
    "start_time": "2022-11-16T12:23:47.153Z"
   },
   {
    "duration": 50,
    "start_time": "2022-11-17T03:49:08.427Z"
   },
   {
    "duration": 605,
    "start_time": "2022-11-17T03:49:49.461Z"
   },
   {
    "duration": 15,
    "start_time": "2022-11-17T03:49:50.068Z"
   },
   {
    "duration": 14,
    "start_time": "2022-11-17T03:49:50.085Z"
   },
   {
    "duration": 11,
    "start_time": "2022-11-17T03:49:50.101Z"
   },
   {
    "duration": 11,
    "start_time": "2022-11-17T03:49:50.115Z"
   },
   {
    "duration": 37,
    "start_time": "2022-11-17T03:49:50.128Z"
   },
   {
    "duration": 11,
    "start_time": "2022-11-17T03:49:50.167Z"
   },
   {
    "duration": 30,
    "start_time": "2022-11-17T03:49:50.180Z"
   },
   {
    "duration": 43,
    "start_time": "2022-11-17T03:49:50.212Z"
   },
   {
    "duration": 16,
    "start_time": "2022-11-17T03:49:50.257Z"
   },
   {
    "duration": 33,
    "start_time": "2022-11-17T03:49:50.275Z"
   },
   {
    "duration": 47,
    "start_time": "2022-11-17T03:49:50.310Z"
   },
   {
    "duration": 8,
    "start_time": "2022-11-17T03:49:50.359Z"
   },
   {
    "duration": 22,
    "start_time": "2022-11-17T03:49:50.371Z"
   },
   {
    "duration": 20,
    "start_time": "2022-11-17T03:49:50.395Z"
   },
   {
    "duration": 814,
    "start_time": "2022-11-17T03:49:50.452Z"
   },
   {
    "duration": 5,
    "start_time": "2022-11-17T03:49:51.268Z"
   },
   {
    "duration": 32,
    "start_time": "2022-11-17T03:49:51.275Z"
   },
   {
    "duration": 11,
    "start_time": "2022-11-17T03:49:51.309Z"
   },
   {
    "duration": 287,
    "start_time": "2022-11-17T03:49:51.322Z"
   },
   {
    "duration": 330,
    "start_time": "2022-11-17T03:49:51.610Z"
   },
   {
    "duration": 274,
    "start_time": "2022-11-17T03:49:51.941Z"
   },
   {
    "duration": 297,
    "start_time": "2022-11-17T03:49:52.217Z"
   },
   {
    "duration": 269,
    "start_time": "2022-11-17T03:49:52.516Z"
   },
   {
    "duration": 247,
    "start_time": "2022-11-17T03:49:52.787Z"
   },
   {
    "duration": 361,
    "start_time": "2022-11-17T03:49:53.036Z"
   },
   {
    "duration": 26,
    "start_time": "2022-11-17T03:49:53.399Z"
   },
   {
    "duration": 39,
    "start_time": "2022-11-17T03:49:53.427Z"
   },
   {
    "duration": 295,
    "start_time": "2022-11-17T03:49:53.468Z"
   },
   {
    "duration": 278,
    "start_time": "2022-11-17T03:49:53.765Z"
   },
   {
    "duration": 312,
    "start_time": "2022-11-17T03:49:54.052Z"
   },
   {
    "duration": 272,
    "start_time": "2022-11-17T03:49:54.366Z"
   },
   {
    "duration": 275,
    "start_time": "2022-11-17T03:49:54.640Z"
   },
   {
    "duration": 415,
    "start_time": "2022-11-17T03:49:54.917Z"
   },
   {
    "duration": 295,
    "start_time": "2022-11-17T03:49:55.334Z"
   },
   {
    "duration": 294,
    "start_time": "2022-11-17T03:49:55.631Z"
   },
   {
    "duration": 277,
    "start_time": "2022-11-17T03:49:55.927Z"
   },
   {
    "duration": 25,
    "start_time": "2022-11-17T03:49:56.206Z"
   },
   {
    "duration": 34,
    "start_time": "2022-11-17T03:49:56.233Z"
   },
   {
    "duration": 184,
    "start_time": "2022-11-17T03:49:56.269Z"
   },
   {
    "duration": 182,
    "start_time": "2022-11-17T03:49:56.457Z"
   },
   {
    "duration": 151,
    "start_time": "2022-11-17T03:49:56.641Z"
   },
   {
    "duration": 251,
    "start_time": "2022-11-17T03:49:56.794Z"
   },
   {
    "duration": 25,
    "start_time": "2022-11-17T03:49:57.050Z"
   },
   {
    "duration": 20,
    "start_time": "2022-11-17T03:49:57.076Z"
   },
   {
    "duration": 145,
    "start_time": "2022-11-17T03:49:57.098Z"
   },
   {
    "duration": 25,
    "start_time": "2022-11-17T03:49:57.251Z"
   },
   {
    "duration": 24,
    "start_time": "2022-11-17T03:49:57.278Z"
   },
   {
    "duration": 136,
    "start_time": "2022-11-17T03:49:57.304Z"
   },
   {
    "duration": 19,
    "start_time": "2022-11-17T03:49:57.442Z"
   },
   {
    "duration": 10,
    "start_time": "2022-11-17T03:49:57.463Z"
   },
   {
    "duration": 701,
    "start_time": "2022-11-17T03:49:57.475Z"
   },
   {
    "duration": 30,
    "start_time": "2022-11-17T03:49:58.179Z"
   },
   {
    "duration": 21,
    "start_time": "2022-11-17T03:49:58.211Z"
   },
   {
    "duration": 22,
    "start_time": "2022-11-17T03:49:58.235Z"
   },
   {
    "duration": 21,
    "start_time": "2022-11-17T03:49:58.262Z"
   },
   {
    "duration": 12,
    "start_time": "2022-11-17T03:49:58.285Z"
   },
   {
    "duration": 19,
    "start_time": "2022-11-17T03:49:58.299Z"
   },
   {
    "duration": 28,
    "start_time": "2022-11-17T03:49:58.350Z"
   },
   {
    "duration": 20,
    "start_time": "2022-11-17T03:49:58.381Z"
   },
   {
    "duration": 120,
    "start_time": "2022-11-17T03:49:58.402Z"
   },
   {
    "duration": 461,
    "start_time": "2022-11-17T03:51:37.504Z"
   },
   {
    "duration": 37,
    "start_time": "2022-11-17T03:51:40.998Z"
   },
   {
    "duration": 9,
    "start_time": "2022-11-17T03:52:03.549Z"
   },
   {
    "duration": 8,
    "start_time": "2022-11-17T03:54:06.370Z"
   },
   {
    "duration": 10,
    "start_time": "2022-11-17T04:04:17.816Z"
   },
   {
    "duration": 15,
    "start_time": "2022-11-17T04:05:15.872Z"
   },
   {
    "duration": 11,
    "start_time": "2022-11-17T04:06:17.354Z"
   },
   {
    "duration": 14,
    "start_time": "2022-11-17T04:15:50.029Z"
   },
   {
    "duration": 17,
    "start_time": "2022-11-17T04:18:00.567Z"
   },
   {
    "duration": 343,
    "start_time": "2022-11-17T04:19:42.390Z"
   },
   {
    "duration": 9,
    "start_time": "2022-11-17T04:34:40.364Z"
   },
   {
    "duration": 491,
    "start_time": "2022-11-17T04:34:55.296Z"
   },
   {
    "duration": 26,
    "start_time": "2022-11-17T04:34:55.789Z"
   },
   {
    "duration": 37,
    "start_time": "2022-11-17T04:34:55.817Z"
   },
   {
    "duration": 13,
    "start_time": "2022-11-17T04:34:55.856Z"
   },
   {
    "duration": 21,
    "start_time": "2022-11-17T04:34:55.872Z"
   },
   {
    "duration": 13,
    "start_time": "2022-11-17T04:34:55.896Z"
   },
   {
    "duration": 46,
    "start_time": "2022-11-17T04:34:55.911Z"
   },
   {
    "duration": 13,
    "start_time": "2022-11-17T04:34:55.959Z"
   },
   {
    "duration": 14,
    "start_time": "2022-11-17T04:34:55.974Z"
   },
   {
    "duration": 62,
    "start_time": "2022-11-17T04:34:55.990Z"
   },
   {
    "duration": 25,
    "start_time": "2022-11-17T04:34:56.054Z"
   },
   {
    "duration": 19,
    "start_time": "2022-11-17T04:34:56.081Z"
   },
   {
    "duration": 10,
    "start_time": "2022-11-17T04:34:56.102Z"
   },
   {
    "duration": 60,
    "start_time": "2022-11-17T04:34:56.117Z"
   },
   {
    "duration": 28,
    "start_time": "2022-11-17T04:34:56.179Z"
   },
   {
    "duration": 573,
    "start_time": "2022-11-17T04:34:56.209Z"
   },
   {
    "duration": 3,
    "start_time": "2022-11-17T04:34:56.784Z"
   },
   {
    "duration": 44,
    "start_time": "2022-11-17T04:34:56.789Z"
   },
   {
    "duration": 28,
    "start_time": "2022-11-17T04:34:56.835Z"
   },
   {
    "duration": 274,
    "start_time": "2022-11-17T04:34:56.865Z"
   },
   {
    "duration": 361,
    "start_time": "2022-11-17T04:34:57.141Z"
   },
   {
    "duration": 258,
    "start_time": "2022-11-17T04:34:57.504Z"
   },
   {
    "duration": 272,
    "start_time": "2022-11-17T04:34:57.764Z"
   },
   {
    "duration": 260,
    "start_time": "2022-11-17T04:34:58.037Z"
   },
   {
    "duration": 250,
    "start_time": "2022-11-17T04:34:58.299Z"
   },
   {
    "duration": 272,
    "start_time": "2022-11-17T04:34:58.551Z"
   },
   {
    "duration": 33,
    "start_time": "2022-11-17T04:34:58.825Z"
   },
   {
    "duration": 21,
    "start_time": "2022-11-17T04:34:58.860Z"
   },
   {
    "duration": 419,
    "start_time": "2022-11-17T04:34:58.883Z"
   },
   {
    "duration": 294,
    "start_time": "2022-11-17T04:34:59.304Z"
   },
   {
    "duration": 337,
    "start_time": "2022-11-17T04:34:59.600Z"
   },
   {
    "duration": 284,
    "start_time": "2022-11-17T04:34:59.940Z"
   },
   {
    "duration": 260,
    "start_time": "2022-11-17T04:35:00.226Z"
   },
   {
    "duration": 418,
    "start_time": "2022-11-17T04:35:00.488Z"
   },
   {
    "duration": 282,
    "start_time": "2022-11-17T04:35:00.908Z"
   },
   {
    "duration": 270,
    "start_time": "2022-11-17T04:35:01.192Z"
   },
   {
    "duration": 272,
    "start_time": "2022-11-17T04:35:01.464Z"
   },
   {
    "duration": 722,
    "start_time": "2022-11-17T04:35:01.738Z"
   },
   {
    "duration": 0,
    "start_time": "2022-11-17T04:35:02.462Z"
   },
   {
    "duration": 0,
    "start_time": "2022-11-17T04:35:02.464Z"
   },
   {
    "duration": 0,
    "start_time": "2022-11-17T04:35:02.465Z"
   },
   {
    "duration": 0,
    "start_time": "2022-11-17T04:35:02.466Z"
   },
   {
    "duration": 0,
    "start_time": "2022-11-17T04:35:02.467Z"
   },
   {
    "duration": 0,
    "start_time": "2022-11-17T04:35:02.469Z"
   },
   {
    "duration": 0,
    "start_time": "2022-11-17T04:35:02.470Z"
   },
   {
    "duration": 0,
    "start_time": "2022-11-17T04:35:02.472Z"
   },
   {
    "duration": 0,
    "start_time": "2022-11-17T04:35:02.473Z"
   },
   {
    "duration": 0,
    "start_time": "2022-11-17T04:35:02.474Z"
   },
   {
    "duration": 0,
    "start_time": "2022-11-17T04:35:02.476Z"
   },
   {
    "duration": 0,
    "start_time": "2022-11-17T04:35:02.477Z"
   },
   {
    "duration": 0,
    "start_time": "2022-11-17T04:35:02.478Z"
   },
   {
    "duration": 0,
    "start_time": "2022-11-17T04:35:02.479Z"
   },
   {
    "duration": 0,
    "start_time": "2022-11-17T04:35:02.480Z"
   },
   {
    "duration": 0,
    "start_time": "2022-11-17T04:35:02.481Z"
   },
   {
    "duration": 0,
    "start_time": "2022-11-17T04:35:02.483Z"
   },
   {
    "duration": 0,
    "start_time": "2022-11-17T04:35:02.484Z"
   },
   {
    "duration": 0,
    "start_time": "2022-11-17T04:35:02.485Z"
   },
   {
    "duration": 0,
    "start_time": "2022-11-17T04:35:02.486Z"
   },
   {
    "duration": 0,
    "start_time": "2022-11-17T04:35:02.487Z"
   },
   {
    "duration": 0,
    "start_time": "2022-11-17T04:35:02.488Z"
   },
   {
    "duration": 0,
    "start_time": "2022-11-17T04:35:02.489Z"
   },
   {
    "duration": 0,
    "start_time": "2022-11-17T04:35:02.491Z"
   },
   {
    "duration": 0,
    "start_time": "2022-11-17T04:35:02.492Z"
   },
   {
    "duration": 0,
    "start_time": "2022-11-17T04:35:02.493Z"
   },
   {
    "duration": 303,
    "start_time": "2022-11-17T04:37:00.582Z"
   },
   {
    "duration": 26,
    "start_time": "2022-11-17T04:37:17.370Z"
   },
   {
    "duration": 20,
    "start_time": "2022-11-17T04:37:18.280Z"
   },
   {
    "duration": 162,
    "start_time": "2022-11-17T04:37:18.718Z"
   },
   {
    "duration": 166,
    "start_time": "2022-11-17T04:37:18.919Z"
   },
   {
    "duration": 142,
    "start_time": "2022-11-17T04:37:19.163Z"
   },
   {
    "duration": 112,
    "start_time": "2022-11-17T04:37:19.417Z"
   },
   {
    "duration": 35,
    "start_time": "2022-11-17T04:37:20.119Z"
   },
   {
    "duration": 20,
    "start_time": "2022-11-17T04:37:20.339Z"
   },
   {
    "duration": 126,
    "start_time": "2022-11-17T04:37:20.551Z"
   },
   {
    "duration": 25,
    "start_time": "2022-11-17T04:37:21.274Z"
   },
   {
    "duration": 24,
    "start_time": "2022-11-17T04:37:21.728Z"
   },
   {
    "duration": 103,
    "start_time": "2022-11-17T04:37:22.192Z"
   },
   {
    "duration": 12,
    "start_time": "2022-11-17T04:37:23.448Z"
   },
   {
    "duration": 11,
    "start_time": "2022-11-17T04:37:23.915Z"
   },
   {
    "duration": 712,
    "start_time": "2022-11-17T04:37:24.536Z"
   },
   {
    "duration": 28,
    "start_time": "2022-11-17T04:37:25.331Z"
   },
   {
    "duration": 24,
    "start_time": "2022-11-17T04:37:26.312Z"
   },
   {
    "duration": 12,
    "start_time": "2022-11-17T04:37:26.527Z"
   },
   {
    "duration": 17,
    "start_time": "2022-11-17T04:37:27.183Z"
   },
   {
    "duration": 14,
    "start_time": "2022-11-17T04:37:27.440Z"
   },
   {
    "duration": 12,
    "start_time": "2022-11-17T04:37:27.661Z"
   },
   {
    "duration": 14,
    "start_time": "2022-11-17T04:37:28.392Z"
   },
   {
    "duration": 16,
    "start_time": "2022-11-17T04:37:28.649Z"
   },
   {
    "duration": 3,
    "start_time": "2022-11-17T04:37:29.768Z"
   },
   {
    "duration": 9,
    "start_time": "2022-11-17T04:37:30.009Z"
   },
   {
    "duration": 12,
    "start_time": "2022-11-17T04:37:30.736Z"
   },
   {
    "duration": 14,
    "start_time": "2022-11-17T04:41:17.172Z"
   },
   {
    "duration": 13,
    "start_time": "2022-11-17T04:42:02.364Z"
   },
   {
    "duration": 20,
    "start_time": "2022-11-17T04:42:25.053Z"
   },
   {
    "duration": 291,
    "start_time": "2022-11-17T04:47:57.669Z"
   },
   {
    "duration": 416,
    "start_time": "2022-11-17T04:54:03.546Z"
   },
   {
    "duration": 3,
    "start_time": "2022-11-17T04:57:42.811Z"
   },
   {
    "duration": 78,
    "start_time": "2022-11-17T05:12:31.141Z"
   },
   {
    "duration": 12,
    "start_time": "2022-11-17T05:12:39.894Z"
   },
   {
    "duration": 42,
    "start_time": "2022-11-17T05:15:12.369Z"
   },
   {
    "duration": 29,
    "start_time": "2022-11-17T05:16:22.058Z"
   },
   {
    "duration": 28,
    "start_time": "2022-11-17T05:16:49.933Z"
   },
   {
    "duration": 11,
    "start_time": "2022-11-17T05:17:03.717Z"
   },
   {
    "duration": 30,
    "start_time": "2022-11-17T05:17:21.086Z"
   },
   {
    "duration": 23,
    "start_time": "2022-11-17T05:17:32.370Z"
   },
   {
    "duration": 36,
    "start_time": "2022-11-17T05:17:44.723Z"
   },
   {
    "duration": 6,
    "start_time": "2022-11-17T05:18:24.292Z"
   },
   {
    "duration": 8,
    "start_time": "2022-11-17T05:19:06.893Z"
   },
   {
    "duration": 163,
    "start_time": "2022-11-17T05:19:22.823Z"
   },
   {
    "duration": 93,
    "start_time": "2022-11-17T05:44:24.279Z"
   },
   {
    "duration": 15,
    "start_time": "2022-11-17T05:50:27.900Z"
   },
   {
    "duration": 85,
    "start_time": "2022-11-17T07:08:28.734Z"
   },
   {
    "duration": 228,
    "start_time": "2022-11-17T07:08:39.793Z"
   },
   {
    "duration": 152,
    "start_time": "2022-11-17T07:09:03.989Z"
   },
   {
    "duration": 508,
    "start_time": "2022-11-17T07:13:43.903Z"
   },
   {
    "duration": 18,
    "start_time": "2022-11-17T07:13:44.412Z"
   },
   {
    "duration": 29,
    "start_time": "2022-11-17T07:13:44.432Z"
   },
   {
    "duration": 8,
    "start_time": "2022-11-17T07:13:44.464Z"
   },
   {
    "duration": 17,
    "start_time": "2022-11-17T07:13:44.474Z"
   },
   {
    "duration": 11,
    "start_time": "2022-11-17T07:13:44.493Z"
   },
   {
    "duration": 46,
    "start_time": "2022-11-17T07:13:44.506Z"
   },
   {
    "duration": 12,
    "start_time": "2022-11-17T07:13:44.554Z"
   },
   {
    "duration": 12,
    "start_time": "2022-11-17T07:13:44.567Z"
   },
   {
    "duration": 28,
    "start_time": "2022-11-17T07:13:44.582Z"
   },
   {
    "duration": 59,
    "start_time": "2022-11-17T07:13:44.613Z"
   },
   {
    "duration": 19,
    "start_time": "2022-11-17T07:13:44.674Z"
   },
   {
    "duration": 17,
    "start_time": "2022-11-17T07:13:44.695Z"
   },
   {
    "duration": 49,
    "start_time": "2022-11-17T07:13:44.715Z"
   },
   {
    "duration": 30,
    "start_time": "2022-11-17T07:13:44.767Z"
   },
   {
    "duration": 21,
    "start_time": "2022-11-17T07:13:44.799Z"
   },
   {
    "duration": 614,
    "start_time": "2022-11-17T07:13:44.822Z"
   },
   {
    "duration": 498,
    "start_time": "2022-11-17T07:15:12.589Z"
   },
   {
    "duration": 21,
    "start_time": "2022-11-17T07:15:13.090Z"
   },
   {
    "duration": 21,
    "start_time": "2022-11-17T07:15:13.113Z"
   },
   {
    "duration": 5,
    "start_time": "2022-11-17T07:15:13.152Z"
   },
   {
    "duration": 23,
    "start_time": "2022-11-17T07:15:13.159Z"
   },
   {
    "duration": 11,
    "start_time": "2022-11-17T07:15:13.184Z"
   },
   {
    "duration": 23,
    "start_time": "2022-11-17T07:15:13.197Z"
   },
   {
    "duration": 15,
    "start_time": "2022-11-17T07:15:13.250Z"
   },
   {
    "duration": 10,
    "start_time": "2022-11-17T07:15:13.267Z"
   },
   {
    "duration": 28,
    "start_time": "2022-11-17T07:15:13.281Z"
   },
   {
    "duration": 57,
    "start_time": "2022-11-17T07:15:13.311Z"
   },
   {
    "duration": 16,
    "start_time": "2022-11-17T07:15:13.370Z"
   },
   {
    "duration": 10,
    "start_time": "2022-11-17T07:15:13.388Z"
   },
   {
    "duration": 56,
    "start_time": "2022-11-17T07:15:13.400Z"
   },
   {
    "duration": 27,
    "start_time": "2022-11-17T07:15:13.458Z"
   },
   {
    "duration": 20,
    "start_time": "2022-11-17T07:15:13.487Z"
   },
   {
    "duration": 696,
    "start_time": "2022-11-17T07:15:13.509Z"
   },
   {
    "duration": 527,
    "start_time": "2022-11-17T07:18:21.005Z"
   },
   {
    "duration": 20,
    "start_time": "2022-11-17T07:18:21.535Z"
   },
   {
    "duration": 18,
    "start_time": "2022-11-17T07:18:21.557Z"
   },
   {
    "duration": 6,
    "start_time": "2022-11-17T07:18:21.577Z"
   },
   {
    "duration": 22,
    "start_time": "2022-11-17T07:18:21.586Z"
   },
   {
    "duration": 13,
    "start_time": "2022-11-17T07:18:21.610Z"
   },
   {
    "duration": 47,
    "start_time": "2022-11-17T07:18:21.625Z"
   },
   {
    "duration": 13,
    "start_time": "2022-11-17T07:18:21.674Z"
   },
   {
    "duration": 11,
    "start_time": "2022-11-17T07:18:21.688Z"
   },
   {
    "duration": 69,
    "start_time": "2022-11-17T07:18:21.700Z"
   },
   {
    "duration": 25,
    "start_time": "2022-11-17T07:18:21.771Z"
   },
   {
    "duration": 15,
    "start_time": "2022-11-17T07:18:21.798Z"
   },
   {
    "duration": 41,
    "start_time": "2022-11-17T07:18:21.815Z"
   },
   {
    "duration": 44,
    "start_time": "2022-11-17T07:18:21.860Z"
   },
   {
    "duration": 21,
    "start_time": "2022-11-17T07:18:21.906Z"
   },
   {
    "duration": 28,
    "start_time": "2022-11-17T07:18:21.929Z"
   },
   {
    "duration": 537,
    "start_time": "2022-11-17T07:18:21.959Z"
   },
   {
    "duration": 2,
    "start_time": "2022-11-17T07:18:22.499Z"
   },
   {
    "duration": 28,
    "start_time": "2022-11-17T07:18:22.505Z"
   },
   {
    "duration": 27,
    "start_time": "2022-11-17T07:18:22.536Z"
   },
   {
    "duration": 289,
    "start_time": "2022-11-17T07:18:22.565Z"
   },
   {
    "duration": 370,
    "start_time": "2022-11-17T07:18:22.856Z"
   },
   {
    "duration": 264,
    "start_time": "2022-11-17T07:18:23.228Z"
   },
   {
    "duration": 335,
    "start_time": "2022-11-17T07:18:23.494Z"
   },
   {
    "duration": 273,
    "start_time": "2022-11-17T07:18:23.831Z"
   },
   {
    "duration": 270,
    "start_time": "2022-11-17T07:18:24.106Z"
   },
   {
    "duration": 281,
    "start_time": "2022-11-17T07:18:24.377Z"
   },
   {
    "duration": 40,
    "start_time": "2022-11-17T07:18:24.660Z"
   },
   {
    "duration": 48,
    "start_time": "2022-11-17T07:18:24.702Z"
   },
   {
    "duration": 408,
    "start_time": "2022-11-17T07:18:24.752Z"
   },
   {
    "duration": 298,
    "start_time": "2022-11-17T07:18:25.162Z"
   },
   {
    "duration": 285,
    "start_time": "2022-11-17T07:18:25.461Z"
   },
   {
    "duration": 281,
    "start_time": "2022-11-17T07:18:25.747Z"
   },
   {
    "duration": 315,
    "start_time": "2022-11-17T07:18:26.031Z"
   },
   {
    "duration": 458,
    "start_time": "2022-11-17T07:18:26.351Z"
   },
   {
    "duration": 326,
    "start_time": "2022-11-17T07:18:26.811Z"
   },
   {
    "duration": 303,
    "start_time": "2022-11-17T07:18:27.139Z"
   },
   {
    "duration": 309,
    "start_time": "2022-11-17T07:18:27.444Z"
   },
   {
    "duration": 601,
    "start_time": "2022-11-17T07:18:27.755Z"
   },
   {
    "duration": 10,
    "start_time": "2022-11-17T07:18:28.358Z"
   },
   {
    "duration": 226,
    "start_time": "2022-11-17T07:18:28.372Z"
   },
   {
    "duration": 37,
    "start_time": "2022-11-17T07:18:28.600Z"
   },
   {
    "duration": 34,
    "start_time": "2022-11-17T07:18:28.651Z"
   },
   {
    "duration": 242,
    "start_time": "2022-11-17T07:18:28.687Z"
   },
   {
    "duration": 189,
    "start_time": "2022-11-17T07:18:28.931Z"
   },
   {
    "duration": 172,
    "start_time": "2022-11-17T07:18:29.122Z"
   },
   {
    "duration": 166,
    "start_time": "2022-11-17T07:18:29.297Z"
   },
   {
    "duration": 33,
    "start_time": "2022-11-17T07:18:29.466Z"
   },
   {
    "duration": 34,
    "start_time": "2022-11-17T07:18:29.501Z"
   },
   {
    "duration": 180,
    "start_time": "2022-11-17T07:18:29.537Z"
   },
   {
    "duration": 44,
    "start_time": "2022-11-17T07:18:29.719Z"
   },
   {
    "duration": 28,
    "start_time": "2022-11-17T07:18:29.765Z"
   },
   {
    "duration": 167,
    "start_time": "2022-11-17T07:18:29.795Z"
   },
   {
    "duration": 19,
    "start_time": "2022-11-17T07:18:29.964Z"
   },
   {
    "duration": 47,
    "start_time": "2022-11-17T07:18:29.985Z"
   },
   {
    "duration": 750,
    "start_time": "2022-11-17T07:18:30.035Z"
   },
   {
    "duration": 26,
    "start_time": "2022-11-17T07:18:30.787Z"
   },
   {
    "duration": 52,
    "start_time": "2022-11-17T07:18:30.815Z"
   },
   {
    "duration": 34,
    "start_time": "2022-11-17T07:18:30.869Z"
   },
   {
    "duration": 57,
    "start_time": "2022-11-17T07:18:30.905Z"
   },
   {
    "duration": 39,
    "start_time": "2022-11-17T07:18:30.964Z"
   },
   {
    "duration": 40,
    "start_time": "2022-11-17T07:18:31.004Z"
   },
   {
    "duration": 47,
    "start_time": "2022-11-17T07:18:31.046Z"
   },
   {
    "duration": 49,
    "start_time": "2022-11-17T07:18:31.095Z"
   },
   {
    "duration": 18,
    "start_time": "2022-11-17T07:18:31.147Z"
   },
   {
    "duration": 40,
    "start_time": "2022-11-17T07:18:31.167Z"
   },
   {
    "duration": 49,
    "start_time": "2022-11-17T07:18:31.209Z"
   },
   {
    "duration": 200,
    "start_time": "2022-11-17T07:21:32.359Z"
   },
   {
    "duration": 200,
    "start_time": "2022-11-17T07:22:24.372Z"
   },
   {
    "duration": 518,
    "start_time": "2022-11-17T07:23:24.622Z"
   },
   {
    "duration": 18,
    "start_time": "2022-11-17T07:23:25.142Z"
   },
   {
    "duration": 20,
    "start_time": "2022-11-17T07:23:25.162Z"
   },
   {
    "duration": 11,
    "start_time": "2022-11-17T07:23:25.184Z"
   },
   {
    "duration": 23,
    "start_time": "2022-11-17T07:23:25.199Z"
   },
   {
    "duration": 13,
    "start_time": "2022-11-17T07:23:25.224Z"
   },
   {
    "duration": 19,
    "start_time": "2022-11-17T07:23:25.251Z"
   },
   {
    "duration": 14,
    "start_time": "2022-11-17T07:23:25.273Z"
   },
   {
    "duration": 19,
    "start_time": "2022-11-17T07:23:25.289Z"
   },
   {
    "duration": 56,
    "start_time": "2022-11-17T07:23:25.311Z"
   },
   {
    "duration": 17,
    "start_time": "2022-11-17T07:23:25.369Z"
   },
   {
    "duration": 16,
    "start_time": "2022-11-17T07:23:25.388Z"
   },
   {
    "duration": 8,
    "start_time": "2022-11-17T07:23:25.405Z"
   },
   {
    "duration": 52,
    "start_time": "2022-11-17T07:23:25.415Z"
   },
   {
    "duration": 20,
    "start_time": "2022-11-17T07:23:25.469Z"
   },
   {
    "duration": 15,
    "start_time": "2022-11-17T07:23:25.491Z"
   },
   {
    "duration": 577,
    "start_time": "2022-11-17T07:23:25.508Z"
   },
   {
    "duration": 71,
    "start_time": "2022-11-17T07:23:26.087Z"
   },
   {
    "duration": 0,
    "start_time": "2022-11-17T07:23:26.172Z"
   },
   {
    "duration": 0,
    "start_time": "2022-11-17T07:23:26.174Z"
   },
   {
    "duration": 0,
    "start_time": "2022-11-17T07:23:26.176Z"
   },
   {
    "duration": 0,
    "start_time": "2022-11-17T07:23:26.177Z"
   },
   {
    "duration": 0,
    "start_time": "2022-11-17T07:23:26.179Z"
   },
   {
    "duration": 1,
    "start_time": "2022-11-17T07:23:26.180Z"
   },
   {
    "duration": 0,
    "start_time": "2022-11-17T07:23:26.182Z"
   },
   {
    "duration": 0,
    "start_time": "2022-11-17T07:23:26.184Z"
   },
   {
    "duration": 0,
    "start_time": "2022-11-17T07:23:26.188Z"
   },
   {
    "duration": 0,
    "start_time": "2022-11-17T07:23:26.189Z"
   },
   {
    "duration": 0,
    "start_time": "2022-11-17T07:23:26.191Z"
   },
   {
    "duration": 0,
    "start_time": "2022-11-17T07:23:26.193Z"
   },
   {
    "duration": 0,
    "start_time": "2022-11-17T07:23:26.195Z"
   },
   {
    "duration": 0,
    "start_time": "2022-11-17T07:23:26.196Z"
   },
   {
    "duration": 0,
    "start_time": "2022-11-17T07:23:26.198Z"
   },
   {
    "duration": 0,
    "start_time": "2022-11-17T07:23:26.199Z"
   },
   {
    "duration": 0,
    "start_time": "2022-11-17T07:23:26.201Z"
   },
   {
    "duration": 0,
    "start_time": "2022-11-17T07:23:26.202Z"
   },
   {
    "duration": 0,
    "start_time": "2022-11-17T07:23:26.203Z"
   },
   {
    "duration": 0,
    "start_time": "2022-11-17T07:23:26.205Z"
   },
   {
    "duration": 1,
    "start_time": "2022-11-17T07:23:26.205Z"
   },
   {
    "duration": 0,
    "start_time": "2022-11-17T07:23:26.207Z"
   },
   {
    "duration": 0,
    "start_time": "2022-11-17T07:23:26.208Z"
   },
   {
    "duration": 0,
    "start_time": "2022-11-17T07:23:26.210Z"
   },
   {
    "duration": 0,
    "start_time": "2022-11-17T07:23:26.211Z"
   },
   {
    "duration": 0,
    "start_time": "2022-11-17T07:23:26.252Z"
   },
   {
    "duration": 1,
    "start_time": "2022-11-17T07:23:26.254Z"
   },
   {
    "duration": 0,
    "start_time": "2022-11-17T07:23:26.256Z"
   },
   {
    "duration": 0,
    "start_time": "2022-11-17T07:23:26.257Z"
   },
   {
    "duration": 0,
    "start_time": "2022-11-17T07:23:26.259Z"
   },
   {
    "duration": 0,
    "start_time": "2022-11-17T07:23:26.260Z"
   },
   {
    "duration": 0,
    "start_time": "2022-11-17T07:23:26.262Z"
   },
   {
    "duration": 0,
    "start_time": "2022-11-17T07:23:26.263Z"
   },
   {
    "duration": 0,
    "start_time": "2022-11-17T07:23:26.265Z"
   },
   {
    "duration": 0,
    "start_time": "2022-11-17T07:23:26.266Z"
   },
   {
    "duration": 0,
    "start_time": "2022-11-17T07:23:26.268Z"
   },
   {
    "duration": 0,
    "start_time": "2022-11-17T07:23:26.270Z"
   },
   {
    "duration": 0,
    "start_time": "2022-11-17T07:23:26.272Z"
   },
   {
    "duration": 0,
    "start_time": "2022-11-17T07:23:26.273Z"
   },
   {
    "duration": 0,
    "start_time": "2022-11-17T07:23:26.276Z"
   },
   {
    "duration": 0,
    "start_time": "2022-11-17T07:23:26.278Z"
   },
   {
    "duration": 0,
    "start_time": "2022-11-17T07:23:26.279Z"
   },
   {
    "duration": 0,
    "start_time": "2022-11-17T07:23:26.281Z"
   },
   {
    "duration": 0,
    "start_time": "2022-11-17T07:23:26.282Z"
   },
   {
    "duration": 0,
    "start_time": "2022-11-17T07:23:26.283Z"
   },
   {
    "duration": 0,
    "start_time": "2022-11-17T07:23:26.285Z"
   },
   {
    "duration": 0,
    "start_time": "2022-11-17T07:23:26.286Z"
   },
   {
    "duration": 0,
    "start_time": "2022-11-17T07:23:26.288Z"
   },
   {
    "duration": 0,
    "start_time": "2022-11-17T07:23:26.289Z"
   },
   {
    "duration": 193,
    "start_time": "2022-11-17T07:24:18.625Z"
   },
   {
    "duration": 216,
    "start_time": "2022-11-17T07:24:44.927Z"
   },
   {
    "duration": 70,
    "start_time": "2022-11-17T07:27:09.301Z"
   },
   {
    "duration": 86,
    "start_time": "2022-11-17T07:27:33.064Z"
   },
   {
    "duration": 218,
    "start_time": "2022-11-17T07:27:58.443Z"
   },
   {
    "duration": 234,
    "start_time": "2022-11-17T07:28:34.768Z"
   },
   {
    "duration": 167,
    "start_time": "2022-11-17T07:29:58.377Z"
   },
   {
    "duration": 168,
    "start_time": "2022-11-17T07:30:07.201Z"
   },
   {
    "duration": 257,
    "start_time": "2022-11-17T07:30:14.525Z"
   },
   {
    "duration": 28,
    "start_time": "2022-11-17T07:32:49.054Z"
   },
   {
    "duration": 16,
    "start_time": "2022-11-17T07:32:55.183Z"
   },
   {
    "duration": 11,
    "start_time": "2022-11-17T07:34:26.795Z"
   },
   {
    "duration": 288,
    "start_time": "2022-11-17T07:35:19.609Z"
   },
   {
    "duration": 266,
    "start_time": "2022-11-17T07:35:33.165Z"
   },
   {
    "duration": 79,
    "start_time": "2022-11-17T07:35:34.665Z"
   },
   {
    "duration": 1246,
    "start_time": "2022-11-17T07:35:51.211Z"
   },
   {
    "duration": 27,
    "start_time": "2022-11-17T07:36:12.078Z"
   },
   {
    "duration": 247,
    "start_time": "2022-11-17T07:36:27.811Z"
   },
   {
    "duration": 224,
    "start_time": "2022-11-17T07:37:01.732Z"
   },
   {
    "duration": 207,
    "start_time": "2022-11-17T07:37:19.310Z"
   },
   {
    "duration": 260,
    "start_time": "2022-11-17T07:39:07.157Z"
   },
   {
    "duration": 215,
    "start_time": "2022-11-17T07:39:53.129Z"
   },
   {
    "duration": 175,
    "start_time": "2022-11-17T07:40:15.265Z"
   },
   {
    "duration": 9,
    "start_time": "2022-11-17T08:02:12.980Z"
   },
   {
    "duration": 281,
    "start_time": "2022-11-17T08:06:19.779Z"
   },
   {
    "duration": 273,
    "start_time": "2022-11-17T08:06:20.964Z"
   },
   {
    "duration": 254,
    "start_time": "2022-11-17T08:06:21.549Z"
   },
   {
    "duration": 269,
    "start_time": "2022-11-17T08:06:21.946Z"
   },
   {
    "duration": 345,
    "start_time": "2022-11-17T08:06:22.308Z"
   },
   {
    "duration": 251,
    "start_time": "2022-11-17T08:06:22.655Z"
   },
   {
    "duration": 281,
    "start_time": "2022-11-17T08:06:22.909Z"
   },
   {
    "duration": 29,
    "start_time": "2022-11-17T08:06:23.557Z"
   },
   {
    "duration": 23,
    "start_time": "2022-11-17T08:06:25.009Z"
   },
   {
    "duration": 287,
    "start_time": "2022-11-17T08:06:26.026Z"
   },
   {
    "duration": 281,
    "start_time": "2022-11-17T08:06:26.976Z"
   },
   {
    "duration": 373,
    "start_time": "2022-11-17T08:06:27.684Z"
   },
   {
    "duration": 270,
    "start_time": "2022-11-17T08:06:28.403Z"
   },
   {
    "duration": 261,
    "start_time": "2022-11-17T08:06:28.960Z"
   },
   {
    "duration": 417,
    "start_time": "2022-11-17T08:06:29.516Z"
   },
   {
    "duration": 279,
    "start_time": "2022-11-17T08:06:30.171Z"
   },
   {
    "duration": 282,
    "start_time": "2022-11-17T08:06:30.747Z"
   },
   {
    "duration": 425,
    "start_time": "2022-11-17T08:06:31.273Z"
   },
   {
    "duration": 520,
    "start_time": "2022-11-17T08:06:33.004Z"
   },
   {
    "duration": 8,
    "start_time": "2022-11-17T08:06:33.526Z"
   },
   {
    "duration": 187,
    "start_time": "2022-11-17T08:06:34.455Z"
   },
   {
    "duration": 35,
    "start_time": "2022-11-17T08:06:39.925Z"
   },
   {
    "duration": 29,
    "start_time": "2022-11-17T08:06:40.358Z"
   },
   {
    "duration": 161,
    "start_time": "2022-11-17T08:06:41.170Z"
   },
   {
    "duration": 166,
    "start_time": "2022-11-17T08:06:41.775Z"
   },
   {
    "duration": 135,
    "start_time": "2022-11-17T08:06:42.342Z"
   },
   {
    "duration": 133,
    "start_time": "2022-11-17T08:06:42.905Z"
   },
   {
    "duration": 31,
    "start_time": "2022-11-17T08:06:45.102Z"
   },
   {
    "duration": 21,
    "start_time": "2022-11-17T08:06:46.397Z"
   },
   {
    "duration": 131,
    "start_time": "2022-11-17T08:06:47.023Z"
   },
   {
    "duration": 28,
    "start_time": "2022-11-17T08:06:48.551Z"
   },
   {
    "duration": 17,
    "start_time": "2022-11-17T08:06:49.465Z"
   },
   {
    "duration": 103,
    "start_time": "2022-11-17T08:06:52.767Z"
   },
   {
    "duration": 13,
    "start_time": "2022-11-17T08:06:56.913Z"
   },
   {
    "duration": 10,
    "start_time": "2022-11-17T08:06:58.230Z"
   },
   {
    "duration": 741,
    "start_time": "2022-11-17T08:06:58.983Z"
   },
   {
    "duration": 23,
    "start_time": "2022-11-17T08:07:00.941Z"
   },
   {
    "duration": 25,
    "start_time": "2022-11-17T08:07:11.393Z"
   },
   {
    "duration": 14,
    "start_time": "2022-11-17T08:14:21.094Z"
   },
   {
    "duration": 27,
    "start_time": "2022-11-17T08:14:23.489Z"
   },
   {
    "duration": 16,
    "start_time": "2022-11-17T08:14:24.312Z"
   },
   {
    "duration": 15,
    "start_time": "2022-11-17T08:14:24.784Z"
   },
   {
    "duration": 20,
    "start_time": "2022-11-17T08:14:27.663Z"
   },
   {
    "duration": 21,
    "start_time": "2022-11-17T08:14:28.727Z"
   },
   {
    "duration": 3,
    "start_time": "2022-11-17T08:14:35.671Z"
   },
   {
    "duration": 10,
    "start_time": "2022-11-17T08:14:36.422Z"
   },
   {
    "duration": 10,
    "start_time": "2022-11-17T08:14:41.217Z"
   },
   {
    "duration": 11,
    "start_time": "2022-11-17T08:19:08.597Z"
   }
  ],
  "kernelspec": {
   "display_name": "Python 3 (ipykernel)",
   "language": "python",
   "name": "python3"
  },
  "language_info": {
   "codemirror_mode": {
    "name": "ipython",
    "version": 3
   },
   "file_extension": ".py",
   "mimetype": "text/x-python",
   "name": "python",
   "nbconvert_exporter": "python",
   "pygments_lexer": "ipython3",
   "version": "3.9.5"
  },
  "toc": {
   "base_numbering": 1,
   "nav_menu": {},
   "number_sections": true,
   "sideBar": true,
   "skip_h1_title": true,
   "title_cell": "Table of Contents",
   "title_sidebar": "Contents",
   "toc_cell": false,
   "toc_position": {},
   "toc_section_display": true,
   "toc_window_display": false
  }
 },
 "nbformat": 4,
 "nbformat_minor": 2
}
