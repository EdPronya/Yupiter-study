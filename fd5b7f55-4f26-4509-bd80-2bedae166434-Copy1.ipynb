{
 "cells": [
  {
   "cell_type": "markdown",
   "metadata": {},
   "source": [
    "# Исследование объявлений о продаже квартир\n",
    "\n",
    "В вашем распоряжении данные сервиса Яндекс.Недвижимость — архив объявлений о продаже квартир в Санкт-Петербурге и соседних населённых пунктов за несколько лет. Нужно научиться определять рыночную стоимость объектов недвижимости. Ваша задача — установить параметры. Это позволит построить автоматизированную систему: она отследит аномалии и мошенническую деятельность. \n",
    "\n",
    "По каждой квартире на продажу доступны два вида данных. Первые вписаны пользователем, вторые — получены автоматически на основе картографических данных. Например, расстояние до центра, аэропорта, ближайшего парка и водоёма. "
   ]
  },
  {
   "cell_type": "markdown",
   "metadata": {},
   "source": [
    "##  Откройте файл с данными и изучите общую информацию. "
   ]
  },
  {
   "cell_type": "code",
   "execution_count": 76,
   "metadata": {},
   "outputs": [
    {
     "data": {
      "text/html": [
       "<div>\n",
       "<style scoped>\n",
       "    .dataframe tbody tr th:only-of-type {\n",
       "        vertical-align: middle;\n",
       "    }\n",
       "\n",
       "    .dataframe tbody tr th {\n",
       "        vertical-align: top;\n",
       "    }\n",
       "\n",
       "    .dataframe thead th {\n",
       "        text-align: right;\n",
       "    }\n",
       "</style>\n",
       "<table border=\"1\" class=\"dataframe\">\n",
       "  <thead>\n",
       "    <tr style=\"text-align: right;\">\n",
       "      <th></th>\n",
       "      <th>total_images</th>\n",
       "      <th>last_price</th>\n",
       "      <th>total_area</th>\n",
       "      <th>first_day_exposition</th>\n",
       "      <th>rooms</th>\n",
       "      <th>ceiling_height</th>\n",
       "      <th>floors_total</th>\n",
       "      <th>living_area</th>\n",
       "      <th>floor</th>\n",
       "      <th>is_apartment</th>\n",
       "      <th>...</th>\n",
       "      <th>kitchen_area</th>\n",
       "      <th>balcony</th>\n",
       "      <th>locality_name</th>\n",
       "      <th>airports_nearest</th>\n",
       "      <th>cityCenters_nearest</th>\n",
       "      <th>parks_around3000</th>\n",
       "      <th>parks_nearest</th>\n",
       "      <th>ponds_around3000</th>\n",
       "      <th>ponds_nearest</th>\n",
       "      <th>days_exposition</th>\n",
       "    </tr>\n",
       "  </thead>\n",
       "  <tbody>\n",
       "    <tr>\n",
       "      <th>0</th>\n",
       "      <td>20</td>\n",
       "      <td>13000000.0</td>\n",
       "      <td>108.0</td>\n",
       "      <td>2019-03-07T00:00:00</td>\n",
       "      <td>3</td>\n",
       "      <td>2.70</td>\n",
       "      <td>16.0</td>\n",
       "      <td>51.0</td>\n",
       "      <td>8</td>\n",
       "      <td>NaN</td>\n",
       "      <td>...</td>\n",
       "      <td>25.0</td>\n",
       "      <td>NaN</td>\n",
       "      <td>Санкт-Петербург</td>\n",
       "      <td>18863.0</td>\n",
       "      <td>16028.0</td>\n",
       "      <td>1.0</td>\n",
       "      <td>482.0</td>\n",
       "      <td>2.0</td>\n",
       "      <td>755.0</td>\n",
       "      <td>NaN</td>\n",
       "    </tr>\n",
       "    <tr>\n",
       "      <th>1</th>\n",
       "      <td>7</td>\n",
       "      <td>3350000.0</td>\n",
       "      <td>40.4</td>\n",
       "      <td>2018-12-04T00:00:00</td>\n",
       "      <td>1</td>\n",
       "      <td>NaN</td>\n",
       "      <td>11.0</td>\n",
       "      <td>18.6</td>\n",
       "      <td>1</td>\n",
       "      <td>NaN</td>\n",
       "      <td>...</td>\n",
       "      <td>11.0</td>\n",
       "      <td>2.0</td>\n",
       "      <td>посёлок Шушары</td>\n",
       "      <td>12817.0</td>\n",
       "      <td>18603.0</td>\n",
       "      <td>0.0</td>\n",
       "      <td>NaN</td>\n",
       "      <td>0.0</td>\n",
       "      <td>NaN</td>\n",
       "      <td>81.0</td>\n",
       "    </tr>\n",
       "    <tr>\n",
       "      <th>2</th>\n",
       "      <td>10</td>\n",
       "      <td>5196000.0</td>\n",
       "      <td>56.0</td>\n",
       "      <td>2015-08-20T00:00:00</td>\n",
       "      <td>2</td>\n",
       "      <td>NaN</td>\n",
       "      <td>5.0</td>\n",
       "      <td>34.3</td>\n",
       "      <td>4</td>\n",
       "      <td>NaN</td>\n",
       "      <td>...</td>\n",
       "      <td>8.3</td>\n",
       "      <td>0.0</td>\n",
       "      <td>Санкт-Петербург</td>\n",
       "      <td>21741.0</td>\n",
       "      <td>13933.0</td>\n",
       "      <td>1.0</td>\n",
       "      <td>90.0</td>\n",
       "      <td>2.0</td>\n",
       "      <td>574.0</td>\n",
       "      <td>558.0</td>\n",
       "    </tr>\n",
       "    <tr>\n",
       "      <th>3</th>\n",
       "      <td>0</td>\n",
       "      <td>64900000.0</td>\n",
       "      <td>159.0</td>\n",
       "      <td>2015-07-24T00:00:00</td>\n",
       "      <td>3</td>\n",
       "      <td>NaN</td>\n",
       "      <td>14.0</td>\n",
       "      <td>NaN</td>\n",
       "      <td>9</td>\n",
       "      <td>NaN</td>\n",
       "      <td>...</td>\n",
       "      <td>NaN</td>\n",
       "      <td>0.0</td>\n",
       "      <td>Санкт-Петербург</td>\n",
       "      <td>28098.0</td>\n",
       "      <td>6800.0</td>\n",
       "      <td>2.0</td>\n",
       "      <td>84.0</td>\n",
       "      <td>3.0</td>\n",
       "      <td>234.0</td>\n",
       "      <td>424.0</td>\n",
       "    </tr>\n",
       "    <tr>\n",
       "      <th>4</th>\n",
       "      <td>2</td>\n",
       "      <td>10000000.0</td>\n",
       "      <td>100.0</td>\n",
       "      <td>2018-06-19T00:00:00</td>\n",
       "      <td>2</td>\n",
       "      <td>3.03</td>\n",
       "      <td>14.0</td>\n",
       "      <td>32.0</td>\n",
       "      <td>13</td>\n",
       "      <td>NaN</td>\n",
       "      <td>...</td>\n",
       "      <td>41.0</td>\n",
       "      <td>NaN</td>\n",
       "      <td>Санкт-Петербург</td>\n",
       "      <td>31856.0</td>\n",
       "      <td>8098.0</td>\n",
       "      <td>2.0</td>\n",
       "      <td>112.0</td>\n",
       "      <td>1.0</td>\n",
       "      <td>48.0</td>\n",
       "      <td>121.0</td>\n",
       "    </tr>\n",
       "  </tbody>\n",
       "</table>\n",
       "<p>5 rows × 22 columns</p>\n",
       "</div>"
      ],
      "text/plain": [
       "   total_images  last_price  total_area first_day_exposition  rooms  \\\n",
       "0            20  13000000.0       108.0  2019-03-07T00:00:00      3   \n",
       "1             7   3350000.0        40.4  2018-12-04T00:00:00      1   \n",
       "2            10   5196000.0        56.0  2015-08-20T00:00:00      2   \n",
       "3             0  64900000.0       159.0  2015-07-24T00:00:00      3   \n",
       "4             2  10000000.0       100.0  2018-06-19T00:00:00      2   \n",
       "\n",
       "   ceiling_height  floors_total  living_area  floor is_apartment  ...  \\\n",
       "0            2.70          16.0         51.0      8          NaN  ...   \n",
       "1             NaN          11.0         18.6      1          NaN  ...   \n",
       "2             NaN           5.0         34.3      4          NaN  ...   \n",
       "3             NaN          14.0          NaN      9          NaN  ...   \n",
       "4            3.03          14.0         32.0     13          NaN  ...   \n",
       "\n",
       "   kitchen_area  balcony    locality_name  airports_nearest  \\\n",
       "0          25.0      NaN  Санкт-Петербург           18863.0   \n",
       "1          11.0      2.0   посёлок Шушары           12817.0   \n",
       "2           8.3      0.0  Санкт-Петербург           21741.0   \n",
       "3           NaN      0.0  Санкт-Петербург           28098.0   \n",
       "4          41.0      NaN  Санкт-Петербург           31856.0   \n",
       "\n",
       "  cityCenters_nearest  parks_around3000  parks_nearest  ponds_around3000  \\\n",
       "0             16028.0               1.0          482.0               2.0   \n",
       "1             18603.0               0.0            NaN               0.0   \n",
       "2             13933.0               1.0           90.0               2.0   \n",
       "3              6800.0               2.0           84.0               3.0   \n",
       "4              8098.0               2.0          112.0               1.0   \n",
       "\n",
       "   ponds_nearest  days_exposition  \n",
       "0          755.0              NaN  \n",
       "1            NaN             81.0  \n",
       "2          574.0            558.0  \n",
       "3          234.0            424.0  \n",
       "4           48.0            121.0  \n",
       "\n",
       "[5 rows x 22 columns]"
      ]
     },
     "metadata": {},
     "output_type": "display_data"
    },
    {
     "name": "stdout",
     "output_type": "stream",
     "text": [
      "Количество строк и столбцов в исходной базе\n"
     ]
    },
    {
     "data": {
      "text/plain": [
       "(23699, 22)"
      ]
     },
     "execution_count": 76,
     "metadata": {},
     "output_type": "execute_result"
    }
   ],
   "source": [
    "import pandas as pd\n",
    "data=pd.read_csv('/datasets/real_estate_data.csv', sep='\\t')\n",
    "display(data.head(5))\n",
    "print('Количество строк и столбцов в исходной базе')\n",
    "data.shape"
   ]
  },
  {
   "cell_type": "code",
   "execution_count": 77,
   "metadata": {
    "scrolled": true
   },
   "outputs": [
    {
     "name": "stdout",
     "output_type": "stream",
     "text": [
      "Общая информация о  таблице\n",
      "<class 'pandas.core.frame.DataFrame'>\n",
      "RangeIndex: 23699 entries, 0 to 23698\n",
      "Data columns (total 22 columns):\n",
      " #   Column                Non-Null Count  Dtype  \n",
      "---  ------                --------------  -----  \n",
      " 0   total_images          23699 non-null  int64  \n",
      " 1   last_price            23699 non-null  float64\n",
      " 2   total_area            23699 non-null  float64\n",
      " 3   first_day_exposition  23699 non-null  object \n",
      " 4   rooms                 23699 non-null  int64  \n",
      " 5   ceiling_height        14504 non-null  float64\n",
      " 6   floors_total          23613 non-null  float64\n",
      " 7   living_area           21796 non-null  float64\n",
      " 8   floor                 23699 non-null  int64  \n",
      " 9   is_apartment          2775 non-null   object \n",
      " 10  studio                23699 non-null  bool   \n",
      " 11  open_plan             23699 non-null  bool   \n",
      " 12  kitchen_area          21421 non-null  float64\n",
      " 13  balcony               12180 non-null  float64\n",
      " 14  locality_name         23650 non-null  object \n",
      " 15  airports_nearest      18157 non-null  float64\n",
      " 16  cityCenters_nearest   18180 non-null  float64\n",
      " 17  parks_around3000      18181 non-null  float64\n",
      " 18  parks_nearest         8079 non-null   float64\n",
      " 19  ponds_around3000      18181 non-null  float64\n",
      " 20  ponds_nearest         9110 non-null   float64\n",
      " 21  days_exposition       20518 non-null  float64\n",
      "dtypes: bool(2), float64(14), int64(3), object(3)\n",
      "memory usage: 3.7+ MB\n"
     ]
    }
   ],
   "source": [
    "print('Общая информация о  таблице')\n",
    "data.info()"
   ]
  },
  {
   "cell_type": "markdown",
   "metadata": {},
   "source": [
    "Построим общую гистограмму для всех числовых столбцов таблицы.\n"
   ]
  },
  {
   "cell_type": "code",
   "execution_count": 78,
   "metadata": {},
   "outputs": [
    {
     "data": {
      "text/plain": [
       "array([[<AxesSubplot:title={'center':'total_images'}>,\n",
       "        <AxesSubplot:title={'center':'last_price'}>,\n",
       "        <AxesSubplot:title={'center':'total_area'}>,\n",
       "        <AxesSubplot:title={'center':'rooms'}>],\n",
       "       [<AxesSubplot:title={'center':'ceiling_height'}>,\n",
       "        <AxesSubplot:title={'center':'floors_total'}>,\n",
       "        <AxesSubplot:title={'center':'living_area'}>,\n",
       "        <AxesSubplot:title={'center':'floor'}>],\n",
       "       [<AxesSubplot:title={'center':'kitchen_area'}>,\n",
       "        <AxesSubplot:title={'center':'balcony'}>,\n",
       "        <AxesSubplot:title={'center':'airports_nearest'}>,\n",
       "        <AxesSubplot:title={'center':'cityCenters_nearest'}>],\n",
       "       [<AxesSubplot:title={'center':'parks_around3000'}>,\n",
       "        <AxesSubplot:title={'center':'parks_nearest'}>,\n",
       "        <AxesSubplot:title={'center':'ponds_around3000'}>,\n",
       "        <AxesSubplot:title={'center':'ponds_nearest'}>],\n",
       "       [<AxesSubplot:title={'center':'days_exposition'}>, <AxesSubplot:>,\n",
       "        <AxesSubplot:>, <AxesSubplot:>]], dtype=object)"
      ]
     },
     "execution_count": 78,
     "metadata": {},
     "output_type": "execute_result"
    },
    {
     "data": {
      "image/png": "[encoded data removed]",
      "text/plain": [
       "<Figure size 1080x1440 with 20 Axes>"
      ]
     },
     "metadata": {
      "needs_background": "light"
     },
     "output_type": "display_data"
    }
   ],
   "source": [
    "data.hist(bins=100, figsize=(15, 20))"
   ]
  },
  {
   "cell_type": "markdown",
   "metadata": {},
   "source": [
    "##  Предобработка данных"
   ]
  },
  {
   "cell_type": "markdown",
   "metadata": {},
   "source": [
    "###  Выведем количество пропущенных значений для каждого столбца. :\n",
    "(всего строк 23700)"
   ]
  },
  {
   "cell_type": "code",
   "execution_count": 79,
   "metadata": {},
   "outputs": [
    {
     "data": {
      "text/plain": [
       "total_images                0\n",
       "last_price                  0\n",
       "total_area                  0\n",
       "first_day_exposition        0\n",
       "rooms                       0\n",
       "ceiling_height           9195\n",
       "floors_total               86\n",
       "living_area              1903\n",
       "floor                       0\n",
       "is_apartment            20924\n",
       "studio                      0\n",
       "open_plan                   0\n",
       "kitchen_area             2278\n",
       "balcony                 11519\n",
       "locality_name              49\n",
       "airports_nearest         5542\n",
       "cityCenters_nearest      5519\n",
       "parks_around3000         5518\n",
       "parks_nearest           15620\n",
       "ponds_around3000         5518\n",
       "ponds_nearest           14589\n",
       "days_exposition          3181\n",
       "dtype: int64"
      ]
     },
     "metadata": {},
     "output_type": "display_data"
    }
   ],
   "source": [
    "display(data.isna().sum())"
   ]
  },
  {
   "cell_type": "markdown",
   "metadata": {},
   "source": [
    "#### Высота потолка -№5- ceiling_height   -     14504 \n"
   ]
  },
  {
   "cell_type": "code",
   "execution_count": 80,
   "metadata": {},
   "outputs": [
    {
     "name": "stdout",
     "output_type": "stream",
     "text": [
      "пропущено значений:\n",
      "9195\n",
      "0.3879746835443038\n"
     ]
    }
   ],
   "source": [
    "print('пропущено значений:')\n",
    "print(23699-14504) \n",
    "print(9195/23700)\n"
   ]
  },
  {
   "cell_type": "code",
   "execution_count": 81,
   "metadata": {},
   "outputs": [
    {
     "data": {
      "text/plain": [
       "2.50     3515\n",
       "2.60     1646\n",
       "2.70     1574\n",
       "3.00     1112\n",
       "2.80      993\n",
       "         ... \n",
       "4.25        1\n",
       "3.39        1\n",
       "3.93        1\n",
       "10.30       1\n",
       "4.65        1\n",
       "Name: ceiling_height, Length: 183, dtype: int64"
      ]
     },
     "metadata": {},
     "output_type": "display_data"
    },
    {
     "data": {
      "text/plain": [
       "2.50    3515\n",
       "2.60    1646\n",
       "2.70    1574\n",
       "3.00    1112\n",
       "2.80     993\n",
       "2.55     980\n",
       "2.75     910\n",
       "2.65     676\n",
       "3.20     277\n",
       "3.10     203\n",
       "Name: ceiling_height, dtype: int64"
      ]
     },
     "metadata": {},
     "output_type": "display_data"
    }
   ],
   "source": [
    "display(data['ceiling_height'].value_counts())\n",
    "display(data['ceiling_height'].value_counts().head(10))"
   ]
  },
  {
   "cell_type": "code",
   "execution_count": 94,
   "metadata": {},
   "outputs": [],
   "source": [
    "#display(data[data['ceiling_height'].isna()])"
   ]
  },
  {
   "cell_type": "markdown",
   "metadata": {},
   "source": [
    "Пропущено значительное количество, около 40%, значений высоты потолка.  Из практики  и из данных видно , что основные высоты потолков, это: \n",
    "2,5 - хрущевка,\n",
    "2,70 - многоэтажные дома, \n",
    "3- сталинские и \"царские\" дома. В принциппе можно добавить эти данные в таблицу, но пока не будем этого делать. "
   ]
  },
  {
   "cell_type": "markdown",
   "metadata": {},
   "source": [
    "#### Балконы №13 - balcony-   12180 non-null  float64"
   ]
  },
  {
   "cell_type": "code",
   "execution_count": 83,
   "metadata": {},
   "outputs": [
    {
     "name": "stdout",
     "output_type": "stream",
     "text": [
      "пропущено значений:\n",
      "11519\n",
      "0.4860337552742616\n"
     ]
    }
   ],
   "source": [
    "print('пропущено значений:')\n",
    "print(23699-12180) \n",
    "print((23699-12180)/23700)"
   ]
  },
  {
   "cell_type": "code",
   "execution_count": 84,
   "metadata": {},
   "outputs": [
    {
     "data": {
      "text/plain": [
       "1.0    4195\n",
       "0.0    3758\n",
       "2.0    3659\n",
       "5.0     304\n",
       "4.0     183\n",
       "3.0      81\n",
       "Name: balcony, dtype: int64"
      ]
     },
     "metadata": {},
     "output_type": "display_data"
    }
   ],
   "source": [
    "display(data['balcony'].value_counts())"
   ]
  },
  {
   "cell_type": "code",
   "execution_count": 86,
   "metadata": {},
   "outputs": [],
   "source": [
    "#display(data[data['balcony'].isna()])"
   ]
  },
  {
   "cell_type": "code",
   "execution_count": 11,
   "metadata": {},
   "outputs": [
    {
     "data": {
      "text/plain": [
       "11519"
      ]
     },
     "execution_count": 11,
     "metadata": {},
     "output_type": "execute_result"
    }
   ],
   "source": [
    "len(data[data['balcony'].isna()])"
   ]
  },
  {
   "cell_type": "markdown",
   "metadata": {},
   "source": [
    "Поскольку пропущенные значения о балконах никак не влияют на цели нашей работы, то мы не исправляем эти данные. "
   ]
  },
  {
   "cell_type": "markdown",
   "metadata": {},
   "source": [
    "#### Аппартаменты -№9  - is_apartment -         2775"
   ]
  },
  {
   "cell_type": "code",
   "execution_count": 87,
   "metadata": {},
   "outputs": [
    {
     "data": {
      "text/plain": [
       "False    2725\n",
       "True       50\n",
       "Name: is_apartment, dtype: int64"
      ]
     },
     "metadata": {},
     "output_type": "display_data"
    }
   ],
   "source": [
    "display(data['is_apartment'].value_counts())"
   ]
  },
  {
   "cell_type": "code",
   "execution_count": 89,
   "metadata": {
    "scrolled": true
   },
   "outputs": [],
   "source": [
    "#display(data[data['is_apartment'].isna()])"
   ]
  },
  {
   "cell_type": "code",
   "execution_count": 14,
   "metadata": {},
   "outputs": [
    {
     "data": {
      "text/plain": [
       "20924"
      ]
     },
     "execution_count": 14,
     "metadata": {},
     "output_type": "execute_result"
    }
   ],
   "source": [
    "len(data[data['is_apartment'].isna()])"
   ]
  },
  {
   "cell_type": "markdown",
   "metadata": {},
   "source": [
    "Около 85% данных о том является ли студия апрпартаментом , или не является не заполненно. Отмечу что в таблице 0,2% объектов \n",
    "являются аппартаментами, 11,5% не являются. Доля в 0.2% статистически не значима, этот столбец можно было бы и удалить,Но посколько в дальнейшем анализе его значения не используются , оставляем как есть.    "
   ]
  },
  {
   "cell_type": "markdown",
   "metadata": {},
   "source": [
    "### Преобразование типов данных"
   ]
  },
  {
   "cell_type": "code",
   "execution_count": 15,
   "metadata": {},
   "outputs": [],
   "source": [
    "#data['floors_total'] = data['floors_total'].astype('int')"
   ]
  },
  {
   "cell_type": "markdown",
   "metadata": {},
   "source": [
    "Поменяем тип данных столбца 'first_day_exposition' на datetime64[ns] чтобы применять к значениям столбца dt-методы. "
   ]
  },
  {
   "cell_type": "code",
   "execution_count": 90,
   "metadata": {},
   "outputs": [],
   "source": [
    "data['first_day_exposition'] = data['first_day_exposition'].astype(\"datetime64[ns]\")"
   ]
  },
  {
   "cell_type": "markdown",
   "metadata": {},
   "source": [
    "### Неявные дупликаты"
   ]
  },
  {
   "cell_type": "markdown",
   "metadata": {},
   "source": [
    "Выведем все значения наименований населенных пунктов. "
   ]
  },
  {
   "cell_type": "code",
   "execution_count": 17,
   "metadata": {
    "scrolled": false
   },
   "outputs": [
    {
     "data": {
      "text/plain": [
       "array(['Бокситогорск', 'Волосово', 'Волхов', 'Всеволожск', 'Выборг',\n",
       "       'Высоцк', 'Гатчина', 'Зеленогорск', 'Ивангород', 'Каменногорск',\n",
       "       'Кингисепп', 'Кириши', 'Кировск', 'Колпино', 'Коммунар',\n",
       "       'Красное Село', 'Кронштадт', 'Кудрово', 'Лодейное Поле',\n",
       "       'Ломоносов', 'Луга', 'Любань', 'Мурино', 'Никольское',\n",
       "       'Новая Ладога', 'Отрадное', 'Павловск', 'Петергоф', 'Пикалёво',\n",
       "       'Подпорожье', 'Приморск', 'Приозерск', 'Пушкин', 'Санкт-Петербург',\n",
       "       'Светогорск', 'Сертолово', 'Сестрорецк', 'Сланцы', 'Сосновый Бор',\n",
       "       'Сясьстрой', 'Тихвин', 'Тосно', 'Шлиссельбург',\n",
       "       'городской поселок Большая Ижора', 'городской поселок Янино-1',\n",
       "       'городской посёлок Будогощь', 'городской посёлок Виллози',\n",
       "       'городской посёлок Лесогорский', 'городской посёлок Мга',\n",
       "       'городской посёлок Назия', 'городской посёлок Новоселье',\n",
       "       'городской посёлок Павлово', 'городской посёлок Рощино',\n",
       "       'городской посёлок Свирьстрой', 'городской посёлок Советский',\n",
       "       'городской посёлок Фёдоровское', 'городской посёлок Янино-1',\n",
       "       'деревня Агалатово', 'деревня Аро', 'деревня Батово',\n",
       "       'деревня Бегуницы', 'деревня Белогорка', 'деревня Большая Вруда',\n",
       "       'деревня Большая Пустомержа', 'деревня Большие Колпаны',\n",
       "       'деревня Большое Рейзино', 'деревня Большой Сабск', 'деревня Бор',\n",
       "       'деревня Борисова Грива', 'деревня Ваганово', 'деревня Вартемяги',\n",
       "       'деревня Вахнова Кара', 'деревня Выскатка', 'деревня Гарболово',\n",
       "       'деревня Глинка', 'деревня Горбунки', 'деревня Гостилицы',\n",
       "       'деревня Заклинье', 'деревня Заневка', 'деревня Зимитицы',\n",
       "       'деревня Извара', 'деревня Иссад', 'деревня Калитино',\n",
       "       'деревня Кальтино', 'деревня Камышовка', 'деревня Каськово',\n",
       "       'деревня Келози', 'деревня Кипень', 'деревня Кисельня',\n",
       "       'деревня Колтуши', 'деревня Коркино', 'деревня Котлы',\n",
       "       'деревня Кривко', 'деревня Кудрово', 'деревня Кузьмолово',\n",
       "       'деревня Курковицы', 'деревня Куровицы', 'деревня Куттузи',\n",
       "       'деревня Лаврики', 'деревня Лаголово', 'деревня Лампово',\n",
       "       'деревня Лесколово', 'деревня Лопухинка', 'деревня Лупполово',\n",
       "       'деревня Малая Романовка', 'деревня Малое Верево',\n",
       "       'деревня Малое Карлино', 'деревня Малые Колпаны',\n",
       "       'деревня Мануйлово', 'деревня Меньково', 'деревня Мины',\n",
       "       'деревня Мистолово', 'деревня Ненимяки', 'деревня Нижние Осельки',\n",
       "       'деревня Нижняя', 'деревня Низино', 'деревня Новое Девяткино',\n",
       "       'деревня Новолисино', 'деревня Нурма', 'деревня Оржицы',\n",
       "       'деревня Парицы', 'деревня Пельгора', 'деревня Пеники',\n",
       "       'деревня Пижма', 'деревня Пикколово', 'деревня Пудомяги',\n",
       "       'деревня Пустынка', 'деревня Пчева', 'деревня Рабитицы',\n",
       "       'деревня Разбегаево', 'деревня Раздолье', 'деревня Разметелево',\n",
       "       'деревня Рапполово', 'деревня Реброво', 'деревня Русско',\n",
       "       'деревня Сижно', 'деревня Снегирёвка', 'деревня Старая',\n",
       "       'деревня Старая Пустошь', 'деревня Старое Хинколово',\n",
       "       'деревня Старополье', 'деревня Старосиверская',\n",
       "       'деревня Старые Бегуницы', 'деревня Суоранда',\n",
       "       'деревня Сяськелево', 'деревня Тарасово', 'деревня Терпилицы',\n",
       "       'деревня Тихковицы', 'деревня Тойворово', 'деревня Торосово',\n",
       "       'деревня Торошковичи', 'деревня Трубников Бор',\n",
       "       'деревня Фалилеево', 'деревня Фёдоровское', 'деревня Хапо-Ое',\n",
       "       'деревня Хязельки', 'деревня Чудской Бор', 'деревня Шпаньково',\n",
       "       'деревня Щеглово', 'деревня Юкки', 'деревня Ялгино',\n",
       "       'деревня Яльгелево', 'деревня Ям-Тесово',\n",
       "       'коттеджный поселок Кивеннапа Север', 'коттеджный поселок Счастье',\n",
       "       'коттеджный посёлок Лесное', 'поселок Аннино', 'поселок Барышево',\n",
       "       'поселок Бугры', 'поселок Возрождение', 'поселок Войсковицы',\n",
       "       'поселок Володарское', 'поселок Гаврилово', 'поселок Гарболово',\n",
       "       'поселок Гладкое', 'поселок Глажево', 'поселок Глебычево',\n",
       "       'поселок Гончарово', 'поселок Громово', 'поселок Дружноселье',\n",
       "       'поселок Елизаветино', 'поселок Жилгородок', 'поселок Жилпосёлок',\n",
       "       'поселок Житково', 'поселок Заводской', 'поселок Запорожское',\n",
       "       'поселок Зимитицы', 'поселок Ильичёво', 'поселок Калитино',\n",
       "       'поселок Каложицы', 'поселок Кингисеппский', 'поселок Кирпичное',\n",
       "       'поселок Кобралово', 'поселок Кобринское', 'поселок Коммунары',\n",
       "       'поселок Коробицыно', 'поселок Котельский',\n",
       "       'поселок Красная Долина', 'поселок Красносельское',\n",
       "       'поселок Лесное', 'поселок Лисий Нос', 'поселок Лукаши',\n",
       "       'поселок Любань', 'поселок Мельниково', 'поселок Мичуринское',\n",
       "       'поселок Молодцово', 'поселок Мурино', 'поселок Новый Свет',\n",
       "       'поселок Новый Учхоз', 'поселок Оредеж',\n",
       "       'поселок Пансионат Зелёный Бор', 'поселок Первомайское',\n",
       "       'поселок Перово', 'поселок Петровское', 'поселок Победа',\n",
       "       'поселок Поляны', 'поселок Почап', 'поселок Починок',\n",
       "       'поселок Пушное', 'поселок Пчевжа', 'поселок Рабитицы',\n",
       "       'поселок Романовка', 'поселок Ромашки', 'поселок Рябово',\n",
       "       'поселок Севастьяново', 'поселок Селезнёво', 'поселок Сельцо',\n",
       "       'поселок Семиозерье', 'поселок Семрино', 'поселок Серебрянский',\n",
       "       'поселок Совхозный', 'поселок Старая Малукса',\n",
       "       'поселок Стеклянный', 'поселок Сумино', 'поселок Суходолье',\n",
       "       'поселок Тельмана', 'поселок Терволово', 'поселок Торковичи',\n",
       "       'поселок Тёсово-4', 'поселок Углово', 'поселок Усть-Луга',\n",
       "       'поселок Ушаки', 'поселок Цвелодубово', 'поселок Цвылёво',\n",
       "       'поселок городского типа Большая Ижора',\n",
       "       'поселок городского типа Вырица',\n",
       "       'поселок городского типа Дружная Горка',\n",
       "       'поселок городского типа Дубровка',\n",
       "       'поселок городского типа Ефимовский',\n",
       "       'поселок городского типа Кондратьево',\n",
       "       'поселок городского типа Красный Бор',\n",
       "       'поселок городского типа Кузьмоловский',\n",
       "       'поселок городского типа Лебяжье',\n",
       "       'поселок городского типа Лесогорский',\n",
       "       'поселок городского типа Назия',\n",
       "       'поселок городского типа Никольский',\n",
       "       'поселок городского типа Приладожский',\n",
       "       'поселок городского типа Рахья', 'поселок городского типа Рощино',\n",
       "       'поселок городского типа Рябово',\n",
       "       'поселок городского типа Синявино',\n",
       "       'поселок городского типа Советский',\n",
       "       'поселок городского типа Токсово',\n",
       "       'поселок городского типа Форносово',\n",
       "       'поселок городского типа имени Свердлова',\n",
       "       'поселок станции Вещево', 'поселок станции Корнево',\n",
       "       'поселок станции Лужайка', 'поселок станции Приветнинское',\n",
       "       'посёлок Александровская', 'посёлок Алексеевка', 'посёлок Аннино',\n",
       "       'посёлок Белоостров', 'посёлок Бугры', 'посёлок Возрождение',\n",
       "       'посёлок Войскорово', 'посёлок Высокоключевой',\n",
       "       'посёлок Гаврилово', 'посёлок Дзержинского', 'посёлок Жилгородок',\n",
       "       'посёлок Ильичёво', 'посёлок Кикерино', 'посёлок Кобралово',\n",
       "       'посёлок Коробицыно', 'посёлок Левашово', 'посёлок Ленинское',\n",
       "       'посёлок Лисий Нос', 'посёлок Мельниково', 'посёлок Металлострой',\n",
       "       'посёлок Мичуринское', 'посёлок Молодёжное', 'посёлок Мурино',\n",
       "       'посёлок Мыза-Ивановка', 'посёлок Новогорелово',\n",
       "       'посёлок Новый Свет', 'посёлок Пансионат Зелёный Бор',\n",
       "       'посёлок Парголово', 'посёлок Перово', 'посёлок Песочный',\n",
       "       'посёлок Петро-Славянка', 'посёлок Петровское',\n",
       "       'посёлок Платформа 69-й километр', 'посёлок Плодовое',\n",
       "       'посёлок Плоское', 'посёлок Победа', 'посёлок Поляны',\n",
       "       'посёлок Понтонный', 'посёлок Пригородный', 'посёлок Пудость',\n",
       "       'посёлок Репино', 'посёлок Ропша', 'посёлок Сапёрное',\n",
       "       'посёлок Сапёрный', 'посёлок Сосново', 'посёлок Старая Малукса',\n",
       "       'посёлок Стеклянный', 'посёлок Стрельна', 'посёлок Суйда',\n",
       "       'посёлок Сумино', 'посёлок Тельмана', 'посёлок Терволово',\n",
       "       'посёлок Торфяное', 'посёлок Усть-Ижора', 'посёлок Усть-Луга',\n",
       "       'посёлок Форт Красная Горка', 'посёлок Шугозеро', 'посёлок Шушары',\n",
       "       'посёлок Щеглово', 'посёлок городского типа Важины',\n",
       "       'посёлок городского типа Вознесенье',\n",
       "       'посёлок городского типа Вырица',\n",
       "       'посёлок городского типа Красный Бор',\n",
       "       'посёлок городского типа Кузнечное',\n",
       "       'посёлок городского типа Кузьмоловский',\n",
       "       'посёлок городского типа Лебяжье', 'посёлок городского типа Мга',\n",
       "       'посёлок городского типа Павлово',\n",
       "       'посёлок городского типа Рощино', 'посёлок городского типа Рябово',\n",
       "       'посёлок городского типа Сиверский',\n",
       "       'посёлок городского типа Тайцы', 'посёлок городского типа Токсово',\n",
       "       'посёлок городского типа Ульяновка',\n",
       "       'посёлок городского типа Форносово',\n",
       "       'посёлок городского типа имени Морозова',\n",
       "       'посёлок городского типа имени Свердлова',\n",
       "       'посёлок при железнодорожной станции Вещево',\n",
       "       'посёлок при железнодорожной станции Приветнинское',\n",
       "       'посёлок станции Громово', 'посёлок станции Свирь',\n",
       "       'садоводческое некоммерческое товарищество Лесная Поляна',\n",
       "       'садовое товарищество Новая Ропша',\n",
       "       'садовое товарищество Приладожский', 'садовое товарищество Рахья',\n",
       "       'садовое товарищество Садко', 'село Копорье', 'село Никольское',\n",
       "       'село Павлово', 'село Паша', 'село Путилово', 'село Рождествено',\n",
       "       'село Русско-Высоцкое', 'село Старая Ладога', 'село Шум', nan],\n",
       "      dtype=object)"
      ]
     },
     "metadata": {},
     "output_type": "display_data"
    },
    {
     "data": {
      "text/plain": [
       "365"
      ]
     },
     "execution_count": 17,
     "metadata": {},
     "output_type": "execute_result"
    }
   ],
   "source": [
    "display(data['locality_name'].sort_values().unique())\n",
    "len(data['locality_name'].sort_values().unique())"
   ]
  },
  {
   "cell_type": "code",
   "execution_count": 18,
   "metadata": {},
   "outputs": [
    {
     "data": {
      "text/plain": [
       "array(['Бокситогорск', 'Волосово', 'Волхов', 'Всеволожск', 'Выборг',\n",
       "       'Высоцк', 'Гатчина', 'Зеленогорск', 'Ивангород', 'Каменногорск',\n",
       "       'Кингисепп', 'Кириши', 'Кировск', 'Колпино', 'Коммунар',\n",
       "       'Красное Село', 'Кронштадт', 'Кудрово', 'Лодейное Поле',\n",
       "       'Ломоносов', 'Луга', 'Любань', 'Мурино', 'Никольское',\n",
       "       'Новая Ладога', 'Отрадное', 'Павловск', 'Петергоф', 'Пикалёво',\n",
       "       'Подпорожье', 'Приморск', 'Приозерск', 'Пушкин', 'Санкт-Петербург',\n",
       "       'Светогорск', 'Сертолово', 'Сестрорецк', 'Сланцы', 'Сосновый Бор',\n",
       "       'Сясьстрой', 'Тихвин', 'Тосно', 'Шлиссельбург',\n",
       "       'деревня Агалатово', 'деревня Аро', 'деревня Батово',\n",
       "       'деревня Бегуницы', 'деревня Белогорка', 'деревня Большая Вруда',\n",
       "       'деревня Большая Пустомержа', 'деревня Большие Колпаны',\n",
       "       'деревня Большое Рейзино', 'деревня Большой Сабск', 'деревня Бор',\n",
       "       'деревня Борисова Грива', 'деревня Ваганово', 'деревня Вартемяги',\n",
       "       'деревня Вахнова Кара', 'деревня Выскатка', 'деревня Гарболово',\n",
       "       'деревня Глинка', 'деревня Горбунки', 'деревня Гостилицы',\n",
       "       'деревня Заклинье', 'деревня Заневка', 'деревня Зимитицы',\n",
       "       'деревня Извара', 'деревня Иссад', 'деревня Калитино',\n",
       "       'деревня Кальтино', 'деревня Камышовка', 'деревня Каськово',\n",
       "       'деревня Келози', 'деревня Кипень', 'деревня Кисельня',\n",
       "       'деревня Колтуши', 'деревня Коркино', 'деревня Котлы',\n",
       "       'деревня Кривко', 'деревня Кудрово', 'деревня Кузьмолово',\n",
       "       'деревня Курковицы', 'деревня Куровицы', 'деревня Куттузи',\n",
       "       'деревня Лаврики', 'деревня Лаголово', 'деревня Лампово',\n",
       "       'деревня Лесколово', 'деревня Лопухинка', 'деревня Лупполово',\n",
       "       'деревня Малая Романовка', 'деревня Малое Верево',\n",
       "       'деревня Малое Карлино', 'деревня Малые Колпаны',\n",
       "       'деревня Мануйлово', 'деревня Меньково', 'деревня Мины',\n",
       "       'деревня Мистолово', 'деревня Ненимяки', 'деревня Нижние Осельки',\n",
       "       'деревня Нижняя', 'деревня Низино', 'деревня Новое Девяткино',\n",
       "       'деревня Новолисино', 'деревня Нурма', 'деревня Оржицы',\n",
       "       'деревня Парицы', 'деревня Пельгора', 'деревня Пеники',\n",
       "       'деревня Пижма', 'деревня Пикколово', 'деревня Пудомяги',\n",
       "       'деревня Пустынка', 'деревня Пчева', 'деревня Рабитицы',\n",
       "       'деревня Разбегаево', 'деревня Раздолье', 'деревня Разметелево',\n",
       "       'деревня Рапполово', 'деревня Реброво', 'деревня Русско',\n",
       "       'деревня Сижно', 'деревня Снегирёвка', 'деревня Старая',\n",
       "       'деревня Старая Пустошь', 'деревня Старое Хинколово',\n",
       "       'деревня Старополье', 'деревня Старосиверская',\n",
       "       'деревня Старые Бегуницы', 'деревня Суоранда',\n",
       "       'деревня Сяськелево', 'деревня Тарасово', 'деревня Терпилицы',\n",
       "       'деревня Тихковицы', 'деревня Тойворово', 'деревня Торосово',\n",
       "       'деревня Торошковичи', 'деревня Трубников Бор',\n",
       "       'деревня Фалилеево', 'деревня Фёдоровское', 'деревня Хапо-Ое',\n",
       "       'деревня Хязельки', 'деревня Чудской Бор', 'деревня Шпаньково',\n",
       "       'деревня Щеглово', 'деревня Юкки', 'деревня Ялгино',\n",
       "       'деревня Яльгелево', 'деревня Ям-Тесово',\n",
       "       'коттеджный поселок Кивеннапа Север', 'коттеджный поселок Лесное',\n",
       "       'коттеджный поселок Счастье', 'поселок Александровская',\n",
       "       'поселок Алексеевка', 'поселок Аннино', 'поселок Барышево',\n",
       "       'поселок Белоостров', 'поселок Большая Ижора', 'поселок Бугры',\n",
       "       'поселок Будогощь', 'поселок Важины', 'поселок Виллози',\n",
       "       'поселок Вознесенье', 'поселок Возрождение', 'поселок Войсковицы',\n",
       "       'поселок Войскорово', 'поселок Володарское', 'поселок Вырица',\n",
       "       'поселок Высокоключевой', 'поселок Гаврилово', 'поселок Гарболово',\n",
       "       'поселок Гладкое', 'поселок Глажево', 'поселок Глебычево',\n",
       "       'поселок Гончарово', 'поселок Громово', 'поселок Дзержинского',\n",
       "       'поселок Дружная Горка', 'поселок Дружноселье', 'поселок Дубровка',\n",
       "       'поселок Елизаветино', 'поселок Ефимовский', 'поселок Жилгородок',\n",
       "       'поселок Жилпоселок', 'поселок Житково', 'поселок Заводской',\n",
       "       'поселок Запорожское', 'поселок Зимитицы', 'поселок Ильичёво',\n",
       "       'поселок Калитино', 'поселок Каложицы', 'поселок Кикерино',\n",
       "       'поселок Кингисеппский', 'поселок Кирпичное', 'поселок Кобралово',\n",
       "       'поселок Кобринское', 'поселок Коммунары', 'поселок Кондратьево',\n",
       "       'поселок Коробицыно', 'поселок Котельский',\n",
       "       'поселок Красная Долина', 'поселок Красносельское',\n",
       "       'поселок Красный Бор', 'поселок Кузнечное',\n",
       "       'поселок Кузьмоловский', 'поселок Лебяжье', 'поселок Левашово',\n",
       "       'поселок Ленинское', 'поселок Лесное', 'поселок Лесогорский',\n",
       "       'поселок Лисий Нос', 'поселок Лукаши', 'поселок Любань',\n",
       "       'поселок Мга', 'поселок Мельниково', 'поселок Металлострой',\n",
       "       'поселок Мичуринское', 'поселок Молодцово', 'поселок Молодёжное',\n",
       "       'поселок Мурино', 'поселок Мыза-Ивановка', 'поселок Назия',\n",
       "       'поселок Никольский', 'поселок Новогорелово', 'поселок Новоселье',\n",
       "       'поселок Новый Свет', 'поселок Новый Учхоз', 'поселок Оредеж',\n",
       "       'поселок Павлово', 'поселок Пансионат Зелёный Бор',\n",
       "       'поселок Парголово', 'поселок Первомайское', 'поселок Перово',\n",
       "       'поселок Песочный', 'поселок Петро-Славянка', 'поселок Петровское',\n",
       "       'поселок Платформа 69-й километр', 'поселок Плодовое',\n",
       "       'поселок Плоское', 'поселок Победа', 'поселок Поляны',\n",
       "       'поселок Понтонный', 'поселок Почап', 'поселок Починок',\n",
       "       'поселок Пригородный', 'поселок Приладожский', 'поселок Пудость',\n",
       "       'поселок Пушное', 'поселок Пчевжа', 'поселок Рабитицы',\n",
       "       'поселок Рахья', 'поселок Репино', 'поселок Романовка',\n",
       "       'поселок Ромашки', 'поселок Ропша', 'поселок Рощино',\n",
       "       'поселок Рябово', 'поселок Сапёрное', 'поселок Сапёрный',\n",
       "       'поселок Свирьстрой', 'поселок Севастьяново', 'поселок Селезнёво',\n",
       "       'поселок Сельцо', 'поселок Семиозерье', 'поселок Семрино',\n",
       "       'поселок Серебрянский', 'поселок Сиверский', 'поселок Синявино',\n",
       "       'поселок Советский', 'поселок Совхозный', 'поселок Сосново',\n",
       "       'поселок Старая Малукса', 'поселок Стеклянный', 'поселок Стрельна',\n",
       "       'поселок Суйда', 'поселок Сумино', 'поселок Суходолье',\n",
       "       'поселок Тайцы', 'поселок Тельмана', 'поселок Терволово',\n",
       "       'поселок Токсово', 'поселок Торковичи', 'поселок Торфяное',\n",
       "       'поселок Тёсово-4', 'поселок Углово', 'поселок Ульяновка',\n",
       "       'поселок Усть-Ижора', 'поселок Усть-Луга', 'поселок Ушаки',\n",
       "       'поселок Форносово', 'поселок Форт Красная Горка',\n",
       "       'поселок Фёдоровское', 'поселок Цвелодубово', 'поселок Цвылёво',\n",
       "       'поселок Шугозеро', 'поселок Шушары', 'поселок Щеглово',\n",
       "       'поселок Янино-1', 'поселок имени Морозова',\n",
       "       'поселок имени Свердлова', 'поселок станции Вещево',\n",
       "       'поселок станции Громово', 'поселок станции Корнево',\n",
       "       'поселок станции Лужайка', 'поселок станции Приветнинское',\n",
       "       'поселок станции Свирь',\n",
       "       'садоводческое некоммерческое товарищество Лесная Поляна',\n",
       "       'садовое товарищество Новая Ропша',\n",
       "       'садовое товарищество Приладожский', 'садовое товарищество Рахья',\n",
       "       'садовое товарищество Садко', 'село Копорье', 'село Никольское',\n",
       "       'село Павлово', 'село Паша', 'село Путилово', 'село Рождествено',\n",
       "       'село Русско-Высоцкое', 'село Старая Ладога', 'село Шум', nan],\n",
       "      dtype=object)"
      ]
     },
     "metadata": {},
     "output_type": "display_data"
    },
    {
     "data": {
      "text/plain": [
       "321"
      ]
     },
     "execution_count": 18,
     "metadata": {},
     "output_type": "execute_result"
    }
   ],
   "source": [
    "data['locality_name'] = data['locality_name'].str.replace('посёлок', 'поселок')\n",
    "data['locality_name'] = data['locality_name'].str.replace('городской поселок', 'поселок')\n",
    "data['locality_name'] = data['locality_name'].str.replace('поселок городского типа', 'поселок')\n",
    "data['locality_name'] = data['locality_name'].str.replace('поселок при железнодорожной станции', 'поселок станции')\n",
    "display(data['locality_name'].sort_values().unique())\n",
    "len(data['locality_name'].sort_values().unique())"
   ]
  },
  {
   "cell_type": "markdown",
   "metadata": {},
   "source": [
    "Мы убрали дублирующие названия, было 365, стало 321 названий населенных пунктов.  "
   ]
  },
  {
   "cell_type": "markdown",
   "metadata": {},
   "source": [
    "### Редкие и выбивающиеся значения"
   ]
  },
  {
   "cell_type": "code",
   "execution_count": 19,
   "metadata": {},
   "outputs": [
    {
     "data": {
      "text/plain": [
       "27.0     8\n",
       "25.0     7\n",
       "32.0     2\n",
       "14.0     1\n",
       "20.0     1\n",
       "24.0     1\n",
       "27.5     1\n",
       "10.3     1\n",
       "22.6     1\n",
       "26.0     1\n",
       "100.0    1\n",
       "Name: ceiling_height, dtype: int64"
      ]
     },
     "execution_count": 19,
     "metadata": {},
     "output_type": "execute_result"
    }
   ],
   "source": [
    "#выведем строки с потолками выше 10 метров.\n",
    "data[data['ceiling_height'] > 10]['ceiling_height'].value_counts()"
   ]
  },
  {
   "cell_type": "markdown",
   "metadata": {},
   "source": [
    "    Посмотрим есть ли потолки выше 10 метров. Да. Такие данные есть. Потолки высотой от 20 метров до 50 метров могут быть неправильно внесены пользователями, которые ошибочно  вместо 2,5 м внесли 25 метров. \n",
    "    Исправим эти данные , поделив их на 10. "
   ]
  },
  {
   "cell_type": "code",
   "execution_count": 20,
   "metadata": {},
   "outputs": [
    {
     "data": {
      "text/plain": [
       "14.0    1\n",
       "10.3    1\n",
       "Name: ceiling_height, dtype: int64"
      ]
     },
     "execution_count": 20,
     "metadata": {},
     "output_type": "execute_result"
    }
   ],
   "source": [
    "data.loc[data['ceiling_height']>=20, 'ceiling_height']=data.loc[data['ceiling_height']>=20, 'ceiling_height']/10\n",
    "data[data['ceiling_height'] > 10]['ceiling_height'].value_counts()"
   ]
  },
  {
   "cell_type": "markdown",
   "metadata": {},
   "source": [
    "Посмотрим нет ли слишком больших квартир, посмотрим на квартиры площади большей чем 400 кв. м. . Самая гигантская квартира 900 кв.м, перед ней 631, и 618 кв.м. В принципе такие эксклюзивные квартиры в Петербурге возможны, оставим эти данные."
   ]
  },
  {
   "cell_type": "code",
   "execution_count": 21,
   "metadata": {},
   "outputs": [
    {
     "data": {
      "text/plain": [
       "500.00    2\n",
       "460.80    1\n",
       "590.00    1\n",
       "422.20    1\n",
       "495.00    1\n",
       "618.00    1\n",
       "900.00    1\n",
       "517.00    1\n",
       "488.00    1\n",
       "483.90    1\n",
       "631.20    1\n",
       "491.00    1\n",
       "494.10    1\n",
       "402.00    1\n",
       "413.50    1\n",
       "470.30    1\n",
       "631.00    1\n",
       "401.00    1\n",
       "410.00    1\n",
       "507.00    1\n",
       "441.98    1\n",
       "431.00    1\n",
       "Name: total_area, dtype: int64"
      ]
     },
     "execution_count": 21,
     "metadata": {},
     "output_type": "execute_result"
    }
   ],
   "source": [
    "data[data['total_area'] > 400]['total_area'].value_counts()"
   ]
  },
  {
   "cell_type": "code",
   "execution_count": 91,
   "metadata": {},
   "outputs": [
    {
     "data": {
      "text/plain": [
       "13.0    3\n",
       "14.0    1\n",
       "12.0    1\n",
       "13.2    1\n",
       "Name: total_area, dtype: int64"
      ]
     },
     "execution_count": 91,
     "metadata": {},
     "output_type": "execute_result"
    }
   ],
   "source": [
    "#отфильтруем объекты с общей площадью меньше 15 кв.м.\n",
    "data[data['total_area'] <15]['total_area'].value_counts()"
   ]
  },
  {
   "cell_type": "markdown",
   "metadata": {},
   "source": [
    "Минимальные размеры квартир допустимы. Оставим все как есть."
   ]
  },
  {
   "cell_type": "markdown",
   "metadata": {},
   "source": [
    "Удалим из базы обьекты стоимостью менее 1 млн рублей, как нерелевантные. "
   ]
  },
  {
   "cell_type": "code",
   "execution_count": 92,
   "metadata": {},
   "outputs": [],
   "source": [
    "data=data[data['last_price'] > 1000000]"
   ]
  },
  {
   "cell_type": "code",
   "execution_count": 93,
   "metadata": {},
   "outputs": [
    {
     "data": {
      "text/plain": [
       "(23454, 22)"
      ]
     },
     "execution_count": 93,
     "metadata": {},
     "output_type": "execute_result"
    }
   ],
   "source": [
    "data.shape"
   ]
  },
  {
   "cell_type": "markdown",
   "metadata": {},
   "source": [
    "## Посчитайте и добавьте в таблицу новые столбцы"
   ]
  },
  {
   "cell_type": "markdown",
   "metadata": {},
   "source": [
    "Добавим в таблицу столбец с ценой за квадратный метр, mm_price."
   ]
  },
  {
   "cell_type": "code",
   "execution_count": 25,
   "metadata": {},
   "outputs": [],
   "source": [
    "data['mm_price']=(data['last_price']/data['total_area']).round()\n",
    "#display(data.head(5))"
   ]
  },
  {
   "cell_type": "markdown",
   "metadata": {},
   "source": [
    "Добавим в таблицу день недели,  месяц и год появления обьявления."
   ]
  },
  {
   "cell_type": "code",
   "execution_count": 26,
   "metadata": {},
   "outputs": [],
   "source": [
    "data['weekday'] = data['first_day_exposition'].dt.weekday\n",
    "data['year'] = data['first_day_exposition'].dt.year\n",
    "data['month'] = data['first_day_exposition'].dt.month\n",
    "#display(data)"
   ]
  },
  {
   "cell_type": "markdown",
   "metadata": {},
   "source": [
    "Добавим в таблицу тип этажа. "
   ]
  },
  {
   "cell_type": "code",
   "execution_count": 27,
   "metadata": {},
   "outputs": [],
   "source": [
    "#Создадим функцию типизации этажа \n",
    "def floor_type (row):\n",
    "    goal = row['floor']\n",
    "    if  goal == 1:\n",
    "        return 'первый'\n",
    "    if goal == row['floors_total']:\n",
    "        return 'последний'\n",
    "    return 'другой'\n",
    "\n",
    "#Применим функцию \n",
    "\n",
    "data['floor_type'] = data.apply(floor_type, axis=1)      \n",
    "#display(data.head(6))"
   ]
  },
  {
   "cell_type": "markdown",
   "metadata": {},
   "source": [
    "Добавим в таблицу расстояние до центра города в км."
   ]
  },
  {
   "cell_type": "code",
   "execution_count": 28,
   "metadata": {},
   "outputs": [
    {
     "data": {
      "text/html": [
       "<div>\n",
       "<style scoped>\n",
       "    .dataframe tbody tr th:only-of-type {\n",
       "        vertical-align: middle;\n",
       "    }\n",
       "\n",
       "    .dataframe tbody tr th {\n",
       "        vertical-align: top;\n",
       "    }\n",
       "\n",
       "    .dataframe thead th {\n",
       "        text-align: right;\n",
       "    }\n",
       "</style>\n",
       "<table border=\"1\" class=\"dataframe\">\n",
       "  <thead>\n",
       "    <tr style=\"text-align: right;\">\n",
       "      <th></th>\n",
       "      <th>total_images</th>\n",
       "      <th>last_price</th>\n",
       "      <th>total_area</th>\n",
       "      <th>first_day_exposition</th>\n",
       "      <th>rooms</th>\n",
       "      <th>ceiling_height</th>\n",
       "      <th>floors_total</th>\n",
       "      <th>living_area</th>\n",
       "      <th>floor</th>\n",
       "      <th>is_apartment</th>\n",
       "      <th>...</th>\n",
       "      <th>parks_nearest</th>\n",
       "      <th>ponds_around3000</th>\n",
       "      <th>ponds_nearest</th>\n",
       "      <th>days_exposition</th>\n",
       "      <th>mm_price</th>\n",
       "      <th>weekday</th>\n",
       "      <th>year</th>\n",
       "      <th>month</th>\n",
       "      <th>floor_type</th>\n",
       "      <th>cityCenters_km</th>\n",
       "    </tr>\n",
       "  </thead>\n",
       "  <tbody>\n",
       "    <tr>\n",
       "      <th>0</th>\n",
       "      <td>20</td>\n",
       "      <td>13000000.0</td>\n",
       "      <td>108.0</td>\n",
       "      <td>2019-03-07</td>\n",
       "      <td>3</td>\n",
       "      <td>2.70</td>\n",
       "      <td>16.0</td>\n",
       "      <td>51.0</td>\n",
       "      <td>8</td>\n",
       "      <td>NaN</td>\n",
       "      <td>...</td>\n",
       "      <td>482.0</td>\n",
       "      <td>2.0</td>\n",
       "      <td>755.0</td>\n",
       "      <td>NaN</td>\n",
       "      <td>120370.0</td>\n",
       "      <td>3</td>\n",
       "      <td>2019</td>\n",
       "      <td>3</td>\n",
       "      <td>другой</td>\n",
       "      <td>16.0</td>\n",
       "    </tr>\n",
       "    <tr>\n",
       "      <th>1</th>\n",
       "      <td>7</td>\n",
       "      <td>3350000.0</td>\n",
       "      <td>40.4</td>\n",
       "      <td>2018-12-04</td>\n",
       "      <td>1</td>\n",
       "      <td>NaN</td>\n",
       "      <td>11.0</td>\n",
       "      <td>18.6</td>\n",
       "      <td>1</td>\n",
       "      <td>NaN</td>\n",
       "      <td>...</td>\n",
       "      <td>NaN</td>\n",
       "      <td>0.0</td>\n",
       "      <td>NaN</td>\n",
       "      <td>81.0</td>\n",
       "      <td>82921.0</td>\n",
       "      <td>1</td>\n",
       "      <td>2018</td>\n",
       "      <td>12</td>\n",
       "      <td>первый</td>\n",
       "      <td>19.0</td>\n",
       "    </tr>\n",
       "    <tr>\n",
       "      <th>2</th>\n",
       "      <td>10</td>\n",
       "      <td>5196000.0</td>\n",
       "      <td>56.0</td>\n",
       "      <td>2015-08-20</td>\n",
       "      <td>2</td>\n",
       "      <td>NaN</td>\n",
       "      <td>5.0</td>\n",
       "      <td>34.3</td>\n",
       "      <td>4</td>\n",
       "      <td>NaN</td>\n",
       "      <td>...</td>\n",
       "      <td>90.0</td>\n",
       "      <td>2.0</td>\n",
       "      <td>574.0</td>\n",
       "      <td>558.0</td>\n",
       "      <td>92786.0</td>\n",
       "      <td>3</td>\n",
       "      <td>2015</td>\n",
       "      <td>8</td>\n",
       "      <td>другой</td>\n",
       "      <td>14.0</td>\n",
       "    </tr>\n",
       "    <tr>\n",
       "      <th>3</th>\n",
       "      <td>0</td>\n",
       "      <td>64900000.0</td>\n",
       "      <td>159.0</td>\n",
       "      <td>2015-07-24</td>\n",
       "      <td>3</td>\n",
       "      <td>NaN</td>\n",
       "      <td>14.0</td>\n",
       "      <td>NaN</td>\n",
       "      <td>9</td>\n",
       "      <td>NaN</td>\n",
       "      <td>...</td>\n",
       "      <td>84.0</td>\n",
       "      <td>3.0</td>\n",
       "      <td>234.0</td>\n",
       "      <td>424.0</td>\n",
       "      <td>408176.0</td>\n",
       "      <td>4</td>\n",
       "      <td>2015</td>\n",
       "      <td>7</td>\n",
       "      <td>другой</td>\n",
       "      <td>7.0</td>\n",
       "    </tr>\n",
       "    <tr>\n",
       "      <th>4</th>\n",
       "      <td>2</td>\n",
       "      <td>10000000.0</td>\n",
       "      <td>100.0</td>\n",
       "      <td>2018-06-19</td>\n",
       "      <td>2</td>\n",
       "      <td>3.03</td>\n",
       "      <td>14.0</td>\n",
       "      <td>32.0</td>\n",
       "      <td>13</td>\n",
       "      <td>NaN</td>\n",
       "      <td>...</td>\n",
       "      <td>112.0</td>\n",
       "      <td>1.0</td>\n",
       "      <td>48.0</td>\n",
       "      <td>121.0</td>\n",
       "      <td>100000.0</td>\n",
       "      <td>1</td>\n",
       "      <td>2018</td>\n",
       "      <td>6</td>\n",
       "      <td>другой</td>\n",
       "      <td>8.0</td>\n",
       "    </tr>\n",
       "    <tr>\n",
       "      <th>5</th>\n",
       "      <td>10</td>\n",
       "      <td>2890000.0</td>\n",
       "      <td>30.4</td>\n",
       "      <td>2018-09-10</td>\n",
       "      <td>1</td>\n",
       "      <td>NaN</td>\n",
       "      <td>12.0</td>\n",
       "      <td>14.4</td>\n",
       "      <td>5</td>\n",
       "      <td>NaN</td>\n",
       "      <td>...</td>\n",
       "      <td>NaN</td>\n",
       "      <td>NaN</td>\n",
       "      <td>NaN</td>\n",
       "      <td>55.0</td>\n",
       "      <td>95066.0</td>\n",
       "      <td>0</td>\n",
       "      <td>2018</td>\n",
       "      <td>9</td>\n",
       "      <td>другой</td>\n",
       "      <td>NaN</td>\n",
       "    </tr>\n",
       "  </tbody>\n",
       "</table>\n",
       "<p>6 rows × 28 columns</p>\n",
       "</div>"
      ],
      "text/plain": [
       "   total_images  last_price  total_area first_day_exposition  rooms  \\\n",
       "0            20  13000000.0       108.0           2019-03-07      3   \n",
       "1             7   3350000.0        40.4           2018-12-04      1   \n",
       "2            10   5196000.0        56.0           2015-08-20      2   \n",
       "3             0  64900000.0       159.0           2015-07-24      3   \n",
       "4             2  10000000.0       100.0           2018-06-19      2   \n",
       "5            10   2890000.0        30.4           2018-09-10      1   \n",
       "\n",
       "   ceiling_height  floors_total  living_area  floor is_apartment  ...  \\\n",
       "0            2.70          16.0         51.0      8          NaN  ...   \n",
       "1             NaN          11.0         18.6      1          NaN  ...   \n",
       "2             NaN           5.0         34.3      4          NaN  ...   \n",
       "3             NaN          14.0          NaN      9          NaN  ...   \n",
       "4            3.03          14.0         32.0     13          NaN  ...   \n",
       "5             NaN          12.0         14.4      5          NaN  ...   \n",
       "\n",
       "   parks_nearest  ponds_around3000  ponds_nearest  days_exposition  mm_price  \\\n",
       "0          482.0               2.0          755.0              NaN  120370.0   \n",
       "1            NaN               0.0            NaN             81.0   82921.0   \n",
       "2           90.0               2.0          574.0            558.0   92786.0   \n",
       "3           84.0               3.0          234.0            424.0  408176.0   \n",
       "4          112.0               1.0           48.0            121.0  100000.0   \n",
       "5            NaN               NaN            NaN             55.0   95066.0   \n",
       "\n",
       "   weekday  year  month  floor_type  cityCenters_km  \n",
       "0        3  2019      3      другой            16.0  \n",
       "1        1  2018     12      первый            19.0  \n",
       "2        3  2015      8      другой            14.0  \n",
       "3        4  2015      7      другой             7.0  \n",
       "4        1  2018      6      другой             8.0  \n",
       "5        0  2018      9      другой             NaN  \n",
       "\n",
       "[6 rows x 28 columns]"
      ]
     },
     "metadata": {},
     "output_type": "display_data"
    }
   ],
   "source": [
    "data['cityCenters_km'] = (data['cityCenters_nearest']/1000).round()\n",
    "display(data.head(6))"
   ]
  },
  {
   "cell_type": "markdown",
   "metadata": {},
   "source": [
    "## Проведите исследовательский анализ данных"
   ]
  },
  {
   "cell_type": "markdown",
   "metadata": {},
   "source": [
    "### Изучим отдельные параметры объектов."
   ]
  },
  {
   "cell_type": "markdown",
   "metadata": {},
   "source": [
    "#### Общая площадь квартир."
   ]
  },
  {
   "cell_type": "code",
   "execution_count": 29,
   "metadata": {},
   "outputs": [
    {
     "data": {
      "text/plain": [
       "<AxesSubplot:>"
      ]
     },
     "execution_count": 29,
     "metadata": {},
     "output_type": "execute_result"
    },
    {
     "data": {
      "image/png": "[encoded data removed]",
      "text/plain": [
       "<Figure size 432x288 with 1 Axes>"
      ]
     },
     "metadata": {
      "needs_background": "light"
     },
     "output_type": "display_data"
    }
   ],
   "source": [
    "data['total_area'].hist(bins=100, range=(10,200))"
   ]
  },
  {
   "cell_type": "code",
   "execution_count": 30,
   "metadata": {},
   "outputs": [
    {
     "data": {
      "text/plain": [
       "<AxesSubplot:>"
      ]
     },
     "execution_count": 30,
     "metadata": {},
     "output_type": "execute_result"
    },
    {
     "data": {
      "image/png": "[encoded data removed]",
      "text/plain": [
       "<Figure size 432x288 with 1 Axes>"
      ]
     },
     "metadata": {
      "needs_background": "light"
     },
     "output_type": "display_data"
    }
   ],
   "source": [
    "data['total_area'].hist(bins=100, range=(10,120))"
   ]
  },
  {
   "cell_type": "code",
   "execution_count": 31,
   "metadata": {},
   "outputs": [
    {
     "data": {
      "text/plain": [
       "count    23454.000000\n",
       "mean        60.543132\n",
       "std         35.767917\n",
       "min         12.000000\n",
       "25%         40.000000\n",
       "50%         52.000000\n",
       "75%         70.000000\n",
       "max        900.000000\n",
       "Name: total_area, dtype: float64"
      ]
     },
     "execution_count": 31,
     "metadata": {},
     "output_type": "execute_result"
    }
   ],
   "source": [
    "data['total_area'].describe()"
   ]
  },
  {
   "cell_type": "markdown",
   "metadata": {},
   "source": [
    " Вывод: Ожидаемое распределение общей площади квартир — гистограмма с длинным хвостом на высоких значениях(от 90 до 200 кв.м.) и падением в ноль слева от пика, не доходя до нуля в районе 20 кв.м..   \n",
    "    Основная масса квартир находится в диапозоне от 30 до 90 квадратных метров. Мы видим отдельные пики общих площадей - 30,32,36,41,45,51,56, 64 и т.д квадратных метров, это следствие типовых стандартных квартир. \n",
    "    Медианное значение 52 кв.м. Первый квартиль 40 кв.м, третий-70 кв.м."
   ]
  },
  {
   "cell_type": "markdown",
   "metadata": {},
   "source": [
    "#### Жилая площадь квартир."
   ]
  },
  {
   "cell_type": "code",
   "execution_count": 32,
   "metadata": {},
   "outputs": [
    {
     "data": {
      "text/plain": [
       "<AxesSubplot:>"
      ]
     },
     "execution_count": 32,
     "metadata": {},
     "output_type": "execute_result"
    },
    {
     "data": {
      "image/png": "[encoded data removed]",
      "text/plain": [
       "<Figure size 432x288 with 1 Axes>"
      ]
     },
     "metadata": {
      "needs_background": "light"
     },
     "output_type": "display_data"
    }
   ],
   "source": [
    "data['living_area'].hist(bins=100, range=(5,140))"
   ]
  },
  {
   "cell_type": "code",
   "execution_count": 33,
   "metadata": {},
   "outputs": [
    {
     "data": {
      "text/plain": [
       "<AxesSubplot:>"
      ]
     },
     "execution_count": 33,
     "metadata": {},
     "output_type": "execute_result"
    },
    {
     "data": {
      "image/png": "[encoded data removed]",
      "text/plain": [
       "<Figure size 432x288 with 1 Axes>"
      ]
     },
     "metadata": {
      "needs_background": "light"
     },
     "output_type": "display_data"
    }
   ],
   "source": [
    "data['living_area'].hist(bins=100, range=(5,80))"
   ]
  },
  {
   "cell_type": "code",
   "execution_count": 34,
   "metadata": {},
   "outputs": [
    {
     "data": {
      "text/plain": [
       "count    21596.000000\n",
       "mean        34.539511\n",
       "std         22.097985\n",
       "min          2.000000\n",
       "25%         18.600000\n",
       "50%         30.000000\n",
       "75%         42.500000\n",
       "max        409.700000\n",
       "Name: living_area, dtype: float64"
      ]
     },
     "execution_count": 34,
     "metadata": {},
     "output_type": "execute_result"
    }
   ],
   "source": [
    "data['living_area'].describe()"
   ]
  },
  {
   "cell_type": "markdown",
   "metadata": {},
   "source": [
    "    Вывод: Ожидаемое распределение жилой площади квартир  — гистограмма с длинным хвостом на высоких значениях(от 60 до 120 кв.м.) и падением в ноль слева от пика, не доходя до нуля в районе 10 кв.м..   \n",
    "    Медианное значение 30 кв.м., первый квартиль 18,6 , третий 42,3 кв. м. соответствует пропорциям в распределении общей площади. Стандартные значения: большая однушка - общ.40, жил. 18-20 , большая двушка - общая 50, жилая 30, трешка общая 70, жилая 42. метра.\n",
    "    Непонятен сильный провал в распределении жилой площади между 22 и 26 кв.м.    "
   ]
  },
  {
   "cell_type": "markdown",
   "metadata": {},
   "source": [
    "#### Площадь кухни."
   ]
  },
  {
   "cell_type": "code",
   "execution_count": 35,
   "metadata": {},
   "outputs": [
    {
     "data": {
      "text/plain": [
       "<AxesSubplot:>"
      ]
     },
     "execution_count": 35,
     "metadata": {},
     "output_type": "execute_result"
    },
    {
     "data": {
      "image/png": "[encoded data removed]",
      "text/plain": [
       "<Figure size 432x288 with 1 Axes>"
      ]
     },
     "metadata": {
      "needs_background": "light"
     },
     "output_type": "display_data"
    }
   ],
   "source": [
    "data['kitchen_area'].hist(bins=100, range=(1,50))"
   ]
  },
  {
   "cell_type": "code",
   "execution_count": 36,
   "metadata": {},
   "outputs": [
    {
     "data": {
      "text/plain": [
       "<AxesSubplot:>"
      ]
     },
     "execution_count": 36,
     "metadata": {},
     "output_type": "execute_result"
    },
    {
     "data": {
      "image/png": "[encoded data removed]",
      "text/plain": [
       "<Figure size 432x288 with 1 Axes>"
      ]
     },
     "metadata": {
      "needs_background": "light"
     },
     "output_type": "display_data"
    }
   ],
   "source": [
    "data['kitchen_area'].hist(bins=100, range=(1,15))"
   ]
  },
  {
   "cell_type": "code",
   "execution_count": 37,
   "metadata": {},
   "outputs": [
    {
     "data": {
      "text/plain": [
       "count    21224.000000\n",
       "mean        10.602117\n",
       "std          5.916813\n",
       "min          1.300000\n",
       "25%          7.000000\n",
       "50%          9.200000\n",
       "75%         12.000000\n",
       "max        112.000000\n",
       "Name: kitchen_area, dtype: float64"
      ]
     },
     "execution_count": 37,
     "metadata": {},
     "output_type": "execute_result"
    }
   ],
   "source": [
    "data['kitchen_area'].describe()"
   ]
  },
  {
   "cell_type": "markdown",
   "metadata": {},
   "source": [
    "Вывод: Ожидаемое распределение площади кухни — гистограмма с коротким хвостом на значениях от 18 до 30 кв.м. и падением в ноль слева от пика, не доходя до нуля в районе 5 кв.м..   \n",
    "Медианное значение 9,1 кв.м., первый квартиль 7 , третий 12 кв. м..\n",
    "Видны пики размеров кухонь на массовых застройках 6 кв.м, 6.5, 8,9,10,11,12. И некоторые люди округляют размер кухни до целого, отпуская десятичную часть."
   ]
  },
  {
   "cell_type": "markdown",
   "metadata": {},
   "source": [
    "#### Цена квартиры."
   ]
  },
  {
   "cell_type": "code",
   "execution_count": 38,
   "metadata": {},
   "outputs": [
    {
     "data": {
      "text/plain": [
       "<AxesSubplot:>"
      ]
     },
     "execution_count": 38,
     "metadata": {},
     "output_type": "execute_result"
    },
    {
     "data": {
      "image/png": "[encoded data removed]",
      "text/plain": [
       "<Figure size 432x288 with 1 Axes>"
      ]
     },
     "metadata": {
      "needs_background": "light"
     },
     "output_type": "display_data"
    }
   ],
   "source": [
    "data['last_price'].hist(bins=100, range=(100000,50000000))"
   ]
  },
  {
   "cell_type": "code",
   "execution_count": 39,
   "metadata": {},
   "outputs": [
    {
     "data": {
      "text/plain": [
       "<AxesSubplot:>"
      ]
     },
     "execution_count": 39,
     "metadata": {},
     "output_type": "execute_result"
    },
    {
     "data": {
      "image/png": "[encoded data removed]",
      "text/plain": [
       "<Figure size 432x288 with 1 Axes>"
      ]
     },
     "metadata": {
      "needs_background": "light"
     },
     "output_type": "display_data"
    }
   ],
   "source": [
    "data['last_price'].hist(bins=100, range=(0,20000000))"
   ]
  },
  {
   "cell_type": "code",
   "execution_count": 40,
   "metadata": {},
   "outputs": [
    {
     "data": {
      "text/plain": [
       "count    2.345400e+04\n",
       "mean     6.601659e+06\n",
       "std      1.092774e+07\n",
       "min      1.010000e+06\n",
       "25%      3.480000e+06\n",
       "50%      4.670000e+06\n",
       "75%      6.800000e+06\n",
       "max      7.630000e+08\n",
       "Name: last_price, dtype: float64"
      ]
     },
     "execution_count": 40,
     "metadata": {},
     "output_type": "execute_result"
    }
   ],
   "source": [
    "data['last_price'].describe()"
   ]
  },
  {
   "cell_type": "code",
   "execution_count": 41,
   "metadata": {},
   "outputs": [
    {
     "data": {
      "text/html": [
       "<div>\n",
       "<style scoped>\n",
       "    .dataframe tbody tr th:only-of-type {\n",
       "        vertical-align: middle;\n",
       "    }\n",
       "\n",
       "    .dataframe tbody tr th {\n",
       "        vertical-align: top;\n",
       "    }\n",
       "\n",
       "    .dataframe thead th {\n",
       "        text-align: right;\n",
       "    }\n",
       "</style>\n",
       "<table border=\"1\" class=\"dataframe\">\n",
       "  <thead>\n",
       "    <tr style=\"text-align: right;\">\n",
       "      <th></th>\n",
       "      <th>total_images</th>\n",
       "      <th>last_price</th>\n",
       "      <th>total_area</th>\n",
       "      <th>first_day_exposition</th>\n",
       "      <th>rooms</th>\n",
       "      <th>ceiling_height</th>\n",
       "      <th>floors_total</th>\n",
       "      <th>living_area</th>\n",
       "      <th>floor</th>\n",
       "      <th>is_apartment</th>\n",
       "      <th>...</th>\n",
       "      <th>parks_nearest</th>\n",
       "      <th>ponds_around3000</th>\n",
       "      <th>ponds_nearest</th>\n",
       "      <th>days_exposition</th>\n",
       "      <th>mm_price</th>\n",
       "      <th>weekday</th>\n",
       "      <th>year</th>\n",
       "      <th>month</th>\n",
       "      <th>floor_type</th>\n",
       "      <th>cityCenters_km</th>\n",
       "    </tr>\n",
       "  </thead>\n",
       "  <tbody>\n",
       "  </tbody>\n",
       "</table>\n",
       "<p>0 rows × 28 columns</p>\n",
       "</div>"
      ],
      "text/plain": [
       "Empty DataFrame\n",
       "Columns: [total_images, last_price, total_area, first_day_exposition, rooms, ceiling_height, floors_total, living_area, floor, is_apartment, studio, open_plan, kitchen_area, balcony, locality_name, airports_nearest, cityCenters_nearest, parks_around3000, parks_nearest, ponds_around3000, ponds_nearest, days_exposition, mm_price, weekday, year, month, floor_type, cityCenters_km]\n",
       "Index: []\n",
       "\n",
       "[0 rows x 28 columns]"
      ]
     },
     "execution_count": 41,
     "metadata": {},
     "output_type": "execute_result"
    }
   ],
   "source": [
    "data[data['last_price'] < 1000000].head(20)"
   ]
  },
  {
   "cell_type": "markdown",
   "metadata": {},
   "source": [
    "    Вывод: Распределение цен квартир нормальное с  длинным хвостом на значениях от 9 до 50 млн. рублей. \n",
    "    Медианное значение 4,7 млн. руб., первый квартиль 3,5 млн. руб. , третий 6,8 млн.руб. Средняя цена 6.6 млн рублей.\n",
    "    Есть большое количество данных с неестественно низким значением цены за объект. Предлагаю убрать все объекты стоимостью менее 1 млн. рублей. Удаление произведу в разделе 2.  "
   ]
  },
  {
   "cell_type": "markdown",
   "metadata": {},
   "source": [
    "#### Количество комнат.\n"
   ]
  },
  {
   "cell_type": "code",
   "execution_count": 42,
   "metadata": {},
   "outputs": [
    {
     "data": {
      "text/plain": [
       "<AxesSubplot:>"
      ]
     },
     "execution_count": 42,
     "metadata": {},
     "output_type": "execute_result"
    },
    {
     "data": {
      "image/png": "[encoded data removed]",
      "text/plain": [
       "<Figure size 432x288 with 1 Axes>"
      ]
     },
     "metadata": {
      "needs_background": "light"
     },
     "output_type": "display_data"
    }
   ],
   "source": [
    "data['rooms'].hist(bins=100, range=(0,10))"
   ]
  },
  {
   "cell_type": "code",
   "execution_count": 43,
   "metadata": {},
   "outputs": [
    {
     "data": {
      "text/plain": [
       "count    23454.000000\n",
       "mean         2.074699\n",
       "std          1.080780\n",
       "min          0.000000\n",
       "25%          1.000000\n",
       "50%          2.000000\n",
       "75%          3.000000\n",
       "max         19.000000\n",
       "Name: rooms, dtype: float64"
      ]
     },
     "execution_count": 43,
     "metadata": {},
     "output_type": "execute_result"
    }
   ],
   "source": [
    "data['rooms'].describe()"
   ]
  },
  {
   "cell_type": "markdown",
   "metadata": {},
   "source": [
    "    Вывод: Распределение представляет столбчатый график. Больше всего одно  и двухкомнатных квартир, около 8 тысяч. Ттрехкомнатных около 5,8 тысяч квартир. Третий квартиль - трехкомнатные квартиры, т.е. 1,2,3-х комнатные квартиры составляют 75% всех квартир."
   ]
  },
  {
   "cell_type": "markdown",
   "metadata": {},
   "source": [
    "\n",
    "#### Высота потолков.\n"
   ]
  },
  {
   "cell_type": "code",
   "execution_count": 44,
   "metadata": {},
   "outputs": [
    {
     "data": {
      "text/plain": [
       "<AxesSubplot:>"
      ]
     },
     "execution_count": 44,
     "metadata": {},
     "output_type": "execute_result"
    },
    {
     "data": {
      "image/png": "[encoded data removed]",
      "text/plain": [
       "<Figure size 432x288 with 1 Axes>"
      ]
     },
     "metadata": {
      "needs_background": "light"
     },
     "output_type": "display_data"
    }
   ],
   "source": [
    "data['ceiling_height'].hist(bins=40, range=(1.5,4.5))"
   ]
  },
  {
   "cell_type": "code",
   "execution_count": 45,
   "metadata": {},
   "outputs": [
    {
     "data": {
      "text/html": [
       "<div>\n",
       "<style scoped>\n",
       "    .dataframe tbody tr th:only-of-type {\n",
       "        vertical-align: middle;\n",
       "    }\n",
       "\n",
       "    .dataframe tbody tr th {\n",
       "        vertical-align: top;\n",
       "    }\n",
       "\n",
       "    .dataframe thead th {\n",
       "        text-align: right;\n",
       "    }\n",
       "</style>\n",
       "<table border=\"1\" class=\"dataframe\">\n",
       "  <thead>\n",
       "    <tr style=\"text-align: right;\">\n",
       "      <th></th>\n",
       "      <th>total_images</th>\n",
       "      <th>last_price</th>\n",
       "      <th>total_area</th>\n",
       "      <th>first_day_exposition</th>\n",
       "      <th>rooms</th>\n",
       "      <th>ceiling_height</th>\n",
       "      <th>floors_total</th>\n",
       "      <th>living_area</th>\n",
       "      <th>floor</th>\n",
       "      <th>is_apartment</th>\n",
       "      <th>...</th>\n",
       "      <th>parks_nearest</th>\n",
       "      <th>ponds_around3000</th>\n",
       "      <th>ponds_nearest</th>\n",
       "      <th>days_exposition</th>\n",
       "      <th>mm_price</th>\n",
       "      <th>weekday</th>\n",
       "      <th>year</th>\n",
       "      <th>month</th>\n",
       "      <th>floor_type</th>\n",
       "      <th>cityCenters_km</th>\n",
       "    </tr>\n",
       "  </thead>\n",
       "  <tbody>\n",
       "    <tr>\n",
       "      <th>552</th>\n",
       "      <td>11</td>\n",
       "      <td>2999000.0</td>\n",
       "      <td>33.50</td>\n",
       "      <td>2017-03-30</td>\n",
       "      <td>1</td>\n",
       "      <td>2.00</td>\n",
       "      <td>15.0</td>\n",
       "      <td>17.500000</td>\n",
       "      <td>6</td>\n",
       "      <td>NaN</td>\n",
       "      <td>...</td>\n",
       "      <td>520.0</td>\n",
       "      <td>1.0</td>\n",
       "      <td>949.0</td>\n",
       "      <td>270.0</td>\n",
       "      <td>89522.0</td>\n",
       "      <td>3</td>\n",
       "      <td>2017</td>\n",
       "      <td>3</td>\n",
       "      <td>другой</td>\n",
       "      <td>12.0</td>\n",
       "    </tr>\n",
       "    <tr>\n",
       "      <th>2572</th>\n",
       "      <td>4</td>\n",
       "      <td>2400000.0</td>\n",
       "      <td>62.00</td>\n",
       "      <td>2018-12-27</td>\n",
       "      <td>3</td>\n",
       "      <td>2.00</td>\n",
       "      <td>5.0</td>\n",
       "      <td>40.000000</td>\n",
       "      <td>4</td>\n",
       "      <td>NaN</td>\n",
       "      <td>...</td>\n",
       "      <td>NaN</td>\n",
       "      <td>NaN</td>\n",
       "      <td>NaN</td>\n",
       "      <td>NaN</td>\n",
       "      <td>38710.0</td>\n",
       "      <td>3</td>\n",
       "      <td>2018</td>\n",
       "      <td>12</td>\n",
       "      <td>другой</td>\n",
       "      <td>NaN</td>\n",
       "    </tr>\n",
       "    <tr>\n",
       "      <th>4212</th>\n",
       "      <td>1</td>\n",
       "      <td>2120000.0</td>\n",
       "      <td>35.43</td>\n",
       "      <td>2017-12-18</td>\n",
       "      <td>1</td>\n",
       "      <td>2.00</td>\n",
       "      <td>18.0</td>\n",
       "      <td>16.600000</td>\n",
       "      <td>9</td>\n",
       "      <td>NaN</td>\n",
       "      <td>...</td>\n",
       "      <td>NaN</td>\n",
       "      <td>NaN</td>\n",
       "      <td>NaN</td>\n",
       "      <td>36.0</td>\n",
       "      <td>59836.0</td>\n",
       "      <td>0</td>\n",
       "      <td>2017</td>\n",
       "      <td>12</td>\n",
       "      <td>другой</td>\n",
       "      <td>NaN</td>\n",
       "    </tr>\n",
       "    <tr>\n",
       "      <th>5712</th>\n",
       "      <td>5</td>\n",
       "      <td>1500000.0</td>\n",
       "      <td>42.80</td>\n",
       "      <td>2017-08-14</td>\n",
       "      <td>2</td>\n",
       "      <td>1.20</td>\n",
       "      <td>2.0</td>\n",
       "      <td>27.500000</td>\n",
       "      <td>1</td>\n",
       "      <td>NaN</td>\n",
       "      <td>...</td>\n",
       "      <td>NaN</td>\n",
       "      <td>NaN</td>\n",
       "      <td>NaN</td>\n",
       "      <td>248.0</td>\n",
       "      <td>35047.0</td>\n",
       "      <td>0</td>\n",
       "      <td>2017</td>\n",
       "      <td>8</td>\n",
       "      <td>первый</td>\n",
       "      <td>NaN</td>\n",
       "    </tr>\n",
       "    <tr>\n",
       "      <th>5850</th>\n",
       "      <td>9</td>\n",
       "      <td>1650000.0</td>\n",
       "      <td>35.50</td>\n",
       "      <td>2018-05-29</td>\n",
       "      <td>1</td>\n",
       "      <td>2.00</td>\n",
       "      <td>5.0</td>\n",
       "      <td>NaN</td>\n",
       "      <td>5</td>\n",
       "      <td>NaN</td>\n",
       "      <td>...</td>\n",
       "      <td>NaN</td>\n",
       "      <td>NaN</td>\n",
       "      <td>NaN</td>\n",
       "      <td>100.0</td>\n",
       "      <td>46479.0</td>\n",
       "      <td>1</td>\n",
       "      <td>2018</td>\n",
       "      <td>5</td>\n",
       "      <td>последний</td>\n",
       "      <td>NaN</td>\n",
       "    </tr>\n",
       "    <tr>\n",
       "      <th>11352</th>\n",
       "      <td>4</td>\n",
       "      <td>3300000.0</td>\n",
       "      <td>36.00</td>\n",
       "      <td>2017-06-18</td>\n",
       "      <td>1</td>\n",
       "      <td>2.00</td>\n",
       "      <td>17.0</td>\n",
       "      <td>15.200000</td>\n",
       "      <td>12</td>\n",
       "      <td>NaN</td>\n",
       "      <td>...</td>\n",
       "      <td>NaN</td>\n",
       "      <td>0.0</td>\n",
       "      <td>NaN</td>\n",
       "      <td>53.0</td>\n",
       "      <td>91667.0</td>\n",
       "      <td>6</td>\n",
       "      <td>2017</td>\n",
       "      <td>6</td>\n",
       "      <td>другой</td>\n",
       "      <td>27.0</td>\n",
       "    </tr>\n",
       "    <tr>\n",
       "      <th>12755</th>\n",
       "      <td>2</td>\n",
       "      <td>1400000.0</td>\n",
       "      <td>22.50</td>\n",
       "      <td>2017-09-21</td>\n",
       "      <td>1</td>\n",
       "      <td>2.20</td>\n",
       "      <td>2.0</td>\n",
       "      <td>18.000000</td>\n",
       "      <td>2</td>\n",
       "      <td>NaN</td>\n",
       "      <td>...</td>\n",
       "      <td>NaN</td>\n",
       "      <td>NaN</td>\n",
       "      <td>NaN</td>\n",
       "      <td>45.0</td>\n",
       "      <td>62222.0</td>\n",
       "      <td>3</td>\n",
       "      <td>2017</td>\n",
       "      <td>9</td>\n",
       "      <td>последний</td>\n",
       "      <td>NaN</td>\n",
       "    </tr>\n",
       "    <tr>\n",
       "      <th>16446</th>\n",
       "      <td>6</td>\n",
       "      <td>12300000.0</td>\n",
       "      <td>88.30</td>\n",
       "      <td>2019-03-12</td>\n",
       "      <td>3</td>\n",
       "      <td>2.00</td>\n",
       "      <td>5.0</td>\n",
       "      <td>63.900000</td>\n",
       "      <td>2</td>\n",
       "      <td>NaN</td>\n",
       "      <td>...</td>\n",
       "      <td>568.0</td>\n",
       "      <td>1.0</td>\n",
       "      <td>154.0</td>\n",
       "      <td>NaN</td>\n",
       "      <td>139298.0</td>\n",
       "      <td>1</td>\n",
       "      <td>2019</td>\n",
       "      <td>3</td>\n",
       "      <td>другой</td>\n",
       "      <td>8.0</td>\n",
       "    </tr>\n",
       "    <tr>\n",
       "      <th>16884</th>\n",
       "      <td>0</td>\n",
       "      <td>1500000.0</td>\n",
       "      <td>33.00</td>\n",
       "      <td>2018-10-03</td>\n",
       "      <td>1</td>\n",
       "      <td>2.00</td>\n",
       "      <td>5.0</td>\n",
       "      <td>20.000000</td>\n",
       "      <td>5</td>\n",
       "      <td>False</td>\n",
       "      <td>...</td>\n",
       "      <td>NaN</td>\n",
       "      <td>NaN</td>\n",
       "      <td>NaN</td>\n",
       "      <td>6.0</td>\n",
       "      <td>45455.0</td>\n",
       "      <td>2</td>\n",
       "      <td>2018</td>\n",
       "      <td>10</td>\n",
       "      <td>последний</td>\n",
       "      <td>NaN</td>\n",
       "    </tr>\n",
       "    <tr>\n",
       "      <th>16934</th>\n",
       "      <td>5</td>\n",
       "      <td>4100000.0</td>\n",
       "      <td>40.00</td>\n",
       "      <td>2017-10-17</td>\n",
       "      <td>1</td>\n",
       "      <td>1.75</td>\n",
       "      <td>37.0</td>\n",
       "      <td>17.400000</td>\n",
       "      <td>5</td>\n",
       "      <td>NaN</td>\n",
       "      <td>...</td>\n",
       "      <td>NaN</td>\n",
       "      <td>3.0</td>\n",
       "      <td>80.0</td>\n",
       "      <td>71.0</td>\n",
       "      <td>102500.0</td>\n",
       "      <td>1</td>\n",
       "      <td>2017</td>\n",
       "      <td>10</td>\n",
       "      <td>другой</td>\n",
       "      <td>20.0</td>\n",
       "    </tr>\n",
       "    <tr>\n",
       "      <th>17496</th>\n",
       "      <td>15</td>\n",
       "      <td>6700000.0</td>\n",
       "      <td>92.90</td>\n",
       "      <td>2019-02-19</td>\n",
       "      <td>3</td>\n",
       "      <td>2.00</td>\n",
       "      <td>17.0</td>\n",
       "      <td>53.200000</td>\n",
       "      <td>14</td>\n",
       "      <td>NaN</td>\n",
       "      <td>...</td>\n",
       "      <td>967.0</td>\n",
       "      <td>0.0</td>\n",
       "      <td>NaN</td>\n",
       "      <td>NaN</td>\n",
       "      <td>72121.0</td>\n",
       "      <td>1</td>\n",
       "      <td>2019</td>\n",
       "      <td>2</td>\n",
       "      <td>другой</td>\n",
       "      <td>15.0</td>\n",
       "    </tr>\n",
       "    <tr>\n",
       "      <th>17794</th>\n",
       "      <td>1</td>\n",
       "      <td>2300000.0</td>\n",
       "      <td>58.60</td>\n",
       "      <td>2016-05-12</td>\n",
       "      <td>3</td>\n",
       "      <td>2.25</td>\n",
       "      <td>5.0</td>\n",
       "      <td>44.100002</td>\n",
       "      <td>3</td>\n",
       "      <td>False</td>\n",
       "      <td>...</td>\n",
       "      <td>NaN</td>\n",
       "      <td>NaN</td>\n",
       "      <td>NaN</td>\n",
       "      <td>45.0</td>\n",
       "      <td>39249.0</td>\n",
       "      <td>3</td>\n",
       "      <td>2016</td>\n",
       "      <td>5</td>\n",
       "      <td>другой</td>\n",
       "      <td>NaN</td>\n",
       "    </tr>\n",
       "    <tr>\n",
       "      <th>19098</th>\n",
       "      <td>7</td>\n",
       "      <td>2700000.0</td>\n",
       "      <td>56.00</td>\n",
       "      <td>2018-02-04</td>\n",
       "      <td>3</td>\n",
       "      <td>2.00</td>\n",
       "      <td>5.0</td>\n",
       "      <td>46.000000</td>\n",
       "      <td>1</td>\n",
       "      <td>NaN</td>\n",
       "      <td>...</td>\n",
       "      <td>NaN</td>\n",
       "      <td>NaN</td>\n",
       "      <td>NaN</td>\n",
       "      <td>282.0</td>\n",
       "      <td>48214.0</td>\n",
       "      <td>6</td>\n",
       "      <td>2018</td>\n",
       "      <td>2</td>\n",
       "      <td>первый</td>\n",
       "      <td>NaN</td>\n",
       "    </tr>\n",
       "    <tr>\n",
       "      <th>19329</th>\n",
       "      <td>5</td>\n",
       "      <td>1700000.0</td>\n",
       "      <td>40.00</td>\n",
       "      <td>2018-07-15</td>\n",
       "      <td>2</td>\n",
       "      <td>2.00</td>\n",
       "      <td>9.0</td>\n",
       "      <td>NaN</td>\n",
       "      <td>8</td>\n",
       "      <td>NaN</td>\n",
       "      <td>...</td>\n",
       "      <td>NaN</td>\n",
       "      <td>NaN</td>\n",
       "      <td>NaN</td>\n",
       "      <td>45.0</td>\n",
       "      <td>42500.0</td>\n",
       "      <td>6</td>\n",
       "      <td>2018</td>\n",
       "      <td>7</td>\n",
       "      <td>другой</td>\n",
       "      <td>NaN</td>\n",
       "    </tr>\n",
       "    <tr>\n",
       "      <th>20507</th>\n",
       "      <td>12</td>\n",
       "      <td>5950000.0</td>\n",
       "      <td>60.00</td>\n",
       "      <td>2018-02-19</td>\n",
       "      <td>2</td>\n",
       "      <td>2.26</td>\n",
       "      <td>14.0</td>\n",
       "      <td>35.000000</td>\n",
       "      <td>11</td>\n",
       "      <td>NaN</td>\n",
       "      <td>...</td>\n",
       "      <td>NaN</td>\n",
       "      <td>0.0</td>\n",
       "      <td>NaN</td>\n",
       "      <td>40.0</td>\n",
       "      <td>99167.0</td>\n",
       "      <td>0</td>\n",
       "      <td>2018</td>\n",
       "      <td>2</td>\n",
       "      <td>другой</td>\n",
       "      <td>13.0</td>\n",
       "    </tr>\n",
       "    <tr>\n",
       "      <th>20520</th>\n",
       "      <td>9</td>\n",
       "      <td>3600000.0</td>\n",
       "      <td>38.00</td>\n",
       "      <td>2018-07-05</td>\n",
       "      <td>1</td>\n",
       "      <td>2.00</td>\n",
       "      <td>12.0</td>\n",
       "      <td>15.000000</td>\n",
       "      <td>9</td>\n",
       "      <td>NaN</td>\n",
       "      <td>...</td>\n",
       "      <td>NaN</td>\n",
       "      <td>NaN</td>\n",
       "      <td>NaN</td>\n",
       "      <td>62.0</td>\n",
       "      <td>94737.0</td>\n",
       "      <td>3</td>\n",
       "      <td>2018</td>\n",
       "      <td>7</td>\n",
       "      <td>другой</td>\n",
       "      <td>NaN</td>\n",
       "    </tr>\n",
       "    <tr>\n",
       "      <th>22590</th>\n",
       "      <td>16</td>\n",
       "      <td>6000000.0</td>\n",
       "      <td>55.00</td>\n",
       "      <td>2018-10-31</td>\n",
       "      <td>2</td>\n",
       "      <td>1.00</td>\n",
       "      <td>12.0</td>\n",
       "      <td>32.400000</td>\n",
       "      <td>7</td>\n",
       "      <td>NaN</td>\n",
       "      <td>...</td>\n",
       "      <td>293.0</td>\n",
       "      <td>2.0</td>\n",
       "      <td>289.0</td>\n",
       "      <td>13.0</td>\n",
       "      <td>109091.0</td>\n",
       "      <td>2</td>\n",
       "      <td>2018</td>\n",
       "      <td>10</td>\n",
       "      <td>другой</td>\n",
       "      <td>14.0</td>\n",
       "    </tr>\n",
       "    <tr>\n",
       "      <th>22960</th>\n",
       "      <td>17</td>\n",
       "      <td>2300000.0</td>\n",
       "      <td>53.60</td>\n",
       "      <td>2018-10-18</td>\n",
       "      <td>2</td>\n",
       "      <td>2.00</td>\n",
       "      <td>2.0</td>\n",
       "      <td>19.000000</td>\n",
       "      <td>1</td>\n",
       "      <td>NaN</td>\n",
       "      <td>...</td>\n",
       "      <td>NaN</td>\n",
       "      <td>NaN</td>\n",
       "      <td>NaN</td>\n",
       "      <td>NaN</td>\n",
       "      <td>42910.0</td>\n",
       "      <td>3</td>\n",
       "      <td>2018</td>\n",
       "      <td>10</td>\n",
       "      <td>первый</td>\n",
       "      <td>NaN</td>\n",
       "    </tr>\n",
       "  </tbody>\n",
       "</table>\n",
       "<p>18 rows × 28 columns</p>\n",
       "</div>"
      ],
      "text/plain": [
       "       total_images  last_price  total_area first_day_exposition  rooms  \\\n",
       "552              11   2999000.0       33.50           2017-03-30      1   \n",
       "2572              4   2400000.0       62.00           2018-12-27      3   \n",
       "4212              1   2120000.0       35.43           2017-12-18      1   \n",
       "5712              5   1500000.0       42.80           2017-08-14      2   \n",
       "5850              9   1650000.0       35.50           2018-05-29      1   \n",
       "11352             4   3300000.0       36.00           2017-06-18      1   \n",
       "12755             2   1400000.0       22.50           2017-09-21      1   \n",
       "16446             6  12300000.0       88.30           2019-03-12      3   \n",
       "16884             0   1500000.0       33.00           2018-10-03      1   \n",
       "16934             5   4100000.0       40.00           2017-10-17      1   \n",
       "17496            15   6700000.0       92.90           2019-02-19      3   \n",
       "17794             1   2300000.0       58.60           2016-05-12      3   \n",
       "19098             7   2700000.0       56.00           2018-02-04      3   \n",
       "19329             5   1700000.0       40.00           2018-07-15      2   \n",
       "20507            12   5950000.0       60.00           2018-02-19      2   \n",
       "20520             9   3600000.0       38.00           2018-07-05      1   \n",
       "22590            16   6000000.0       55.00           2018-10-31      2   \n",
       "22960            17   2300000.0       53.60           2018-10-18      2   \n",
       "\n",
       "       ceiling_height  floors_total  living_area  floor is_apartment  ...  \\\n",
       "552              2.00          15.0    17.500000      6          NaN  ...   \n",
       "2572             2.00           5.0    40.000000      4          NaN  ...   \n",
       "4212             2.00          18.0    16.600000      9          NaN  ...   \n",
       "5712             1.20           2.0    27.500000      1          NaN  ...   \n",
       "5850             2.00           5.0          NaN      5          NaN  ...   \n",
       "11352            2.00          17.0    15.200000     12          NaN  ...   \n",
       "12755            2.20           2.0    18.000000      2          NaN  ...   \n",
       "16446            2.00           5.0    63.900000      2          NaN  ...   \n",
       "16884            2.00           5.0    20.000000      5        False  ...   \n",
       "16934            1.75          37.0    17.400000      5          NaN  ...   \n",
       "17496            2.00          17.0    53.200000     14          NaN  ...   \n",
       "17794            2.25           5.0    44.100002      3        False  ...   \n",
       "19098            2.00           5.0    46.000000      1          NaN  ...   \n",
       "19329            2.00           9.0          NaN      8          NaN  ...   \n",
       "20507            2.26          14.0    35.000000     11          NaN  ...   \n",
       "20520            2.00          12.0    15.000000      9          NaN  ...   \n",
       "22590            1.00          12.0    32.400000      7          NaN  ...   \n",
       "22960            2.00           2.0    19.000000      1          NaN  ...   \n",
       "\n",
       "       parks_nearest  ponds_around3000  ponds_nearest  days_exposition  \\\n",
       "552            520.0               1.0          949.0            270.0   \n",
       "2572             NaN               NaN            NaN              NaN   \n",
       "4212             NaN               NaN            NaN             36.0   \n",
       "5712             NaN               NaN            NaN            248.0   \n",
       "5850             NaN               NaN            NaN            100.0   \n",
       "11352            NaN               0.0            NaN             53.0   \n",
       "12755            NaN               NaN            NaN             45.0   \n",
       "16446          568.0               1.0          154.0              NaN   \n",
       "16884            NaN               NaN            NaN              6.0   \n",
       "16934            NaN               3.0           80.0             71.0   \n",
       "17496          967.0               0.0            NaN              NaN   \n",
       "17794            NaN               NaN            NaN             45.0   \n",
       "19098            NaN               NaN            NaN            282.0   \n",
       "19329            NaN               NaN            NaN             45.0   \n",
       "20507            NaN               0.0            NaN             40.0   \n",
       "20520            NaN               NaN            NaN             62.0   \n",
       "22590          293.0               2.0          289.0             13.0   \n",
       "22960            NaN               NaN            NaN              NaN   \n",
       "\n",
       "       mm_price  weekday  year  month  floor_type  cityCenters_km  \n",
       "552     89522.0        3  2017      3      другой            12.0  \n",
       "2572    38710.0        3  2018     12      другой             NaN  \n",
       "4212    59836.0        0  2017     12      другой             NaN  \n",
       "5712    35047.0        0  2017      8      первый             NaN  \n",
       "5850    46479.0        1  2018      5   последний             NaN  \n",
       "11352   91667.0        6  2017      6      другой            27.0  \n",
       "12755   62222.0        3  2017      9   последний             NaN  \n",
       "16446  139298.0        1  2019      3      другой             8.0  \n",
       "16884   45455.0        2  2018     10   последний             NaN  \n",
       "16934  102500.0        1  2017     10      другой            20.0  \n",
       "17496   72121.0        1  2019      2      другой            15.0  \n",
       "17794   39249.0        3  2016      5      другой             NaN  \n",
       "19098   48214.0        6  2018      2      первый             NaN  \n",
       "19329   42500.0        6  2018      7      другой             NaN  \n",
       "20507   99167.0        0  2018      2      другой            13.0  \n",
       "20520   94737.0        3  2018      7      другой             NaN  \n",
       "22590  109091.0        2  2018     10      другой            14.0  \n",
       "22960   42910.0        3  2018     10      первый             NaN  \n",
       "\n",
       "[18 rows x 28 columns]"
      ]
     },
     "execution_count": 45,
     "metadata": {},
     "output_type": "execute_result"
    }
   ],
   "source": [
    "data[data['ceiling_height']<2.3]"
   ]
  },
  {
   "cell_type": "markdown",
   "metadata": {},
   "source": [
    "Построим гистограмму высоты потолков. Пики значений 2.5, 2.6 метра - хрущевка, 2.7 - многоэтажные дома,\n",
    "3-3.20 - сталинские и \"царские\" дома.  "
   ]
  },
  {
   "cell_type": "markdown",
   "metadata": {},
   "source": [
    "\n",
    "#### Этаж квартиры.\n"
   ]
  },
  {
   "cell_type": "code",
   "execution_count": 46,
   "metadata": {},
   "outputs": [
    {
     "data": {
      "text/plain": [
       "<AxesSubplot:>"
      ]
     },
     "execution_count": 46,
     "metadata": {},
     "output_type": "execute_result"
    },
    {
     "data": {
      "image/png": "[encoded data removed]",
      "text/plain": [
       "<Figure size 432x288 with 1 Axes>"
      ]
     },
     "metadata": {
      "needs_background": "light"
     },
     "output_type": "display_data"
    }
   ],
   "source": [
    "data['floor'].hist(bins=100, range=(1,30))"
   ]
  },
  {
   "cell_type": "code",
   "execution_count": 47,
   "metadata": {},
   "outputs": [
    {
     "data": {
      "text/plain": [
       "count    23454.000000\n",
       "mean         5.925514\n",
       "std          4.895056\n",
       "min          1.000000\n",
       "25%          2.000000\n",
       "50%          4.000000\n",
       "75%          8.000000\n",
       "max         33.000000\n",
       "Name: floor, dtype: float64"
      ]
     },
     "execution_count": 47,
     "metadata": {},
     "output_type": "execute_result"
    }
   ],
   "source": [
    "data['floor'].describe()"
   ]
  },
  {
   "cell_type": "markdown",
   "metadata": {},
   "source": [
    "\n",
    "#### Тип этажа квартиры («первый», «последний», «другой»).\n"
   ]
  },
  {
   "cell_type": "code",
   "execution_count": 48,
   "metadata": {},
   "outputs": [
    {
     "data": {
      "text/plain": [
       "<AxesSubplot:>"
      ]
     },
     "execution_count": 48,
     "metadata": {},
     "output_type": "execute_result"
    },
    {
     "data": {
      "image/png": "[encoded data removed]",
      "text/plain": [
       "<Figure size 432x288 with 1 Axes>"
      ]
     },
     "metadata": {
      "needs_background": "light"
     },
     "output_type": "display_data"
    }
   ],
   "source": [
    "data['floor_type'].hist(bins=100, range=(0,5))"
   ]
  },
  {
   "cell_type": "markdown",
   "metadata": {},
   "source": [
    "Первых и последних этажей в продаже около 10%, других около 80%. "
   ]
  },
  {
   "cell_type": "markdown",
   "metadata": {},
   "source": [
    "#### Общее количество этажей в доме.\n"
   ]
  },
  {
   "cell_type": "code",
   "execution_count": 49,
   "metadata": {},
   "outputs": [
    {
     "data": {
      "text/plain": [
       "<AxesSubplot:>"
      ]
     },
     "execution_count": 49,
     "metadata": {},
     "output_type": "execute_result"
    },
    {
     "data": {
      "image/png": "[encoded data removed]",
      "text/plain": [
       "<Figure size 432x288 with 1 Axes>"
      ]
     },
     "metadata": {
      "needs_background": "light"
     },
     "output_type": "display_data"
    }
   ],
   "source": [
    "data['floors_total'].hist(bins=100, range=(0,40))"
   ]
  },
  {
   "cell_type": "code",
   "execution_count": 50,
   "metadata": {},
   "outputs": [
    {
     "data": {
      "text/plain": [
       "count    23368.000000\n",
       "mean        10.742383\n",
       "std          6.594001\n",
       "min          1.000000\n",
       "25%          5.000000\n",
       "50%          9.000000\n",
       "75%         16.000000\n",
       "max         60.000000\n",
       "Name: floors_total, dtype: float64"
      ]
     },
     "execution_count": 50,
     "metadata": {},
     "output_type": "execute_result"
    }
   ],
   "source": [
    "data['floors_total'].describe()"
   ]
  },
  {
   "cell_type": "markdown",
   "metadata": {},
   "source": [
    "Больше всего в городе 5 этажных домов, около 5.8 тысяч. И много девятиэтажек, около 3.8 тысячи. "
   ]
  },
  {
   "cell_type": "markdown",
   "metadata": {},
   "source": [
    "#### Расстояние до центра города в метрах."
   ]
  },
  {
   "cell_type": "code",
   "execution_count": 51,
   "metadata": {},
   "outputs": [
    {
     "data": {
      "text/plain": [
       "<AxesSubplot:>"
      ]
     },
     "execution_count": 51,
     "metadata": {},
     "output_type": "execute_result"
    },
    {
     "data": {
      "image/png": "[encoded data removed]",
      "text/plain": [
       "<Figure size 432x288 with 1 Axes>"
      ]
     },
     "metadata": {
      "needs_background": "light"
     },
     "output_type": "display_data"
    }
   ],
   "source": [
    "data['cityCenters_nearest'].hist(bins=50, range=(0,60000))"
   ]
  },
  {
   "cell_type": "code",
   "execution_count": 52,
   "metadata": {},
   "outputs": [
    {
     "data": {
      "text/plain": [
       "count    18179.000000\n",
       "mean     14191.553716\n",
       "std       8608.542615\n",
       "min        181.000000\n",
       "25%       9238.000000\n",
       "50%      13099.000000\n",
       "75%      16293.000000\n",
       "max      65968.000000\n",
       "Name: cityCenters_nearest, dtype: float64"
      ]
     },
     "execution_count": 52,
     "metadata": {},
     "output_type": "execute_result"
    }
   ],
   "source": [
    "data['cityCenters_nearest'].describe()"
   ]
  },
  {
   "cell_type": "markdown",
   "metadata": {},
   "source": [
    "Из данной гистограммы мы видим пики распределения на расстоянии 5-6 км и 12-16 км. Пики на расстоянии 22 км, 32 км, 52 км могут означать наличие в базе объектов из  достаточно крупных городов и поселков в Ленобласти. "
   ]
  },
  {
   "cell_type": "markdown",
   "metadata": {},
   "source": [
    "#### Расстояние до ближайшего аэропорта."
   ]
  },
  {
   "cell_type": "code",
   "execution_count": 53,
   "metadata": {},
   "outputs": [
    {
     "data": {
      "text/plain": [
       "<AxesSubplot:>"
      ]
     },
     "execution_count": 53,
     "metadata": {},
     "output_type": "execute_result"
    },
    {
     "data": {
      "image/png": "[encoded data removed]",
      "text/plain": [
       "<Figure size 432x288 with 1 Axes>"
      ]
     },
     "metadata": {
      "needs_background": "light"
     },
     "output_type": "display_data"
    }
   ],
   "source": [
    "data['airports_nearest'].hist(bins=100, range=(0,80000))"
   ]
  },
  {
   "cell_type": "code",
   "execution_count": 54,
   "metadata": {},
   "outputs": [
    {
     "data": {
      "text/plain": [
       "count    18156.000000\n",
       "mean     28793.252093\n",
       "std      12631.101627\n",
       "min          0.000000\n",
       "25%      18584.250000\n",
       "50%      26726.000000\n",
       "75%      37273.500000\n",
       "max      84869.000000\n",
       "Name: airports_nearest, dtype: float64"
      ]
     },
     "execution_count": 54,
     "metadata": {},
     "output_type": "execute_result"
    }
   ],
   "source": [
    "data['airports_nearest'].describe()"
   ]
  },
  {
   "cell_type": "markdown",
   "metadata": {},
   "source": [
    "Расстояние до аэропорта имеет нормальное распределение со средним хвостом. \n",
    "Первый квартиль-18 км, медиана-26 км, третий квартиль -37 км. "
   ]
  },
  {
   "cell_type": "markdown",
   "metadata": {},
   "source": [
    "#### Расстояние до ближайшего парка."
   ]
  },
  {
   "cell_type": "code",
   "execution_count": 55,
   "metadata": {},
   "outputs": [
    {
     "data": {
      "text/plain": [
       "<AxesSubplot:>"
      ]
     },
     "execution_count": 55,
     "metadata": {},
     "output_type": "execute_result"
    },
    {
     "data": {
      "image/png": "[encoded data removed]",
      "text/plain": [
       "<Figure size 432x288 with 1 Axes>"
      ]
     },
     "metadata": {
      "needs_background": "light"
     },
     "output_type": "display_data"
    }
   ],
   "source": [
    "data['parks_nearest'].hist(bins=100, range=(0,3000))"
   ]
  },
  {
   "cell_type": "code",
   "execution_count": 56,
   "metadata": {},
   "outputs": [
    {
     "data": {
      "text/plain": [
       "count    8078.000000\n",
       "mean      490.765660\n",
       "std       342.321331\n",
       "min         1.000000\n",
       "25%       288.000000\n",
       "50%       455.000000\n",
       "75%       612.000000\n",
       "max      3190.000000\n",
       "Name: parks_nearest, dtype: float64"
      ]
     },
     "execution_count": 56,
     "metadata": {},
     "output_type": "execute_result"
    }
   ],
   "source": [
    "data['parks_nearest'].describe()"
   ]
  },
  {
   "cell_type": "markdown",
   "metadata": {},
   "source": [
    "Вывод: Распределение расстояние нормальное с средним хвостом от 900 до 3000 метров. \n",
    "Медианное значение 455 метра, третий квартиль 612 метра.\n",
    "В Петербурге большое количество парков рядом с домом! "
   ]
  },
  {
   "cell_type": "markdown",
   "metadata": {},
   "source": [
    "#### День, месяц и год публикации объявления."
   ]
  },
  {
   "cell_type": "code",
   "execution_count": 57,
   "metadata": {},
   "outputs": [
    {
     "data": {
      "text/plain": [
       "<AxesSubplot:>"
      ]
     },
     "execution_count": 57,
     "metadata": {},
     "output_type": "execute_result"
    },
    {
     "data": {
      "image/png": "[encoded data removed]",
      "text/plain": [
       "<Figure size 432x288 with 1 Axes>"
      ]
     },
     "metadata": {
      "needs_background": "light"
     },
     "output_type": "display_data"
    }
   ],
   "source": [
    "data['weekday'].hist(bins=100, range=(0,6))"
   ]
  },
  {
   "cell_type": "markdown",
   "metadata": {},
   "source": [
    "Люди больше размещают данные о продаже квартир в рабочие дни , в выходные количество размещений в два раза реже."
   ]
  },
  {
   "cell_type": "code",
   "execution_count": 58,
   "metadata": {},
   "outputs": [
    {
     "data": {
      "text/plain": [
       "<AxesSubplot:>"
      ]
     },
     "execution_count": 58,
     "metadata": {},
     "output_type": "execute_result"
    },
    {
     "data": {
      "image/png": "[encoded data removed]",
      "text/plain": [
       "<Figure size 432x288 with 1 Axes>"
      ]
     },
     "metadata": {
      "needs_background": "light"
     },
     "output_type": "display_data"
    }
   ],
   "source": [
    "data['month'].hist(bins=100, range=(0,12))"
   ]
  },
  {
   "cell_type": "markdown",
   "metadata": {},
   "source": [
    "Меньше всего размещения обьявлений в январе и мае, наверное  из-за большого количества выходных дней. Чаще всего размещают -февраль,март, апрель и осенью-сентябрь,октябрь,ноябрь.  "
   ]
  },
  {
   "cell_type": "code",
   "execution_count": 59,
   "metadata": {},
   "outputs": [
    {
     "data": {
      "text/plain": [
       "<AxesSubplot:>"
      ]
     },
     "execution_count": 59,
     "metadata": {},
     "output_type": "execute_result"
    },
    {
     "data": {
      "image/png": "[encoded data removed]",
      "text/plain": [
       "<Figure size 432x288 with 1 Axes>"
      ]
     },
     "metadata": {
      "needs_background": "light"
     },
     "output_type": "display_data"
    }
   ],
   "source": [
    "data['year'].hist(bins=100, range=(2012,2019))"
   ]
  },
  {
   "cell_type": "markdown",
   "metadata": {},
   "source": [
    "В нашей базе данные с 2014 по 2019 год. "
   ]
  },
  {
   "cell_type": "markdown",
   "metadata": {},
   "source": [
    "### Быстрота продажи квартир (столбец days_exposition)."
   ]
  },
  {
   "cell_type": "code",
   "execution_count": 60,
   "metadata": {},
   "outputs": [
    {
     "data": {
      "text/plain": [
       "<AxesSubplot:>"
      ]
     },
     "execution_count": 60,
     "metadata": {},
     "output_type": "execute_result"
    },
    {
     "data": {
      "image/png": "[encoded data removed]",
      "text/plain": [
       "<Figure size 432x288 with 1 Axes>"
      ]
     },
     "metadata": {
      "needs_background": "light"
     },
     "output_type": "display_data"
    }
   ],
   "source": [
    "#построим гистограмму времени экспозиции квартиры за 70 дней\n",
    "data['days_exposition'].hist(bins=100, range=(20,70))"
   ]
  },
  {
   "cell_type": "code",
   "execution_count": 61,
   "metadata": {},
   "outputs": [
    {
     "data": {
      "text/plain": [
       "<AxesSubplot:>"
      ]
     },
     "execution_count": 61,
     "metadata": {},
     "output_type": "execute_result"
    },
    {
     "data": {
      "image/png": "[encoded data removed]",
      "text/plain": [
       "<Figure size 432x288 with 1 Axes>"
      ]
     },
     "metadata": {
      "needs_background": "light"
     },
     "output_type": "display_data"
    }
   ],
   "source": [
    "#построим гистограмму времени экспозиции квартиры за 900 дней\n",
    "data['days_exposition'].hist(bins=100, range=(0,900))"
   ]
  },
  {
   "cell_type": "code",
   "execution_count": 62,
   "metadata": {},
   "outputs": [
    {
     "data": {
      "text/plain": [
       "count    20324.000000\n",
       "mean       181.121925\n",
       "std        220.090511\n",
       "min          1.000000\n",
       "25%         45.000000\n",
       "50%         96.000000\n",
       "75%        232.000000\n",
       "max       1580.000000\n",
       "Name: days_exposition, dtype: float64"
      ]
     },
     "execution_count": 62,
     "metadata": {},
     "output_type": "execute_result"
    }
   ],
   "source": [
    "data['days_exposition'].describe()"
   ]
  },
  {
   "cell_type": "markdown",
   "metadata": {},
   "source": [
    "Гистограмма времени экспозиции напоминает распределение Пуассона. Четверть всех квартир продается за 45 дней, медианное время экспозиции 95 дней,75% всех квартир продаются за 232 дня.\n",
    "Быстрыми продажами можно назвать продажи за 1 месяц.\n",
    "Долгими продажами я бы назвал продажи свыше 8 месяцев. Необычно долгие -это продажи свыше двух лет. \n",
    "Непонятны всплески продаж на 45 и 60 день экспозиции.  "
   ]
  },
  {
   "cell_type": "markdown",
   "metadata": {},
   "source": [
    "### Влияние различных факторов на общую (полную) стоимость объекта."
   ]
  },
  {
   "cell_type": "markdown",
   "metadata": {},
   "source": [
    "Изучим, зависит ли цена от:\n",
    "общей площади;\n",
    "жилой площади;\n",
    "площади кухни;\n",
    "количества комнат;\n",
    "типа этажа, на котором расположена квартира (первый, последний, другой);\n",
    "даты размещения (день недели, месяц, год)."
   ]
  },
  {
   "cell_type": "code",
   "execution_count": 63,
   "metadata": {},
   "outputs": [
    {
     "data": {
      "text/html": [
       "<div>\n",
       "<style scoped>\n",
       "    .dataframe tbody tr th:only-of-type {\n",
       "        vertical-align: middle;\n",
       "    }\n",
       "\n",
       "    .dataframe tbody tr th {\n",
       "        vertical-align: top;\n",
       "    }\n",
       "\n",
       "    .dataframe thead th {\n",
       "        text-align: right;\n",
       "    }\n",
       "</style>\n",
       "<table border=\"1\" class=\"dataframe\">\n",
       "  <thead>\n",
       "    <tr style=\"text-align: right;\">\n",
       "      <th></th>\n",
       "      <th>last_price</th>\n",
       "      <th>total_area</th>\n",
       "      <th>living_area</th>\n",
       "      <th>kitchen_area</th>\n",
       "      <th>rooms</th>\n",
       "    </tr>\n",
       "  </thead>\n",
       "  <tbody>\n",
       "    <tr>\n",
       "      <th>last_price</th>\n",
       "      <td>1.000000</td>\n",
       "      <td>0.653053</td>\n",
       "      <td>0.566133</td>\n",
       "      <td>0.518893</td>\n",
       "      <td>0.362945</td>\n",
       "    </tr>\n",
       "    <tr>\n",
       "      <th>total_area</th>\n",
       "      <td>0.653053</td>\n",
       "      <td>1.000000</td>\n",
       "      <td>0.939677</td>\n",
       "      <td>0.608316</td>\n",
       "      <td>0.758285</td>\n",
       "    </tr>\n",
       "    <tr>\n",
       "      <th>living_area</th>\n",
       "      <td>0.566133</td>\n",
       "      <td>0.939677</td>\n",
       "      <td>1.000000</td>\n",
       "      <td>0.428121</td>\n",
       "      <td>0.845983</td>\n",
       "    </tr>\n",
       "    <tr>\n",
       "      <th>kitchen_area</th>\n",
       "      <td>0.518893</td>\n",
       "      <td>0.608316</td>\n",
       "      <td>0.428121</td>\n",
       "      <td>1.000000</td>\n",
       "      <td>0.269376</td>\n",
       "    </tr>\n",
       "    <tr>\n",
       "      <th>rooms</th>\n",
       "      <td>0.362945</td>\n",
       "      <td>0.758285</td>\n",
       "      <td>0.845983</td>\n",
       "      <td>0.269376</td>\n",
       "      <td>1.000000</td>\n",
       "    </tr>\n",
       "  </tbody>\n",
       "</table>\n",
       "</div>"
      ],
      "text/plain": [
       "              last_price  total_area  living_area  kitchen_area     rooms\n",
       "last_price      1.000000    0.653053     0.566133      0.518893  0.362945\n",
       "total_area      0.653053    1.000000     0.939677      0.608316  0.758285\n",
       "living_area     0.566133    0.939677     1.000000      0.428121  0.845983\n",
       "kitchen_area    0.518893    0.608316     0.428121      1.000000  0.269376\n",
       "rooms           0.362945    0.758285     0.845983      0.269376  1.000000"
      ]
     },
     "execution_count": 63,
     "metadata": {},
     "output_type": "execute_result"
    }
   ],
   "source": [
    "#создадим таблицу из пяти столбцов:полной цены,общей площади,жилой площади,площади кухни,количества комнат;\n",
    "data_mm = data.loc[:, ['last_price', 'total_area','living_area','kitchen_area','rooms']]\n",
    "#построим матрицу корреляции\n",
    "data_mm.corr()"
   ]
  },
  {
   "cell_type": "code",
   "execution_count": 64,
   "metadata": {},
   "outputs": [
    {
     "data": {
      "text/plain": [
       "array([[<AxesSubplot:xlabel='last_price', ylabel='last_price'>,\n",
       "        <AxesSubplot:xlabel='total_area', ylabel='last_price'>,\n",
       "        <AxesSubplot:xlabel='living_area', ylabel='last_price'>,\n",
       "        <AxesSubplot:xlabel='kitchen_area', ylabel='last_price'>,\n",
       "        <AxesSubplot:xlabel='rooms', ylabel='last_price'>],\n",
       "       [<AxesSubplot:xlabel='last_price', ylabel='total_area'>,\n",
       "        <AxesSubplot:xlabel='total_area', ylabel='total_area'>,\n",
       "        <AxesSubplot:xlabel='living_area', ylabel='total_area'>,\n",
       "        <AxesSubplot:xlabel='kitchen_area', ylabel='total_area'>,\n",
       "        <AxesSubplot:xlabel='rooms', ylabel='total_area'>],\n",
       "       [<AxesSubplot:xlabel='last_price', ylabel='living_area'>,\n",
       "        <AxesSubplot:xlabel='total_area', ylabel='living_area'>,\n",
       "        <AxesSubplot:xlabel='living_area', ylabel='living_area'>,\n",
       "        <AxesSubplot:xlabel='kitchen_area', ylabel='living_area'>,\n",
       "        <AxesSubplot:xlabel='rooms', ylabel='living_area'>],\n",
       "       [<AxesSubplot:xlabel='last_price', ylabel='kitchen_area'>,\n",
       "        <AxesSubplot:xlabel='total_area', ylabel='kitchen_area'>,\n",
       "        <AxesSubplot:xlabel='living_area', ylabel='kitchen_area'>,\n",
       "        <AxesSubplot:xlabel='kitchen_area', ylabel='kitchen_area'>,\n",
       "        <AxesSubplot:xlabel='rooms', ylabel='kitchen_area'>],\n",
       "       [<AxesSubplot:xlabel='last_price', ylabel='rooms'>,\n",
       "        <AxesSubplot:xlabel='total_area', ylabel='rooms'>,\n",
       "        <AxesSubplot:xlabel='living_area', ylabel='rooms'>,\n",
       "        <AxesSubplot:xlabel='kitchen_area', ylabel='rooms'>,\n",
       "        <AxesSubplot:xlabel='rooms', ylabel='rooms'>]], dtype=object)"
      ]
     },
     "execution_count": 64,
     "metadata": {},
     "output_type": "execute_result"
    },
    {
     "data": {
      "image/png": "[encoded data removed]",
      "text/plain": [
       "<Figure size 720x720 with 25 Axes>"
      ]
     },
     "metadata": {
      "needs_background": "light"
     },
     "output_type": "display_data"
    }
   ],
   "source": [
    "#построим матрицу рассеяния\n",
    "pd.plotting.scatter_matrix(data_mm, figsize=(10, 10))"
   ]
  },
  {
   "cell_type": "markdown",
   "metadata": {},
   "source": [
    "Как и предполагалось чем больше квартира тем больше она стоит, corr=0.63;\n",
    "коэффициент корреляции полной стоимости и жилой площади меньше, corr=0,57;\n",
    "также есть зависимость от размера кухни, corr=0,52 и количества комнат corr=0.36. Неочевидный факт что полная стоимость квартиры больше зависит от размера кухни, чем от количества комнат!  "
   ]
  },
  {
   "cell_type": "code",
   "execution_count": 65,
   "metadata": {},
   "outputs": [
    {
     "data": {
      "text/html": [
       "<div>\n",
       "<style scoped>\n",
       "    .dataframe tbody tr th:only-of-type {\n",
       "        vertical-align: middle;\n",
       "    }\n",
       "\n",
       "    .dataframe tbody tr th {\n",
       "        vertical-align: top;\n",
       "    }\n",
       "\n",
       "    .dataframe thead th {\n",
       "        text-align: right;\n",
       "    }\n",
       "</style>\n",
       "<table border=\"1\" class=\"dataframe\">\n",
       "  <thead>\n",
       "    <tr style=\"text-align: right;\">\n",
       "      <th></th>\n",
       "      <th>last_price</th>\n",
       "    </tr>\n",
       "    <tr>\n",
       "      <th>floor_type</th>\n",
       "      <th></th>\n",
       "    </tr>\n",
       "  </thead>\n",
       "  <tbody>\n",
       "    <tr>\n",
       "      <th>другой</th>\n",
       "      <td>4850000.0</td>\n",
       "    </tr>\n",
       "    <tr>\n",
       "      <th>первый</th>\n",
       "      <td>3950067.0</td>\n",
       "    </tr>\n",
       "    <tr>\n",
       "      <th>последний</th>\n",
       "      <td>4390000.0</td>\n",
       "    </tr>\n",
       "  </tbody>\n",
       "</table>\n",
       "</div>"
      ],
      "text/plain": [
       "            last_price\n",
       "floor_type            \n",
       "другой       4850000.0\n",
       "первый       3950067.0\n",
       "последний    4390000.0"
      ]
     },
     "execution_count": 65,
     "metadata": {},
     "output_type": "execute_result"
    }
   ],
   "source": [
    "#построим таблицу с твумя столбцами:полной ценой и типом этажа\n",
    "data_fltype = data.pivot_table(index='floor_type', values='last_price', aggfunc='median')\n",
    "#data_fltype = data.loc[:,['last_price','floor_type']]\n",
    "data_fltype.head(5)"
   ]
  },
  {
   "cell_type": "code",
   "execution_count": 66,
   "metadata": {},
   "outputs": [
    {
     "data": {
      "text/plain": [
       "<AxesSubplot:xlabel='floor_type'>"
      ]
     },
     "execution_count": 66,
     "metadata": {},
     "output_type": "execute_result"
    },
    {
     "data": {
      "image/png": "[encoded data removed]",
      "text/plain": [
       "<Figure size 432x288 with 1 Axes>"
      ]
     },
     "metadata": {
      "needs_background": "light"
     },
     "output_type": "display_data"
    }
   ],
   "source": [
    "data_fltype.plot.bar( )"
   ]
  },
  {
   "cell_type": "markdown",
   "metadata": {},
   "source": [
    "Выводы. Первый этаж самый дешевый, приблизительно на 10% дешевле последнего. Последний этаж дешевле 'другого' приблизительно на 15%. "
   ]
  },
  {
   "cell_type": "code",
   "execution_count": 67,
   "metadata": {},
   "outputs": [
    {
     "data": {
      "text/html": [
       "<div>\n",
       "<style scoped>\n",
       "    .dataframe tbody tr th:only-of-type {\n",
       "        vertical-align: middle;\n",
       "    }\n",
       "\n",
       "    .dataframe tbody tr th {\n",
       "        vertical-align: top;\n",
       "    }\n",
       "\n",
       "    .dataframe thead th {\n",
       "        text-align: right;\n",
       "    }\n",
       "</style>\n",
       "<table border=\"1\" class=\"dataframe\">\n",
       "  <thead>\n",
       "    <tr style=\"text-align: right;\">\n",
       "      <th></th>\n",
       "      <th>last_price</th>\n",
       "      <th>weekday</th>\n",
       "      <th>month</th>\n",
       "      <th>year</th>\n",
       "    </tr>\n",
       "  </thead>\n",
       "  <tbody>\n",
       "    <tr>\n",
       "      <th>last_price</th>\n",
       "      <td>1.000000</td>\n",
       "      <td>0.002568</td>\n",
       "      <td>0.002227</td>\n",
       "      <td>-0.042181</td>\n",
       "    </tr>\n",
       "    <tr>\n",
       "      <th>weekday</th>\n",
       "      <td>0.002568</td>\n",
       "      <td>1.000000</td>\n",
       "      <td>0.012489</td>\n",
       "      <td>-0.004677</td>\n",
       "    </tr>\n",
       "    <tr>\n",
       "      <th>month</th>\n",
       "      <td>0.002227</td>\n",
       "      <td>0.012489</td>\n",
       "      <td>1.000000</td>\n",
       "      <td>-0.270018</td>\n",
       "    </tr>\n",
       "    <tr>\n",
       "      <th>year</th>\n",
       "      <td>-0.042181</td>\n",
       "      <td>-0.004677</td>\n",
       "      <td>-0.270018</td>\n",
       "      <td>1.000000</td>\n",
       "    </tr>\n",
       "  </tbody>\n",
       "</table>\n",
       "</div>"
      ],
      "text/plain": [
       "            last_price   weekday     month      year\n",
       "last_price    1.000000  0.002568  0.002227 -0.042181\n",
       "weekday       0.002568  1.000000  0.012489 -0.004677\n",
       "month         0.002227  0.012489  1.000000 -0.270018\n",
       "year         -0.042181 -0.004677 -0.270018  1.000000"
      ]
     },
     "execution_count": 67,
     "metadata": {},
     "output_type": "execute_result"
    }
   ],
   "source": [
    "#создадим таблицу из пяти столбцов:полной цены,дня недели,месяца,года публикации;\n",
    "data_dmy = data.loc[:,['last_price', 'weekday','month','year']]\n",
    "#data_dmy\n",
    "#построим матрицу корреляции\n",
    "data_dmy.corr()"
   ]
  },
  {
   "cell_type": "code",
   "execution_count": 68,
   "metadata": {},
   "outputs": [
    {
     "data": {
      "text/plain": [
       "array([[<AxesSubplot:xlabel='last_price', ylabel='last_price'>,\n",
       "        <AxesSubplot:xlabel='weekday', ylabel='last_price'>,\n",
       "        <AxesSubplot:xlabel='month', ylabel='last_price'>,\n",
       "        <AxesSubplot:xlabel='year', ylabel='last_price'>],\n",
       "       [<AxesSubplot:xlabel='last_price', ylabel='weekday'>,\n",
       "        <AxesSubplot:xlabel='weekday', ylabel='weekday'>,\n",
       "        <AxesSubplot:xlabel='month', ylabel='weekday'>,\n",
       "        <AxesSubplot:xlabel='year', ylabel='weekday'>],\n",
       "       [<AxesSubplot:xlabel='last_price', ylabel='month'>,\n",
       "        <AxesSubplot:xlabel='weekday', ylabel='month'>,\n",
       "        <AxesSubplot:xlabel='month', ylabel='month'>,\n",
       "        <AxesSubplot:xlabel='year', ylabel='month'>],\n",
       "       [<AxesSubplot:xlabel='last_price', ylabel='year'>,\n",
       "        <AxesSubplot:xlabel='weekday', ylabel='year'>,\n",
       "        <AxesSubplot:xlabel='month', ylabel='year'>,\n",
       "        <AxesSubplot:xlabel='year', ylabel='year'>]], dtype=object)"
      ]
     },
     "execution_count": 68,
     "metadata": {},
     "output_type": "execute_result"
    },
    {
     "data": {
      "image/png": "[encoded data removed]",
      "text/plain": [
       "<Figure size 648x648 with 16 Axes>"
      ]
     },
     "metadata": {
      "needs_background": "light"
     },
     "output_type": "display_data"
    }
   ],
   "source": [
    "#построим матрицу рассеяния\n",
    "pd.plotting.scatter_matrix(data_dmy, figsize=(9, 9))"
   ]
  },
  {
   "cell_type": "markdown",
   "metadata": {},
   "source": [
    "Зависимости полной цены объекта от дня недели, месяца и года публикации нет. "
   ]
  },
  {
   "cell_type": "markdown",
   "metadata": {},
   "source": [
    "###  Cредняя цена одного квадратного метра в 10 населённых пунктах с наибольшим числом объявлений."
   ]
  },
  {
   "cell_type": "code",
   "execution_count": 69,
   "metadata": {},
   "outputs": [
    {
     "data": {
      "text/html": [
       "<div>\n",
       "<style scoped>\n",
       "    .dataframe tbody tr th:only-of-type {\n",
       "        vertical-align: middle;\n",
       "    }\n",
       "\n",
       "    .dataframe tbody tr th {\n",
       "        vertical-align: top;\n",
       "    }\n",
       "\n",
       "    .dataframe thead tr th {\n",
       "        text-align: left;\n",
       "    }\n",
       "\n",
       "    .dataframe thead tr:last-of-type th {\n",
       "        text-align: right;\n",
       "    }\n",
       "</style>\n",
       "<table border=\"1\" class=\"dataframe\">\n",
       "  <thead>\n",
       "    <tr>\n",
       "      <th></th>\n",
       "      <th>mean</th>\n",
       "      <th>count</th>\n",
       "    </tr>\n",
       "    <tr>\n",
       "      <th></th>\n",
       "      <th>mm_price</th>\n",
       "      <th>mm_price</th>\n",
       "    </tr>\n",
       "    <tr>\n",
       "      <th>locality_name</th>\n",
       "      <th></th>\n",
       "      <th></th>\n",
       "    </tr>\n",
       "  </thead>\n",
       "  <tbody>\n",
       "    <tr>\n",
       "      <th>Бокситогорск</th>\n",
       "      <td>19600.500000</td>\n",
       "      <td>2</td>\n",
       "    </tr>\n",
       "    <tr>\n",
       "      <th>Волосово</th>\n",
       "      <td>40183.305556</td>\n",
       "      <td>36</td>\n",
       "    </tr>\n",
       "    <tr>\n",
       "      <th>Волхов</th>\n",
       "      <td>35206.841121</td>\n",
       "      <td>107</td>\n",
       "    </tr>\n",
       "    <tr>\n",
       "      <th>Всеволожск</th>\n",
       "      <td>68719.287154</td>\n",
       "      <td>397</td>\n",
       "    </tr>\n",
       "    <tr>\n",
       "      <th>Выборг</th>\n",
       "      <td>58685.678112</td>\n",
       "      <td>233</td>\n",
       "    </tr>\n",
       "    <tr>\n",
       "      <th>...</th>\n",
       "      <td>...</td>\n",
       "      <td>...</td>\n",
       "    </tr>\n",
       "    <tr>\n",
       "      <th>село Путилово</th>\n",
       "      <td>39921.500000</td>\n",
       "      <td>2</td>\n",
       "    </tr>\n",
       "    <tr>\n",
       "      <th>село Рождествено</th>\n",
       "      <td>37733.000000</td>\n",
       "      <td>3</td>\n",
       "    </tr>\n",
       "    <tr>\n",
       "      <th>село Русско-Высоцкое</th>\n",
       "      <td>54833.777778</td>\n",
       "      <td>9</td>\n",
       "    </tr>\n",
       "    <tr>\n",
       "      <th>село Старая Ладога</th>\n",
       "      <td>34697.000000</td>\n",
       "      <td>2</td>\n",
       "    </tr>\n",
       "    <tr>\n",
       "      <th>село Шум</th>\n",
       "      <td>33898.000000</td>\n",
       "      <td>1</td>\n",
       "    </tr>\n",
       "  </tbody>\n",
       "</table>\n",
       "<p>290 rows × 2 columns</p>\n",
       "</div>"
      ],
      "text/plain": [
       "                              mean    count\n",
       "                          mm_price mm_price\n",
       "locality_name                              \n",
       "Бокситогорск          19600.500000        2\n",
       "Волосово              40183.305556       36\n",
       "Волхов                35206.841121      107\n",
       "Всеволожск            68719.287154      397\n",
       "Выборг                58685.678112      233\n",
       "...                            ...      ...\n",
       "село Путилово         39921.500000        2\n",
       "село Рождествено      37733.000000        3\n",
       "село Русско-Высоцкое  54833.777778        9\n",
       "село Старая Ладога    34697.000000        2\n",
       "село Шум              33898.000000        1\n",
       "\n",
       "[290 rows x 2 columns]"
      ]
     },
     "execution_count": 69,
     "metadata": {},
     "output_type": "execute_result"
    }
   ],
   "source": [
    "#создадим таблицу сгрупированную по населенным пунктам, посчитаем среднюю цену за метр и количество объектов \n",
    "data_poselok = data.pivot_table(index='locality_name', values='mm_price', aggfunc=['mean','count'])\n",
    "data_poselok\n",
    "#data_poselok.sort_values(by='mm_price',ascending=False ).head(11)\n"
   ]
  },
  {
   "cell_type": "code",
   "execution_count": 70,
   "metadata": {},
   "outputs": [
    {
     "data": {
      "text/html": [
       "<div>\n",
       "<style scoped>\n",
       "    .dataframe tbody tr th:only-of-type {\n",
       "        vertical-align: middle;\n",
       "    }\n",
       "\n",
       "    .dataframe tbody tr th {\n",
       "        vertical-align: top;\n",
       "    }\n",
       "\n",
       "    .dataframe thead th {\n",
       "        text-align: right;\n",
       "    }\n",
       "</style>\n",
       "<table border=\"1\" class=\"dataframe\">\n",
       "  <thead>\n",
       "    <tr style=\"text-align: right;\">\n",
       "      <th></th>\n",
       "      <th>mean</th>\n",
       "      <th>count</th>\n",
       "    </tr>\n",
       "    <tr>\n",
       "      <th>locality_name</th>\n",
       "      <th></th>\n",
       "      <th></th>\n",
       "    </tr>\n",
       "  </thead>\n",
       "  <tbody>\n",
       "    <tr>\n",
       "      <th>Санкт-Петербург</th>\n",
       "      <td>114856.304580</td>\n",
       "      <td>15720</td>\n",
       "    </tr>\n",
       "    <tr>\n",
       "      <th>поселок Мурино</th>\n",
       "      <td>85681.758993</td>\n",
       "      <td>556</td>\n",
       "    </tr>\n",
       "    <tr>\n",
       "      <th>поселок Шушары</th>\n",
       "      <td>78677.379545</td>\n",
       "      <td>440</td>\n",
       "    </tr>\n",
       "    <tr>\n",
       "      <th>Всеволожск</th>\n",
       "      <td>68719.287154</td>\n",
       "      <td>397</td>\n",
       "    </tr>\n",
       "    <tr>\n",
       "      <th>Пушкин</th>\n",
       "      <td>103125.818428</td>\n",
       "      <td>369</td>\n",
       "    </tr>\n",
       "    <tr>\n",
       "      <th>Колпино</th>\n",
       "      <td>75424.571006</td>\n",
       "      <td>338</td>\n",
       "    </tr>\n",
       "    <tr>\n",
       "      <th>поселок Парголово</th>\n",
       "      <td>90175.886850</td>\n",
       "      <td>327</td>\n",
       "    </tr>\n",
       "    <tr>\n",
       "      <th>Гатчина</th>\n",
       "      <td>68935.160131</td>\n",
       "      <td>306</td>\n",
       "    </tr>\n",
       "    <tr>\n",
       "      <th>деревня Кудрово</th>\n",
       "      <td>92473.588629</td>\n",
       "      <td>299</td>\n",
       "    </tr>\n",
       "    <tr>\n",
       "      <th>Выборг</th>\n",
       "      <td>58685.678112</td>\n",
       "      <td>233</td>\n",
       "    </tr>\n",
       "    <tr>\n",
       "      <th>Петергоф</th>\n",
       "      <td>84757.532338</td>\n",
       "      <td>201</td>\n",
       "    </tr>\n",
       "    <tr>\n",
       "      <th>Сестрорецк</th>\n",
       "      <td>101757.639344</td>\n",
       "      <td>183</td>\n",
       "    </tr>\n",
       "  </tbody>\n",
       "</table>\n",
       "</div>"
      ],
      "text/plain": [
       "                            mean  count\n",
       "locality_name                          \n",
       "Санкт-Петербург    114856.304580  15720\n",
       "поселок Мурино      85681.758993    556\n",
       "поселок Шушары      78677.379545    440\n",
       "Всеволожск          68719.287154    397\n",
       "Пушкин             103125.818428    369\n",
       "Колпино             75424.571006    338\n",
       "поселок Парголово   90175.886850    327\n",
       "Гатчина             68935.160131    306\n",
       "деревня Кудрово     92473.588629    299\n",
       "Выборг              58685.678112    233\n",
       "Петергоф            84757.532338    201\n",
       "Сестрорецк         101757.639344    183"
      ]
     },
     "execution_count": 70,
     "metadata": {},
     "output_type": "execute_result"
    }
   ],
   "source": [
    "#переименуем столбцы\n",
    "data_poselok.columns = ['mean', 'count']\n",
    "#упорядочим по количеству объектов в населенном пункте\n",
    "data_poselok.sort_values(by='count',ascending=False ).head(12)"
   ]
  },
  {
   "cell_type": "code",
   "execution_count": 71,
   "metadata": {},
   "outputs": [
    {
     "data": {
      "text/html": [
       "<div>\n",
       "<style scoped>\n",
       "    .dataframe tbody tr th:only-of-type {\n",
       "        vertical-align: middle;\n",
       "    }\n",
       "\n",
       "    .dataframe tbody tr th {\n",
       "        vertical-align: top;\n",
       "    }\n",
       "\n",
       "    .dataframe thead th {\n",
       "        text-align: right;\n",
       "    }\n",
       "</style>\n",
       "<table border=\"1\" class=\"dataframe\">\n",
       "  <thead>\n",
       "    <tr style=\"text-align: right;\">\n",
       "      <th></th>\n",
       "      <th>mean</th>\n",
       "      <th>count</th>\n",
       "    </tr>\n",
       "    <tr>\n",
       "      <th>locality_name</th>\n",
       "      <th></th>\n",
       "      <th></th>\n",
       "    </tr>\n",
       "  </thead>\n",
       "  <tbody>\n",
       "    <tr>\n",
       "      <th>Пушкин</th>\n",
       "      <td>103125.818428</td>\n",
       "      <td>369</td>\n",
       "    </tr>\n",
       "    <tr>\n",
       "      <th>деревня Кудрово</th>\n",
       "      <td>92473.588629</td>\n",
       "      <td>299</td>\n",
       "    </tr>\n",
       "    <tr>\n",
       "      <th>поселок Парголово</th>\n",
       "      <td>90175.886850</td>\n",
       "      <td>327</td>\n",
       "    </tr>\n",
       "    <tr>\n",
       "      <th>поселок Мурино</th>\n",
       "      <td>85681.758993</td>\n",
       "      <td>556</td>\n",
       "    </tr>\n",
       "    <tr>\n",
       "      <th>Петергоф</th>\n",
       "      <td>84757.532338</td>\n",
       "      <td>201</td>\n",
       "    </tr>\n",
       "    <tr>\n",
       "      <th>поселок Шушары</th>\n",
       "      <td>78677.379545</td>\n",
       "      <td>440</td>\n",
       "    </tr>\n",
       "    <tr>\n",
       "      <th>Колпино</th>\n",
       "      <td>75424.571006</td>\n",
       "      <td>338</td>\n",
       "    </tr>\n",
       "    <tr>\n",
       "      <th>Гатчина</th>\n",
       "      <td>68935.160131</td>\n",
       "      <td>306</td>\n",
       "    </tr>\n",
       "    <tr>\n",
       "      <th>Всеволожск</th>\n",
       "      <td>68719.287154</td>\n",
       "      <td>397</td>\n",
       "    </tr>\n",
       "    <tr>\n",
       "      <th>Выборг</th>\n",
       "      <td>58685.678112</td>\n",
       "      <td>233</td>\n",
       "    </tr>\n",
       "  </tbody>\n",
       "</table>\n",
       "</div>"
      ],
      "text/plain": [
       "                            mean  count\n",
       "locality_name                          \n",
       "Пушкин             103125.818428    369\n",
       "деревня Кудрово     92473.588629    299\n",
       "поселок Парголово   90175.886850    327\n",
       "поселок Мурино      85681.758993    556\n",
       "Петергоф            84757.532338    201\n",
       "поселок Шушары      78677.379545    440\n",
       "Колпино             75424.571006    338\n",
       "Гатчина             68935.160131    306\n",
       "Всеволожск          68719.287154    397\n",
       "Выборг              58685.678112    233"
      ]
     },
     "execution_count": 71,
     "metadata": {},
     "output_type": "execute_result"
    }
   ],
   "source": [
    "#уберем из таблицы петербург и оставим 10 населенных пунктов с бОльшим количеством вариантов\n",
    "data_poselok = data_poselok[(190 < data_poselok['count']) &(data_poselok['count'] < 1000) ]\n",
    "data_poselok.sort_values(by='mean',ascending=False )"
   ]
  },
  {
   "cell_type": "code",
   "execution_count": 72,
   "metadata": {},
   "outputs": [
    {
     "data": {
      "text/plain": [
       "<AxesSubplot:xlabel='locality_name'>"
      ]
     },
     "execution_count": 72,
     "metadata": {},
     "output_type": "execute_result"
    },
    {
     "data": {
      "image/png": "[encoded data removed]",
      "text/plain": [
       "<Figure size 864x432 with 1 Axes>"
      ]
     },
     "metadata": {
      "needs_background": "light"
     },
     "output_type": "display_data"
    }
   ],
   "source": [
    "data_poselok['mean'].sort_values(ascending=False ).plot.bar(figsize=(12,6))"
   ]
  },
  {
   "cell_type": "markdown",
   "metadata": {},
   "source": [
    "Самая дорогая недвижимость в Ленобласти в Пушкине 103 т.р. за кв.м., чуть дешевле в Кудрово 92 т.р. и Парголово 90 т.р., Петергоф 85 т.р.на пятом месте, \n",
    "Выборг на десятом 58 т.р., из-за значительного удаления от Санкт-петербурга"
   ]
  },
  {
   "cell_type": "markdown",
   "metadata": {},
   "source": [
    "### Зависимость  стоимости объектов  от расстояния до центра Санкт-Петербурга."
   ]
  },
  {
   "cell_type": "code",
   "execution_count": 73,
   "metadata": {},
   "outputs": [
    {
     "data": {
      "text/html": [
       "<div>\n",
       "<style scoped>\n",
       "    .dataframe tbody tr th:only-of-type {\n",
       "        vertical-align: middle;\n",
       "    }\n",
       "\n",
       "    .dataframe tbody tr th {\n",
       "        vertical-align: top;\n",
       "    }\n",
       "\n",
       "    .dataframe thead th {\n",
       "        text-align: right;\n",
       "    }\n",
       "</style>\n",
       "<table border=\"1\" class=\"dataframe\">\n",
       "  <thead>\n",
       "    <tr style=\"text-align: right;\">\n",
       "      <th></th>\n",
       "      <th>total_images</th>\n",
       "      <th>last_price</th>\n",
       "      <th>total_area</th>\n",
       "      <th>first_day_exposition</th>\n",
       "      <th>rooms</th>\n",
       "      <th>ceiling_height</th>\n",
       "      <th>floors_total</th>\n",
       "      <th>living_area</th>\n",
       "      <th>floor</th>\n",
       "      <th>is_apartment</th>\n",
       "      <th>...</th>\n",
       "      <th>parks_nearest</th>\n",
       "      <th>ponds_around3000</th>\n",
       "      <th>ponds_nearest</th>\n",
       "      <th>days_exposition</th>\n",
       "      <th>mm_price</th>\n",
       "      <th>weekday</th>\n",
       "      <th>year</th>\n",
       "      <th>month</th>\n",
       "      <th>floor_type</th>\n",
       "      <th>cityCenters_km</th>\n",
       "    </tr>\n",
       "  </thead>\n",
       "  <tbody>\n",
       "    <tr>\n",
       "      <th>0</th>\n",
       "      <td>20</td>\n",
       "      <td>13000000.0</td>\n",
       "      <td>108.0</td>\n",
       "      <td>2019-03-07</td>\n",
       "      <td>3</td>\n",
       "      <td>2.70</td>\n",
       "      <td>16.0</td>\n",
       "      <td>51.0</td>\n",
       "      <td>8</td>\n",
       "      <td>NaN</td>\n",
       "      <td>...</td>\n",
       "      <td>482.0</td>\n",
       "      <td>2.0</td>\n",
       "      <td>755.0</td>\n",
       "      <td>NaN</td>\n",
       "      <td>120370.0</td>\n",
       "      <td>3</td>\n",
       "      <td>2019</td>\n",
       "      <td>3</td>\n",
       "      <td>другой</td>\n",
       "      <td>16.0</td>\n",
       "    </tr>\n",
       "    <tr>\n",
       "      <th>2</th>\n",
       "      <td>10</td>\n",
       "      <td>5196000.0</td>\n",
       "      <td>56.0</td>\n",
       "      <td>2015-08-20</td>\n",
       "      <td>2</td>\n",
       "      <td>NaN</td>\n",
       "      <td>5.0</td>\n",
       "      <td>34.3</td>\n",
       "      <td>4</td>\n",
       "      <td>NaN</td>\n",
       "      <td>...</td>\n",
       "      <td>90.0</td>\n",
       "      <td>2.0</td>\n",
       "      <td>574.0</td>\n",
       "      <td>558.0</td>\n",
       "      <td>92786.0</td>\n",
       "      <td>3</td>\n",
       "      <td>2015</td>\n",
       "      <td>8</td>\n",
       "      <td>другой</td>\n",
       "      <td>14.0</td>\n",
       "    </tr>\n",
       "    <tr>\n",
       "      <th>3</th>\n",
       "      <td>0</td>\n",
       "      <td>64900000.0</td>\n",
       "      <td>159.0</td>\n",
       "      <td>2015-07-24</td>\n",
       "      <td>3</td>\n",
       "      <td>NaN</td>\n",
       "      <td>14.0</td>\n",
       "      <td>NaN</td>\n",
       "      <td>9</td>\n",
       "      <td>NaN</td>\n",
       "      <td>...</td>\n",
       "      <td>84.0</td>\n",
       "      <td>3.0</td>\n",
       "      <td>234.0</td>\n",
       "      <td>424.0</td>\n",
       "      <td>408176.0</td>\n",
       "      <td>4</td>\n",
       "      <td>2015</td>\n",
       "      <td>7</td>\n",
       "      <td>другой</td>\n",
       "      <td>7.0</td>\n",
       "    </tr>\n",
       "    <tr>\n",
       "      <th>4</th>\n",
       "      <td>2</td>\n",
       "      <td>10000000.0</td>\n",
       "      <td>100.0</td>\n",
       "      <td>2018-06-19</td>\n",
       "      <td>2</td>\n",
       "      <td>3.03</td>\n",
       "      <td>14.0</td>\n",
       "      <td>32.0</td>\n",
       "      <td>13</td>\n",
       "      <td>NaN</td>\n",
       "      <td>...</td>\n",
       "      <td>112.0</td>\n",
       "      <td>1.0</td>\n",
       "      <td>48.0</td>\n",
       "      <td>121.0</td>\n",
       "      <td>100000.0</td>\n",
       "      <td>1</td>\n",
       "      <td>2018</td>\n",
       "      <td>6</td>\n",
       "      <td>другой</td>\n",
       "      <td>8.0</td>\n",
       "    </tr>\n",
       "    <tr>\n",
       "      <th>7</th>\n",
       "      <td>5</td>\n",
       "      <td>7915000.0</td>\n",
       "      <td>71.6</td>\n",
       "      <td>2019-04-18</td>\n",
       "      <td>2</td>\n",
       "      <td>NaN</td>\n",
       "      <td>24.0</td>\n",
       "      <td>NaN</td>\n",
       "      <td>22</td>\n",
       "      <td>NaN</td>\n",
       "      <td>...</td>\n",
       "      <td>NaN</td>\n",
       "      <td>0.0</td>\n",
       "      <td>NaN</td>\n",
       "      <td>NaN</td>\n",
       "      <td>110545.0</td>\n",
       "      <td>3</td>\n",
       "      <td>2019</td>\n",
       "      <td>4</td>\n",
       "      <td>другой</td>\n",
       "      <td>12.0</td>\n",
       "    </tr>\n",
       "  </tbody>\n",
       "</table>\n",
       "<p>5 rows × 28 columns</p>\n",
       "</div>"
      ],
      "text/plain": [
       "   total_images  last_price  total_area first_day_exposition  rooms  \\\n",
       "0            20  13000000.0       108.0           2019-03-07      3   \n",
       "2            10   5196000.0        56.0           2015-08-20      2   \n",
       "3             0  64900000.0       159.0           2015-07-24      3   \n",
       "4             2  10000000.0       100.0           2018-06-19      2   \n",
       "7             5   7915000.0        71.6           2019-04-18      2   \n",
       "\n",
       "   ceiling_height  floors_total  living_area  floor is_apartment  ...  \\\n",
       "0            2.70          16.0         51.0      8          NaN  ...   \n",
       "2             NaN           5.0         34.3      4          NaN  ...   \n",
       "3             NaN          14.0          NaN      9          NaN  ...   \n",
       "4            3.03          14.0         32.0     13          NaN  ...   \n",
       "7             NaN          24.0          NaN     22          NaN  ...   \n",
       "\n",
       "   parks_nearest  ponds_around3000  ponds_nearest  days_exposition  mm_price  \\\n",
       "0          482.0               2.0          755.0              NaN  120370.0   \n",
       "2           90.0               2.0          574.0            558.0   92786.0   \n",
       "3           84.0               3.0          234.0            424.0  408176.0   \n",
       "4          112.0               1.0           48.0            121.0  100000.0   \n",
       "7            NaN               0.0            NaN              NaN  110545.0   \n",
       "\n",
       "   weekday  year  month  floor_type  cityCenters_km  \n",
       "0        3  2019      3      другой            16.0  \n",
       "2        3  2015      8      другой            14.0  \n",
       "3        4  2015      7      другой             7.0  \n",
       "4        1  2018      6      другой             8.0  \n",
       "7        3  2019      4      другой            12.0  \n",
       "\n",
       "[5 rows x 28 columns]"
      ]
     },
     "execution_count": 73,
     "metadata": {},
     "output_type": "execute_result"
    }
   ],
   "source": [
    "#сделаем таблицу с данными по санкст-петербургу\n",
    "data_spb=data[data['locality_name']=='Санкт-Петербург']\n",
    "data_spb.head(5)"
   ]
  },
  {
   "cell_type": "code",
   "execution_count": 74,
   "metadata": {},
   "outputs": [
    {
     "data": {
      "text/html": [
       "<div>\n",
       "<style scoped>\n",
       "    .dataframe tbody tr th:only-of-type {\n",
       "        vertical-align: middle;\n",
       "    }\n",
       "\n",
       "    .dataframe tbody tr th {\n",
       "        vertical-align: top;\n",
       "    }\n",
       "\n",
       "    .dataframe thead th {\n",
       "        text-align: right;\n",
       "    }\n",
       "</style>\n",
       "<table border=\"1\" class=\"dataframe\">\n",
       "  <thead>\n",
       "    <tr style=\"text-align: right;\">\n",
       "      <th></th>\n",
       "      <th>mm_price</th>\n",
       "    </tr>\n",
       "    <tr>\n",
       "      <th>cityCenters_km</th>\n",
       "      <th></th>\n",
       "    </tr>\n",
       "  </thead>\n",
       "  <tbody>\n",
       "    <tr>\n",
       "      <th>0.0</th>\n",
       "      <td>245833.518519</td>\n",
       "    </tr>\n",
       "    <tr>\n",
       "      <th>1.0</th>\n",
       "      <td>177005.395833</td>\n",
       "    </tr>\n",
       "    <tr>\n",
       "      <th>2.0</th>\n",
       "      <td>157848.983871</td>\n",
       "    </tr>\n",
       "    <tr>\n",
       "      <th>3.0</th>\n",
       "      <td>121387.442857</td>\n",
       "    </tr>\n",
       "    <tr>\n",
       "      <th>4.0</th>\n",
       "      <td>133282.873547</td>\n",
       "    </tr>\n",
       "  </tbody>\n",
       "</table>\n",
       "</div>"
      ],
      "text/plain": [
       "                     mm_price\n",
       "cityCenters_km               \n",
       "0.0             245833.518519\n",
       "1.0             177005.395833\n",
       "2.0             157848.983871\n",
       "3.0             121387.442857\n",
       "4.0             133282.873547"
      ]
     },
     "execution_count": 74,
     "metadata": {},
     "output_type": "execute_result"
    }
   ],
   "source": [
    "#создадим таблицу сгрупированную по расстоянию от центра, усредняющую стоимость квадратного метра\n",
    "spb_prise=data_spb.pivot_table(index='cityCenters_km', values='mm_price', aggfunc='mean')\n",
    "spb_prise.head()"
   ]
  },
  {
   "cell_type": "code",
   "execution_count": 75,
   "metadata": {},
   "outputs": [
    {
     "data": {
      "text/plain": [
       "<AxesSubplot:xlabel='cityCenters_km'>"
      ]
     },
     "execution_count": 75,
     "metadata": {},
     "output_type": "execute_result"
    },
    {
     "data": {
      "image/png": "[encoded data removed]",
      "text/plain": [
       "<Figure size 864x432 with 1 Axes>"
      ]
     },
     "metadata": {
      "needs_background": "light"
     },
     "output_type": "display_data"
    }
   ],
   "source": [
    "#построим график зависимости стоимости квадратного метра от расстояния до центра Петербурга \n",
    "spb_prise.plot.bar( figsize=(12,6))"
   ]
  },
  {
   "cell_type": "markdown",
   "metadata": {},
   "source": [
    "Как и предполагалось самая дорогая недвижимость в центре Санкт-Петербурга (240 т.р. за кв.м.), при удалении от центра стоимсоть квадратного метра падает, на расстоянии 10 км - 110 т.р.за кв.м.. Но падение не является линейным, но графике есть два \"горба\" , один на растоянии 6-7 км от центра, другой на расстоянии 27 км. Горбы означают наличие более дорогих районов, расположенных дальше от центра,находящихся на соответствующем расстоянии. Падение цен в начале графика более крутое, после 8 км график падения уже имеет слабый наклон, цена меняется не так сильно как  при приближени к центру.  "
   ]
  },
  {
   "cell_type": "markdown",
   "metadata": {},
   "source": [
    "## Общий вывод"
   ]
  },
  {
   "cell_type": "markdown",
   "metadata": {},
   "source": [
    "    В нашей работе мы исследовали данные сервиса Яндекс Недвижимость — архив объявлений за несколько лет о продаже квартир в Санкт-Петербурге и соседних населённых пунктах. \n",
    "    а этапе предобработки данных мы сделали следующие важные вещи:\n",
    "1. Исправили ошибочные занесения высоты потолка;\n",
    "2. Поменяли  тип данных столбца 'first_day_exposition' на datetime64[ns];\n",
    "3. Мы убрали дублирующие названия населенных пунктов;\n",
    "4. Удалили из базы обьекты стоимостью менее 1 млн рублей.\n",
    "\n",
    "    Мы  добавили  в таблицу новые столбцы со следующими параметрами:\n",
    "    • цена одного квадратного метра;\n",
    "    • день недели публикации объявления;\n",
    "    • месяц публикации объявления;\n",
    "    • год публикации объявления;\n",
    "    • тип этажа квартиры (значения — «первый», «последний», «другой»);\n",
    "    • расстояние до центра города в километрах .\n",
    "    \n",
    "    В результате исследовательского анализа данных было установленно следующее:\n",
    "\tОсновная масса квартир находится в диапозоне от 30 до 90 квадратных метров. Средний метраж общей площади квартиры 60 кв.м. Медианное значение 52 кв.м. Первый квартиль 40 кв.м, третий-70 кв.м. \n",
    "\t Распределение цен квартир нормальное с  длинным хвостом на значениях от 9 до 50 млн. рублей.  Средняя цена квартиры в Петербурге 6.6 млн рублей. Медианное значение 4,7 млн. руб. \n",
    "\tВ Петербурге продается больше всего одно  и двухкомнатных квартир, около 8 тысяч. Ттрехкомнатных около 5,8 тысяч квартир.\n",
    "\tВ Петербурге больше всего  5 этажных домов, около 5.8 тысяч. И много девятиэтажек, около 3.8 тысячи. \n",
    " \tВ городе  большое количество парков рядом с домом, для 75% горожан парк расположен ближе 600 метров от их дома. \n",
    "    \n",
    "    О скорости продаж недвижимости в Петербурге. \n",
    "    На рынке недвижимости Петербурга  четверть всех квартир продается за 45 дней, медианное время экспозиции 95 дней,75% всех квартир продаются за 232 дня. Быстрыми продажами можно назвать продажи за 1 месяц. Долгими продажами я бы назвал продажи свыше 8 месяцев. Необычно долгие -это продажи свыше двух лет. \n",
    "\t\n",
    "\tО факторах влияющих на стоимость квартиры: \n",
    "    Как и предполагалось чем больше квартира тем больше она стоит, corr=0.63; коэффициент корреляции полной стоимости и жилой площади меньше, corr=0,57; также есть зависимость от размера кухни, corr=0,52 и количества комнат corr=0.36. Неочевидный факт что полная стоимость квартиры больше зависит от размера кухни, чем от количества комнат! \n",
    "Первый этаж самый дешевый, приблизительно на 10% дешевле последнего. Последний этаж дешевле 'другого' приблизительно на 15%. \n",
    "Зависимости полной цены объекта от дня недели, месяца и года публикации нет. \n",
    "\n",
    "\tО рынке Ленобласти. \n",
    "    Самая дорогая недвижимость в Ленобласти в Пушкине 103 т.р. за кв.м., чуть дешевле в Кудрово 92 т.р. и Парголово 90 т.р., Петергоф 85 т.р.на пятом месте, Выборг на десятом 58 т.р., из-за значительного удаления от Санкт-петербурга.\n",
    "\t\n",
    "    О зависимости цены за 1 кв.м. в Петербурге .\n",
    "Как и предполагалось самая дорогая недвижимость в центре Санкт-Петербурга (240 т.р. за кв.м.), при удалении от центра стоимсоть квадратного метра падает, на расстоянии 10 км - 110 т.р.за кв.м., на расстоянии 28 км- 80 т.р.. \n"
   ]
  },
  {
   "cell_type": "markdown",
   "metadata": {},
   "source": [
    "**Чек-лист готовности проекта**\n",
    "\n",
    "Поставьте 'x' в выполненных пунктах. Далее нажмите Shift+Enter."
   ]
  },
  {
   "cell_type": "markdown",
   "metadata": {},
   "source": [
    "- [x]  открыт файл\n",
    "- [x]  файлы изучены (выведены первые строки, метод `info()`, гистограммы и т.д.)\n",
    "- [х]  определены пропущенные значения\n",
    "- [х]  заполнены пропущенные значения там, где это возможно\n",
    "- [х]  есть пояснение, какие пропущенные значения обнаружены\n",
    "- [х]  изменены типы данных\n",
    "- [х]  есть пояснение, в каких столбцах изменены типы и почему\n",
    "- [x]  устранены неявные дубликаты в названиях населённых пунктов\n",
    "- [x]  устранены редкие и выбивающиеся значения (аномалии) во всех столбцах\n",
    "- [x]  посчитано и добавлено в таблицу: цена одного квадратного метра\n",
    "- [x]  посчитано и добавлено в таблицу: день публикации объявления (0 - понедельник, 1 - вторник и т.д.)\n",
    "- [x]  посчитано и добавлено в таблицу: месяц публикации объявления\n",
    "- [x]  посчитано и добавлено в таблицу: год публикации объявления\n",
    "- [x]  посчитано и добавлено в таблицу: тип этажа квартиры (значения — «первый», «последний», «другой»)\n",
    "- [x]  посчитано и добавлено в таблицу: расстояние в км до центра города\n",
    "- [x]  изучены и описаны следующие параметры:\n",
    "        - общая площадь;\n",
    "        - жилая площадь;\n",
    "        - площадь кухни;\n",
    "        - цена объекта;\n",
    "        - количество комнат;\n",
    "        - высота потолков;\n",
    "        - этаж квартиры;\n",
    "        - тип этажа квартиры («первый», «последний», «другой»);\n",
    "        - общее количество этажей в доме;\n",
    "        - расстояние до центра города в метрах;\n",
    "        - расстояние до ближайшего аэропорта;\n",
    "        - расстояние до ближайшего парка;\n",
    "        - день и месяц публикации объявления\n",
    "- [x]  построены гистограммы для каждого параметра\n",
    "- [x]  выполнено задание: \"Изучите, как быстро продавались квартиры (столбец days_exposition). Этот параметр показывает, сколько дней «висело» каждое объявление.\n",
    "    - Постройте гистограмму.\n",
    "    - Посчитайте среднее и медиану.\n",
    "    - В ячейке типа markdown опишите, сколько обычно занимает продажа. Какие продажи можно считать быстрыми, а какие — необычно долгими?\"\n",
    "- [x]  выполнено задание: \"Какие факторы больше всего влияют на общую (полную) стоимость объекта? Постройте графики, которые покажут зависимость цены от указанных ниже параметров. Для подготовки данных перед визуализацией вы можете использовать сводные таблицы.\"\n",
    "        - общей площади;\n",
    "        - жилой площади;\n",
    "        - площади кухни;\n",
    "        - количество комнат;\n",
    "        - типа этажа, на котором расположена квартира (первый, последний, другой);\n",
    "        - даты размещения (день недели, месяц, год);\n",
    "- [x]  выполнено задание: \"Посчитайте среднюю цену одного квадратного метра в 10 населённых пунктах с наибольшим числом объявлений. Выделите населённые пункты с самой высокой и низкой стоимостью квадратного метра. Эти данные можно найти по имени в столбце `locality_name`.\"\n",
    "- [x]  выполнено задание: \"Ранее вы посчитали расстояние до центра в километрах. Теперь выделите квартиры в Санкт-Петербурге с помощью столбца `locality_name` и вычислите среднюю цену каждого километра. Опишите, как стоимость объектов зависит от расстояния до центра города.\"\n",
    "- [х]  в каждом этапе есть промежуточные выводы\n",
    "- [х]  есть общий вывод"
   ]
  }
 ],
 "metadata": {
  "ExecuteTimeLog": [
   {
    "duration": 85,
    "start_time": "2022-10-22T04:12:26.048Z"
   },
   {
    "duration": 697,
    "start_time": "2022-10-22T04:13:25.996Z"
   },
   {
    "duration": 71,
    "start_time": "2022-10-22T04:16:57.269Z"
   },
   {
    "duration": 103,
    "start_time": "2022-10-22T04:19:05.564Z"
   },
   {
    "duration": 157,
    "start_time": "2022-10-22T04:23:10.564Z"
   },
   {
    "duration": 113,
    "start_time": "2022-10-22T04:23:31.700Z"
   },
   {
    "duration": 101,
    "start_time": "2022-10-22T04:26:20.610Z"
   },
   {
    "duration": 2096,
    "start_time": "2022-10-22T04:27:57.316Z"
   },
   {
    "duration": 207,
    "start_time": "2022-10-22T04:29:01.796Z"
   },
   {
    "duration": 236,
    "start_time": "2022-10-22T04:29:39.538Z"
   },
   {
    "duration": 253,
    "start_time": "2022-10-22T04:30:16.623Z"
   },
   {
    "duration": 328,
    "start_time": "2022-10-22T04:30:35.354Z"
   },
   {
    "duration": 257,
    "start_time": "2022-10-22T04:30:49.123Z"
   },
   {
    "duration": 275,
    "start_time": "2022-10-22T04:30:59.171Z"
   },
   {
    "duration": 3312,
    "start_time": "2022-10-22T04:32:19.781Z"
   },
   {
    "duration": 3666,
    "start_time": "2022-10-22T04:32:51.743Z"
   },
   {
    "duration": 2014,
    "start_time": "2022-10-22T04:37:57.084Z"
   },
   {
    "duration": 2692,
    "start_time": "2022-10-22T04:38:27.066Z"
   },
   {
    "duration": 3533,
    "start_time": "2022-10-22T04:38:41.537Z"
   },
   {
    "duration": 112,
    "start_time": "2022-10-22T04:42:41.733Z"
   },
   {
    "duration": 101,
    "start_time": "2022-10-22T04:44:10.979Z"
   },
   {
    "duration": 13,
    "start_time": "2022-10-22T04:44:30.652Z"
   },
   {
    "duration": 3,
    "start_time": "2022-10-22T06:33:55.891Z"
   },
   {
    "duration": 3,
    "start_time": "2022-10-22T06:34:38.334Z"
   },
   {
    "duration": 5,
    "start_time": "2022-10-22T06:35:07.961Z"
   },
   {
    "duration": 7,
    "start_time": "2022-10-22T06:38:56.958Z"
   },
   {
    "duration": 7,
    "start_time": "2022-10-22T06:40:07.351Z"
   },
   {
    "duration": 6,
    "start_time": "2022-10-22T06:40:26.225Z"
   },
   {
    "duration": 7,
    "start_time": "2022-10-22T06:40:37.513Z"
   },
   {
    "duration": 6,
    "start_time": "2022-10-22T06:40:46.916Z"
   },
   {
    "duration": 7,
    "start_time": "2022-10-22T06:41:27.238Z"
   },
   {
    "duration": 7,
    "start_time": "2022-10-22T06:43:28.237Z"
   },
   {
    "duration": 8,
    "start_time": "2022-10-22T06:43:42.532Z"
   },
   {
    "duration": 5,
    "start_time": "2022-10-22T06:46:13.440Z"
   },
   {
    "duration": 39,
    "start_time": "2022-10-22T06:48:05.613Z"
   },
   {
    "duration": 5,
    "start_time": "2022-10-22T06:57:28.667Z"
   },
   {
    "duration": 9,
    "start_time": "2022-10-22T07:00:11.424Z"
   },
   {
    "duration": 4,
    "start_time": "2022-10-22T07:05:23.899Z"
   },
   {
    "duration": 4,
    "start_time": "2022-10-22T07:11:17.476Z"
   },
   {
    "duration": 5,
    "start_time": "2022-10-22T07:12:02.623Z"
   },
   {
    "duration": 38,
    "start_time": "2022-10-22T07:13:14.789Z"
   },
   {
    "duration": 7,
    "start_time": "2022-10-22T07:16:34.221Z"
   },
   {
    "duration": 100,
    "start_time": "2022-10-23T07:29:42.732Z"
   },
   {
    "duration": 879,
    "start_time": "2022-10-23T07:30:14.833Z"
   },
   {
    "duration": 16,
    "start_time": "2022-10-23T07:30:15.714Z"
   },
   {
    "duration": 4811,
    "start_time": "2022-10-23T07:30:15.732Z"
   },
   {
    "duration": 7,
    "start_time": "2022-10-23T07:30:20.553Z"
   },
   {
    "duration": 19,
    "start_time": "2022-10-23T07:30:20.562Z"
   },
   {
    "duration": 179,
    "start_time": "2022-10-23T07:30:20.583Z"
   },
   {
    "duration": 5,
    "start_time": "2022-10-23T07:30:20.767Z"
   },
   {
    "duration": 11,
    "start_time": "2022-10-23T07:30:20.774Z"
   },
   {
    "duration": 79,
    "start_time": "2022-10-23T07:30:20.787Z"
   },
   {
    "duration": 6,
    "start_time": "2022-10-23T07:30:20.868Z"
   },
   {
    "duration": 13,
    "start_time": "2022-10-23T07:30:20.875Z"
   },
   {
    "duration": 99,
    "start_time": "2022-10-23T07:32:17.728Z"
   },
   {
    "duration": 40,
    "start_time": "2022-10-23T07:32:34.150Z"
   },
   {
    "duration": 8,
    "start_time": "2022-10-23T07:33:46.158Z"
   },
   {
    "duration": 81,
    "start_time": "2022-10-25T07:02:30.990Z"
   },
   {
    "duration": 102,
    "start_time": "2022-10-25T07:03:12.182Z"
   },
   {
    "duration": 42,
    "start_time": "2022-10-25T07:03:21.176Z"
   },
   {
    "duration": 576,
    "start_time": "2022-10-25T07:03:47.458Z"
   },
   {
    "duration": 15,
    "start_time": "2022-10-25T07:03:48.036Z"
   },
   {
    "duration": 4444,
    "start_time": "2022-10-25T07:03:48.052Z"
   },
   {
    "duration": 5,
    "start_time": "2022-10-25T07:03:52.499Z"
   },
   {
    "duration": 14,
    "start_time": "2022-10-25T07:03:52.505Z"
   },
   {
    "duration": 172,
    "start_time": "2022-10-25T07:03:52.520Z"
   },
   {
    "duration": 4,
    "start_time": "2022-10-25T07:03:52.694Z"
   },
   {
    "duration": 8,
    "start_time": "2022-10-25T07:03:52.699Z"
   },
   {
    "duration": 43,
    "start_time": "2022-10-25T07:03:52.708Z"
   },
   {
    "duration": 6,
    "start_time": "2022-10-25T07:03:52.753Z"
   },
   {
    "duration": 43,
    "start_time": "2022-10-25T07:03:52.761Z"
   },
   {
    "duration": 47,
    "start_time": "2022-10-25T07:03:52.811Z"
   },
   {
    "duration": 9,
    "start_time": "2022-10-25T07:03:52.860Z"
   },
   {
    "duration": 76,
    "start_time": "2022-10-25T07:03:52.871Z"
   },
   {
    "duration": 0,
    "start_time": "2022-10-25T07:03:52.949Z"
   },
   {
    "duration": 77,
    "start_time": "2022-10-25T07:04:20.923Z"
   },
   {
    "duration": 14,
    "start_time": "2022-10-25T07:05:47.371Z"
   },
   {
    "duration": 12,
    "start_time": "2022-10-25T07:06:09.521Z"
   },
   {
    "duration": 67,
    "start_time": "2022-10-25T07:33:51.982Z"
   },
   {
    "duration": 11,
    "start_time": "2022-10-25T07:38:00.531Z"
   },
   {
    "duration": 9,
    "start_time": "2022-10-25T07:40:54.100Z"
   },
   {
    "duration": 9,
    "start_time": "2022-10-25T07:43:48.548Z"
   },
   {
    "duration": 1097,
    "start_time": "2022-10-25T07:54:46.201Z"
   },
   {
    "duration": 6,
    "start_time": "2022-10-25T07:55:00.661Z"
   },
   {
    "duration": 14,
    "start_time": "2022-10-25T08:26:17.263Z"
   },
   {
    "duration": 9,
    "start_time": "2022-10-25T08:26:41.452Z"
   },
   {
    "duration": 68,
    "start_time": "2022-10-25T08:26:57.965Z"
   },
   {
    "duration": 10,
    "start_time": "2022-10-25T08:27:05.455Z"
   },
   {
    "duration": 10,
    "start_time": "2022-10-25T08:29:30.012Z"
   },
   {
    "duration": 8,
    "start_time": "2022-10-25T08:34:00.036Z"
   },
   {
    "duration": 9,
    "start_time": "2022-10-25T08:39:16.386Z"
   },
   {
    "duration": 6,
    "start_time": "2022-10-25T08:41:18.904Z"
   },
   {
    "duration": 18,
    "start_time": "2022-10-25T08:42:20.858Z"
   },
   {
    "duration": 7,
    "start_time": "2022-10-25T10:13:18.452Z"
   },
   {
    "duration": 5,
    "start_time": "2022-10-25T10:14:18.819Z"
   },
   {
    "duration": 9,
    "start_time": "2022-10-25T10:14:26.027Z"
   },
   {
    "duration": 9,
    "start_time": "2022-10-25T10:19:27.706Z"
   },
   {
    "duration": 6,
    "start_time": "2022-10-25T13:56:54.750Z"
   },
   {
    "duration": 4,
    "start_time": "2022-10-25T13:56:59.693Z"
   },
   {
    "duration": 19,
    "start_time": "2022-10-25T13:57:35.142Z"
   },
   {
    "duration": 18,
    "start_time": "2022-10-25T13:59:08.746Z"
   },
   {
    "duration": 486,
    "start_time": "2022-10-25T14:00:40.935Z"
   },
   {
    "duration": 14,
    "start_time": "2022-10-25T14:00:41.423Z"
   },
   {
    "duration": 4221,
    "start_time": "2022-10-25T14:00:41.439Z"
   },
   {
    "duration": 10,
    "start_time": "2022-10-25T14:00:45.662Z"
   },
   {
    "duration": 6,
    "start_time": "2022-10-25T14:00:45.675Z"
   },
   {
    "duration": 14,
    "start_time": "2022-10-25T14:00:45.683Z"
   },
   {
    "duration": 42,
    "start_time": "2022-10-25T14:00:45.699Z"
   },
   {
    "duration": 4,
    "start_time": "2022-10-25T14:00:45.742Z"
   },
   {
    "duration": 6,
    "start_time": "2022-10-25T14:00:45.748Z"
   },
   {
    "duration": 65,
    "start_time": "2022-10-25T14:00:45.756Z"
   },
   {
    "duration": 7,
    "start_time": "2022-10-25T14:00:45.822Z"
   },
   {
    "duration": 10,
    "start_time": "2022-10-25T14:00:45.830Z"
   },
   {
    "duration": 64,
    "start_time": "2022-10-25T14:00:45.841Z"
   },
   {
    "duration": 7,
    "start_time": "2022-10-25T14:00:45.908Z"
   },
   {
    "duration": 87,
    "start_time": "2022-10-25T14:00:45.916Z"
   },
   {
    "duration": 0,
    "start_time": "2022-10-25T14:00:46.005Z"
   },
   {
    "duration": 0,
    "start_time": "2022-10-25T14:00:46.006Z"
   },
   {
    "duration": 0,
    "start_time": "2022-10-25T14:00:46.007Z"
   },
   {
    "duration": 0,
    "start_time": "2022-10-25T14:00:46.008Z"
   },
   {
    "duration": 6,
    "start_time": "2022-10-25T14:01:03.031Z"
   },
   {
    "duration": 18,
    "start_time": "2022-10-25T14:01:05.821Z"
   },
   {
    "duration": 18,
    "start_time": "2022-10-25T14:01:17.314Z"
   },
   {
    "duration": 30,
    "start_time": "2022-10-25T14:03:32.476Z"
   },
   {
    "duration": 42,
    "start_time": "2022-10-25T14:04:47.779Z"
   },
   {
    "duration": 8,
    "start_time": "2022-10-25T14:04:54.933Z"
   },
   {
    "duration": 10,
    "start_time": "2022-10-25T14:05:03.160Z"
   },
   {
    "duration": 41,
    "start_time": "2022-10-25T14:05:05.572Z"
   },
   {
    "duration": 16,
    "start_time": "2022-10-25T14:05:10.507Z"
   },
   {
    "duration": 59,
    "start_time": "2022-10-25T14:06:38.414Z"
   },
   {
    "duration": 17,
    "start_time": "2022-10-25T14:06:44.690Z"
   },
   {
    "duration": 10,
    "start_time": "2022-10-25T14:06:47.441Z"
   },
   {
    "duration": 51,
    "start_time": "2022-10-25T14:06:50.927Z"
   },
   {
    "duration": 113,
    "start_time": "2022-10-25T14:08:54.389Z"
   },
   {
    "duration": 31,
    "start_time": "2022-10-25T14:09:34.821Z"
   },
   {
    "duration": 39,
    "start_time": "2022-10-25T14:09:43.053Z"
   },
   {
    "duration": 63,
    "start_time": "2022-10-25T14:09:44.838Z"
   },
   {
    "duration": 549,
    "start_time": "2022-10-25T14:09:54.104Z"
   },
   {
    "duration": 17,
    "start_time": "2022-10-25T14:09:54.655Z"
   },
   {
    "duration": 4307,
    "start_time": "2022-10-25T14:09:54.673Z"
   },
   {
    "duration": 9,
    "start_time": "2022-10-25T14:09:58.983Z"
   },
   {
    "duration": 4,
    "start_time": "2022-10-25T14:09:58.994Z"
   },
   {
    "duration": 13,
    "start_time": "2022-10-25T14:09:58.999Z"
   },
   {
    "duration": 49,
    "start_time": "2022-10-25T14:09:59.014Z"
   },
   {
    "duration": 27,
    "start_time": "2022-10-25T14:09:59.064Z"
   },
   {
    "duration": 7,
    "start_time": "2022-10-25T14:09:59.093Z"
   },
   {
    "duration": 42,
    "start_time": "2022-10-25T14:09:59.103Z"
   },
   {
    "duration": 7,
    "start_time": "2022-10-25T14:09:59.146Z"
   },
   {
    "duration": 37,
    "start_time": "2022-10-25T14:09:59.155Z"
   },
   {
    "duration": 55,
    "start_time": "2022-10-25T14:09:59.194Z"
   },
   {
    "duration": 7,
    "start_time": "2022-10-25T14:09:59.252Z"
   },
   {
    "duration": 99,
    "start_time": "2022-10-25T14:09:59.261Z"
   },
   {
    "duration": 0,
    "start_time": "2022-10-25T14:09:59.362Z"
   },
   {
    "duration": 0,
    "start_time": "2022-10-25T14:09:59.363Z"
   },
   {
    "duration": 0,
    "start_time": "2022-10-25T14:09:59.364Z"
   },
   {
    "duration": 28,
    "start_time": "2022-10-25T14:10:23.905Z"
   },
   {
    "duration": 30,
    "start_time": "2022-10-25T14:10:44.944Z"
   },
   {
    "duration": 69,
    "start_time": "2022-10-25T14:11:29.118Z"
   },
   {
    "duration": 74,
    "start_time": "2022-10-25T14:14:59.886Z"
   },
   {
    "duration": 18,
    "start_time": "2022-10-25T14:29:21.583Z"
   },
   {
    "duration": 18,
    "start_time": "2022-10-25T14:29:37.731Z"
   },
   {
    "duration": 7,
    "start_time": "2022-10-25T14:30:25.326Z"
   },
   {
    "duration": 8,
    "start_time": "2022-10-25T14:31:14.055Z"
   },
   {
    "duration": 12,
    "start_time": "2022-10-25T14:41:13.709Z"
   },
   {
    "duration": 8,
    "start_time": "2022-10-25T14:43:26.341Z"
   },
   {
    "duration": 6,
    "start_time": "2022-10-25T14:43:53.950Z"
   },
   {
    "duration": 8,
    "start_time": "2022-10-25T14:44:17.596Z"
   },
   {
    "duration": 11,
    "start_time": "2022-10-25T14:44:41.745Z"
   },
   {
    "duration": 9,
    "start_time": "2022-10-25T14:47:28.469Z"
   },
   {
    "duration": 9,
    "start_time": "2022-10-25T14:47:51.656Z"
   },
   {
    "duration": 8,
    "start_time": "2022-10-25T14:48:25.482Z"
   },
   {
    "duration": 8,
    "start_time": "2022-10-25T14:53:53.636Z"
   },
   {
    "duration": 52,
    "start_time": "2022-10-26T07:00:08.765Z"
   },
   {
    "duration": 762,
    "start_time": "2022-10-26T07:00:30.295Z"
   },
   {
    "duration": 16,
    "start_time": "2022-10-26T07:00:31.059Z"
   },
   {
    "duration": 4696,
    "start_time": "2022-10-26T07:00:31.076Z"
   },
   {
    "duration": 10,
    "start_time": "2022-10-26T07:00:35.775Z"
   },
   {
    "duration": 17,
    "start_time": "2022-10-26T07:00:35.787Z"
   },
   {
    "duration": 25,
    "start_time": "2022-10-26T07:00:35.805Z"
   },
   {
    "duration": 181,
    "start_time": "2022-10-26T07:00:35.831Z"
   },
   {
    "duration": 5,
    "start_time": "2022-10-26T07:00:36.013Z"
   },
   {
    "duration": 31,
    "start_time": "2022-10-26T07:00:36.019Z"
   },
   {
    "duration": 58,
    "start_time": "2022-10-26T07:00:36.053Z"
   },
   {
    "duration": 7,
    "start_time": "2022-10-26T07:00:36.113Z"
   },
   {
    "duration": 14,
    "start_time": "2022-10-26T07:00:36.122Z"
   },
   {
    "duration": 62,
    "start_time": "2022-10-26T07:00:36.137Z"
   },
   {
    "duration": 7,
    "start_time": "2022-10-26T07:00:36.200Z"
   },
   {
    "duration": 136,
    "start_time": "2022-10-26T07:00:36.209Z"
   },
   {
    "duration": 0,
    "start_time": "2022-10-26T07:00:36.347Z"
   },
   {
    "duration": 0,
    "start_time": "2022-10-26T07:00:36.348Z"
   },
   {
    "duration": 0,
    "start_time": "2022-10-26T07:00:36.349Z"
   },
   {
    "duration": 0,
    "start_time": "2022-10-26T07:00:36.350Z"
   },
   {
    "duration": 0,
    "start_time": "2022-10-26T07:00:36.351Z"
   },
   {
    "duration": 0,
    "start_time": "2022-10-26T07:00:36.353Z"
   },
   {
    "duration": 0,
    "start_time": "2022-10-26T07:00:36.354Z"
   },
   {
    "duration": 0,
    "start_time": "2022-10-26T07:00:36.379Z"
   },
   {
    "duration": 0,
    "start_time": "2022-10-26T07:00:36.381Z"
   },
   {
    "duration": 42,
    "start_time": "2022-10-26T07:00:38.869Z"
   },
   {
    "duration": 43,
    "start_time": "2022-10-26T07:01:34.246Z"
   },
   {
    "duration": 480,
    "start_time": "2022-10-26T07:01:52.829Z"
   },
   {
    "duration": 15,
    "start_time": "2022-10-26T07:01:53.311Z"
   },
   {
    "duration": 4328,
    "start_time": "2022-10-26T07:01:53.328Z"
   },
   {
    "duration": 9,
    "start_time": "2022-10-26T07:01:57.658Z"
   },
   {
    "duration": 4,
    "start_time": "2022-10-26T07:01:57.669Z"
   },
   {
    "duration": 12,
    "start_time": "2022-10-26T07:01:57.675Z"
   },
   {
    "duration": 43,
    "start_time": "2022-10-26T07:01:57.689Z"
   },
   {
    "duration": 4,
    "start_time": "2022-10-26T07:01:57.733Z"
   },
   {
    "duration": 9,
    "start_time": "2022-10-26T07:01:57.739Z"
   },
   {
    "duration": 60,
    "start_time": "2022-10-26T07:01:57.750Z"
   },
   {
    "duration": 6,
    "start_time": "2022-10-26T07:01:57.812Z"
   },
   {
    "duration": 11,
    "start_time": "2022-10-26T07:01:57.820Z"
   },
   {
    "duration": 71,
    "start_time": "2022-10-26T07:01:57.833Z"
   },
   {
    "duration": 8,
    "start_time": "2022-10-26T07:01:57.908Z"
   },
   {
    "duration": 119,
    "start_time": "2022-10-26T07:01:57.918Z"
   },
   {
    "duration": 0,
    "start_time": "2022-10-26T07:01:58.038Z"
   },
   {
    "duration": 0,
    "start_time": "2022-10-26T07:01:58.040Z"
   },
   {
    "duration": 0,
    "start_time": "2022-10-26T07:01:58.041Z"
   },
   {
    "duration": 0,
    "start_time": "2022-10-26T07:01:58.041Z"
   },
   {
    "duration": 0,
    "start_time": "2022-10-26T07:01:58.042Z"
   },
   {
    "duration": 0,
    "start_time": "2022-10-26T07:01:58.044Z"
   },
   {
    "duration": 0,
    "start_time": "2022-10-26T07:01:58.045Z"
   },
   {
    "duration": 0,
    "start_time": "2022-10-26T07:01:58.045Z"
   },
   {
    "duration": 0,
    "start_time": "2022-10-26T07:01:58.047Z"
   },
   {
    "duration": 43,
    "start_time": "2022-10-26T07:02:03.741Z"
   },
   {
    "duration": 13,
    "start_time": "2022-10-26T07:24:29.590Z"
   },
   {
    "duration": 9,
    "start_time": "2022-10-26T07:32:00.010Z"
   },
   {
    "duration": 31,
    "start_time": "2022-10-26T07:32:11.382Z"
   },
   {
    "duration": 77,
    "start_time": "2022-10-26T07:32:11.991Z"
   },
   {
    "duration": 55,
    "start_time": "2022-10-26T07:32:13.249Z"
   },
   {
    "duration": 10,
    "start_time": "2022-10-26T07:32:14.945Z"
   },
   {
    "duration": 49,
    "start_time": "2022-10-26T07:32:19.578Z"
   },
   {
    "duration": 9,
    "start_time": "2022-10-26T07:32:20.486Z"
   },
   {
    "duration": 9,
    "start_time": "2022-10-26T07:32:22.645Z"
   },
   {
    "duration": 6,
    "start_time": "2022-10-26T07:32:23.655Z"
   },
   {
    "duration": 4,
    "start_time": "2022-10-26T07:32:28.191Z"
   },
   {
    "duration": 50,
    "start_time": "2022-10-26T07:32:33.351Z"
   },
   {
    "duration": 41,
    "start_time": "2022-10-26T07:33:03.741Z"
   },
   {
    "duration": 48,
    "start_time": "2022-10-26T07:34:28.559Z"
   },
   {
    "duration": 12,
    "start_time": "2022-10-26T07:34:46.862Z"
   },
   {
    "duration": 4,
    "start_time": "2022-10-26T08:18:25.707Z"
   },
   {
    "duration": 47,
    "start_time": "2022-10-26T08:50:39.676Z"
   },
   {
    "duration": 47,
    "start_time": "2022-10-26T08:50:49.341Z"
   },
   {
    "duration": 162,
    "start_time": "2022-10-26T09:09:51.408Z"
   },
   {
    "duration": 52,
    "start_time": "2022-10-26T09:10:18.455Z"
   },
   {
    "duration": 50,
    "start_time": "2022-10-26T09:15:42.803Z"
   },
   {
    "duration": 217,
    "start_time": "2022-10-26T09:15:58.268Z"
   },
   {
    "duration": 408,
    "start_time": "2022-10-26T09:16:44.374Z"
   },
   {
    "duration": 325,
    "start_time": "2022-10-26T09:17:04.872Z"
   },
   {
    "duration": 352,
    "start_time": "2022-10-26T09:17:44.867Z"
   },
   {
    "duration": 297,
    "start_time": "2022-10-26T09:19:18.074Z"
   },
   {
    "duration": 4,
    "start_time": "2022-10-26T09:26:06.880Z"
   },
   {
    "duration": 26,
    "start_time": "2022-10-26T09:26:25.682Z"
   },
   {
    "duration": 4,
    "start_time": "2022-10-26T09:27:06.182Z"
   },
   {
    "duration": 26,
    "start_time": "2022-10-26T09:27:13.895Z"
   },
   {
    "duration": 41,
    "start_time": "2022-10-27T04:47:14.517Z"
   },
   {
    "duration": 497,
    "start_time": "2022-10-27T04:47:23.263Z"
   },
   {
    "duration": 14,
    "start_time": "2022-10-27T04:47:23.762Z"
   },
   {
    "duration": 3717,
    "start_time": "2022-10-27T04:47:23.778Z"
   },
   {
    "duration": 8,
    "start_time": "2022-10-27T04:47:27.497Z"
   },
   {
    "duration": 3,
    "start_time": "2022-10-27T04:47:27.507Z"
   },
   {
    "duration": 11,
    "start_time": "2022-10-27T04:47:27.511Z"
   },
   {
    "duration": 159,
    "start_time": "2022-10-27T04:47:27.523Z"
   },
   {
    "duration": 3,
    "start_time": "2022-10-27T04:47:27.683Z"
   },
   {
    "duration": 19,
    "start_time": "2022-10-27T04:47:27.688Z"
   },
   {
    "duration": 38,
    "start_time": "2022-10-27T04:47:27.708Z"
   },
   {
    "duration": 7,
    "start_time": "2022-10-27T04:47:27.748Z"
   },
   {
    "duration": 19,
    "start_time": "2022-10-27T04:47:27.756Z"
   },
   {
    "duration": 61,
    "start_time": "2022-10-27T04:47:27.776Z"
   },
   {
    "duration": 7,
    "start_time": "2022-10-27T04:47:27.840Z"
   },
   {
    "duration": 83,
    "start_time": "2022-10-27T04:47:27.848Z"
   },
   {
    "duration": 0,
    "start_time": "2022-10-27T04:47:27.932Z"
   },
   {
    "duration": 0,
    "start_time": "2022-10-27T04:47:27.933Z"
   },
   {
    "duration": 0,
    "start_time": "2022-10-27T04:47:27.934Z"
   },
   {
    "duration": 0,
    "start_time": "2022-10-27T04:47:27.936Z"
   },
   {
    "duration": 0,
    "start_time": "2022-10-27T04:47:27.937Z"
   },
   {
    "duration": 0,
    "start_time": "2022-10-27T04:47:27.938Z"
   },
   {
    "duration": 0,
    "start_time": "2022-10-27T04:47:27.939Z"
   },
   {
    "duration": 0,
    "start_time": "2022-10-27T04:47:27.940Z"
   },
   {
    "duration": 0,
    "start_time": "2022-10-27T04:47:27.941Z"
   },
   {
    "duration": 0,
    "start_time": "2022-10-27T04:47:27.942Z"
   },
   {
    "duration": 0,
    "start_time": "2022-10-27T04:47:27.944Z"
   },
   {
    "duration": 0,
    "start_time": "2022-10-27T04:47:27.945Z"
   },
   {
    "duration": 0,
    "start_time": "2022-10-27T04:47:27.945Z"
   },
   {
    "duration": 0,
    "start_time": "2022-10-27T04:47:27.947Z"
   },
   {
    "duration": 98,
    "start_time": "2022-10-27T04:47:28.796Z"
   },
   {
    "duration": 170,
    "start_time": "2022-10-27T04:47:40.886Z"
   },
   {
    "duration": 194,
    "start_time": "2022-10-27T04:47:49.728Z"
   },
   {
    "duration": 209,
    "start_time": "2022-10-27T04:49:21.685Z"
   },
   {
    "duration": 201,
    "start_time": "2022-10-27T04:49:37.724Z"
   },
   {
    "duration": 197,
    "start_time": "2022-10-27T04:50:16.098Z"
   },
   {
    "duration": 208,
    "start_time": "2022-10-27T04:50:33.595Z"
   },
   {
    "duration": 329,
    "start_time": "2022-10-27T04:50:41.680Z"
   },
   {
    "duration": 72,
    "start_time": "2022-10-27T04:51:52.380Z"
   },
   {
    "duration": 188,
    "start_time": "2022-10-27T04:52:50.621Z"
   },
   {
    "duration": 205,
    "start_time": "2022-10-27T04:53:03.191Z"
   },
   {
    "duration": 204,
    "start_time": "2022-10-27T04:53:11.389Z"
   },
   {
    "duration": 200,
    "start_time": "2022-10-27T04:53:38.291Z"
   },
   {
    "duration": 194,
    "start_time": "2022-10-27T04:53:46.578Z"
   },
   {
    "duration": 204,
    "start_time": "2022-10-27T04:57:37.619Z"
   },
   {
    "duration": 356,
    "start_time": "2022-10-27T04:57:46.485Z"
   },
   {
    "duration": 207,
    "start_time": "2022-10-27T05:02:08.892Z"
   },
   {
    "duration": 69,
    "start_time": "2022-10-27T05:06:56.166Z"
   },
   {
    "duration": 220,
    "start_time": "2022-10-27T05:07:04.057Z"
   },
   {
    "duration": 299,
    "start_time": "2022-10-27T05:09:10.558Z"
   },
   {
    "duration": 206,
    "start_time": "2022-10-27T05:09:35.788Z"
   },
   {
    "duration": 210,
    "start_time": "2022-10-27T05:10:18.628Z"
   },
   {
    "duration": 216,
    "start_time": "2022-10-27T05:10:30.537Z"
   },
   {
    "duration": 412,
    "start_time": "2022-10-27T05:12:51.730Z"
   },
   {
    "duration": 69,
    "start_time": "2022-10-27T05:14:58.077Z"
   },
   {
    "duration": 8,
    "start_time": "2022-10-27T05:15:17.500Z"
   },
   {
    "duration": 196,
    "start_time": "2022-10-27T05:22:10.613Z"
   },
   {
    "duration": 203,
    "start_time": "2022-10-27T05:22:35.592Z"
   },
   {
    "duration": 202,
    "start_time": "2022-10-27T05:22:48.746Z"
   },
   {
    "duration": 191,
    "start_time": "2022-10-27T05:23:16.269Z"
   },
   {
    "duration": 9,
    "start_time": "2022-10-27T05:23:52.224Z"
   },
   {
    "duration": 217,
    "start_time": "2022-10-27T05:29:15.198Z"
   },
   {
    "duration": 243,
    "start_time": "2022-10-27T05:29:27.811Z"
   },
   {
    "duration": 219,
    "start_time": "2022-10-27T05:29:58.052Z"
   },
   {
    "duration": 145,
    "start_time": "2022-10-27T05:35:38.157Z"
   },
   {
    "duration": 7,
    "start_time": "2022-10-27T05:54:09.659Z"
   },
   {
    "duration": 206,
    "start_time": "2022-10-27T05:54:25.527Z"
   },
   {
    "duration": 225,
    "start_time": "2022-10-27T05:54:40.612Z"
   },
   {
    "duration": 9,
    "start_time": "2022-10-27T05:55:29.376Z"
   },
   {
    "duration": 436,
    "start_time": "2022-10-27T06:21:06.476Z"
   },
   {
    "duration": 206,
    "start_time": "2022-10-27T06:21:18.949Z"
   },
   {
    "duration": 187,
    "start_time": "2022-10-27T06:21:33.773Z"
   },
   {
    "duration": 235,
    "start_time": "2022-10-27T06:21:41.502Z"
   },
   {
    "duration": 90,
    "start_time": "2022-10-27T06:22:02.794Z"
   },
   {
    "duration": 215,
    "start_time": "2022-10-27T06:22:11.586Z"
   },
   {
    "duration": 196,
    "start_time": "2022-10-27T06:22:39.620Z"
   },
   {
    "duration": 212,
    "start_time": "2022-10-27T06:23:06.535Z"
   },
   {
    "duration": 331,
    "start_time": "2022-10-27T06:23:28.922Z"
   },
   {
    "duration": 216,
    "start_time": "2022-10-27T06:23:35.057Z"
   },
   {
    "duration": 8,
    "start_time": "2022-10-27T06:24:09.905Z"
   },
   {
    "duration": 216,
    "start_time": "2022-10-27T06:29:03.325Z"
   },
   {
    "duration": 211,
    "start_time": "2022-10-27T06:32:32.871Z"
   },
   {
    "duration": 220,
    "start_time": "2022-10-27T06:32:47.367Z"
   },
   {
    "duration": 7,
    "start_time": "2022-10-27T06:33:36.648Z"
   },
   {
    "duration": 488,
    "start_time": "2022-10-27T06:42:17.372Z"
   },
   {
    "duration": 26,
    "start_time": "2022-10-27T06:43:59.206Z"
   },
   {
    "duration": 5,
    "start_time": "2022-10-27T06:44:35.428Z"
   },
   {
    "duration": 10,
    "start_time": "2022-10-27T06:44:37.326Z"
   },
   {
    "duration": 7,
    "start_time": "2022-10-27T06:45:15.509Z"
   },
   {
    "duration": 4,
    "start_time": "2022-10-27T06:45:24.200Z"
   },
   {
    "duration": 12,
    "start_time": "2022-10-27T06:45:25.985Z"
   },
   {
    "duration": 255,
    "start_time": "2022-10-27T06:45:28.169Z"
   },
   {
    "duration": 22,
    "start_time": "2022-10-27T06:45:30.751Z"
   },
   {
    "duration": 205,
    "start_time": "2022-10-27T06:49:43.913Z"
   },
   {
    "duration": 203,
    "start_time": "2022-10-27T06:49:55.109Z"
   },
   {
    "duration": 10,
    "start_time": "2022-10-27T06:50:37.283Z"
   },
   {
    "duration": 250,
    "start_time": "2022-10-27T06:50:50.498Z"
   },
   {
    "duration": 216,
    "start_time": "2022-10-27T06:51:26.360Z"
   },
   {
    "duration": 8,
    "start_time": "2022-10-27T06:52:04.983Z"
   },
   {
    "duration": 212,
    "start_time": "2022-10-27T06:52:30.213Z"
   },
   {
    "duration": 219,
    "start_time": "2022-10-27T06:52:36.695Z"
   },
   {
    "duration": 194,
    "start_time": "2022-10-27T06:52:43.616Z"
   },
   {
    "duration": 217,
    "start_time": "2022-10-27T06:53:06.196Z"
   },
   {
    "duration": 211,
    "start_time": "2022-10-27T06:53:22.927Z"
   },
   {
    "duration": 207,
    "start_time": "2022-10-27T06:53:55.522Z"
   },
   {
    "duration": 216,
    "start_time": "2022-10-27T06:54:01.752Z"
   },
   {
    "duration": 9,
    "start_time": "2022-10-27T06:54:09.805Z"
   },
   {
    "duration": 204,
    "start_time": "2022-10-27T06:54:24.285Z"
   },
   {
    "duration": 558,
    "start_time": "2022-10-27T06:54:35.342Z"
   },
   {
    "duration": 216,
    "start_time": "2022-10-27T06:54:43.174Z"
   },
   {
    "duration": 219,
    "start_time": "2022-10-27T06:54:56.246Z"
   },
   {
    "duration": 8,
    "start_time": "2022-10-27T06:55:31.121Z"
   },
   {
    "duration": 206,
    "start_time": "2022-10-27T06:57:55.296Z"
   },
   {
    "duration": 206,
    "start_time": "2022-10-27T06:58:04.657Z"
   },
   {
    "duration": 197,
    "start_time": "2022-10-27T06:58:25.586Z"
   },
   {
    "duration": 207,
    "start_time": "2022-10-27T06:58:39.582Z"
   },
   {
    "duration": 191,
    "start_time": "2022-10-27T06:58:43.927Z"
   },
   {
    "duration": 203,
    "start_time": "2022-10-27T06:59:04.895Z"
   },
   {
    "duration": 95,
    "start_time": "2022-10-27T06:59:20.184Z"
   },
   {
    "duration": 220,
    "start_time": "2022-10-27T06:59:26.177Z"
   },
   {
    "duration": 226,
    "start_time": "2022-10-27T06:59:36.242Z"
   },
   {
    "duration": 216,
    "start_time": "2022-10-27T07:14:38.326Z"
   },
   {
    "duration": 30,
    "start_time": "2022-10-27T07:16:30.583Z"
   },
   {
    "duration": 29,
    "start_time": "2022-10-27T07:17:56.929Z"
   },
   {
    "duration": 26,
    "start_time": "2022-10-27T07:20:37.236Z"
   },
   {
    "duration": 28,
    "start_time": "2022-10-27T07:21:22.008Z"
   },
   {
    "duration": 29,
    "start_time": "2022-10-27T07:22:26.884Z"
   },
   {
    "duration": 39,
    "start_time": "2022-10-27T07:23:14.672Z"
   },
   {
    "duration": 8,
    "start_time": "2022-10-27T07:24:08.103Z"
   },
   {
    "duration": 9,
    "start_time": "2022-10-27T07:24:19.725Z"
   },
   {
    "duration": 28,
    "start_time": "2022-10-27T07:24:27.130Z"
   },
   {
    "duration": 9,
    "start_time": "2022-10-27T07:25:15.902Z"
   },
   {
    "duration": 33,
    "start_time": "2022-10-27T07:25:35.006Z"
   },
   {
    "duration": 35,
    "start_time": "2022-10-27T07:26:34.545Z"
   },
   {
    "duration": 29,
    "start_time": "2022-10-27T07:27:17.010Z"
   },
   {
    "duration": 44,
    "start_time": "2022-10-27T07:27:43.552Z"
   },
   {
    "duration": 21,
    "start_time": "2022-10-27T07:28:28.176Z"
   },
   {
    "duration": 30,
    "start_time": "2022-10-27T07:28:43.800Z"
   },
   {
    "duration": 32,
    "start_time": "2022-10-27T07:49:24.230Z"
   },
   {
    "duration": 30,
    "start_time": "2022-10-27T07:49:34.308Z"
   },
   {
    "duration": 211,
    "start_time": "2022-10-27T07:51:05.654Z"
   },
   {
    "duration": 162,
    "start_time": "2022-10-27T07:51:14.454Z"
   },
   {
    "duration": 156,
    "start_time": "2022-10-27T07:51:24.198Z"
   },
   {
    "duration": 79,
    "start_time": "2022-10-27T07:51:49.332Z"
   },
   {
    "duration": 173,
    "start_time": "2022-10-27T07:51:57.955Z"
   },
   {
    "duration": 147,
    "start_time": "2022-10-27T07:52:15.667Z"
   },
   {
    "duration": 27,
    "start_time": "2022-10-27T07:56:22.425Z"
   },
   {
    "duration": 23,
    "start_time": "2022-10-27T07:57:09.184Z"
   },
   {
    "duration": 28,
    "start_time": "2022-10-27T08:02:22.509Z"
   },
   {
    "duration": 29,
    "start_time": "2022-10-27T08:03:49.049Z"
   },
   {
    "duration": 221,
    "start_time": "2022-10-27T08:06:15.590Z"
   },
   {
    "duration": 35,
    "start_time": "2022-10-27T08:08:37.749Z"
   },
   {
    "duration": 33,
    "start_time": "2022-10-27T08:09:31.364Z"
   },
   {
    "duration": 196,
    "start_time": "2022-10-27T08:14:36.621Z"
   },
   {
    "duration": 229,
    "start_time": "2022-10-27T08:20:19.576Z"
   },
   {
    "duration": 598,
    "start_time": "2022-10-27T08:24:08.278Z"
   },
   {
    "duration": 250,
    "start_time": "2022-10-27T08:24:27.904Z"
   },
   {
    "duration": 10,
    "start_time": "2022-10-27T08:25:17.455Z"
   },
   {
    "duration": 21,
    "start_time": "2022-10-27T08:26:30.360Z"
   },
   {
    "duration": 210,
    "start_time": "2022-10-27T08:30:25.567Z"
   },
   {
    "duration": 163,
    "start_time": "2022-10-27T08:32:24.137Z"
   },
   {
    "duration": 226,
    "start_time": "2022-10-27T08:41:00.321Z"
   },
   {
    "duration": 202,
    "start_time": "2022-10-27T08:41:15.998Z"
   },
   {
    "duration": 155,
    "start_time": "2022-10-27T08:43:32.276Z"
   },
   {
    "duration": 196,
    "start_time": "2022-10-27T08:43:44.556Z"
   },
   {
    "duration": 202,
    "start_time": "2022-10-27T08:43:56.930Z"
   },
   {
    "duration": 208,
    "start_time": "2022-10-27T08:44:06.337Z"
   },
   {
    "duration": 213,
    "start_time": "2022-10-27T08:44:42.996Z"
   },
   {
    "duration": 222,
    "start_time": "2022-10-27T08:45:02.653Z"
   },
   {
    "duration": 8,
    "start_time": "2022-10-27T08:45:43.537Z"
   },
   {
    "duration": 205,
    "start_time": "2022-10-27T08:49:18.436Z"
   },
   {
    "duration": 202,
    "start_time": "2022-10-27T08:49:36.476Z"
   },
   {
    "duration": 206,
    "start_time": "2022-10-27T08:50:04.994Z"
   },
   {
    "duration": 204,
    "start_time": "2022-10-27T08:50:30.054Z"
   },
   {
    "duration": 222,
    "start_time": "2022-10-27T08:50:43.690Z"
   },
   {
    "duration": 205,
    "start_time": "2022-10-27T08:50:54.446Z"
   },
   {
    "duration": 71,
    "start_time": "2022-10-27T08:51:20.156Z"
   },
   {
    "duration": 184,
    "start_time": "2022-10-27T09:10:33.296Z"
   },
   {
    "duration": 309,
    "start_time": "2022-10-27T09:10:50.267Z"
   },
   {
    "duration": 4,
    "start_time": "2022-10-27T11:17:04.876Z"
   },
   {
    "duration": 5,
    "start_time": "2022-10-27T11:22:00.697Z"
   },
   {
    "duration": 4,
    "start_time": "2022-10-27T11:22:09.820Z"
   },
   {
    "duration": 3,
    "start_time": "2022-10-27T11:22:12.412Z"
   },
   {
    "duration": 5,
    "start_time": "2022-10-27T11:22:14.392Z"
   },
   {
    "duration": 7,
    "start_time": "2022-10-27T11:22:15.744Z"
   },
   {
    "duration": 27,
    "start_time": "2022-10-27T11:22:17.230Z"
   },
   {
    "duration": 227,
    "start_time": "2022-10-27T11:22:24.832Z"
   },
   {
    "duration": 221,
    "start_time": "2022-10-27T11:22:35.257Z"
   },
   {
    "duration": 736,
    "start_time": "2022-10-27T11:22:55.615Z"
   },
   {
    "duration": 210,
    "start_time": "2022-10-27T11:23:06.415Z"
   },
   {
    "duration": 235,
    "start_time": "2022-10-27T11:23:06.946Z"
   },
   {
    "duration": 7,
    "start_time": "2022-10-27T11:23:09.155Z"
   },
   {
    "duration": 3,
    "start_time": "2022-10-27T11:27:32.287Z"
   },
   {
    "duration": 4,
    "start_time": "2022-10-27T11:27:41.184Z"
   },
   {
    "duration": 4,
    "start_time": "2022-10-27T11:27:54.865Z"
   },
   {
    "duration": 4,
    "start_time": "2022-10-27T11:28:02.457Z"
   },
   {
    "duration": 4,
    "start_time": "2022-10-27T11:28:03.251Z"
   },
   {
    "duration": 4,
    "start_time": "2022-10-27T11:28:35.526Z"
   },
   {
    "duration": 12,
    "start_time": "2022-10-27T11:28:43.539Z"
   },
   {
    "duration": 4,
    "start_time": "2022-10-27T11:28:58.113Z"
   },
   {
    "duration": 12,
    "start_time": "2022-10-27T11:28:59.375Z"
   },
   {
    "duration": 6,
    "start_time": "2022-10-27T11:30:13.548Z"
   },
   {
    "duration": 6,
    "start_time": "2022-10-27T11:30:33.012Z"
   },
   {
    "duration": 6,
    "start_time": "2022-10-27T11:30:36.200Z"
   },
   {
    "duration": 500,
    "start_time": "2022-10-27T11:31:16.710Z"
   },
   {
    "duration": 15,
    "start_time": "2022-10-27T11:31:17.212Z"
   },
   {
    "duration": 3976,
    "start_time": "2022-10-27T11:31:17.228Z"
   },
   {
    "duration": 9,
    "start_time": "2022-10-27T11:31:21.205Z"
   },
   {
    "duration": 3,
    "start_time": "2022-10-27T11:31:21.216Z"
   },
   {
    "duration": 10,
    "start_time": "2022-10-27T11:31:21.221Z"
   },
   {
    "duration": 36,
    "start_time": "2022-10-27T11:31:21.233Z"
   },
   {
    "duration": 3,
    "start_time": "2022-10-27T11:31:21.271Z"
   },
   {
    "duration": 31,
    "start_time": "2022-10-27T11:31:21.275Z"
   },
   {
    "duration": 38,
    "start_time": "2022-10-27T11:31:21.308Z"
   },
   {
    "duration": 5,
    "start_time": "2022-10-27T11:31:21.347Z"
   },
   {
    "duration": 7,
    "start_time": "2022-10-27T11:31:21.354Z"
   },
   {
    "duration": 63,
    "start_time": "2022-10-27T11:31:21.362Z"
   },
   {
    "duration": 6,
    "start_time": "2022-10-27T11:31:21.428Z"
   },
   {
    "duration": 85,
    "start_time": "2022-10-27T11:31:21.436Z"
   },
   {
    "duration": 0,
    "start_time": "2022-10-27T11:31:21.523Z"
   },
   {
    "duration": 0,
    "start_time": "2022-10-27T11:31:21.524Z"
   },
   {
    "duration": 0,
    "start_time": "2022-10-27T11:31:21.525Z"
   },
   {
    "duration": 0,
    "start_time": "2022-10-27T11:31:21.526Z"
   },
   {
    "duration": 0,
    "start_time": "2022-10-27T11:31:21.527Z"
   },
   {
    "duration": 0,
    "start_time": "2022-10-27T11:31:21.528Z"
   },
   {
    "duration": 0,
    "start_time": "2022-10-27T11:31:21.529Z"
   },
   {
    "duration": 0,
    "start_time": "2022-10-27T11:31:21.529Z"
   },
   {
    "duration": 0,
    "start_time": "2022-10-27T11:31:21.530Z"
   },
   {
    "duration": 0,
    "start_time": "2022-10-27T11:31:21.532Z"
   },
   {
    "duration": 0,
    "start_time": "2022-10-27T11:31:21.533Z"
   },
   {
    "duration": 0,
    "start_time": "2022-10-27T11:31:21.534Z"
   },
   {
    "duration": 0,
    "start_time": "2022-10-27T11:31:21.535Z"
   },
   {
    "duration": 0,
    "start_time": "2022-10-27T11:31:21.536Z"
   },
   {
    "duration": 0,
    "start_time": "2022-10-27T11:31:21.537Z"
   },
   {
    "duration": 0,
    "start_time": "2022-10-27T11:31:21.538Z"
   },
   {
    "duration": 0,
    "start_time": "2022-10-27T11:31:21.539Z"
   },
   {
    "duration": 0,
    "start_time": "2022-10-27T11:31:21.540Z"
   },
   {
    "duration": 0,
    "start_time": "2022-10-27T11:31:21.541Z"
   },
   {
    "duration": 0,
    "start_time": "2022-10-27T11:31:21.541Z"
   },
   {
    "duration": 0,
    "start_time": "2022-10-27T11:31:21.542Z"
   },
   {
    "duration": 0,
    "start_time": "2022-10-27T11:31:21.543Z"
   },
   {
    "duration": 0,
    "start_time": "2022-10-27T11:31:21.544Z"
   },
   {
    "duration": 0,
    "start_time": "2022-10-27T11:31:21.545Z"
   },
   {
    "duration": 0,
    "start_time": "2022-10-27T11:31:21.546Z"
   },
   {
    "duration": 0,
    "start_time": "2022-10-27T11:31:21.547Z"
   },
   {
    "duration": 0,
    "start_time": "2022-10-27T11:31:21.548Z"
   },
   {
    "duration": 0,
    "start_time": "2022-10-27T11:31:21.548Z"
   },
   {
    "duration": 0,
    "start_time": "2022-10-27T11:31:21.549Z"
   },
   {
    "duration": 0,
    "start_time": "2022-10-27T11:31:21.550Z"
   },
   {
    "duration": 0,
    "start_time": "2022-10-27T11:31:21.551Z"
   },
   {
    "duration": 0,
    "start_time": "2022-10-27T11:31:21.552Z"
   },
   {
    "duration": 0,
    "start_time": "2022-10-27T11:31:21.553Z"
   },
   {
    "duration": 0,
    "start_time": "2022-10-27T11:31:21.553Z"
   },
   {
    "duration": 0,
    "start_time": "2022-10-27T11:31:21.554Z"
   },
   {
    "duration": 0,
    "start_time": "2022-10-27T11:31:21.555Z"
   },
   {
    "duration": 0,
    "start_time": "2022-10-27T11:31:21.606Z"
   },
   {
    "duration": 0,
    "start_time": "2022-10-27T11:31:21.607Z"
   },
   {
    "duration": 0,
    "start_time": "2022-10-27T11:31:21.607Z"
   },
   {
    "duration": 0,
    "start_time": "2022-10-27T11:31:21.608Z"
   },
   {
    "duration": 0,
    "start_time": "2022-10-27T11:31:21.609Z"
   },
   {
    "duration": 0,
    "start_time": "2022-10-27T11:31:21.610Z"
   },
   {
    "duration": 0,
    "start_time": "2022-10-27T11:31:21.611Z"
   },
   {
    "duration": 0,
    "start_time": "2022-10-27T11:31:21.612Z"
   },
   {
    "duration": 0,
    "start_time": "2022-10-27T11:31:21.613Z"
   },
   {
    "duration": 0,
    "start_time": "2022-10-27T11:31:21.613Z"
   },
   {
    "duration": 0,
    "start_time": "2022-10-27T11:31:21.614Z"
   },
   {
    "duration": 0,
    "start_time": "2022-10-27T11:31:21.615Z"
   },
   {
    "duration": 0,
    "start_time": "2022-10-27T11:31:21.616Z"
   },
   {
    "duration": 106,
    "start_time": "2022-10-27T11:31:25.267Z"
   },
   {
    "duration": 14,
    "start_time": "2022-10-27T11:31:27.111Z"
   },
   {
    "duration": 3796,
    "start_time": "2022-10-27T11:31:32.055Z"
   },
   {
    "duration": 9,
    "start_time": "2022-10-27T11:31:47.031Z"
   },
   {
    "duration": 3,
    "start_time": "2022-10-27T11:31:53.328Z"
   },
   {
    "duration": 10,
    "start_time": "2022-10-27T11:31:56.457Z"
   },
   {
    "duration": 37,
    "start_time": "2022-10-27T11:32:25.105Z"
   },
   {
    "duration": 3,
    "start_time": "2022-10-27T11:32:28.713Z"
   },
   {
    "duration": 6,
    "start_time": "2022-10-27T11:32:29.647Z"
   },
   {
    "duration": 36,
    "start_time": "2022-10-27T11:32:30.908Z"
   },
   {
    "duration": 7,
    "start_time": "2022-10-27T11:32:32.263Z"
   },
   {
    "duration": 6,
    "start_time": "2022-10-27T11:32:35.056Z"
   },
   {
    "duration": 40,
    "start_time": "2022-10-27T11:32:37.111Z"
   },
   {
    "duration": 7,
    "start_time": "2022-10-27T11:32:39.838Z"
   },
   {
    "duration": 2,
    "start_time": "2022-10-27T11:32:55.340Z"
   },
   {
    "duration": 8,
    "start_time": "2022-10-27T11:32:59.072Z"
   },
   {
    "duration": 3,
    "start_time": "2022-10-27T11:33:08.568Z"
   },
   {
    "duration": 29,
    "start_time": "2022-10-27T11:33:10.083Z"
   },
   {
    "duration": 76,
    "start_time": "2022-10-27T11:33:10.779Z"
   },
   {
    "duration": 109,
    "start_time": "2022-10-27T11:33:12.071Z"
   },
   {
    "duration": 4,
    "start_time": "2022-10-27T11:33:28.959Z"
   },
   {
    "duration": 10,
    "start_time": "2022-10-27T11:33:42.197Z"
   },
   {
    "duration": 8,
    "start_time": "2022-10-27T11:34:01.257Z"
   },
   {
    "duration": 8,
    "start_time": "2022-10-27T11:34:11.619Z"
   },
   {
    "duration": 7,
    "start_time": "2022-10-27T11:34:14.867Z"
   },
   {
    "duration": 6,
    "start_time": "2022-10-27T11:34:19.837Z"
   },
   {
    "duration": 41,
    "start_time": "2022-10-27T11:34:23.539Z"
   },
   {
    "duration": 3,
    "start_time": "2022-10-27T11:34:24.005Z"
   },
   {
    "duration": 2,
    "start_time": "2022-10-27T11:34:48.213Z"
   },
   {
    "duration": 7,
    "start_time": "2022-10-27T11:35:00.022Z"
   },
   {
    "duration": 9,
    "start_time": "2022-10-27T11:35:01.832Z"
   },
   {
    "duration": 8,
    "start_time": "2022-10-27T11:35:02.750Z"
   },
   {
    "duration": 7,
    "start_time": "2022-10-27T11:35:03.129Z"
   },
   {
    "duration": 7,
    "start_time": "2022-10-27T11:35:04.564Z"
   },
   {
    "duration": 3,
    "start_time": "2022-10-27T11:35:05.082Z"
   },
   {
    "duration": 4,
    "start_time": "2022-10-27T11:35:05.624Z"
   },
   {
    "duration": 5,
    "start_time": "2022-10-27T11:35:10.066Z"
   },
   {
    "duration": 11,
    "start_time": "2022-10-27T11:35:11.310Z"
   },
   {
    "duration": 256,
    "start_time": "2022-10-27T11:35:12.452Z"
   },
   {
    "duration": 25,
    "start_time": "2022-10-27T11:35:13.490Z"
   },
   {
    "duration": 243,
    "start_time": "2022-10-27T11:35:30.111Z"
   },
   {
    "duration": 236,
    "start_time": "2022-10-27T11:35:32.082Z"
   },
   {
    "duration": 9,
    "start_time": "2022-10-27T11:35:36.171Z"
   },
   {
    "duration": 218,
    "start_time": "2022-10-27T11:35:47.143Z"
   },
   {
    "duration": 214,
    "start_time": "2022-10-27T11:35:54.711Z"
   },
   {
    "duration": 457,
    "start_time": "2022-10-27T11:36:59.317Z"
   },
   {
    "duration": 230,
    "start_time": "2022-10-27T11:37:04.552Z"
   },
   {
    "duration": 9,
    "start_time": "2022-10-27T11:37:15.736Z"
   },
   {
    "duration": 285,
    "start_time": "2022-10-27T11:37:57.545Z"
   },
   {
    "duration": 11,
    "start_time": "2022-10-27T11:38:02.849Z"
   },
   {
    "duration": 221,
    "start_time": "2022-10-27T11:38:36.309Z"
   },
   {
    "duration": 215,
    "start_time": "2022-10-27T11:41:19.223Z"
   },
   {
    "duration": 215,
    "start_time": "2022-10-27T11:41:23.540Z"
   },
   {
    "duration": 8,
    "start_time": "2022-10-27T11:41:50.760Z"
   },
   {
    "duration": 267,
    "start_time": "2022-10-27T11:42:40.684Z"
   },
   {
    "duration": 9,
    "start_time": "2022-10-27T11:42:42.437Z"
   },
   {
    "duration": 160,
    "start_time": "2022-10-27T11:42:49.463Z"
   },
   {
    "duration": 33,
    "start_time": "2022-10-27T11:42:51.402Z"
   },
   {
    "duration": 80,
    "start_time": "2022-10-27T11:42:59.966Z"
   },
   {
    "duration": 223,
    "start_time": "2022-10-27T11:43:11.038Z"
   },
   {
    "duration": 8,
    "start_time": "2022-10-27T11:43:15.266Z"
   },
   {
    "duration": 207,
    "start_time": "2022-10-27T11:43:19.667Z"
   },
   {
    "duration": 217,
    "start_time": "2022-10-27T11:43:25.244Z"
   },
   {
    "duration": 9,
    "start_time": "2022-10-27T11:43:26.712Z"
   },
   {
    "duration": 180,
    "start_time": "2022-10-27T11:43:38.853Z"
   },
   {
    "duration": 11,
    "start_time": "2022-10-27T11:43:40.262Z"
   },
   {
    "duration": 518,
    "start_time": "2022-10-27T11:43:42.311Z"
   },
   {
    "duration": 9,
    "start_time": "2022-10-27T11:43:43.112Z"
   },
   {
    "duration": 231,
    "start_time": "2022-10-27T11:43:45.241Z"
   },
   {
    "duration": 9,
    "start_time": "2022-10-27T11:43:45.944Z"
   },
   {
    "duration": 294,
    "start_time": "2022-10-27T11:43:47.282Z"
   },
   {
    "duration": 243,
    "start_time": "2022-10-27T11:43:47.806Z"
   },
   {
    "duration": 227,
    "start_time": "2022-10-27T11:43:49.537Z"
   },
   {
    "duration": 214,
    "start_time": "2022-10-27T11:43:53.139Z"
   },
   {
    "duration": 202,
    "start_time": "2022-10-27T11:43:54.360Z"
   },
   {
    "duration": 8,
    "start_time": "2022-10-27T11:43:55.231Z"
   },
   {
    "duration": 15,
    "start_time": "2022-10-27T15:00:04.577Z"
   },
   {
    "duration": 1194,
    "start_time": "2022-10-27T15:14:57.740Z"
   },
   {
    "duration": 1379,
    "start_time": "2022-10-27T15:15:10.723Z"
   },
   {
    "duration": 1194,
    "start_time": "2022-10-27T15:16:18.444Z"
   },
   {
    "duration": 8,
    "start_time": "2022-10-27T15:17:19.179Z"
   },
   {
    "duration": 2,
    "start_time": "2022-10-27T15:17:37.610Z"
   },
   {
    "duration": 3,
    "start_time": "2022-10-27T15:17:40.799Z"
   },
   {
    "duration": 11,
    "start_time": "2022-10-27T15:17:46.569Z"
   },
   {
    "duration": 2,
    "start_time": "2022-10-27T15:18:26.235Z"
   },
   {
    "duration": 9,
    "start_time": "2022-10-27T15:18:37.246Z"
   },
   {
    "duration": 6,
    "start_time": "2022-10-27T15:19:06.147Z"
   },
   {
    "duration": 14,
    "start_time": "2022-10-27T15:45:25.777Z"
   },
   {
    "duration": 12,
    "start_time": "2022-10-27T16:01:11.593Z"
   },
   {
    "duration": 14,
    "start_time": "2022-10-27T16:02:30.305Z"
   },
   {
    "duration": 2228,
    "start_time": "2022-10-27T16:04:42.660Z"
   },
   {
    "duration": 2657,
    "start_time": "2022-10-27T16:05:07.191Z"
   },
   {
    "duration": 73,
    "start_time": "2022-10-27T16:12:03.219Z"
   },
   {
    "duration": 74,
    "start_time": "2022-10-27T16:12:26.928Z"
   },
   {
    "duration": 74,
    "start_time": "2022-10-27T16:13:45.490Z"
   },
   {
    "duration": 90,
    "start_time": "2022-10-27T16:14:27.374Z"
   },
   {
    "duration": 14,
    "start_time": "2022-10-27T16:15:03.053Z"
   },
   {
    "duration": 74,
    "start_time": "2022-10-27T16:15:47.265Z"
   },
   {
    "duration": 12,
    "start_time": "2022-10-27T16:16:10.604Z"
   },
   {
    "duration": 12,
    "start_time": "2022-10-27T16:16:28.493Z"
   },
   {
    "duration": 1576,
    "start_time": "2022-10-27T16:17:19.493Z"
   },
   {
    "duration": 28,
    "start_time": "2022-10-27T18:19:29.394Z"
   },
   {
    "duration": 23,
    "start_time": "2022-10-27T18:20:55.234Z"
   },
   {
    "duration": 5,
    "start_time": "2022-10-27T18:21:16.126Z"
   },
   {
    "duration": 10,
    "start_time": "2022-10-27T18:24:49.556Z"
   },
   {
    "duration": 16,
    "start_time": "2022-10-27T18:25:32.824Z"
   },
   {
    "duration": 22,
    "start_time": "2022-10-27T18:25:48.639Z"
   },
   {
    "duration": 16,
    "start_time": "2022-10-27T18:26:27.071Z"
   },
   {
    "duration": 15,
    "start_time": "2022-10-27T18:28:01.401Z"
   },
   {
    "duration": 11,
    "start_time": "2022-10-27T18:28:34.290Z"
   },
   {
    "duration": 11,
    "start_time": "2022-10-27T18:28:37.701Z"
   },
   {
    "duration": 17,
    "start_time": "2022-10-27T18:28:53.921Z"
   },
   {
    "duration": 14,
    "start_time": "2022-10-27T18:29:11.337Z"
   },
   {
    "duration": 17,
    "start_time": "2022-10-27T18:31:50.241Z"
   },
   {
    "duration": 14,
    "start_time": "2022-10-27T18:32:18.922Z"
   },
   {
    "duration": 16,
    "start_time": "2022-10-27T18:32:38.976Z"
   },
   {
    "duration": 17,
    "start_time": "2022-10-27T18:32:54.916Z"
   },
   {
    "duration": 87,
    "start_time": "2022-10-27T18:43:44.879Z"
   },
   {
    "duration": 71,
    "start_time": "2022-10-27T18:43:58.000Z"
   },
   {
    "duration": 4,
    "start_time": "2022-10-27T18:44:06.930Z"
   },
   {
    "duration": 15,
    "start_time": "2022-10-27T18:44:21.140Z"
   },
   {
    "duration": 40,
    "start_time": "2022-10-27T18:44:47.111Z"
   },
   {
    "duration": 74,
    "start_time": "2022-10-27T18:50:15.853Z"
   },
   {
    "duration": 12,
    "start_time": "2022-10-27T18:50:34.967Z"
   },
   {
    "duration": 9,
    "start_time": "2022-10-27T18:51:00.228Z"
   },
   {
    "duration": 15,
    "start_time": "2022-10-27T18:51:14.792Z"
   },
   {
    "duration": 128,
    "start_time": "2022-10-27T18:52:06.487Z"
   },
   {
    "duration": 213,
    "start_time": "2022-10-27T18:52:46.524Z"
   },
   {
    "duration": 228,
    "start_time": "2022-10-27T18:53:06.247Z"
   },
   {
    "duration": 137,
    "start_time": "2022-10-27T18:54:05.395Z"
   },
   {
    "duration": 73,
    "start_time": "2022-10-28T04:18:31.961Z"
   },
   {
    "duration": 21,
    "start_time": "2022-10-28T04:18:51.600Z"
   },
   {
    "duration": 20,
    "start_time": "2022-10-28T04:19:13.946Z"
   },
   {
    "duration": 19,
    "start_time": "2022-10-28T04:19:44.271Z"
   },
   {
    "duration": 15,
    "start_time": "2022-10-28T04:23:00.597Z"
   },
   {
    "duration": 22,
    "start_time": "2022-10-28T04:23:47.544Z"
   },
   {
    "duration": 15,
    "start_time": "2022-10-28T04:24:30.626Z"
   },
   {
    "duration": 22,
    "start_time": "2022-10-28T04:24:50.044Z"
   },
   {
    "duration": 6,
    "start_time": "2022-10-28T04:43:21.284Z"
   },
   {
    "duration": 9,
    "start_time": "2022-10-28T04:43:48.233Z"
   },
   {
    "duration": 286,
    "start_time": "2022-10-28T04:43:59.490Z"
   },
   {
    "duration": 74,
    "start_time": "2022-10-28T04:44:17.631Z"
   },
   {
    "duration": 3,
    "start_time": "2022-10-28T04:44:30.759Z"
   },
   {
    "duration": 11,
    "start_time": "2022-10-28T04:45:09.489Z"
   },
   {
    "duration": 8,
    "start_time": "2022-10-28T04:46:06.359Z"
   },
   {
    "duration": 8,
    "start_time": "2022-10-28T04:46:41.963Z"
   },
   {
    "duration": 9,
    "start_time": "2022-10-28T04:47:47.795Z"
   },
   {
    "duration": 14,
    "start_time": "2022-10-28T04:52:02.748Z"
   },
   {
    "duration": 132,
    "start_time": "2022-10-28T04:52:22.553Z"
   },
   {
    "duration": 1115,
    "start_time": "2022-10-28T04:53:32.671Z"
   },
   {
    "duration": 3,
    "start_time": "2022-10-28T04:55:42.957Z"
   },
   {
    "duration": 9,
    "start_time": "2022-10-28T04:56:09.243Z"
   },
   {
    "duration": 3,
    "start_time": "2022-10-28T04:57:29.958Z"
   },
   {
    "duration": 8,
    "start_time": "2022-10-28T04:57:47.055Z"
   },
   {
    "duration": 9,
    "start_time": "2022-10-28T04:58:55.265Z"
   },
   {
    "duration": 754,
    "start_time": "2022-10-28T05:00:10.071Z"
   },
   {
    "duration": 125,
    "start_time": "2022-10-28T05:00:38.659Z"
   },
   {
    "duration": 113,
    "start_time": "2022-10-28T05:01:06.482Z"
   },
   {
    "duration": 101,
    "start_time": "2022-10-28T05:01:37.385Z"
   },
   {
    "duration": 144,
    "start_time": "2022-10-28T05:06:23.699Z"
   },
   {
    "duration": 129,
    "start_time": "2022-10-28T05:06:34.320Z"
   },
   {
    "duration": 143,
    "start_time": "2022-10-28T05:06:55.746Z"
   },
   {
    "duration": 112,
    "start_time": "2022-10-28T05:07:20.613Z"
   },
   {
    "duration": 136,
    "start_time": "2022-10-28T05:07:53.144Z"
   },
   {
    "duration": 171,
    "start_time": "2022-10-28T05:11:43.988Z"
   },
   {
    "duration": 513,
    "start_time": "2022-10-28T05:12:13.465Z"
   },
   {
    "duration": 144,
    "start_time": "2022-10-28T05:12:26.976Z"
   },
   {
    "duration": 118,
    "start_time": "2022-10-28T05:20:57.167Z"
   },
   {
    "duration": 11,
    "start_time": "2022-10-28T05:26:27.973Z"
   },
   {
    "duration": 146,
    "start_time": "2022-10-28T05:27:28.051Z"
   },
   {
    "duration": 248,
    "start_time": "2022-10-28T05:30:41.775Z"
   },
   {
    "duration": 11,
    "start_time": "2022-10-28T05:32:48.468Z"
   },
   {
    "duration": 29,
    "start_time": "2022-10-28T05:32:59.813Z"
   },
   {
    "duration": 13,
    "start_time": "2022-10-28T06:17:27.706Z"
   },
   {
    "duration": 14,
    "start_time": "2022-10-28T06:18:06.919Z"
   },
   {
    "duration": 13,
    "start_time": "2022-10-28T06:19:16.511Z"
   },
   {
    "duration": 12,
    "start_time": "2022-10-28T06:19:26.358Z"
   },
   {
    "duration": 13,
    "start_time": "2022-10-28T06:19:36.071Z"
   },
   {
    "duration": 481,
    "start_time": "2022-10-28T06:19:58.858Z"
   },
   {
    "duration": 15,
    "start_time": "2022-10-28T06:19:59.341Z"
   },
   {
    "duration": 3566,
    "start_time": "2022-10-28T06:19:59.358Z"
   },
   {
    "duration": 8,
    "start_time": "2022-10-28T06:20:02.926Z"
   },
   {
    "duration": 9,
    "start_time": "2022-10-28T06:20:02.935Z"
   },
   {
    "duration": 20,
    "start_time": "2022-10-28T06:20:02.945Z"
   },
   {
    "duration": 54,
    "start_time": "2022-10-28T06:20:02.967Z"
   },
   {
    "duration": 4,
    "start_time": "2022-10-28T06:20:03.022Z"
   },
   {
    "duration": 28,
    "start_time": "2022-10-28T06:20:03.027Z"
   },
   {
    "duration": 36,
    "start_time": "2022-10-28T06:20:03.057Z"
   },
   {
    "duration": 15,
    "start_time": "2022-10-28T06:20:03.094Z"
   },
   {
    "duration": 11,
    "start_time": "2022-10-28T06:20:03.111Z"
   },
   {
    "duration": 42,
    "start_time": "2022-10-28T06:20:03.124Z"
   },
   {
    "duration": 8,
    "start_time": "2022-10-28T06:20:03.168Z"
   },
   {
    "duration": 28,
    "start_time": "2022-10-28T06:20:03.177Z"
   },
   {
    "duration": 8,
    "start_time": "2022-10-28T06:20:03.207Z"
   },
   {
    "duration": 30,
    "start_time": "2022-10-28T06:20:03.217Z"
   },
   {
    "duration": 96,
    "start_time": "2022-10-28T06:20:03.249Z"
   },
   {
    "duration": 9,
    "start_time": "2022-10-28T06:20:03.346Z"
   },
   {
    "duration": 10,
    "start_time": "2022-10-28T06:20:03.357Z"
   },
   {
    "duration": 39,
    "start_time": "2022-10-28T06:20:03.368Z"
   },
   {
    "duration": 8,
    "start_time": "2022-10-28T06:20:03.409Z"
   },
   {
    "duration": 8,
    "start_time": "2022-10-28T06:20:03.419Z"
   },
   {
    "duration": 4,
    "start_time": "2022-10-28T06:20:03.429Z"
   },
   {
    "duration": 6,
    "start_time": "2022-10-28T06:20:03.435Z"
   },
   {
    "duration": 6,
    "start_time": "2022-10-28T06:20:03.443Z"
   },
   {
    "duration": 20,
    "start_time": "2022-10-28T06:20:03.451Z"
   },
   {
    "duration": 377,
    "start_time": "2022-10-28T06:20:03.475Z"
   },
   {
    "duration": 25,
    "start_time": "2022-10-28T06:20:03.854Z"
   },
   {
    "duration": 263,
    "start_time": "2022-10-28T06:20:03.881Z"
   },
   {
    "duration": 229,
    "start_time": "2022-10-28T06:20:04.146Z"
   },
   {
    "duration": 8,
    "start_time": "2022-10-28T06:20:04.377Z"
   },
   {
    "duration": 232,
    "start_time": "2022-10-28T06:20:04.387Z"
   },
   {
    "duration": 212,
    "start_time": "2022-10-28T06:20:04.621Z"
   },
   {
    "duration": 8,
    "start_time": "2022-10-28T06:20:04.835Z"
   },
   {
    "duration": 349,
    "start_time": "2022-10-28T06:20:04.845Z"
   },
   {
    "duration": 216,
    "start_time": "2022-10-28T06:20:05.196Z"
   },
   {
    "duration": 8,
    "start_time": "2022-10-28T06:20:05.414Z"
   },
   {
    "duration": 227,
    "start_time": "2022-10-28T06:20:05.423Z"
   },
   {
    "duration": 220,
    "start_time": "2022-10-28T06:20:05.651Z"
   },
   {
    "duration": 8,
    "start_time": "2022-10-28T06:20:05.872Z"
   },
   {
    "duration": 32,
    "start_time": "2022-10-28T06:20:05.881Z"
   },
   {
    "duration": 214,
    "start_time": "2022-10-28T06:20:05.915Z"
   },
   {
    "duration": 8,
    "start_time": "2022-10-28T06:20:06.130Z"
   },
   {
    "duration": 172,
    "start_time": "2022-10-28T06:20:06.139Z"
   },
   {
    "duration": 31,
    "start_time": "2022-10-28T06:20:06.312Z"
   },
   {
    "duration": 224,
    "start_time": "2022-10-28T06:20:06.345Z"
   },
   {
    "duration": 7,
    "start_time": "2022-10-28T06:20:06.571Z"
   },
   {
    "duration": 200,
    "start_time": "2022-10-28T06:20:06.579Z"
   },
   {
    "duration": 371,
    "start_time": "2022-10-28T06:20:06.780Z"
   },
   {
    "duration": 7,
    "start_time": "2022-10-28T06:20:07.153Z"
   },
   {
    "duration": 257,
    "start_time": "2022-10-28T06:20:07.162Z"
   },
   {
    "duration": 8,
    "start_time": "2022-10-28T06:20:07.421Z"
   },
   {
    "duration": 277,
    "start_time": "2022-10-28T06:20:07.430Z"
   },
   {
    "duration": 9,
    "start_time": "2022-10-28T06:20:07.708Z"
   },
   {
    "duration": 248,
    "start_time": "2022-10-28T06:20:07.718Z"
   },
   {
    "duration": 11,
    "start_time": "2022-10-28T06:20:07.967Z"
   },
   {
    "duration": 236,
    "start_time": "2022-10-28T06:20:07.979Z"
   },
   {
    "duration": 210,
    "start_time": "2022-10-28T06:20:08.217Z"
   },
   {
    "duration": 234,
    "start_time": "2022-10-28T06:20:08.428Z"
   },
   {
    "duration": 211,
    "start_time": "2022-10-28T06:20:08.663Z"
   },
   {
    "duration": 406,
    "start_time": "2022-10-28T06:20:08.876Z"
   },
   {
    "duration": 9,
    "start_time": "2022-10-28T06:20:09.283Z"
   },
   {
    "duration": 23,
    "start_time": "2022-10-28T06:20:09.293Z"
   },
   {
    "duration": 2211,
    "start_time": "2022-10-28T06:20:09.317Z"
   },
   {
    "duration": 11,
    "start_time": "2022-10-28T06:20:11.529Z"
   },
   {
    "duration": 1503,
    "start_time": "2022-10-28T06:20:11.541Z"
   },
   {
    "duration": 22,
    "start_time": "2022-10-28T06:20:13.045Z"
   },
   {
    "duration": 8,
    "start_time": "2022-10-28T06:20:13.068Z"
   },
   {
    "duration": 31,
    "start_time": "2022-10-28T06:20:13.077Z"
   },
   {
    "duration": 185,
    "start_time": "2022-10-28T06:20:13.110Z"
   },
   {
    "duration": 31,
    "start_time": "2022-10-28T06:20:13.297Z"
   },
   {
    "duration": 12,
    "start_time": "2022-10-28T06:20:13.330Z"
   },
   {
    "duration": 294,
    "start_time": "2022-10-28T06:20:13.344Z"
   },
   {
    "duration": 9,
    "start_time": "2022-10-28T06:25:53.279Z"
   },
   {
    "duration": 8,
    "start_time": "2022-10-28T06:27:11.227Z"
   },
   {
    "duration": 7,
    "start_time": "2022-10-28T06:27:39.682Z"
   },
   {
    "duration": 161,
    "start_time": "2022-10-28T06:28:47.902Z"
   },
   {
    "duration": 9,
    "start_time": "2022-10-28T06:30:36.704Z"
   },
   {
    "duration": 130,
    "start_time": "2022-10-28T06:30:51.883Z"
   },
   {
    "duration": 485,
    "start_time": "2022-10-28T06:37:06.132Z"
   },
   {
    "duration": 12,
    "start_time": "2022-10-28T06:37:06.619Z"
   },
   {
    "duration": 3582,
    "start_time": "2022-10-28T06:37:06.633Z"
   },
   {
    "duration": 8,
    "start_time": "2022-10-28T06:37:10.217Z"
   },
   {
    "duration": 7,
    "start_time": "2022-10-28T06:37:10.226Z"
   },
   {
    "duration": 13,
    "start_time": "2022-10-28T06:37:10.234Z"
   },
   {
    "duration": 59,
    "start_time": "2022-10-28T06:37:10.248Z"
   },
   {
    "duration": 3,
    "start_time": "2022-10-28T06:37:10.308Z"
   },
   {
    "duration": 8,
    "start_time": "2022-10-28T06:37:10.312Z"
   },
   {
    "duration": 35,
    "start_time": "2022-10-28T06:37:10.323Z"
   },
   {
    "duration": 5,
    "start_time": "2022-10-28T06:37:10.359Z"
   },
   {
    "duration": 40,
    "start_time": "2022-10-28T06:37:10.366Z"
   },
   {
    "duration": 42,
    "start_time": "2022-10-28T06:37:10.408Z"
   },
   {
    "duration": 6,
    "start_time": "2022-10-28T06:37:10.451Z"
   },
   {
    "duration": 4,
    "start_time": "2022-10-28T06:37:10.459Z"
   },
   {
    "duration": 10,
    "start_time": "2022-10-28T06:37:10.464Z"
   },
   {
    "duration": 53,
    "start_time": "2022-10-28T06:37:10.475Z"
   },
   {
    "duration": 80,
    "start_time": "2022-10-28T06:37:10.530Z"
   },
   {
    "duration": 7,
    "start_time": "2022-10-28T06:37:10.611Z"
   },
   {
    "duration": 7,
    "start_time": "2022-10-28T06:37:10.619Z"
   },
   {
    "duration": 7,
    "start_time": "2022-10-28T06:37:10.628Z"
   },
   {
    "duration": 7,
    "start_time": "2022-10-28T06:37:10.636Z"
   },
   {
    "duration": 7,
    "start_time": "2022-10-28T06:37:10.644Z"
   },
   {
    "duration": 2,
    "start_time": "2022-10-28T06:37:10.652Z"
   },
   {
    "duration": 7,
    "start_time": "2022-10-28T06:37:10.655Z"
   },
   {
    "duration": 42,
    "start_time": "2022-10-28T06:37:10.663Z"
   },
   {
    "duration": 13,
    "start_time": "2022-10-28T06:37:10.707Z"
   },
   {
    "duration": 345,
    "start_time": "2022-10-28T06:37:10.724Z"
   },
   {
    "duration": 24,
    "start_time": "2022-10-28T06:37:11.070Z"
   },
   {
    "duration": 228,
    "start_time": "2022-10-28T06:37:11.095Z"
   },
   {
    "duration": 205,
    "start_time": "2022-10-28T06:37:11.324Z"
   },
   {
    "duration": 8,
    "start_time": "2022-10-28T06:37:11.531Z"
   },
   {
    "duration": 245,
    "start_time": "2022-10-28T06:37:11.540Z"
   },
   {
    "duration": 227,
    "start_time": "2022-10-28T06:37:11.786Z"
   },
   {
    "duration": 9,
    "start_time": "2022-10-28T06:37:12.014Z"
   },
   {
    "duration": 381,
    "start_time": "2022-10-28T06:37:12.024Z"
   },
   {
    "duration": 219,
    "start_time": "2022-10-28T06:37:12.407Z"
   },
   {
    "duration": 8,
    "start_time": "2022-10-28T06:37:12.628Z"
   },
   {
    "duration": 224,
    "start_time": "2022-10-28T06:37:12.637Z"
   },
   {
    "duration": 214,
    "start_time": "2022-10-28T06:37:12.863Z"
   },
   {
    "duration": 8,
    "start_time": "2022-10-28T06:37:13.079Z"
   },
   {
    "duration": 30,
    "start_time": "2022-10-28T06:37:13.089Z"
   },
   {
    "duration": 217,
    "start_time": "2022-10-28T06:37:13.120Z"
   },
   {
    "duration": 8,
    "start_time": "2022-10-28T06:37:13.338Z"
   },
   {
    "duration": 168,
    "start_time": "2022-10-28T06:37:13.347Z"
   },
   {
    "duration": 31,
    "start_time": "2022-10-28T06:37:13.517Z"
   },
   {
    "duration": 227,
    "start_time": "2022-10-28T06:37:13.549Z"
   },
   {
    "duration": 8,
    "start_time": "2022-10-28T06:37:13.777Z"
   },
   {
    "duration": 222,
    "start_time": "2022-10-28T06:37:13.786Z"
   },
   {
    "duration": 396,
    "start_time": "2022-10-28T06:37:14.009Z"
   },
   {
    "duration": 8,
    "start_time": "2022-10-28T06:37:14.407Z"
   },
   {
    "duration": 184,
    "start_time": "2022-10-28T06:37:14.416Z"
   },
   {
    "duration": 10,
    "start_time": "2022-10-28T06:37:14.604Z"
   },
   {
    "duration": 220,
    "start_time": "2022-10-28T06:37:14.615Z"
   },
   {
    "duration": 9,
    "start_time": "2022-10-28T06:37:14.836Z"
   },
   {
    "duration": 226,
    "start_time": "2022-10-28T06:37:14.847Z"
   },
   {
    "duration": 9,
    "start_time": "2022-10-28T06:37:15.075Z"
   },
   {
    "duration": 230,
    "start_time": "2022-10-28T06:37:15.085Z"
   },
   {
    "duration": 206,
    "start_time": "2022-10-28T06:37:15.316Z"
   },
   {
    "duration": 218,
    "start_time": "2022-10-28T06:37:15.524Z"
   },
   {
    "duration": 209,
    "start_time": "2022-10-28T06:37:15.744Z"
   },
   {
    "duration": 401,
    "start_time": "2022-10-28T06:37:15.955Z"
   },
   {
    "duration": 9,
    "start_time": "2022-10-28T06:37:16.357Z"
   },
   {
    "duration": 16,
    "start_time": "2022-10-28T06:37:16.367Z"
   },
   {
    "duration": 2277,
    "start_time": "2022-10-28T06:37:16.385Z"
   },
   {
    "duration": 8,
    "start_time": "2022-10-28T06:37:18.663Z"
   },
   {
    "duration": 152,
    "start_time": "2022-10-28T06:37:18.672Z"
   },
   {
    "duration": 11,
    "start_time": "2022-10-28T06:37:18.825Z"
   },
   {
    "duration": 1472,
    "start_time": "2022-10-28T06:37:18.837Z"
   },
   {
    "duration": 22,
    "start_time": "2022-10-28T06:37:20.310Z"
   },
   {
    "duration": 7,
    "start_time": "2022-10-28T06:37:20.334Z"
   },
   {
    "duration": 11,
    "start_time": "2022-10-28T06:37:20.342Z"
   },
   {
    "duration": 182,
    "start_time": "2022-10-28T06:37:20.355Z"
   },
   {
    "duration": 27,
    "start_time": "2022-10-28T06:37:20.539Z"
   },
   {
    "duration": 39,
    "start_time": "2022-10-28T06:37:20.568Z"
   },
   {
    "duration": 248,
    "start_time": "2022-10-28T06:37:20.608Z"
   },
   {
    "duration": 13,
    "start_time": "2022-10-28T06:43:17.755Z"
   },
   {
    "duration": 113,
    "start_time": "2022-10-28T06:43:50.443Z"
   },
   {
    "duration": 4,
    "start_time": "2022-10-28T06:44:32.893Z"
   },
   {
    "duration": 1190,
    "start_time": "2022-10-28T06:44:54.437Z"
   },
   {
    "duration": 120,
    "start_time": "2022-10-28T06:46:21.302Z"
   },
   {
    "duration": 355,
    "start_time": "2022-10-28T06:46:36.082Z"
   },
   {
    "duration": 23,
    "start_time": "2022-10-28T06:56:31.187Z"
   },
   {
    "duration": 448,
    "start_time": "2022-10-28T06:57:25.363Z"
   },
   {
    "duration": 14,
    "start_time": "2022-10-28T06:57:25.812Z"
   },
   {
    "duration": 3817,
    "start_time": "2022-10-28T06:57:25.827Z"
   },
   {
    "duration": 9,
    "start_time": "2022-10-28T06:57:29.645Z"
   },
   {
    "duration": 3,
    "start_time": "2022-10-28T06:57:29.655Z"
   },
   {
    "duration": 12,
    "start_time": "2022-10-28T06:57:29.660Z"
   },
   {
    "duration": 51,
    "start_time": "2022-10-28T06:57:29.673Z"
   },
   {
    "duration": 3,
    "start_time": "2022-10-28T06:57:29.725Z"
   },
   {
    "duration": 8,
    "start_time": "2022-10-28T06:57:29.729Z"
   },
   {
    "duration": 35,
    "start_time": "2022-10-28T06:57:29.739Z"
   },
   {
    "duration": 30,
    "start_time": "2022-10-28T06:57:29.776Z"
   },
   {
    "duration": 6,
    "start_time": "2022-10-28T06:57:29.808Z"
   },
   {
    "duration": 44,
    "start_time": "2022-10-28T06:57:29.815Z"
   },
   {
    "duration": 8,
    "start_time": "2022-10-28T06:57:29.861Z"
   },
   {
    "duration": 3,
    "start_time": "2022-10-28T06:57:29.871Z"
   },
   {
    "duration": 35,
    "start_time": "2022-10-28T06:57:29.876Z"
   },
   {
    "duration": 27,
    "start_time": "2022-10-28T06:57:29.913Z"
   },
   {
    "duration": 93,
    "start_time": "2022-10-28T06:57:29.942Z"
   },
   {
    "duration": 7,
    "start_time": "2022-10-28T06:57:30.037Z"
   },
   {
    "duration": 11,
    "start_time": "2022-10-28T06:57:30.045Z"
   },
   {
    "duration": 7,
    "start_time": "2022-10-28T06:57:30.058Z"
   },
   {
    "duration": 11,
    "start_time": "2022-10-28T06:57:30.067Z"
   },
   {
    "duration": 5,
    "start_time": "2022-10-28T06:57:30.106Z"
   },
   {
    "duration": 5,
    "start_time": "2022-10-28T06:57:30.113Z"
   },
   {
    "duration": 19,
    "start_time": "2022-10-28T06:57:30.120Z"
   },
   {
    "duration": 16,
    "start_time": "2022-10-28T06:57:30.140Z"
   },
   {
    "duration": 373,
    "start_time": "2022-10-28T06:57:30.157Z"
   },
   {
    "duration": 25,
    "start_time": "2022-10-28T06:57:30.533Z"
   },
   {
    "duration": 245,
    "start_time": "2022-10-28T06:57:30.560Z"
   },
   {
    "duration": 210,
    "start_time": "2022-10-28T06:57:30.807Z"
   },
   {
    "duration": 9,
    "start_time": "2022-10-28T06:57:31.019Z"
   },
   {
    "duration": 232,
    "start_time": "2022-10-28T06:57:31.029Z"
   },
   {
    "duration": 223,
    "start_time": "2022-10-28T06:57:31.263Z"
   },
   {
    "duration": 19,
    "start_time": "2022-10-28T06:57:31.487Z"
   },
   {
    "duration": 357,
    "start_time": "2022-10-28T06:57:31.507Z"
   },
   {
    "duration": 217,
    "start_time": "2022-10-28T06:57:31.866Z"
   },
   {
    "duration": 8,
    "start_time": "2022-10-28T06:57:32.085Z"
   },
   {
    "duration": 218,
    "start_time": "2022-10-28T06:57:32.105Z"
   },
   {
    "duration": 247,
    "start_time": "2022-10-28T06:57:32.324Z"
   },
   {
    "duration": 9,
    "start_time": "2022-10-28T06:57:32.573Z"
   },
   {
    "duration": 32,
    "start_time": "2022-10-28T06:57:32.583Z"
   },
   {
    "duration": 235,
    "start_time": "2022-10-28T06:57:32.617Z"
   },
   {
    "duration": 8,
    "start_time": "2022-10-28T06:57:32.854Z"
   },
   {
    "duration": 177,
    "start_time": "2022-10-28T06:57:32.864Z"
   },
   {
    "duration": 32,
    "start_time": "2022-10-28T06:57:33.043Z"
   },
   {
    "duration": 232,
    "start_time": "2022-10-28T06:57:33.076Z"
   },
   {
    "duration": 8,
    "start_time": "2022-10-28T06:57:33.310Z"
   },
   {
    "duration": 214,
    "start_time": "2022-10-28T06:57:33.320Z"
   },
   {
    "duration": 399,
    "start_time": "2022-10-28T06:57:33.536Z"
   },
   {
    "duration": 8,
    "start_time": "2022-10-28T06:57:33.937Z"
   },
   {
    "duration": 188,
    "start_time": "2022-10-28T06:57:33.946Z"
   },
   {
    "duration": 8,
    "start_time": "2022-10-28T06:57:34.136Z"
   },
   {
    "duration": 233,
    "start_time": "2022-10-28T06:57:34.146Z"
   },
   {
    "duration": 9,
    "start_time": "2022-10-28T06:57:34.380Z"
   },
   {
    "duration": 254,
    "start_time": "2022-10-28T06:57:34.405Z"
   },
   {
    "duration": 9,
    "start_time": "2022-10-28T06:57:34.661Z"
   },
   {
    "duration": 269,
    "start_time": "2022-10-28T06:57:34.671Z"
   },
   {
    "duration": 275,
    "start_time": "2022-10-28T06:57:34.942Z"
   },
   {
    "duration": 262,
    "start_time": "2022-10-28T06:57:35.220Z"
   },
   {
    "duration": 232,
    "start_time": "2022-10-28T06:57:35.484Z"
   },
   {
    "duration": 450,
    "start_time": "2022-10-28T06:57:35.718Z"
   },
   {
    "duration": 12,
    "start_time": "2022-10-28T06:57:36.169Z"
   },
   {
    "duration": 35,
    "start_time": "2022-10-28T06:57:36.183Z"
   },
   {
    "duration": 2403,
    "start_time": "2022-10-28T06:57:36.220Z"
   },
   {
    "duration": 17,
    "start_time": "2022-10-28T06:57:38.625Z"
   },
   {
    "duration": 144,
    "start_time": "2022-10-28T06:57:38.644Z"
   },
   {
    "duration": 24,
    "start_time": "2022-10-28T06:57:38.789Z"
   },
   {
    "duration": 1578,
    "start_time": "2022-10-28T06:57:38.815Z"
   },
   {
    "duration": 33,
    "start_time": "2022-10-28T06:57:40.394Z"
   },
   {
    "duration": 8,
    "start_time": "2022-10-28T06:57:40.429Z"
   },
   {
    "duration": 10,
    "start_time": "2022-10-28T06:57:40.438Z"
   },
   {
    "duration": 194,
    "start_time": "2022-10-28T06:57:40.449Z"
   },
   {
    "duration": 26,
    "start_time": "2022-10-28T06:57:40.645Z"
   },
   {
    "duration": 36,
    "start_time": "2022-10-28T06:57:40.672Z"
   },
   {
    "duration": 269,
    "start_time": "2022-10-28T06:57:40.710Z"
   },
   {
    "duration": 561,
    "start_time": "2022-10-28T11:39:49.094Z"
   },
   {
    "duration": 12,
    "start_time": "2022-10-28T11:39:49.657Z"
   },
   {
    "duration": 3989,
    "start_time": "2022-10-28T11:39:49.671Z"
   },
   {
    "duration": 8,
    "start_time": "2022-10-28T11:39:53.662Z"
   },
   {
    "duration": 4,
    "start_time": "2022-10-28T11:39:53.671Z"
   },
   {
    "duration": 11,
    "start_time": "2022-10-28T11:39:53.676Z"
   },
   {
    "duration": 48,
    "start_time": "2022-10-28T11:39:53.688Z"
   },
   {
    "duration": 3,
    "start_time": "2022-10-28T11:39:53.737Z"
   },
   {
    "duration": 8,
    "start_time": "2022-10-28T11:39:53.742Z"
   },
   {
    "duration": 66,
    "start_time": "2022-10-28T11:39:53.753Z"
   },
   {
    "duration": 13,
    "start_time": "2022-10-28T11:39:53.820Z"
   },
   {
    "duration": 7,
    "start_time": "2022-10-28T11:39:53.835Z"
   },
   {
    "duration": 42,
    "start_time": "2022-10-28T11:39:53.844Z"
   },
   {
    "duration": 11,
    "start_time": "2022-10-28T11:39:53.911Z"
   },
   {
    "duration": 5,
    "start_time": "2022-10-28T11:39:53.924Z"
   },
   {
    "duration": 9,
    "start_time": "2022-10-28T11:39:53.931Z"
   },
   {
    "duration": 26,
    "start_time": "2022-10-28T11:39:53.941Z"
   },
   {
    "duration": 98,
    "start_time": "2022-10-28T11:39:53.968Z"
   },
   {
    "duration": 6,
    "start_time": "2022-10-28T11:39:54.068Z"
   },
   {
    "duration": 8,
    "start_time": "2022-10-28T11:39:54.075Z"
   },
   {
    "duration": 37,
    "start_time": "2022-10-28T11:39:54.084Z"
   },
   {
    "duration": 10,
    "start_time": "2022-10-28T11:39:54.123Z"
   },
   {
    "duration": 14,
    "start_time": "2022-10-28T11:39:54.135Z"
   },
   {
    "duration": 3,
    "start_time": "2022-10-28T11:39:54.151Z"
   },
   {
    "duration": 5,
    "start_time": "2022-10-28T11:39:54.156Z"
   },
   {
    "duration": 13,
    "start_time": "2022-10-28T11:39:54.162Z"
   },
   {
    "duration": 402,
    "start_time": "2022-10-28T11:39:54.177Z"
   },
   {
    "duration": 41,
    "start_time": "2022-10-28T11:39:54.583Z"
   },
   {
    "duration": 245,
    "start_time": "2022-10-28T11:39:54.625Z"
   },
   {
    "duration": 225,
    "start_time": "2022-10-28T11:39:54.872Z"
   },
   {
    "duration": 16,
    "start_time": "2022-10-28T11:39:55.098Z"
   },
   {
    "duration": 255,
    "start_time": "2022-10-28T11:39:55.115Z"
   },
   {
    "duration": 255,
    "start_time": "2022-10-28T11:39:55.372Z"
   },
   {
    "duration": 9,
    "start_time": "2022-10-28T11:39:55.629Z"
   },
   {
    "duration": 403,
    "start_time": "2022-10-28T11:39:55.639Z"
   },
   {
    "duration": 247,
    "start_time": "2022-10-28T11:39:56.043Z"
   },
   {
    "duration": 26,
    "start_time": "2022-10-28T11:39:56.292Z"
   },
   {
    "duration": 216,
    "start_time": "2022-10-28T11:39:56.323Z"
   },
   {
    "duration": 252,
    "start_time": "2022-10-28T11:39:56.540Z"
   },
   {
    "duration": 26,
    "start_time": "2022-10-28T11:39:56.793Z"
   },
   {
    "duration": 22,
    "start_time": "2022-10-28T11:39:56.824Z"
   },
   {
    "duration": 235,
    "start_time": "2022-10-28T11:39:56.848Z"
   },
   {
    "duration": 7,
    "start_time": "2022-10-28T11:39:57.085Z"
   },
   {
    "duration": 177,
    "start_time": "2022-10-28T11:39:57.105Z"
   },
   {
    "duration": 50,
    "start_time": "2022-10-28T11:39:57.283Z"
   },
   {
    "duration": 352,
    "start_time": "2022-10-28T11:39:57.334Z"
   },
   {
    "duration": 28,
    "start_time": "2022-10-28T11:39:57.688Z"
   },
   {
    "duration": 220,
    "start_time": "2022-10-28T11:39:57.718Z"
   },
   {
    "duration": 421,
    "start_time": "2022-10-28T11:39:57.940Z"
   },
   {
    "duration": 10,
    "start_time": "2022-10-28T11:39:58.363Z"
   },
   {
    "duration": 232,
    "start_time": "2022-10-28T11:39:58.375Z"
   },
   {
    "duration": 12,
    "start_time": "2022-10-28T11:39:58.609Z"
   },
   {
    "duration": 260,
    "start_time": "2022-10-28T11:39:58.623Z"
   },
   {
    "duration": 11,
    "start_time": "2022-10-28T11:39:58.884Z"
   },
   {
    "duration": 250,
    "start_time": "2022-10-28T11:39:58.916Z"
   },
   {
    "duration": 10,
    "start_time": "2022-10-28T11:39:59.168Z"
   },
   {
    "duration": 263,
    "start_time": "2022-10-28T11:39:59.180Z"
   },
   {
    "duration": 244,
    "start_time": "2022-10-28T11:39:59.445Z"
   },
   {
    "duration": 305,
    "start_time": "2022-10-28T11:39:59.691Z"
   },
   {
    "duration": 246,
    "start_time": "2022-10-28T11:39:59.997Z"
   },
   {
    "duration": 582,
    "start_time": "2022-10-28T11:40:00.245Z"
   },
   {
    "duration": 10,
    "start_time": "2022-10-28T11:40:00.833Z"
   },
   {
    "duration": 15,
    "start_time": "2022-10-28T11:40:00.845Z"
   },
   {
    "duration": 2914,
    "start_time": "2022-10-28T11:40:00.861Z"
   },
   {
    "duration": 36,
    "start_time": "2022-10-28T11:40:03.777Z"
   },
   {
    "duration": 131,
    "start_time": "2022-10-28T11:40:03.818Z"
   },
   {
    "duration": 16,
    "start_time": "2022-10-28T11:40:03.951Z"
   },
   {
    "duration": 1724,
    "start_time": "2022-10-28T11:40:03.969Z"
   },
   {
    "duration": 41,
    "start_time": "2022-10-28T11:40:05.695Z"
   },
   {
    "duration": 8,
    "start_time": "2022-10-28T11:40:05.738Z"
   },
   {
    "duration": 11,
    "start_time": "2022-10-28T11:40:05.748Z"
   },
   {
    "duration": 189,
    "start_time": "2022-10-28T11:40:05.760Z"
   },
   {
    "duration": 25,
    "start_time": "2022-10-28T11:40:05.951Z"
   },
   {
    "duration": 12,
    "start_time": "2022-10-28T11:40:05.978Z"
   },
   {
    "duration": 288,
    "start_time": "2022-10-28T11:40:06.008Z"
   },
   {
    "duration": 123,
    "start_time": "2022-10-28T11:40:06.307Z"
   },
   {
    "duration": 14,
    "start_time": "2022-10-28T11:40:06.432Z"
   },
   {
    "duration": 4248,
    "start_time": "2022-10-28T11:40:06.448Z"
   },
   {
    "duration": 24,
    "start_time": "2022-10-28T11:40:10.698Z"
   },
   {
    "duration": 12,
    "start_time": "2022-10-28T11:40:11.502Z"
   },
   {
    "duration": 13,
    "start_time": "2022-10-28T11:40:12.824Z"
   },
   {
    "duration": 46,
    "start_time": "2022-10-28T11:40:15.424Z"
   },
   {
    "duration": 4,
    "start_time": "2022-10-28T11:40:22.793Z"
   },
   {
    "duration": 6,
    "start_time": "2022-10-28T11:40:24.427Z"
   },
   {
    "duration": 56,
    "start_time": "2022-10-28T11:40:27.382Z"
   },
   {
    "duration": 3,
    "start_time": "2022-10-28T11:40:51.822Z"
   },
   {
    "duration": 6,
    "start_time": "2022-10-28T11:42:59.672Z"
   },
   {
    "duration": 51,
    "start_time": "2022-10-28T11:43:00.886Z"
   },
   {
    "duration": 2,
    "start_time": "2022-10-28T11:43:47.592Z"
   },
   {
    "duration": 16,
    "start_time": "2022-10-28T11:46:17.509Z"
   },
   {
    "duration": 9,
    "start_time": "2022-10-28T11:49:18.337Z"
   },
   {
    "duration": 6,
    "start_time": "2022-10-28T11:49:27.155Z"
   },
   {
    "duration": 6,
    "start_time": "2022-10-28T11:49:27.804Z"
   },
   {
    "duration": 3,
    "start_time": "2022-10-28T11:54:52.817Z"
   }
  ],
  "kernelspec": {
   "display_name": "Python 3 (ipykernel)",
   "language": "python",
   "name": "python3"
  },
  "language_info": {
   "codemirror_mode": {
    "name": "ipython",
    "version": 3
   },
   "file_extension": ".py",
   "mimetype": "text/x-python",
   "name": "python",
   "nbconvert_exporter": "python",
   "pygments_lexer": "ipython3",
   "version": "3.9.5"
  },
  "toc": {
   "base_numbering": 1,
   "nav_menu": {},
   "number_sections": true,
   "sideBar": true,
   "skip_h1_title": true,
   "title_cell": "Table of Contents",
   "title_sidebar": "Contents",
   "toc_cell": false,
   "toc_position": {},
   "toc_section_display": true,
   "toc_window_display": false
  }
 },
 "nbformat": 4,
 "nbformat_minor": 2
}
